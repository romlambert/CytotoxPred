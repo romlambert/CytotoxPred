{
 "cells": [
  {
   "cell_type": "markdown",
   "metadata": {},
   "source": [
    "# **Prediction of cell viability from Cell Painting profiles**\n",
    "This notebook is used to build a Random Forest model for the prediction of cell viability from Cell Painting profiles extracted with CellProfiler or Harmony.\n",
    "A data oversampling algorithm can be applied to the training set to balance the number of samples in each class.\n"
   ]
  },
  {
   "cell_type": "code",
   "execution_count": 83,
   "metadata": {},
   "outputs": [
    {
     "data": {
      "text/html": [
       "<div>\n",
       "<style scoped>\n",
       "    .dataframe tbody tr th:only-of-type {\n",
       "        vertical-align: middle;\n",
       "    }\n",
       "\n",
       "    .dataframe tbody tr th {\n",
       "        vertical-align: top;\n",
       "    }\n",
       "\n",
       "    .dataframe thead th {\n",
       "        text-align: right;\n",
       "    }\n",
       "</style>\n",
       "<table border=\"1\" class=\"dataframe\">\n",
       "  <thead>\n",
       "    <tr style=\"text-align: right;\">\n",
       "      <th></th>\n",
       "      <th>Unnamed: 0</th>\n",
       "      <th>Plate</th>\n",
       "      <th>Well</th>\n",
       "      <th>1s luciferase (CPS)</th>\n",
       "      <th>Row</th>\n",
       "      <th>Column</th>\n",
       "      <th>Concentration</th>\n",
       "      <th>Compound</th>\n",
       "    </tr>\n",
       "  </thead>\n",
       "  <tbody>\n",
       "    <tr>\n",
       "      <th>0</th>\n",
       "      <td>0</td>\n",
       "      <td>aB1</td>\n",
       "      <td>A01</td>\n",
       "      <td>0.420143</td>\n",
       "      <td>1</td>\n",
       "      <td>1</td>\n",
       "      <td>0</td>\n",
       "      <td>none</td>\n",
       "    </tr>\n",
       "    <tr>\n",
       "      <th>1</th>\n",
       "      <td>1</td>\n",
       "      <td>aB1</td>\n",
       "      <td>A02</td>\n",
       "      <td>0.701689</td>\n",
       "      <td>1</td>\n",
       "      <td>2</td>\n",
       "      <td>0</td>\n",
       "      <td>none</td>\n",
       "    </tr>\n",
       "    <tr>\n",
       "      <th>2</th>\n",
       "      <td>2</td>\n",
       "      <td>aB1</td>\n",
       "      <td>A03</td>\n",
       "      <td>115.530466</td>\n",
       "      <td>1</td>\n",
       "      <td>3</td>\n",
       "      <td>0</td>\n",
       "      <td>none</td>\n",
       "    </tr>\n",
       "    <tr>\n",
       "      <th>3</th>\n",
       "      <td>3</td>\n",
       "      <td>aB1</td>\n",
       "      <td>A04</td>\n",
       "      <td>117.776712</td>\n",
       "      <td>1</td>\n",
       "      <td>4</td>\n",
       "      <td>0</td>\n",
       "      <td>none</td>\n",
       "    </tr>\n",
       "    <tr>\n",
       "      <th>4</th>\n",
       "      <td>4</td>\n",
       "      <td>aB1</td>\n",
       "      <td>A05</td>\n",
       "      <td>113.804258</td>\n",
       "      <td>1</td>\n",
       "      <td>5</td>\n",
       "      <td>0</td>\n",
       "      <td>none</td>\n",
       "    </tr>\n",
       "    <tr>\n",
       "      <th>...</th>\n",
       "      <td>...</td>\n",
       "      <td>...</td>\n",
       "      <td>...</td>\n",
       "      <td>...</td>\n",
       "      <td>...</td>\n",
       "      <td>...</td>\n",
       "      <td>...</td>\n",
       "      <td>...</td>\n",
       "    </tr>\n",
       "    <tr>\n",
       "      <th>9731</th>\n",
       "      <td>259</td>\n",
       "      <td>gT5</td>\n",
       "      <td>N19</td>\n",
       "      <td>107.674235</td>\n",
       "      <td>14</td>\n",
       "      <td>19</td>\n",
       "      <td>10000</td>\n",
       "      <td>ZIDO</td>\n",
       "    </tr>\n",
       "    <tr>\n",
       "      <th>9732</th>\n",
       "      <td>260</td>\n",
       "      <td>gT5</td>\n",
       "      <td>N20</td>\n",
       "      <td>103.564534</td>\n",
       "      <td>14</td>\n",
       "      <td>20</td>\n",
       "      <td>10000</td>\n",
       "      <td>ZIDO</td>\n",
       "    </tr>\n",
       "    <tr>\n",
       "      <th>9733</th>\n",
       "      <td>261</td>\n",
       "      <td>gT5</td>\n",
       "      <td>N21</td>\n",
       "      <td>102.288023</td>\n",
       "      <td>14</td>\n",
       "      <td>21</td>\n",
       "      <td>30000</td>\n",
       "      <td>ZIDO</td>\n",
       "    </tr>\n",
       "    <tr>\n",
       "      <th>9734</th>\n",
       "      <td>262</td>\n",
       "      <td>gT5</td>\n",
       "      <td>N22</td>\n",
       "      <td>104.278182</td>\n",
       "      <td>14</td>\n",
       "      <td>22</td>\n",
       "      <td>30000</td>\n",
       "      <td>ZIDO</td>\n",
       "    </tr>\n",
       "    <tr>\n",
       "      <th>9735</th>\n",
       "      <td>263</td>\n",
       "      <td>gT5</td>\n",
       "      <td>N23</td>\n",
       "      <td>0.163236</td>\n",
       "      <td>14</td>\n",
       "      <td>23</td>\n",
       "      <td>0</td>\n",
       "      <td>none</td>\n",
       "    </tr>\n",
       "  </tbody>\n",
       "</table>\n",
       "<p>9736 rows × 8 columns</p>\n",
       "</div>"
      ],
      "text/plain": [
       "      Unnamed: 0 Plate Well  1s luciferase (CPS)  Row  Column  Concentration   \n",
       "0              0   aB1  A01             0.420143    1       1              0  \\\n",
       "1              1   aB1  A02             0.701689    1       2              0   \n",
       "2              2   aB1  A03           115.530466    1       3              0   \n",
       "3              3   aB1  A04           117.776712    1       4              0   \n",
       "4              4   aB1  A05           113.804258    1       5              0   \n",
       "...          ...   ...  ...                  ...  ...     ...            ...   \n",
       "9731         259   gT5  N19           107.674235   14      19          10000   \n",
       "9732         260   gT5  N20           103.564534   14      20          10000   \n",
       "9733         261   gT5  N21           102.288023   14      21          30000   \n",
       "9734         262   gT5  N22           104.278182   14      22          30000   \n",
       "9735         263   gT5  N23             0.163236   14      23              0   \n",
       "\n",
       "     Compound  \n",
       "0        none  \n",
       "1        none  \n",
       "2        none  \n",
       "3        none  \n",
       "4        none  \n",
       "...       ...  \n",
       "9731     ZIDO  \n",
       "9732     ZIDO  \n",
       "9733     ZIDO  \n",
       "9734     ZIDO  \n",
       "9735     none  \n",
       "\n",
       "[9736 rows x 8 columns]"
      ]
     },
     "execution_count": 83,
     "metadata": {},
     "output_type": "execute_result"
    }
   ],
   "source": [
    "import warnings\n",
    "warnings.simplefilter(action='ignore', category=FutureWarning)\n",
    "import pandas as pd\n",
    "import seaborn as sns\n",
    "import matplotlib.pyplot as plt\n",
    "from toxifate import *\n",
    "from sklearn.model_selection import train_test_split\n",
    "from sklearn.ensemble import RandomForestRegressor\n",
    "from sklearn.metrics import mean_squared_error\n",
    "from sklearn.metrics import r2_score\n",
    "import smogn\n",
    "import numpy as np\n",
    "import plotly.express as px\n",
    "\n",
    "SMOGN = 'True'\n",
    "\n",
    "csv_per_well = \"C:\\\\Users\\\\Roman\\\\OneDrive - National University of Ireland, Galway\\\\CellPainting project data\\\\CellProfiler\\\\PerWell\\\\blastsAllByWellProfiler.csv\"\n",
    "viability_file = \"C:\\\\Users\\\\Roman\\\\OneDrive - National University of Ireland, Galway\\\\plate reader\\\\CTG-fullWellNormresults.csv\"\n",
    "\n",
    "fileFormat = 'cp' # 'harmony' or 'cp'\n",
    "viability_table_per_well = pd.read_csv(viability_file)\n",
    "\n",
    "table_per_well = pd.read_csv(csv_per_well)\n",
    "if fileFormat == 'harmony':\n",
    "    table_per_well = table_per_well.drop(columns=['Unnamed: 0'])\n",
    "elif fileFormat == 'cp':\n",
    "    table_per_well = table_per_well.drop(columns=['Unnamed: 0'])\n",
    "viability_table_per_well"
   ]
  },
  {
   "cell_type": "code",
   "execution_count": 84,
   "metadata": {},
   "outputs": [
    {
     "data": {
      "text/html": [
       "<div>\n",
       "<style scoped>\n",
       "    .dataframe tbody tr th:only-of-type {\n",
       "        vertical-align: middle;\n",
       "    }\n",
       "\n",
       "    .dataframe tbody tr th {\n",
       "        vertical-align: top;\n",
       "    }\n",
       "\n",
       "    .dataframe thead th {\n",
       "        text-align: right;\n",
       "    }\n",
       "</style>\n",
       "<table border=\"1\" class=\"dataframe\">\n",
       "  <thead>\n",
       "    <tr style=\"text-align: right;\">\n",
       "      <th></th>\n",
       "      <th>Metadata_Well</th>\n",
       "      <th>Compound</th>\n",
       "      <th>Metadata_Concentration (Image)</th>\n",
       "      <th>Count</th>\n",
       "      <th>AreaShape_Area (Cells)</th>\n",
       "      <th>AreaShape_BoundingBoxMaximum_X (Cells)</th>\n",
       "      <th>AreaShape_BoundingBoxMaximum_Y (Cells)</th>\n",
       "      <th>AreaShape_BoundingBoxMinimum_X (Cells)</th>\n",
       "      <th>AreaShape_BoundingBoxMinimum_Y (Cells)</th>\n",
       "      <th>AreaShape_Center_X (Cells)</th>\n",
       "      <th>...</th>\n",
       "      <th>Texture_Variance_ER_3_03_256 (FilteredNuclei)</th>\n",
       "      <th>Texture_Variance_MITO_3_00_256 (FilteredNuclei)</th>\n",
       "      <th>Texture_Variance_MITO_3_01_256 (FilteredNuclei)</th>\n",
       "      <th>Texture_Variance_MITO_3_02_256 (FilteredNuclei)</th>\n",
       "      <th>Texture_Variance_MITO_3_03_256 (FilteredNuclei)</th>\n",
       "      <th>Texture_Variance_RNA_3_00_256 (FilteredNuclei)</th>\n",
       "      <th>Texture_Variance_RNA_3_01_256 (FilteredNuclei)</th>\n",
       "      <th>Texture_Variance_RNA_3_02_256 (FilteredNuclei)</th>\n",
       "      <th>Texture_Variance_RNA_3_03_256 (FilteredNuclei)</th>\n",
       "      <th>PlateID</th>\n",
       "    </tr>\n",
       "  </thead>\n",
       "  <tbody>\n",
       "    <tr>\n",
       "      <th>0</th>\n",
       "      <td>C10</td>\n",
       "      <td>NCAP</td>\n",
       "      <td>30</td>\n",
       "      <td>657.2</td>\n",
       "      <td>0.484584</td>\n",
       "      <td>1.550984</td>\n",
       "      <td>1.081673</td>\n",
       "      <td>1.458567</td>\n",
       "      <td>0.683639</td>\n",
       "      <td>1.580247</td>\n",
       "      <td>...</td>\n",
       "      <td>-2.561085</td>\n",
       "      <td>-0.017531</td>\n",
       "      <td>0.024250</td>\n",
       "      <td>0.012477</td>\n",
       "      <td>-0.002019</td>\n",
       "      <td>-2.246122</td>\n",
       "      <td>-2.237506</td>\n",
       "      <td>-2.245002</td>\n",
       "      <td>-2.266022</td>\n",
       "      <td>blasts1BR1</td>\n",
       "    </tr>\n",
       "    <tr>\n",
       "      <th>1</th>\n",
       "      <td>C11</td>\n",
       "      <td>NCAP</td>\n",
       "      <td>100</td>\n",
       "      <td>682.6</td>\n",
       "      <td>-0.157705</td>\n",
       "      <td>0.626174</td>\n",
       "      <td>-0.159741</td>\n",
       "      <td>0.724417</td>\n",
       "      <td>-0.195325</td>\n",
       "      <td>0.461126</td>\n",
       "      <td>...</td>\n",
       "      <td>-3.488014</td>\n",
       "      <td>0.548434</td>\n",
       "      <td>0.555000</td>\n",
       "      <td>0.550023</td>\n",
       "      <td>0.551534</td>\n",
       "      <td>-2.841466</td>\n",
       "      <td>-2.849422</td>\n",
       "      <td>-2.832790</td>\n",
       "      <td>-2.854318</td>\n",
       "      <td>blasts1BR1</td>\n",
       "    </tr>\n",
       "    <tr>\n",
       "      <th>2</th>\n",
       "      <td>C12</td>\n",
       "      <td>NCAP</td>\n",
       "      <td>100</td>\n",
       "      <td>672.2</td>\n",
       "      <td>-0.891750</td>\n",
       "      <td>1.022521</td>\n",
       "      <td>-1.474179</td>\n",
       "      <td>0.991381</td>\n",
       "      <td>-1.367278</td>\n",
       "      <td>0.729151</td>\n",
       "      <td>...</td>\n",
       "      <td>-2.929025</td>\n",
       "      <td>0.550452</td>\n",
       "      <td>0.545393</td>\n",
       "      <td>0.559650</td>\n",
       "      <td>0.545094</td>\n",
       "      <td>-2.475362</td>\n",
       "      <td>-2.475448</td>\n",
       "      <td>-2.478485</td>\n",
       "      <td>-2.488753</td>\n",
       "      <td>blasts1BR1</td>\n",
       "    </tr>\n",
       "    <tr>\n",
       "      <th>3</th>\n",
       "      <td>C13</td>\n",
       "      <td>NCAP</td>\n",
       "      <td>300</td>\n",
       "      <td>676.4</td>\n",
       "      <td>0.805729</td>\n",
       "      <td>-0.893158</td>\n",
       "      <td>-0.597887</td>\n",
       "      <td>-0.476920</td>\n",
       "      <td>-1.074290</td>\n",
       "      <td>-0.821232</td>\n",
       "      <td>...</td>\n",
       "      <td>-3.766243</td>\n",
       "      <td>-0.531848</td>\n",
       "      <td>-0.522584</td>\n",
       "      <td>-0.506716</td>\n",
       "      <td>-0.504337</td>\n",
       "      <td>-3.265408</td>\n",
       "      <td>-3.266243</td>\n",
       "      <td>-3.265458</td>\n",
       "      <td>-3.272163</td>\n",
       "      <td>blasts1BR1</td>\n",
       "    </tr>\n",
       "    <tr>\n",
       "      <th>4</th>\n",
       "      <td>C14</td>\n",
       "      <td>NCAP</td>\n",
       "      <td>300</td>\n",
       "      <td>679.6</td>\n",
       "      <td>-0.845872</td>\n",
       "      <td>0.361942</td>\n",
       "      <td>-0.378814</td>\n",
       "      <td>-0.076474</td>\n",
       "      <td>-0.122078</td>\n",
       "      <td>0.049733</td>\n",
       "      <td>...</td>\n",
       "      <td>-2.979573</td>\n",
       "      <td>0.046328</td>\n",
       "      <td>0.088113</td>\n",
       "      <td>0.065387</td>\n",
       "      <td>0.071783</td>\n",
       "      <td>-2.828945</td>\n",
       "      <td>-2.840122</td>\n",
       "      <td>-2.832672</td>\n",
       "      <td>-2.833497</td>\n",
       "      <td>blasts1BR1</td>\n",
       "    </tr>\n",
       "    <tr>\n",
       "      <th>...</th>\n",
       "      <td>...</td>\n",
       "      <td>...</td>\n",
       "      <td>...</td>\n",
       "      <td>...</td>\n",
       "      <td>...</td>\n",
       "      <td>...</td>\n",
       "      <td>...</td>\n",
       "      <td>...</td>\n",
       "      <td>...</td>\n",
       "      <td>...</td>\n",
       "      <td>...</td>\n",
       "      <td>...</td>\n",
       "      <td>...</td>\n",
       "      <td>...</td>\n",
       "      <td>...</td>\n",
       "      <td>...</td>\n",
       "      <td>...</td>\n",
       "      <td>...</td>\n",
       "      <td>...</td>\n",
       "      <td>...</td>\n",
       "      <td>...</td>\n",
       "    </tr>\n",
       "    <tr>\n",
       "      <th>3355</th>\n",
       "      <td>N5</td>\n",
       "      <td>DMSO</td>\n",
       "      <td>0</td>\n",
       "      <td>681.2</td>\n",
       "      <td>-1.852676</td>\n",
       "      <td>-0.994764</td>\n",
       "      <td>-0.596370</td>\n",
       "      <td>-0.536708</td>\n",
       "      <td>-0.212692</td>\n",
       "      <td>-0.767186</td>\n",
       "      <td>...</td>\n",
       "      <td>0.693776</td>\n",
       "      <td>0.208117</td>\n",
       "      <td>0.217832</td>\n",
       "      <td>0.158043</td>\n",
       "      <td>0.177694</td>\n",
       "      <td>1.386461</td>\n",
       "      <td>1.362714</td>\n",
       "      <td>1.368679</td>\n",
       "      <td>1.375872</td>\n",
       "      <td>blasts5BR3</td>\n",
       "    </tr>\n",
       "    <tr>\n",
       "      <th>3356</th>\n",
       "      <td>N6</td>\n",
       "      <td>DMSO</td>\n",
       "      <td>0</td>\n",
       "      <td>626.6</td>\n",
       "      <td>1.364189</td>\n",
       "      <td>-0.596858</td>\n",
       "      <td>0.775472</td>\n",
       "      <td>-1.038565</td>\n",
       "      <td>1.125411</td>\n",
       "      <td>-0.960687</td>\n",
       "      <td>...</td>\n",
       "      <td>-1.253214</td>\n",
       "      <td>-1.173570</td>\n",
       "      <td>-1.142655</td>\n",
       "      <td>-1.190879</td>\n",
       "      <td>-1.169022</td>\n",
       "      <td>-1.124650</td>\n",
       "      <td>-1.124888</td>\n",
       "      <td>-1.110066</td>\n",
       "      <td>-1.117168</td>\n",
       "      <td>blasts5BR3</td>\n",
       "    </tr>\n",
       "    <tr>\n",
       "      <th>3357</th>\n",
       "      <td>N7</td>\n",
       "      <td>ZIDO</td>\n",
       "      <td>10</td>\n",
       "      <td>624.8</td>\n",
       "      <td>1.498225</td>\n",
       "      <td>-0.845549</td>\n",
       "      <td>-0.939331</td>\n",
       "      <td>-0.938193</td>\n",
       "      <td>-0.510049</td>\n",
       "      <td>-0.950975</td>\n",
       "      <td>...</td>\n",
       "      <td>-1.439188</td>\n",
       "      <td>-2.232664</td>\n",
       "      <td>-2.199772</td>\n",
       "      <td>-2.131945</td>\n",
       "      <td>-2.141157</td>\n",
       "      <td>-1.336880</td>\n",
       "      <td>-1.341865</td>\n",
       "      <td>-1.356299</td>\n",
       "      <td>-1.328229</td>\n",
       "      <td>blasts5BR3</td>\n",
       "    </tr>\n",
       "    <tr>\n",
       "      <th>3358</th>\n",
       "      <td>N8</td>\n",
       "      <td>ZIDO</td>\n",
       "      <td>10</td>\n",
       "      <td>661.4</td>\n",
       "      <td>-0.217436</td>\n",
       "      <td>0.795811</td>\n",
       "      <td>0.226735</td>\n",
       "      <td>0.968863</td>\n",
       "      <td>-0.807405</td>\n",
       "      <td>0.824993</td>\n",
       "      <td>...</td>\n",
       "      <td>-1.788869</td>\n",
       "      <td>-2.272898</td>\n",
       "      <td>-2.184796</td>\n",
       "      <td>-2.197992</td>\n",
       "      <td>-2.173862</td>\n",
       "      <td>-1.799917</td>\n",
       "      <td>-1.751446</td>\n",
       "      <td>-1.758930</td>\n",
       "      <td>-1.773001</td>\n",
       "      <td>blasts5BR3</td>\n",
       "    </tr>\n",
       "    <tr>\n",
       "      <th>3359</th>\n",
       "      <td>N9</td>\n",
       "      <td>ZIDO</td>\n",
       "      <td>30</td>\n",
       "      <td>648.2</td>\n",
       "      <td>-0.297858</td>\n",
       "      <td>-0.298429</td>\n",
       "      <td>-0.184818</td>\n",
       "      <td>-0.335965</td>\n",
       "      <td>-0.510049</td>\n",
       "      <td>-0.207033</td>\n",
       "      <td>...</td>\n",
       "      <td>-2.395806</td>\n",
       "      <td>-1.210246</td>\n",
       "      <td>-1.237065</td>\n",
       "      <td>-1.262051</td>\n",
       "      <td>-1.192353</td>\n",
       "      <td>-3.029732</td>\n",
       "      <td>-3.004298</td>\n",
       "      <td>-3.033795</td>\n",
       "      <td>-3.010833</td>\n",
       "      <td>blasts5BR3</td>\n",
       "    </tr>\n",
       "  </tbody>\n",
       "</table>\n",
       "<p>3360 rows × 1629 columns</p>\n",
       "</div>"
      ],
      "text/plain": [
       "     Metadata_Well Compound  Metadata_Concentration (Image)  Count   \n",
       "0              C10     NCAP                              30  657.2  \\\n",
       "1              C11     NCAP                             100  682.6   \n",
       "2              C12     NCAP                             100  672.2   \n",
       "3              C13     NCAP                             300  676.4   \n",
       "4              C14     NCAP                             300  679.6   \n",
       "...            ...      ...                             ...    ...   \n",
       "3355            N5     DMSO                               0  681.2   \n",
       "3356            N6     DMSO                               0  626.6   \n",
       "3357            N7     ZIDO                              10  624.8   \n",
       "3358            N8     ZIDO                              10  661.4   \n",
       "3359            N9     ZIDO                              30  648.2   \n",
       "\n",
       "      AreaShape_Area (Cells)  AreaShape_BoundingBoxMaximum_X (Cells)   \n",
       "0                   0.484584                                1.550984  \\\n",
       "1                  -0.157705                                0.626174   \n",
       "2                  -0.891750                                1.022521   \n",
       "3                   0.805729                               -0.893158   \n",
       "4                  -0.845872                                0.361942   \n",
       "...                      ...                                     ...   \n",
       "3355               -1.852676                               -0.994764   \n",
       "3356                1.364189                               -0.596858   \n",
       "3357                1.498225                               -0.845549   \n",
       "3358               -0.217436                                0.795811   \n",
       "3359               -0.297858                               -0.298429   \n",
       "\n",
       "      AreaShape_BoundingBoxMaximum_Y (Cells)   \n",
       "0                                   1.081673  \\\n",
       "1                                  -0.159741   \n",
       "2                                  -1.474179   \n",
       "3                                  -0.597887   \n",
       "4                                  -0.378814   \n",
       "...                                      ...   \n",
       "3355                               -0.596370   \n",
       "3356                                0.775472   \n",
       "3357                               -0.939331   \n",
       "3358                                0.226735   \n",
       "3359                               -0.184818   \n",
       "\n",
       "      AreaShape_BoundingBoxMinimum_X (Cells)   \n",
       "0                                   1.458567  \\\n",
       "1                                   0.724417   \n",
       "2                                   0.991381   \n",
       "3                                  -0.476920   \n",
       "4                                  -0.076474   \n",
       "...                                      ...   \n",
       "3355                               -0.536708   \n",
       "3356                               -1.038565   \n",
       "3357                               -0.938193   \n",
       "3358                                0.968863   \n",
       "3359                               -0.335965   \n",
       "\n",
       "      AreaShape_BoundingBoxMinimum_Y (Cells)  AreaShape_Center_X (Cells)  ...   \n",
       "0                                   0.683639                    1.580247  ...  \\\n",
       "1                                  -0.195325                    0.461126  ...   \n",
       "2                                  -1.367278                    0.729151  ...   \n",
       "3                                  -1.074290                   -0.821232  ...   \n",
       "4                                  -0.122078                    0.049733  ...   \n",
       "...                                      ...                         ...  ...   \n",
       "3355                               -0.212692                   -0.767186  ...   \n",
       "3356                                1.125411                   -0.960687  ...   \n",
       "3357                               -0.510049                   -0.950975  ...   \n",
       "3358                               -0.807405                    0.824993  ...   \n",
       "3359                               -0.510049                   -0.207033  ...   \n",
       "\n",
       "      Texture_Variance_ER_3_03_256 (FilteredNuclei)   \n",
       "0                                         -2.561085  \\\n",
       "1                                         -3.488014   \n",
       "2                                         -2.929025   \n",
       "3                                         -3.766243   \n",
       "4                                         -2.979573   \n",
       "...                                             ...   \n",
       "3355                                       0.693776   \n",
       "3356                                      -1.253214   \n",
       "3357                                      -1.439188   \n",
       "3358                                      -1.788869   \n",
       "3359                                      -2.395806   \n",
       "\n",
       "      Texture_Variance_MITO_3_00_256 (FilteredNuclei)   \n",
       "0                                           -0.017531  \\\n",
       "1                                            0.548434   \n",
       "2                                            0.550452   \n",
       "3                                           -0.531848   \n",
       "4                                            0.046328   \n",
       "...                                               ...   \n",
       "3355                                         0.208117   \n",
       "3356                                        -1.173570   \n",
       "3357                                        -2.232664   \n",
       "3358                                        -2.272898   \n",
       "3359                                        -1.210246   \n",
       "\n",
       "      Texture_Variance_MITO_3_01_256 (FilteredNuclei)   \n",
       "0                                            0.024250  \\\n",
       "1                                            0.555000   \n",
       "2                                            0.545393   \n",
       "3                                           -0.522584   \n",
       "4                                            0.088113   \n",
       "...                                               ...   \n",
       "3355                                         0.217832   \n",
       "3356                                        -1.142655   \n",
       "3357                                        -2.199772   \n",
       "3358                                        -2.184796   \n",
       "3359                                        -1.237065   \n",
       "\n",
       "      Texture_Variance_MITO_3_02_256 (FilteredNuclei)   \n",
       "0                                            0.012477  \\\n",
       "1                                            0.550023   \n",
       "2                                            0.559650   \n",
       "3                                           -0.506716   \n",
       "4                                            0.065387   \n",
       "...                                               ...   \n",
       "3355                                         0.158043   \n",
       "3356                                        -1.190879   \n",
       "3357                                        -2.131945   \n",
       "3358                                        -2.197992   \n",
       "3359                                        -1.262051   \n",
       "\n",
       "      Texture_Variance_MITO_3_03_256 (FilteredNuclei)   \n",
       "0                                           -0.002019  \\\n",
       "1                                            0.551534   \n",
       "2                                            0.545094   \n",
       "3                                           -0.504337   \n",
       "4                                            0.071783   \n",
       "...                                               ...   \n",
       "3355                                         0.177694   \n",
       "3356                                        -1.169022   \n",
       "3357                                        -2.141157   \n",
       "3358                                        -2.173862   \n",
       "3359                                        -1.192353   \n",
       "\n",
       "      Texture_Variance_RNA_3_00_256 (FilteredNuclei)   \n",
       "0                                          -2.246122  \\\n",
       "1                                          -2.841466   \n",
       "2                                          -2.475362   \n",
       "3                                          -3.265408   \n",
       "4                                          -2.828945   \n",
       "...                                              ...   \n",
       "3355                                        1.386461   \n",
       "3356                                       -1.124650   \n",
       "3357                                       -1.336880   \n",
       "3358                                       -1.799917   \n",
       "3359                                       -3.029732   \n",
       "\n",
       "      Texture_Variance_RNA_3_01_256 (FilteredNuclei)   \n",
       "0                                          -2.237506  \\\n",
       "1                                          -2.849422   \n",
       "2                                          -2.475448   \n",
       "3                                          -3.266243   \n",
       "4                                          -2.840122   \n",
       "...                                              ...   \n",
       "3355                                        1.362714   \n",
       "3356                                       -1.124888   \n",
       "3357                                       -1.341865   \n",
       "3358                                       -1.751446   \n",
       "3359                                       -3.004298   \n",
       "\n",
       "      Texture_Variance_RNA_3_02_256 (FilteredNuclei)   \n",
       "0                                          -2.245002  \\\n",
       "1                                          -2.832790   \n",
       "2                                          -2.478485   \n",
       "3                                          -3.265458   \n",
       "4                                          -2.832672   \n",
       "...                                              ...   \n",
       "3355                                        1.368679   \n",
       "3356                                       -1.110066   \n",
       "3357                                       -1.356299   \n",
       "3358                                       -1.758930   \n",
       "3359                                       -3.033795   \n",
       "\n",
       "      Texture_Variance_RNA_3_03_256 (FilteredNuclei)     PlateID  \n",
       "0                                          -2.266022  blasts1BR1  \n",
       "1                                          -2.854318  blasts1BR1  \n",
       "2                                          -2.488753  blasts1BR1  \n",
       "3                                          -3.272163  blasts1BR1  \n",
       "4                                          -2.833497  blasts1BR1  \n",
       "...                                              ...         ...  \n",
       "3355                                        1.375872  blasts5BR3  \n",
       "3356                                       -1.117168  blasts5BR3  \n",
       "3357                                       -1.328229  blasts5BR3  \n",
       "3358                                       -1.773001  blasts5BR3  \n",
       "3359                                       -3.010833  blasts5BR3  \n",
       "\n",
       "[3360 rows x 1629 columns]"
      ]
     },
     "execution_count": 84,
     "metadata": {},
     "output_type": "execute_result"
    }
   ],
   "source": [
    "# aggregate viability_table_per_well by Compound and Concentration, median, discard Row, Column, Unnamed: 0,Plate,Well\n",
    "viability_table_per_treatment = viability_table_per_well.groupby(['Compound', 'Concentration']).median(numeric_only=True).reset_index()\n",
    "viability_table_per_treatment = viability_table_per_treatment.drop(columns=['Row', 'Column', 'Unnamed: 0'])\n",
    "table_per_well"
   ]
  },
  {
   "cell_type": "code",
   "execution_count": 85,
   "metadata": {},
   "outputs": [
    {
     "data": {
      "text/html": [
       "<div>\n",
       "<style scoped>\n",
       "    .dataframe tbody tr th:only-of-type {\n",
       "        vertical-align: middle;\n",
       "    }\n",
       "\n",
       "    .dataframe tbody tr th {\n",
       "        vertical-align: top;\n",
       "    }\n",
       "\n",
       "    .dataframe thead th {\n",
       "        text-align: right;\n",
       "    }\n",
       "</style>\n",
       "<table border=\"1\" class=\"dataframe\">\n",
       "  <thead>\n",
       "    <tr style=\"text-align: right;\">\n",
       "      <th></th>\n",
       "      <th>Compound</th>\n",
       "      <th>Concentration</th>\n",
       "      <th>Count</th>\n",
       "      <th>Viability</th>\n",
       "      <th>AreaShape_Area (Cells)</th>\n",
       "      <th>AreaShape_BoundingBoxMaximum_X (Cells)</th>\n",
       "      <th>AreaShape_BoundingBoxMaximum_Y (Cells)</th>\n",
       "      <th>AreaShape_BoundingBoxMinimum_X (Cells)</th>\n",
       "      <th>AreaShape_BoundingBoxMinimum_Y (Cells)</th>\n",
       "      <th>AreaShape_Center_X (Cells)</th>\n",
       "      <th>...</th>\n",
       "      <th>Texture_Variance_ER_3_02_256 (FilteredNuclei)</th>\n",
       "      <th>Texture_Variance_ER_3_03_256 (FilteredNuclei)</th>\n",
       "      <th>Texture_Variance_MITO_3_00_256 (FilteredNuclei)</th>\n",
       "      <th>Texture_Variance_MITO_3_01_256 (FilteredNuclei)</th>\n",
       "      <th>Texture_Variance_MITO_3_02_256 (FilteredNuclei)</th>\n",
       "      <th>Texture_Variance_MITO_3_03_256 (FilteredNuclei)</th>\n",
       "      <th>Texture_Variance_RNA_3_00_256 (FilteredNuclei)</th>\n",
       "      <th>Texture_Variance_RNA_3_01_256 (FilteredNuclei)</th>\n",
       "      <th>Texture_Variance_RNA_3_02_256 (FilteredNuclei)</th>\n",
       "      <th>Texture_Variance_RNA_3_03_256 (FilteredNuclei)</th>\n",
       "    </tr>\n",
       "  </thead>\n",
       "  <tbody>\n",
       "    <tr>\n",
       "      <th>0</th>\n",
       "      <td>ATOR</td>\n",
       "      <td>10</td>\n",
       "      <td>645.7</td>\n",
       "      <td>98.262090</td>\n",
       "      <td>0.723791</td>\n",
       "      <td>0.305633</td>\n",
       "      <td>0.241893</td>\n",
       "      <td>0.029278</td>\n",
       "      <td>0.207533</td>\n",
       "      <td>0.274138</td>\n",
       "      <td>...</td>\n",
       "      <td>-1.190034</td>\n",
       "      <td>-1.188338</td>\n",
       "      <td>-0.334331</td>\n",
       "      <td>-0.326266</td>\n",
       "      <td>-0.339149</td>\n",
       "      <td>-0.328388</td>\n",
       "      <td>-1.235518</td>\n",
       "      <td>-1.178616</td>\n",
       "      <td>-1.229783</td>\n",
       "      <td>-1.212236</td>\n",
       "    </tr>\n",
       "    <tr>\n",
       "      <th>1</th>\n",
       "      <td>ATOR</td>\n",
       "      <td>30</td>\n",
       "      <td>657.1</td>\n",
       "      <td>94.406498</td>\n",
       "      <td>0.999172</td>\n",
       "      <td>-0.298637</td>\n",
       "      <td>-0.146189</td>\n",
       "      <td>-0.488954</td>\n",
       "      <td>-0.253092</td>\n",
       "      <td>-0.496457</td>\n",
       "      <td>...</td>\n",
       "      <td>-2.006949</td>\n",
       "      <td>-2.013204</td>\n",
       "      <td>-0.274977</td>\n",
       "      <td>-0.289293</td>\n",
       "      <td>-0.308476</td>\n",
       "      <td>-0.254404</td>\n",
       "      <td>-2.078155</td>\n",
       "      <td>-2.088527</td>\n",
       "      <td>-2.090760</td>\n",
       "      <td>-2.067423</td>\n",
       "    </tr>\n",
       "    <tr>\n",
       "      <th>2</th>\n",
       "      <td>ATOR</td>\n",
       "      <td>100</td>\n",
       "      <td>647.6</td>\n",
       "      <td>95.387465</td>\n",
       "      <td>0.628366</td>\n",
       "      <td>-0.518878</td>\n",
       "      <td>-0.295854</td>\n",
       "      <td>-0.743883</td>\n",
       "      <td>-0.127215</td>\n",
       "      <td>-0.441306</td>\n",
       "      <td>...</td>\n",
       "      <td>-2.376642</td>\n",
       "      <td>-2.334488</td>\n",
       "      <td>-0.159984</td>\n",
       "      <td>-0.150268</td>\n",
       "      <td>-0.148988</td>\n",
       "      <td>-0.136117</td>\n",
       "      <td>-2.493095</td>\n",
       "      <td>-2.498927</td>\n",
       "      <td>-2.472790</td>\n",
       "      <td>-2.489648</td>\n",
       "    </tr>\n",
       "    <tr>\n",
       "      <th>3</th>\n",
       "      <td>ATOR</td>\n",
       "      <td>300</td>\n",
       "      <td>657.1</td>\n",
       "      <td>91.679638</td>\n",
       "      <td>0.628307</td>\n",
       "      <td>-0.374398</td>\n",
       "      <td>0.205381</td>\n",
       "      <td>-0.443549</td>\n",
       "      <td>0.354027</td>\n",
       "      <td>-0.282174</td>\n",
       "      <td>...</td>\n",
       "      <td>-2.943113</td>\n",
       "      <td>-2.907084</td>\n",
       "      <td>-0.359665</td>\n",
       "      <td>-0.362409</td>\n",
       "      <td>-0.373531</td>\n",
       "      <td>-0.361484</td>\n",
       "      <td>-3.071297</td>\n",
       "      <td>-3.011046</td>\n",
       "      <td>-3.075821</td>\n",
       "      <td>-3.084995</td>\n",
       "    </tr>\n",
       "    <tr>\n",
       "      <th>4</th>\n",
       "      <td>ATOR</td>\n",
       "      <td>1000</td>\n",
       "      <td>652.8</td>\n",
       "      <td>93.215158</td>\n",
       "      <td>0.818909</td>\n",
       "      <td>-0.430752</td>\n",
       "      <td>0.419207</td>\n",
       "      <td>-0.226666</td>\n",
       "      <td>0.272192</td>\n",
       "      <td>-0.379705</td>\n",
       "      <td>...</td>\n",
       "      <td>-3.457275</td>\n",
       "      <td>-3.449132</td>\n",
       "      <td>-0.524304</td>\n",
       "      <td>-0.526783</td>\n",
       "      <td>-0.506650</td>\n",
       "      <td>-0.506339</td>\n",
       "      <td>-3.996620</td>\n",
       "      <td>-3.978206</td>\n",
       "      <td>-3.919076</td>\n",
       "      <td>-3.980616</td>\n",
       "    </tr>\n",
       "    <tr>\n",
       "      <th>...</th>\n",
       "      <td>...</td>\n",
       "      <td>...</td>\n",
       "      <td>...</td>\n",
       "      <td>...</td>\n",
       "      <td>...</td>\n",
       "      <td>...</td>\n",
       "      <td>...</td>\n",
       "      <td>...</td>\n",
       "      <td>...</td>\n",
       "      <td>...</td>\n",
       "      <td>...</td>\n",
       "      <td>...</td>\n",
       "      <td>...</td>\n",
       "      <td>...</td>\n",
       "      <td>...</td>\n",
       "      <td>...</td>\n",
       "      <td>...</td>\n",
       "      <td>...</td>\n",
       "      <td>...</td>\n",
       "      <td>...</td>\n",
       "      <td>...</td>\n",
       "    </tr>\n",
       "    <tr>\n",
       "      <th>236</th>\n",
       "      <td>ZIDO</td>\n",
       "      <td>300</td>\n",
       "      <td>608.9</td>\n",
       "      <td>103.726408</td>\n",
       "      <td>4.157989</td>\n",
       "      <td>-0.348167</td>\n",
       "      <td>0.530970</td>\n",
       "      <td>-0.608693</td>\n",
       "      <td>0.365170</td>\n",
       "      <td>-0.395814</td>\n",
       "      <td>...</td>\n",
       "      <td>-2.813843</td>\n",
       "      <td>-2.820691</td>\n",
       "      <td>-1.335125</td>\n",
       "      <td>-1.386905</td>\n",
       "      <td>-1.307800</td>\n",
       "      <td>-1.372935</td>\n",
       "      <td>-3.489625</td>\n",
       "      <td>-3.473026</td>\n",
       "      <td>-3.499415</td>\n",
       "      <td>-3.456903</td>\n",
       "    </tr>\n",
       "    <tr>\n",
       "      <th>237</th>\n",
       "      <td>ZIDO</td>\n",
       "      <td>1000</td>\n",
       "      <td>602.1</td>\n",
       "      <td>101.589529</td>\n",
       "      <td>5.971247</td>\n",
       "      <td>-0.149339</td>\n",
       "      <td>-0.767850</td>\n",
       "      <td>-0.388816</td>\n",
       "      <td>-0.609040</td>\n",
       "      <td>-0.312922</td>\n",
       "      <td>...</td>\n",
       "      <td>-3.201052</td>\n",
       "      <td>-3.188979</td>\n",
       "      <td>-1.442472</td>\n",
       "      <td>-1.446925</td>\n",
       "      <td>-1.447412</td>\n",
       "      <td>-1.504539</td>\n",
       "      <td>-4.048124</td>\n",
       "      <td>-4.039520</td>\n",
       "      <td>-4.060838</td>\n",
       "      <td>-4.054396</td>\n",
       "    </tr>\n",
       "    <tr>\n",
       "      <th>238</th>\n",
       "      <td>ZIDO</td>\n",
       "      <td>3000</td>\n",
       "      <td>558.0</td>\n",
       "      <td>98.338109</td>\n",
       "      <td>7.693716</td>\n",
       "      <td>-0.049738</td>\n",
       "      <td>0.743277</td>\n",
       "      <td>-0.250638</td>\n",
       "      <td>0.014930</td>\n",
       "      <td>-0.317881</td>\n",
       "      <td>...</td>\n",
       "      <td>-3.294677</td>\n",
       "      <td>-3.296510</td>\n",
       "      <td>-1.561753</td>\n",
       "      <td>-1.555932</td>\n",
       "      <td>-1.556475</td>\n",
       "      <td>-1.560844</td>\n",
       "      <td>-4.242535</td>\n",
       "      <td>-4.220498</td>\n",
       "      <td>-4.258327</td>\n",
       "      <td>-4.242408</td>\n",
       "    </tr>\n",
       "    <tr>\n",
       "      <th>239</th>\n",
       "      <td>ZIDO</td>\n",
       "      <td>10000</td>\n",
       "      <td>552.0</td>\n",
       "      <td>99.459198</td>\n",
       "      <td>12.010221</td>\n",
       "      <td>0.567874</td>\n",
       "      <td>0.135141</td>\n",
       "      <td>0.156663</td>\n",
       "      <td>-0.749401</td>\n",
       "      <td>0.402412</td>\n",
       "      <td>...</td>\n",
       "      <td>-3.464383</td>\n",
       "      <td>-3.457420</td>\n",
       "      <td>-0.460019</td>\n",
       "      <td>-0.493190</td>\n",
       "      <td>-0.436575</td>\n",
       "      <td>-0.462047</td>\n",
       "      <td>-4.368712</td>\n",
       "      <td>-4.366521</td>\n",
       "      <td>-4.409481</td>\n",
       "      <td>-4.381157</td>\n",
       "    </tr>\n",
       "    <tr>\n",
       "      <th>240</th>\n",
       "      <td>ZIDO</td>\n",
       "      <td>30000</td>\n",
       "      <td>520.0</td>\n",
       "      <td>98.473119</td>\n",
       "      <td>15.781234</td>\n",
       "      <td>-0.765602</td>\n",
       "      <td>0.909573</td>\n",
       "      <td>-1.364005</td>\n",
       "      <td>0.359397</td>\n",
       "      <td>-1.073192</td>\n",
       "      <td>...</td>\n",
       "      <td>-3.477557</td>\n",
       "      <td>-3.479984</td>\n",
       "      <td>-0.333055</td>\n",
       "      <td>-0.327345</td>\n",
       "      <td>-0.271849</td>\n",
       "      <td>-0.306039</td>\n",
       "      <td>-4.261987</td>\n",
       "      <td>-4.252684</td>\n",
       "      <td>-4.263886</td>\n",
       "      <td>-4.270743</td>\n",
       "    </tr>\n",
       "  </tbody>\n",
       "</table>\n",
       "<p>241 rows × 1578 columns</p>\n",
       "</div>"
      ],
      "text/plain": [
       "    Compound  Concentration  Count   Viability  AreaShape_Area (Cells)   \n",
       "0       ATOR             10  645.7   98.262090                0.723791  \\\n",
       "1       ATOR             30  657.1   94.406498                0.999172   \n",
       "2       ATOR            100  647.6   95.387465                0.628366   \n",
       "3       ATOR            300  657.1   91.679638                0.628307   \n",
       "4       ATOR           1000  652.8   93.215158                0.818909   \n",
       "..       ...            ...    ...         ...                     ...   \n",
       "236     ZIDO            300  608.9  103.726408                4.157989   \n",
       "237     ZIDO           1000  602.1  101.589529                5.971247   \n",
       "238     ZIDO           3000  558.0   98.338109                7.693716   \n",
       "239     ZIDO          10000  552.0   99.459198               12.010221   \n",
       "240     ZIDO          30000  520.0   98.473119               15.781234   \n",
       "\n",
       "     AreaShape_BoundingBoxMaximum_X (Cells)   \n",
       "0                                  0.305633  \\\n",
       "1                                 -0.298637   \n",
       "2                                 -0.518878   \n",
       "3                                 -0.374398   \n",
       "4                                 -0.430752   \n",
       "..                                      ...   \n",
       "236                               -0.348167   \n",
       "237                               -0.149339   \n",
       "238                               -0.049738   \n",
       "239                                0.567874   \n",
       "240                               -0.765602   \n",
       "\n",
       "     AreaShape_BoundingBoxMaximum_Y (Cells)   \n",
       "0                                  0.241893  \\\n",
       "1                                 -0.146189   \n",
       "2                                 -0.295854   \n",
       "3                                  0.205381   \n",
       "4                                  0.419207   \n",
       "..                                      ...   \n",
       "236                                0.530970   \n",
       "237                               -0.767850   \n",
       "238                                0.743277   \n",
       "239                                0.135141   \n",
       "240                                0.909573   \n",
       "\n",
       "     AreaShape_BoundingBoxMinimum_X (Cells)   \n",
       "0                                  0.029278  \\\n",
       "1                                 -0.488954   \n",
       "2                                 -0.743883   \n",
       "3                                 -0.443549   \n",
       "4                                 -0.226666   \n",
       "..                                      ...   \n",
       "236                               -0.608693   \n",
       "237                               -0.388816   \n",
       "238                               -0.250638   \n",
       "239                                0.156663   \n",
       "240                               -1.364005   \n",
       "\n",
       "     AreaShape_BoundingBoxMinimum_Y (Cells)  AreaShape_Center_X (Cells)  ...   \n",
       "0                                  0.207533                    0.274138  ...  \\\n",
       "1                                 -0.253092                   -0.496457  ...   \n",
       "2                                 -0.127215                   -0.441306  ...   \n",
       "3                                  0.354027                   -0.282174  ...   \n",
       "4                                  0.272192                   -0.379705  ...   \n",
       "..                                      ...                         ...  ...   \n",
       "236                                0.365170                   -0.395814  ...   \n",
       "237                               -0.609040                   -0.312922  ...   \n",
       "238                                0.014930                   -0.317881  ...   \n",
       "239                               -0.749401                    0.402412  ...   \n",
       "240                                0.359397                   -1.073192  ...   \n",
       "\n",
       "     Texture_Variance_ER_3_02_256 (FilteredNuclei)   \n",
       "0                                        -1.190034  \\\n",
       "1                                        -2.006949   \n",
       "2                                        -2.376642   \n",
       "3                                        -2.943113   \n",
       "4                                        -3.457275   \n",
       "..                                             ...   \n",
       "236                                      -2.813843   \n",
       "237                                      -3.201052   \n",
       "238                                      -3.294677   \n",
       "239                                      -3.464383   \n",
       "240                                      -3.477557   \n",
       "\n",
       "     Texture_Variance_ER_3_03_256 (FilteredNuclei)   \n",
       "0                                        -1.188338  \\\n",
       "1                                        -2.013204   \n",
       "2                                        -2.334488   \n",
       "3                                        -2.907084   \n",
       "4                                        -3.449132   \n",
       "..                                             ...   \n",
       "236                                      -2.820691   \n",
       "237                                      -3.188979   \n",
       "238                                      -3.296510   \n",
       "239                                      -3.457420   \n",
       "240                                      -3.479984   \n",
       "\n",
       "     Texture_Variance_MITO_3_00_256 (FilteredNuclei)   \n",
       "0                                          -0.334331  \\\n",
       "1                                          -0.274977   \n",
       "2                                          -0.159984   \n",
       "3                                          -0.359665   \n",
       "4                                          -0.524304   \n",
       "..                                               ...   \n",
       "236                                        -1.335125   \n",
       "237                                        -1.442472   \n",
       "238                                        -1.561753   \n",
       "239                                        -0.460019   \n",
       "240                                        -0.333055   \n",
       "\n",
       "     Texture_Variance_MITO_3_01_256 (FilteredNuclei)   \n",
       "0                                          -0.326266  \\\n",
       "1                                          -0.289293   \n",
       "2                                          -0.150268   \n",
       "3                                          -0.362409   \n",
       "4                                          -0.526783   \n",
       "..                                               ...   \n",
       "236                                        -1.386905   \n",
       "237                                        -1.446925   \n",
       "238                                        -1.555932   \n",
       "239                                        -0.493190   \n",
       "240                                        -0.327345   \n",
       "\n",
       "     Texture_Variance_MITO_3_02_256 (FilteredNuclei)   \n",
       "0                                          -0.339149  \\\n",
       "1                                          -0.308476   \n",
       "2                                          -0.148988   \n",
       "3                                          -0.373531   \n",
       "4                                          -0.506650   \n",
       "..                                               ...   \n",
       "236                                        -1.307800   \n",
       "237                                        -1.447412   \n",
       "238                                        -1.556475   \n",
       "239                                        -0.436575   \n",
       "240                                        -0.271849   \n",
       "\n",
       "     Texture_Variance_MITO_3_03_256 (FilteredNuclei)   \n",
       "0                                          -0.328388  \\\n",
       "1                                          -0.254404   \n",
       "2                                          -0.136117   \n",
       "3                                          -0.361484   \n",
       "4                                          -0.506339   \n",
       "..                                               ...   \n",
       "236                                        -1.372935   \n",
       "237                                        -1.504539   \n",
       "238                                        -1.560844   \n",
       "239                                        -0.462047   \n",
       "240                                        -0.306039   \n",
       "\n",
       "     Texture_Variance_RNA_3_00_256 (FilteredNuclei)   \n",
       "0                                         -1.235518  \\\n",
       "1                                         -2.078155   \n",
       "2                                         -2.493095   \n",
       "3                                         -3.071297   \n",
       "4                                         -3.996620   \n",
       "..                                              ...   \n",
       "236                                       -3.489625   \n",
       "237                                       -4.048124   \n",
       "238                                       -4.242535   \n",
       "239                                       -4.368712   \n",
       "240                                       -4.261987   \n",
       "\n",
       "     Texture_Variance_RNA_3_01_256 (FilteredNuclei)   \n",
       "0                                         -1.178616  \\\n",
       "1                                         -2.088527   \n",
       "2                                         -2.498927   \n",
       "3                                         -3.011046   \n",
       "4                                         -3.978206   \n",
       "..                                              ...   \n",
       "236                                       -3.473026   \n",
       "237                                       -4.039520   \n",
       "238                                       -4.220498   \n",
       "239                                       -4.366521   \n",
       "240                                       -4.252684   \n",
       "\n",
       "     Texture_Variance_RNA_3_02_256 (FilteredNuclei)   \n",
       "0                                         -1.229783  \\\n",
       "1                                         -2.090760   \n",
       "2                                         -2.472790   \n",
       "3                                         -3.075821   \n",
       "4                                         -3.919076   \n",
       "..                                              ...   \n",
       "236                                       -3.499415   \n",
       "237                                       -4.060838   \n",
       "238                                       -4.258327   \n",
       "239                                       -4.409481   \n",
       "240                                       -4.263886   \n",
       "\n",
       "     Texture_Variance_RNA_3_03_256 (FilteredNuclei)  \n",
       "0                                         -1.212236  \n",
       "1                                         -2.067423  \n",
       "2                                         -2.489648  \n",
       "3                                         -3.084995  \n",
       "4                                         -3.980616  \n",
       "..                                              ...  \n",
       "236                                       -3.456903  \n",
       "237                                       -4.054396  \n",
       "238                                       -4.242408  \n",
       "239                                       -4.381157  \n",
       "240                                       -4.270743  \n",
       "\n",
       "[241 rows x 1578 columns]"
      ]
     },
     "execution_count": 85,
     "metadata": {},
     "output_type": "execute_result"
    }
   ],
   "source": [
    "if fileFormat == 'cp':\n",
    "    table_per_well.rename(columns={'Metadata_Compound':'Compound', 'Metadata_Concentration (Image)':'Concentration','Metadata_Well':'Well'}, inplace=True)\n",
    "    table_per_well.drop(columns=['PlateID','Well'], inplace=True)\n",
    "\n",
    "# aggregate table_per_well by Compound and Concentration, median, discard Row and Column\n",
    "table_per_treatment = table_per_well.groupby(['Compound', 'Concentration']).median(numeric_only=True).reset_index()\n",
    "table_per_treatment.drop(columns=['Row', 'Column'], inplace=True, errors='ignore')\n",
    "table_per_treatment.insert(loc=3, column='Viability', value=viability_table_per_treatment['1s luciferase (CPS)'])\n",
    "table_per_treatment.head()\n",
    "#remove columns with too many missing values\n",
    "table_per_treatment = table_per_treatment.dropna(axis=1)\n",
    "table_per_treatment\n",
    "\n",
    "\n",
    "#plot the distribution of Viability values with a displot (kde), by Compound\n",
    "\n",
    "#sns.displot(data=table_per_treatment.loc[table_per_treatment['Compound'] != 'DMSO'], x=\"Viability\", hue=\"Compound\", kind=\"kde\", fill=True, col='Compound', col_wrap=6,facet_kws=dict(sharey=False),cut=0, legend=False)"
   ]
  },
  {
   "cell_type": "code",
   "execution_count": 86,
   "metadata": {},
   "outputs": [
    {
     "name": "stderr",
     "output_type": "stream",
     "text": [
      "dist_matrix: 100%|##########| 33/33 [00:18<00:00,  1.80it/s]\n",
      "synth_matrix: 100%|##########| 33/33 [00:12<00:00,  2.54it/s]\n",
      "r_index: 100%|##########| 20/20 [00:04<00:00,  4.90it/s]\n"
     ]
    },
    {
     "data": {
      "text/plain": [
       "<matplotlib.legend.Legend at 0x27d2286cb10>"
      ]
     },
     "execution_count": 86,
     "metadata": {},
     "output_type": "execute_result"
    },
    {
     "data": {
      "image/png": "[encoded data removed]",
      "text/plain": [
       "<Figure size 640x480 with 1 Axes>"
      ]
     },
     "metadata": {},
     "output_type": "display_data"
    }
   ],
   "source": [
    "#remove correlated features from table_per_treatment\n",
    "#table_per_treatment = Drop_correlated_columns(table_per_treatment, 0.9)\n",
    "\n",
    "#oversample the data to balance the Viability values between 0 and 100\n",
    "augmentedData = smogn.smoter(data = table_per_treatment, y = \"Viability\", rel_xtrm_type = \"low\", samp_method='balance',\n",
    "                             rel_coef = 5)\n",
    "sns.kdeplot(table_per_treatment['Viability'], label = \"Original\", cut=0)\n",
    "sns.kdeplot(augmentedData['Viability'], label = \"SMOGN\",cut=0)\n",
    "#add minor ticks to x axis \n",
    "plt.minorticks_on()\n",
    "plt.legend()"
   ]
  },
  {
   "cell_type": "code",
   "execution_count": 87,
   "metadata": {},
   "outputs": [],
   "source": [
    "if SMOGN == 'False':\n",
    "    augmentedData = table_per_treatment\n",
    "\n",
    "\n",
    "\n",
    "#train a random forest regressor to predict viability from the other features\n",
    "#split the data into train and test sets\n",
    "augmentedData.reset_index(drop=True, inplace=True)\n",
    "augmentedData = augmentedData.sample(frac=1).reset_index(drop=True) # shuffle rows to avoid chunks of same drugs with stratified cv\n",
    "X = augmentedData.drop(columns=['Compound', 'Concentration', 'Viability','Count'])\n",
    "y = augmentedData['Viability']\n",
    "\n",
    "X_train, X_test, y_train, y_test = train_test_split(X, y, test_size=0.2)\n",
    "\n",
    "#train the model\n",
    "rf = RandomForestRegressor(n_estimators=100, random_state=72)\n",
    "rf.fit(X_train, y_train)\n",
    "\n",
    "#predict the viability values for the test set\n",
    "y_pred = rf.predict(X_test)\n",
    "\n",
    "#calculate the mean squared error and the R2 score\n",
    "mse = mean_squared_error(y_test, y_pred)\n",
    "r2 = r2_score(y_test, y_pred)\n",
    "\n",
    "\n",
    "\n",
    "\n",
    "# merge y_test and y_pred into a dataframe, and add the Compound and Concentration columns using merge\n",
    "\n",
    "y_test = pd.DataFrame(y_test)\n",
    "y_test['Predicted Viability'] = y_pred\n",
    "y_test = y_test.merge(augmentedData[['Compound', 'Concentration']], left_index=True, right_index=True)\n",
    "\n"
   ]
  },
  {
   "cell_type": "code",
   "execution_count": 94,
   "metadata": {},
   "outputs": [
    {
     "data": {
      "application/vnd.plotly.v1+json": {
       "config": {
        "plotlyServerURL": "https://plot.ly"
       },
       "data": [
        {
         "customdata": [
          [
           10
          ],
          [
           300
          ],
          [
           10000
          ]
         ],
         "hovertemplate": "Compound=CERI<br>Viability=%{x}<br>Predicted Viability=%{y}<br>Concentration=%{customdata[0]}<extra></extra>",
         "legendgroup": "CERI",
         "marker": {
          "color": "#636efa",
          "size": 10,
          "symbol": "circle"
         },
         "mode": "markers",
         "name": "CERI",
         "orientation": "v",
         "showlegend": true,
         "type": "scatter",
         "x": [
          91.87806064411728,
          50.01152897254959,
          6.697203044070011
         ],
         "xaxis": "x",
         "y": [
          93.86950747947346,
          30.80779527060837,
          6.848289014658824
         ],
         "yaxis": "y"
        },
        {
         "customdata": [
          [
           10421
          ],
          [
           9264
          ],
          [
           3025
          ],
          [
           3000
          ],
          [
           2951
          ],
          [
           29912
          ],
          [
           258
          ],
          [
           569
          ],
          [
           30232
          ],
          [
           30099
          ]
         ],
         "hovertemplate": "Compound=SUNI<br>Viability=%{x}<br>Predicted Viability=%{y}<br>Concentration=%{customdata[0]}<extra></extra>",
         "legendgroup": "SUNI",
         "marker": {
          "color": "#EF553B",
          "size": 10,
          "symbol": "circle"
         },
         "mode": "markers",
         "name": "SUNI",
         "orientation": "v",
         "showlegend": true,
         "type": "scatter",
         "x": [
          0.6271067533811143,
          8.535777295298338,
          10.86812208875414,
          22.37951174565565,
          13.084706003523326,
          0.5650032265087088,
          64.83532609956484,
          66.24386296919683,
          0,
          4.114091400439451
         ],
         "xaxis": "x",
         "y": [
          2.2693462861035347,
          27.309503201146555,
          13.925243323143473,
          49.329011097432364,
          13.595896675695455,
          1.562258791356053,
          65.05003388674918,
          60.30142296078888,
          1.8014963605713346,
          3.661104434491597
         ],
         "yaxis": "y"
        },
        {
         "customdata": [
          [
           18325
          ],
          [
           10000
          ],
          [
           1000
          ],
          [
           1433
          ]
         ],
         "hovertemplate": "Compound=ETOP<br>Viability=%{x}<br>Predicted Viability=%{y}<br>Concentration=%{customdata[0]}<extra></extra>",
         "legendgroup": "ETOP",
         "marker": {
          "color": "#00cc96",
          "size": 10,
          "symbol": "circle"
         },
         "mode": "markers",
         "name": "ETOP",
         "orientation": "v",
         "showlegend": true,
         "type": "scatter",
         "x": [
          66.48194453771977,
          74.40452933644183,
          85.2284593583581,
          84.77496151533113
         ],
         "xaxis": "x",
         "y": [
          69.41086600802043,
          75.78350870262284,
          83.00858808743389,
          82.95849647120733
         ],
         "yaxis": "y"
        },
        {
         "customdata": [
          [
           100
          ]
         ],
         "hovertemplate": "Compound=LEFL<br>Viability=%{x}<br>Predicted Viability=%{y}<br>Concentration=%{customdata[0]}<extra></extra>",
         "legendgroup": "LEFL",
         "marker": {
          "color": "#ab63fa",
          "size": 10,
          "symbol": "circle"
         },
         "mode": "markers",
         "name": "LEFL",
         "orientation": "v",
         "showlegend": true,
         "type": "scatter",
         "x": [
          98.29349043799243
         ],
         "xaxis": "x",
         "y": [
          97.0601341196891
         ],
         "yaxis": "y"
        },
        {
         "customdata": [
          [
           831
          ]
         ],
         "hovertemplate": "Compound=DOXO<br>Viability=%{x}<br>Predicted Viability=%{y}<br>Concentration=%{customdata[0]}<extra></extra>",
         "legendgroup": "DOXO",
         "marker": {
          "color": "#FFA15A",
          "size": 10,
          "symbol": "circle"
         },
         "mode": "markers",
         "name": "DOXO",
         "orientation": "v",
         "showlegend": true,
         "type": "scatter",
         "x": [
          49.813328180768146
         ],
         "xaxis": "x",
         "y": [
          42.442704225085215
         ],
         "yaxis": "y"
        },
        {
         "customdata": [
          [
           1000
          ]
         ],
         "hovertemplate": "Compound=ETHF<br>Viability=%{x}<br>Predicted Viability=%{y}<br>Concentration=%{customdata[0]}<extra></extra>",
         "legendgroup": "ETHF",
         "marker": {
          "color": "#19d3f3",
          "size": 10,
          "symbol": "circle"
         },
         "mode": "markers",
         "name": "ETHF",
         "orientation": "v",
         "showlegend": true,
         "type": "scatter",
         "x": [
          97.88399037138076
         ],
         "xaxis": "x",
         "y": [
          99.13356029156841
         ],
         "yaxis": "y"
        },
        {
         "customdata": [
          [
           10
          ],
          [
           30
          ]
         ],
         "hovertemplate": "Compound=CLEV<br>Viability=%{x}<br>Predicted Viability=%{y}<br>Concentration=%{customdata[0]}<extra></extra>",
         "legendgroup": "CLEV",
         "marker": {
          "color": "#FF6692",
          "size": 10,
          "symbol": "circle"
         },
         "mode": "markers",
         "name": "CLEV",
         "orientation": "v",
         "showlegend": true,
         "type": "scatter",
         "x": [
          98.65906545177823,
          98.60347358482717
         ],
         "xaxis": "x",
         "y": [
          99.25955741611189,
          97.52175974453012
         ],
         "yaxis": "y"
        },
        {
         "customdata": [
          [
           30000
          ],
          [
           30
          ]
         ],
         "hovertemplate": "Compound=NELA<br>Viability=%{x}<br>Predicted Viability=%{y}<br>Concentration=%{customdata[0]}<extra></extra>",
         "legendgroup": "NELA",
         "marker": {
          "color": "#B6E880",
          "size": 10,
          "symbol": "circle"
         },
         "mode": "markers",
         "name": "NELA",
         "orientation": "v",
         "showlegend": true,
         "type": "scatter",
         "x": [
          99.17286778613315,
          98.4148523266837
         ],
         "xaxis": "x",
         "y": [
          89.67118151615237,
          97.71106845494461
         ],
         "yaxis": "y"
        },
        {
         "customdata": [
          [
           10000
          ]
         ],
         "hovertemplate": "Compound=IMAT<br>Viability=%{x}<br>Predicted Viability=%{y}<br>Concentration=%{customdata[0]}<extra></extra>",
         "legendgroup": "IMAT",
         "marker": {
          "color": "#FF97FF",
          "size": 10,
          "symbol": "circle"
         },
         "mode": "markers",
         "name": "IMAT",
         "orientation": "v",
         "showlegend": true,
         "type": "scatter",
         "x": [
          8.993070972332934
         ],
         "xaxis": "x",
         "y": [
          68.56165299978123
         ],
         "yaxis": "y"
        },
        {
         "customdata": [
          [
           5797
          ],
          [
           10000
          ],
          [
           10
          ]
         ],
         "hovertemplate": "Compound=SIMV<br>Viability=%{x}<br>Predicted Viability=%{y}<br>Concentration=%{customdata[0]}<extra></extra>",
         "legendgroup": "SIMV",
         "marker": {
          "color": "#FECB52",
          "size": 10,
          "symbol": "circle"
         },
         "mode": "markers",
         "name": "SIMV",
         "orientation": "v",
         "showlegend": true,
         "type": "scatter",
         "x": [
          70.1767481559937,
          67.00599044305939,
          99.3196601434473
         ],
         "xaxis": "x",
         "y": [
          62.74499794865886,
          63.57928681430436,
          98.17016639610556
         ],
         "yaxis": "y"
        },
        {
         "customdata": [
          [
           100
          ]
         ],
         "hovertemplate": "Compound=ETRE<br>Viability=%{x}<br>Predicted Viability=%{y}<br>Concentration=%{customdata[0]}<extra></extra>",
         "legendgroup": "ETRE",
         "marker": {
          "color": "#636efa",
          "size": 10,
          "symbol": "circle"
         },
         "mode": "markers",
         "name": "ETRE",
         "orientation": "v",
         "showlegend": true,
         "type": "scatter",
         "x": [
          95.12162892542014
         ],
         "xaxis": "x",
         "y": [
          98.03731590166218
         ],
         "yaxis": "y"
        },
        {
         "customdata": [
          [
           10000
          ]
         ],
         "hovertemplate": "Compound=ATOR<br>Viability=%{x}<br>Predicted Viability=%{y}<br>Concentration=%{customdata[0]}<extra></extra>",
         "legendgroup": "ATOR",
         "marker": {
          "color": "#EF553B",
          "size": 10,
          "symbol": "circle"
         },
         "mode": "markers",
         "name": "ATOR",
         "orientation": "v",
         "showlegend": true,
         "type": "scatter",
         "x": [
          61.98682876259382
         ],
         "xaxis": "x",
         "y": [
          75.25513518239454
         ],
         "yaxis": "y"
        },
        {
         "customdata": [
          [
           30000
          ]
         ],
         "hovertemplate": "Compound=FIAL<br>Viability=%{x}<br>Predicted Viability=%{y}<br>Concentration=%{customdata[0]}<extra></extra>",
         "legendgroup": "FIAL",
         "marker": {
          "color": "#00cc96",
          "size": 10,
          "symbol": "circle"
         },
         "mode": "markers",
         "name": "FIAL",
         "orientation": "v",
         "showlegend": true,
         "type": "scatter",
         "x": [
          100.27631356415598
         ],
         "xaxis": "x",
         "y": [
          89.64540678313897
         ],
         "yaxis": "y"
        },
        {
         "customdata": [
          [
           10
          ]
         ],
         "hovertemplate": "Compound=NCAP<br>Viability=%{x}<br>Predicted Viability=%{y}<br>Concentration=%{customdata[0]}<extra></extra>",
         "legendgroup": "NCAP",
         "marker": {
          "color": "#ab63fa",
          "size": 10,
          "symbol": "circle"
         },
         "mode": "markers",
         "name": "NCAP",
         "orientation": "v",
         "showlegend": true,
         "type": "scatter",
         "x": [
          97.73071816649106
         ],
         "xaxis": "x",
         "y": [
          95.8127775067426
         ],
         "yaxis": "y"
        },
        {
         "customdata": [
          [
           16333
          ],
          [
           30000
          ],
          [
           161
          ],
          [
           20129
          ]
         ],
         "hovertemplate": "Compound=COLC<br>Viability=%{x}<br>Predicted Viability=%{y}<br>Concentration=%{customdata[0]}<extra></extra>",
         "legendgroup": "COLC",
         "marker": {
          "color": "#FFA15A",
          "size": 10,
          "symbol": "circle"
         },
         "mode": "markers",
         "name": "COLC",
         "orientation": "v",
         "showlegend": true,
         "type": "scatter",
         "x": [
          83.61212734301377,
          82.56257090936111,
          83.2850925760406,
          81.8375886387641
         ],
         "xaxis": "x",
         "y": [
          83.88849570416986,
          85.52103590108554,
          83.0467367813697,
          83.49828812221072
         ],
         "yaxis": "y"
        },
        {
         "customdata": [
          [
           30000
          ]
         ],
         "hovertemplate": "Compound=TEBU<br>Viability=%{x}<br>Predicted Viability=%{y}<br>Concentration=%{customdata[0]}<extra></extra>",
         "legendgroup": "TEBU",
         "marker": {
          "color": "#19d3f3",
          "size": 10,
          "symbol": "circle"
         },
         "mode": "markers",
         "name": "TEBU",
         "orientation": "v",
         "showlegend": true,
         "type": "scatter",
         "x": [
          56.058685897878725
         ],
         "xaxis": "x",
         "y": [
          59.78978027814994
         ],
         "yaxis": "y"
        },
        {
         "customdata": [
          [
           1000
          ]
         ],
         "hovertemplate": "Compound=ZIDO<br>Viability=%{x}<br>Predicted Viability=%{y}<br>Concentration=%{customdata[0]}<extra></extra>",
         "legendgroup": "ZIDO",
         "marker": {
          "color": "#FF6692",
          "size": 10,
          "symbol": "circle"
         },
         "mode": "markers",
         "name": "ZIDO",
         "orientation": "v",
         "showlegend": true,
         "type": "scatter",
         "x": [
          101.589529274016
         ],
         "xaxis": "x",
         "y": [
          95.55778975997839
         ],
         "yaxis": "y"
        },
        {
         "customdata": [
          [
           30000
          ]
         ],
         "hovertemplate": "Compound=EZET<br>Viability=%{x}<br>Predicted Viability=%{y}<br>Concentration=%{customdata[0]}<extra></extra>",
         "legendgroup": "EZET",
         "marker": {
          "color": "#B6E880",
          "size": 10,
          "symbol": "circle"
         },
         "mode": "markers",
         "name": "EZET",
         "orientation": "v",
         "showlegend": true,
         "type": "scatter",
         "x": [
          86.09742338447904
         ],
         "xaxis": "x",
         "y": [
          84.26294604874113
         ],
         "yaxis": "y"
        },
        {
         "customdata": [
          [
           3000
          ],
          [
           30000
          ]
         ],
         "hovertemplate": "Compound=OLAN<br>Viability=%{x}<br>Predicted Viability=%{y}<br>Concentration=%{customdata[0]}<extra></extra>",
         "legendgroup": "OLAN",
         "marker": {
          "color": "#FF97FF",
          "size": 10,
          "symbol": "circle"
         },
         "mode": "markers",
         "name": "OLAN",
         "orientation": "v",
         "showlegend": true,
         "type": "scatter",
         "x": [
          94.65807748148167,
          58.42174012121279
         ],
         "xaxis": "x",
         "y": [
          97.35750901313622,
          87.13765479003789
         ],
         "yaxis": "y"
        },
        {
         "customdata": [
          [
           10
          ]
         ],
         "hovertemplate": "Compound=CLOF<br>Viability=%{x}<br>Predicted Viability=%{y}<br>Concentration=%{customdata[0]}<extra></extra>",
         "legendgroup": "CLOF",
         "marker": {
          "color": "#FECB52",
          "size": 10,
          "symbol": "circle"
         },
         "mode": "markers",
         "name": "CLOF",
         "orientation": "v",
         "showlegend": true,
         "type": "scatter",
         "x": [
          98.3202671352125
         ],
         "xaxis": "x",
         "y": [
          97.58143390192618
         ],
         "yaxis": "y"
        },
        {
         "hovertemplate": "<b>OLS trendline</b><br>Predicted Viability = 0.869099 * Viability + 10.7378<br>R<sup>2</sup>=0.879043<br><br>Viability=%{x}<br>Predicted Viability=%{y} <b>(trend)</b><extra></extra>",
         "legendgroup": "Overall Trendline",
         "line": {
          "color": "#636efa"
         },
         "marker": {
          "size": 10
         },
         "mode": "lines",
         "name": "Overall Trendline",
         "showlegend": true,
         "type": "scatter",
         "x": [
          0,
          0.5650032265087088,
          0.6271067533811143,
          4.114091400439451,
          6.697203044070011,
          8.535777295298338,
          8.993070972332934,
          10.86812208875414,
          13.084706003523326,
          22.37951174565565,
          49.813328180768146,
          50.01152897254959,
          56.058685897878725,
          58.42174012121279,
          61.98682876259382,
          64.83532609956484,
          66.24386296919683,
          66.48194453771977,
          67.00599044305939,
          70.1767481559937,
          74.40452933644183,
          81.8375886387641,
          82.56257090936111,
          83.2850925760406,
          83.61212734301377,
          84.77496151533113,
          85.2284593583581,
          86.09742338447904,
          91.87806064411728,
          94.65807748148167,
          95.12162892542014,
          97.73071816649106,
          97.88399037138076,
          98.29349043799243,
          98.3202671352125,
          98.4148523266837,
          98.60347358482717,
          98.65906545177823,
          99.17286778613315,
          99.3196601434473,
          100.27631356415598,
          101.589529274016
         ],
         "xaxis": "x",
         "y": [
          10.737772326496835,
          11.228816014648725,
          11.282790122143838,
          14.313324677142798,
          16.558304190329512,
          18.15620706752723,
          18.553640503663804,
          20.183245384630972,
          22.10967604827895,
          30.187781584905792,
          54.03048153835813,
          54.20273763040274,
          59.458315121164375,
          61.512042970293706,
          64.61045762160397,
          67.08608355153046,
          68.31024140924023,
          68.51715784087001,
          68.97260556584844,
          71.72830763717339,
          75.40266765167217,
          81.86273138726891,
          82.49281268821737,
          83.12075548098383,
          83.40498104040358,
          84.41559895175983,
          84.80973343269886,
          85.564949120394,
          90.58889466028243,
          93.00500426266312,
          93.4078763171932,
          95.6754329319927,
          95.80864163815404,
          96.16453769958005,
          96.18780929794016,
          96.27001318472425,
          96.43394371452838,
          96.48225854548534,
          96.92880359408923,
          97.05638067178745,
          97.88780711671356,
          99.02912145839144
         ],
         "yaxis": "y"
        }
       ],
       "layout": {
        "font": {
         "color": "black",
         "size": 18
        },
        "height": 1000,
        "legend": {
         "title": {
          "text": "Compound"
         },
         "tracegroupgap": 0
        },
        "margin": {
         "t": 60
        },
        "template": {
         "data": {
          "bar": [
           {
            "error_x": {
             "color": "#2a3f5f"
            },
            "error_y": {
             "color": "#2a3f5f"
            },
            "marker": {
             "line": {
              "color": "#E5ECF6",
              "width": 0.5
             },
             "pattern": {
              "fillmode": "overlay",
              "size": 10,
              "solidity": 0.2
             }
            },
            "type": "bar"
           }
          ],
          "barpolar": [
           {
            "marker": {
             "line": {
              "color": "#E5ECF6",
              "width": 0.5
             },
             "pattern": {
              "fillmode": "overlay",
              "size": 10,
              "solidity": 0.2
             }
            },
            "type": "barpolar"
           }
          ],
          "carpet": [
           {
            "aaxis": {
             "endlinecolor": "#2a3f5f",
             "gridcolor": "white",
             "linecolor": "white",
             "minorgridcolor": "white",
             "startlinecolor": "#2a3f5f"
            },
            "baxis": {
             "endlinecolor": "#2a3f5f",
             "gridcolor": "white",
             "linecolor": "white",
             "minorgridcolor": "white",
             "startlinecolor": "#2a3f5f"
            },
            "type": "carpet"
           }
          ],
          "choropleth": [
           {
            "colorbar": {
             "outlinewidth": 0,
             "ticks": ""
            },
            "type": "choropleth"
           }
          ],
          "contour": [
           {
            "colorbar": {
             "outlinewidth": 0,
             "ticks": ""
            },
            "colorscale": [
             [
              0,
              "#0d0887"
             ],
             [
              0.1111111111111111,
              "#46039f"
             ],
             [
              0.2222222222222222,
              "#7201a8"
             ],
             [
              0.3333333333333333,
              "#9c179e"
             ],
             [
              0.4444444444444444,
              "#bd3786"
             ],
             [
              0.5555555555555556,
              "#d8576b"
             ],
             [
              0.6666666666666666,
              "#ed7953"
             ],
             [
              0.7777777777777778,
              "#fb9f3a"
             ],
             [
              0.8888888888888888,
              "#fdca26"
             ],
             [
              1,
              "#f0f921"
             ]
            ],
            "type": "contour"
           }
          ],
          "contourcarpet": [
           {
            "colorbar": {
             "outlinewidth": 0,
             "ticks": ""
            },
            "type": "contourcarpet"
           }
          ],
          "heatmap": [
           {
            "colorbar": {
             "outlinewidth": 0,
             "ticks": ""
            },
            "colorscale": [
             [
              0,
              "#0d0887"
             ],
             [
              0.1111111111111111,
              "#46039f"
             ],
             [
              0.2222222222222222,
              "#7201a8"
             ],
             [
              0.3333333333333333,
              "#9c179e"
             ],
             [
              0.4444444444444444,
              "#bd3786"
             ],
             [
              0.5555555555555556,
              "#d8576b"
             ],
             [
              0.6666666666666666,
              "#ed7953"
             ],
             [
              0.7777777777777778,
              "#fb9f3a"
             ],
             [
              0.8888888888888888,
              "#fdca26"
             ],
             [
              1,
              "#f0f921"
             ]
            ],
            "type": "heatmap"
           }
          ],
          "heatmapgl": [
           {
            "colorbar": {
             "outlinewidth": 0,
             "ticks": ""
            },
            "colorscale": [
             [
              0,
              "#0d0887"
             ],
             [
              0.1111111111111111,
              "#46039f"
             ],
             [
              0.2222222222222222,
              "#7201a8"
             ],
             [
              0.3333333333333333,
              "#9c179e"
             ],
             [
              0.4444444444444444,
              "#bd3786"
             ],
             [
              0.5555555555555556,
              "#d8576b"
             ],
             [
              0.6666666666666666,
              "#ed7953"
             ],
             [
              0.7777777777777778,
              "#fb9f3a"
             ],
             [
              0.8888888888888888,
              "#fdca26"
             ],
             [
              1,
              "#f0f921"
             ]
            ],
            "type": "heatmapgl"
           }
          ],
          "histogram": [
           {
            "marker": {
             "pattern": {
              "fillmode": "overlay",
              "size": 10,
              "solidity": 0.2
             }
            },
            "type": "histogram"
           }
          ],
          "histogram2d": [
           {
            "colorbar": {
             "outlinewidth": 0,
             "ticks": ""
            },
            "colorscale": [
             [
              0,
              "#0d0887"
             ],
             [
              0.1111111111111111,
              "#46039f"
             ],
             [
              0.2222222222222222,
              "#7201a8"
             ],
             [
              0.3333333333333333,
              "#9c179e"
             ],
             [
              0.4444444444444444,
              "#bd3786"
             ],
             [
              0.5555555555555556,
              "#d8576b"
             ],
             [
              0.6666666666666666,
              "#ed7953"
             ],
             [
              0.7777777777777778,
              "#fb9f3a"
             ],
             [
              0.8888888888888888,
              "#fdca26"
             ],
             [
              1,
              "#f0f921"
             ]
            ],
            "type": "histogram2d"
           }
          ],
          "histogram2dcontour": [
           {
            "colorbar": {
             "outlinewidth": 0,
             "ticks": ""
            },
            "colorscale": [
             [
              0,
              "#0d0887"
             ],
             [
              0.1111111111111111,
              "#46039f"
             ],
             [
              0.2222222222222222,
              "#7201a8"
             ],
             [
              0.3333333333333333,
              "#9c179e"
             ],
             [
              0.4444444444444444,
              "#bd3786"
             ],
             [
              0.5555555555555556,
              "#d8576b"
             ],
             [
              0.6666666666666666,
              "#ed7953"
             ],
             [
              0.7777777777777778,
              "#fb9f3a"
             ],
             [
              0.8888888888888888,
              "#fdca26"
             ],
             [
              1,
              "#f0f921"
             ]
            ],
            "type": "histogram2dcontour"
           }
          ],
          "mesh3d": [
           {
            "colorbar": {
             "outlinewidth": 0,
             "ticks": ""
            },
            "type": "mesh3d"
           }
          ],
          "parcoords": [
           {
            "line": {
             "colorbar": {
              "outlinewidth": 0,
              "ticks": ""
             }
            },
            "type": "parcoords"
           }
          ],
          "pie": [
           {
            "automargin": true,
            "type": "pie"
           }
          ],
          "scatter": [
           {
            "fillpattern": {
             "fillmode": "overlay",
             "size": 10,
             "solidity": 0.2
            },
            "type": "scatter"
           }
          ],
          "scatter3d": [
           {
            "line": {
             "colorbar": {
              "outlinewidth": 0,
              "ticks": ""
             }
            },
            "marker": {
             "colorbar": {
              "outlinewidth": 0,
              "ticks": ""
             }
            },
            "type": "scatter3d"
           }
          ],
          "scattercarpet": [
           {
            "marker": {
             "colorbar": {
              "outlinewidth": 0,
              "ticks": ""
             }
            },
            "type": "scattercarpet"
           }
          ],
          "scattergeo": [
           {
            "marker": {
             "colorbar": {
              "outlinewidth": 0,
              "ticks": ""
             }
            },
            "type": "scattergeo"
           }
          ],
          "scattergl": [
           {
            "marker": {
             "colorbar": {
              "outlinewidth": 0,
              "ticks": ""
             }
            },
            "type": "scattergl"
           }
          ],
          "scattermapbox": [
           {
            "marker": {
             "colorbar": {
              "outlinewidth": 0,
              "ticks": ""
             }
            },
            "type": "scattermapbox"
           }
          ],
          "scatterpolar": [
           {
            "marker": {
             "colorbar": {
              "outlinewidth": 0,
              "ticks": ""
             }
            },
            "type": "scatterpolar"
           }
          ],
          "scatterpolargl": [
           {
            "marker": {
             "colorbar": {
              "outlinewidth": 0,
              "ticks": ""
             }
            },
            "type": "scatterpolargl"
           }
          ],
          "scatterternary": [
           {
            "marker": {
             "colorbar": {
              "outlinewidth": 0,
              "ticks": ""
             }
            },
            "type": "scatterternary"
           }
          ],
          "surface": [
           {
            "colorbar": {
             "outlinewidth": 0,
             "ticks": ""
            },
            "colorscale": [
             [
              0,
              "#0d0887"
             ],
             [
              0.1111111111111111,
              "#46039f"
             ],
             [
              0.2222222222222222,
              "#7201a8"
             ],
             [
              0.3333333333333333,
              "#9c179e"
             ],
             [
              0.4444444444444444,
              "#bd3786"
             ],
             [
              0.5555555555555556,
              "#d8576b"
             ],
             [
              0.6666666666666666,
              "#ed7953"
             ],
             [
              0.7777777777777778,
              "#fb9f3a"
             ],
             [
              0.8888888888888888,
              "#fdca26"
             ],
             [
              1,
              "#f0f921"
             ]
            ],
            "type": "surface"
           }
          ],
          "table": [
           {
            "cells": {
             "fill": {
              "color": "#EBF0F8"
             },
             "line": {
              "color": "white"
             }
            },
            "header": {
             "fill": {
              "color": "#C8D4E3"
             },
             "line": {
              "color": "white"
             }
            },
            "type": "table"
           }
          ]
         },
         "layout": {
          "annotationdefaults": {
           "arrowcolor": "#2a3f5f",
           "arrowhead": 0,
           "arrowwidth": 1
          },
          "autotypenumbers": "strict",
          "coloraxis": {
           "colorbar": {
            "outlinewidth": 0,
            "ticks": ""
           }
          },
          "colorscale": {
           "diverging": [
            [
             0,
             "#8e0152"
            ],
            [
             0.1,
             "#c51b7d"
            ],
            [
             0.2,
             "#de77ae"
            ],
            [
             0.3,
             "#f1b6da"
            ],
            [
             0.4,
             "#fde0ef"
            ],
            [
             0.5,
             "#f7f7f7"
            ],
            [
             0.6,
             "#e6f5d0"
            ],
            [
             0.7,
             "#b8e186"
            ],
            [
             0.8,
             "#7fbc41"
            ],
            [
             0.9,
             "#4d9221"
            ],
            [
             1,
             "#276419"
            ]
           ],
           "sequential": [
            [
             0,
             "#0d0887"
            ],
            [
             0.1111111111111111,
             "#46039f"
            ],
            [
             0.2222222222222222,
             "#7201a8"
            ],
            [
             0.3333333333333333,
             "#9c179e"
            ],
            [
             0.4444444444444444,
             "#bd3786"
            ],
            [
             0.5555555555555556,
             "#d8576b"
            ],
            [
             0.6666666666666666,
             "#ed7953"
            ],
            [
             0.7777777777777778,
             "#fb9f3a"
            ],
            [
             0.8888888888888888,
             "#fdca26"
            ],
            [
             1,
             "#f0f921"
            ]
           ],
           "sequentialminus": [
            [
             0,
             "#0d0887"
            ],
            [
             0.1111111111111111,
             "#46039f"
            ],
            [
             0.2222222222222222,
             "#7201a8"
            ],
            [
             0.3333333333333333,
             "#9c179e"
            ],
            [
             0.4444444444444444,
             "#bd3786"
            ],
            [
             0.5555555555555556,
             "#d8576b"
            ],
            [
             0.6666666666666666,
             "#ed7953"
            ],
            [
             0.7777777777777778,
             "#fb9f3a"
            ],
            [
             0.8888888888888888,
             "#fdca26"
            ],
            [
             1,
             "#f0f921"
            ]
           ]
          },
          "colorway": [
           "#636efa",
           "#EF553B",
           "#00cc96",
           "#ab63fa",
           "#FFA15A",
           "#19d3f3",
           "#FF6692",
           "#B6E880",
           "#FF97FF",
           "#FECB52"
          ],
          "font": {
           "color": "#2a3f5f"
          },
          "geo": {
           "bgcolor": "white",
           "lakecolor": "white",
           "landcolor": "#E5ECF6",
           "showlakes": true,
           "showland": true,
           "subunitcolor": "white"
          },
          "hoverlabel": {
           "align": "left"
          },
          "hovermode": "closest",
          "mapbox": {
           "style": "light"
          },
          "paper_bgcolor": "white",
          "plot_bgcolor": "#E5ECF6",
          "polar": {
           "angularaxis": {
            "gridcolor": "white",
            "linecolor": "white",
            "ticks": ""
           },
           "bgcolor": "#E5ECF6",
           "radialaxis": {
            "gridcolor": "white",
            "linecolor": "white",
            "ticks": ""
           }
          },
          "scene": {
           "xaxis": {
            "backgroundcolor": "#E5ECF6",
            "gridcolor": "white",
            "gridwidth": 2,
            "linecolor": "white",
            "showbackground": true,
            "ticks": "",
            "zerolinecolor": "white"
           },
           "yaxis": {
            "backgroundcolor": "#E5ECF6",
            "gridcolor": "white",
            "gridwidth": 2,
            "linecolor": "white",
            "showbackground": true,
            "ticks": "",
            "zerolinecolor": "white"
           },
           "zaxis": {
            "backgroundcolor": "#E5ECF6",
            "gridcolor": "white",
            "gridwidth": 2,
            "linecolor": "white",
            "showbackground": true,
            "ticks": "",
            "zerolinecolor": "white"
           }
          },
          "shapedefaults": {
           "line": {
            "color": "#2a3f5f"
           }
          },
          "ternary": {
           "aaxis": {
            "gridcolor": "white",
            "linecolor": "white",
            "ticks": ""
           },
           "baxis": {
            "gridcolor": "white",
            "linecolor": "white",
            "ticks": ""
           },
           "bgcolor": "#E5ECF6",
           "caxis": {
            "gridcolor": "white",
            "linecolor": "white",
            "ticks": ""
           }
          },
          "title": {
           "x": 0.05
          },
          "xaxis": {
           "automargin": true,
           "gridcolor": "white",
           "linecolor": "white",
           "ticks": "",
           "title": {
            "standoff": 15
           },
           "zerolinecolor": "white",
           "zerolinewidth": 2
          },
          "yaxis": {
           "automargin": true,
           "gridcolor": "white",
           "linecolor": "white",
           "ticks": "",
           "title": {
            "standoff": 15
           },
           "zerolinecolor": "white",
           "zerolinewidth": 2
          }
         }
        },
        "width": 1200,
        "xaxis": {
         "anchor": "y",
         "domain": [
          0,
          1
         ],
         "title": {
          "text": "Viability"
         }
        },
        "yaxis": {
         "anchor": "x",
         "domain": [
          0,
          1
         ],
         "title": {
          "text": "Predicted Viability"
         }
        }
       }
      }
     },
     "metadata": {},
     "output_type": "display_data"
    },
    {
     "name": "stdout",
     "output_type": "stream",
     "text": [
      "Mean squared error:  154.46989342529196\n",
      "R2 score:  0.8747729989489617\n"
     ]
    }
   ],
   "source": [
    "\n",
    "#plot the actual and predicted viability values for each compound\n",
    "fig = px.scatter(y_test, x=\"Viability\", y=\"Predicted Viability\", color=\"Compound\", hover_data=['Concentration'], trendline=\"ols\", trendline_scope='overall',height=1000, width=1200)\n",
    "fig.update_traces(marker={'size': 10})\n",
    "fig.update_layout(\n",
    "    font=dict(\n",
    "        size=18,\n",
    "        color=\"black\"\n",
    "    )\n",
    ")\n",
    "fig.show()\n",
    "\n",
    "print('Mean squared error: ', mse)\n",
    "print('R2 score: ', r2)\n"
   ]
  },
  {
   "cell_type": "code",
   "execution_count": 95,
   "metadata": {},
   "outputs": [
    {
     "data": {
      "application/vnd.plotly.v1+json": {
       "config": {
        "plotlyServerURL": "https://plot.ly"
       },
       "data": [
        {
         "customdata": [
          [
           751
          ],
          [
           121
          ],
          [
           273
          ],
          [
           1747
          ],
          [
           312
          ],
          [
           300
          ],
          [
           3000
          ],
          [
           1556
          ],
          [
           14878
          ],
          [
           857
          ],
          [
           10000
          ],
          [
           1000
          ],
          [
           13059
          ],
          [
           30
          ],
          [
           100
          ]
         ],
         "hovertemplate": "Compound=COLC<br>Viability=%{x}<br>Predicted Viability=%{y}<br>Concentration=%{customdata[0]}<extra></extra>",
         "legendgroup": "COLC",
         "marker": {
          "color": "#636efa",
          "size": 8,
          "symbol": "circle"
         },
         "mode": "markers",
         "name": "COLC",
         "orientation": "v",
         "showlegend": true,
         "type": "scatter",
         "x": [
          85.12366596576622,
          83.2850925760406,
          83.2850925760406,
          82.86867858411482,
          82.86867858411482,
          85.56311095080092,
          84.68871182156224,
          83.70552938350211,
          83.61212734301377,
          85.22047752739236,
          86.41882241098581,
          84.88057727773585,
          81.8375886387641,
          86.69657419900828,
          81.12522768486116
         ],
         "xaxis": "x",
         "y": [
          84.8434835558213,
          83.04344357066462,
          83.65804464284571,
          83.1055102991867,
          82.72892689034063,
          85.49983163103254,
          83.89810678841351,
          84.07856471857666,
          83.2361654155211,
          84.8388899454148,
          85.53474527062392,
          84.9974410006224,
          82.37130277605971,
          75.8200684948598,
          81.65073839862359
         ],
         "yaxis": "y"
        },
        {
         "customdata": [
          [
           3000
          ],
          [
           2164
          ],
          [
           100
          ],
          [
           300
          ],
          [
           30000
          ]
         ],
         "hovertemplate": "Compound=ETOP<br>Viability=%{x}<br>Predicted Viability=%{y}<br>Concentration=%{customdata[0]}<extra></extra>",
         "legendgroup": "ETOP",
         "marker": {
          "color": "#EF553B",
          "size": 8,
          "symbol": "circle"
         },
         "mode": "markers",
         "name": "ETOP",
         "orientation": "v",
         "showlegend": true,
         "type": "scatter",
         "x": [
          84.32626422309332,
          84.77496151533113,
          95.28931126880491,
          90.16040769603498,
          60.08418787253077
         ],
         "xaxis": "x",
         "y": [
          84.4756806886706,
          84.46749245767096,
          90.9478224932754,
          76.90806365159028,
          58.37201901671645
         ],
         "yaxis": "y"
        },
        {
         "customdata": [
          [
           1000
          ],
          [
           2699
          ],
          [
           100
          ],
          [
           3000
          ],
          [
           6552
          ],
          [
           30000
          ],
          [
           6494
          ],
          [
           30
          ],
          [
           2923
          ],
          [
           2173
          ]
         ],
         "hovertemplate": "Compound=CERI<br>Viability=%{x}<br>Predicted Viability=%{y}<br>Concentration=%{customdata[0]}<extra></extra>",
         "legendgroup": "CERI",
         "marker": {
          "color": "#00cc96",
          "size": 8,
          "symbol": "circle"
         },
         "mode": "markers",
         "name": "CERI",
         "orientation": "v",
         "showlegend": true,
         "type": "scatter",
         "x": [
          34.17714369251915,
          52.092996154793404,
          71.99637541746381,
          11.580961804988583,
          53.05008419711435,
          8.638624092071996,
          53.05008419711435,
          85.3984849728528,
          44.68620914905763,
          52.092996154793404
         ],
         "xaxis": "x",
         "y": [
          33.770700147071274,
          48.65982677534749,
          71.81015688161827,
          13.574964348902286,
          53.14849436511658,
          8.37629905068124,
          52.75941985053369,
          86.96921537650128,
          49.37268129657611,
          50.7205828713818
         ],
         "yaxis": "y"
        },
        {
         "customdata": [
          [
           3000
          ],
          [
           30
          ],
          [
           10000
          ],
          [
           10000
          ],
          [
           7769
          ],
          [
           30000
          ]
         ],
         "hovertemplate": "Compound=SIMV<br>Viability=%{x}<br>Predicted Viability=%{y}<br>Concentration=%{customdata[0]}<extra></extra>",
         "legendgroup": "SIMV",
         "marker": {
          "color": "#ab63fa",
          "size": 8,
          "symbol": "circle"
         },
         "mode": "markers",
         "name": "SIMV",
         "orientation": "v",
         "showlegend": true,
         "type": "scatter",
         "x": [
          90.85858301282637,
          96.85682654581913,
          69.37322181025635,
          67.00599044305939,
          50.939513869787085,
          54.49669003462304
         ],
         "xaxis": "x",
         "y": [
          91.13213212485657,
          97.57452565869093,
          74.52731684441244,
          64.08552849849097,
          51.06717537386062,
          53.86847006871554
         ],
         "yaxis": "y"
        },
        {
         "customdata": [
          [
           3000
          ],
          [
           2394
          ],
          [
           1000
          ],
          [
           8645
          ],
          [
           30000
          ]
         ],
         "hovertemplate": "Compound=IMAT<br>Viability=%{x}<br>Predicted Viability=%{y}<br>Concentration=%{customdata[0]}<extra></extra>",
         "legendgroup": "IMAT",
         "marker": {
          "color": "#FFA15A",
          "size": 8,
          "symbol": "circle"
         },
         "mode": "markers",
         "name": "IMAT",
         "orientation": "v",
         "showlegend": true,
         "type": "scatter",
         "x": [
          94.61580757656175,
          12.821151969414958,
          96.96359784035542,
          12.404385251612817,
          39.271256991260515
         ],
         "xaxis": "x",
         "y": [
          89.59563730235068,
          28.17284138802319,
          92.09983902675789,
          25.421751829161156,
          38.389048337774994
         ],
         "yaxis": "y"
        },
        {
         "customdata": [
          [
           3000
          ],
          [
           30
          ],
          [
           300
          ]
         ],
         "hovertemplate": "Compound=HCQ<br>Viability=%{x}<br>Predicted Viability=%{y}<br>Concentration=%{customdata[0]}<extra></extra>",
         "legendgroup": "HCQ",
         "marker": {
          "color": "#19d3f3",
          "size": 8,
          "symbol": "circle"
         },
         "mode": "markers",
         "name": "HCQ",
         "orientation": "v",
         "showlegend": true,
         "type": "scatter",
         "x": [
          96.76009837439821,
          98.16340344199628,
          96.45305966749078
         ],
         "xaxis": "x",
         "y": [
          96.49209683311624,
          96.82840217463772,
          96.79235760620323
         ],
         "yaxis": "y"
        },
        {
         "customdata": [
          [
           667
          ],
          [
           9832
          ],
          [
           9922
          ],
          [
           30062
          ],
          [
           6992
          ],
          [
           3331
          ],
          [
           9736
          ],
          [
           1270
          ],
          [
           9640
          ],
          [
           9685
          ],
          [
           3314
          ],
          [
           394
          ],
          [
           30075
          ],
          [
           0
          ],
          [
           30160
          ],
          [
           1453
          ],
          [
           10131
          ],
          [
           10057
          ],
          [
           29690
          ],
          [
           10000
          ],
          [
           30084
          ],
          [
           1160
          ],
          [
           30091
          ],
          [
           1120
          ],
          [
           3432
          ],
          [
           30000
          ],
          [
           3162
          ],
          [
           2925
          ],
          [
           10116
          ],
          [
           3170
          ],
          [
           1000
          ],
          [
           30143
          ],
          [
           10080
          ],
          [
           30018
          ],
          [
           897
          ],
          [
           1837
          ],
          [
           30012
          ],
          [
           30090
          ],
          [
           1270
          ],
          [
           2298
          ],
          [
           11876
          ],
          [
           300
          ],
          [
           836
          ],
          [
           30018
          ]
         ],
         "hovertemplate": "Compound=SUNI<br>Viability=%{x}<br>Predicted Viability=%{y}<br>Concentration=%{customdata[0]}<extra></extra>",
         "legendgroup": "SUNI",
         "marker": {
          "color": "#FF6692",
          "size": 8,
          "symbol": "circle"
         },
         "mode": "markers",
         "name": "SUNI",
         "orientation": "v",
         "showlegend": true,
         "type": "scatter",
         "x": [
          65.63279857562297,
          0.1944174629751232,
          2.9480416934958225,
          38.80810822692382,
          28.32614897259682,
          83.39691384573487,
          3.636463213756877,
          85.29324952613815,
          7.450678592912301,
          74.9351608491217,
          8.153267038828723,
          84.82054351341024,
          53.84533901242469,
          82.6566931429205,
          61.577772579079465,
          84.83806758848124,
          70.39402583170452,
          3.8484513891859806,
          8.845616883790653,
          0.8494588292499397,
          0,
          83.78112418604813,
          4.950714816820131,
          34.559677331198294,
          84.52082579612991,
          0.4602122851996447,
          9.099061532359809,
          10.961015550648964,
          6.541092551156673,
          8.128943858506911,
          91.26484473782571,
          9.101586712430587,
          74.42962781569112,
          54.62290584808787,
          33.4295789998608,
          26.30595524249674,
          3.2218833484451936,
          39.99309871760222,
          39.42226237154856,
          26.30595524249674,
          1.018974617560717,
          98.56067012552757,
          39.64469289709659,
          21.9238846083636
         ],
         "xaxis": "x",
         "y": [
          66.41767733118213,
          0.9398754305280385,
          3.216429187748251,
          37.996986836826565,
          39.080799356369944,
          83.30975621843126,
          3.5602043739202753,
          83.16505856910169,
          7.011883333395852,
          74.73298645344035,
          8.312047986238987,
          75.13990449874764,
          52.60481766493661,
          80.68437341614288,
          57.26070824275448,
          83.10243975198792,
          67.15445776187975,
          3.6597943183813366,
          8.508140653590123,
          1.545109195314943,
          1.4019568826906146,
          84.03262466088307,
          4.250685248513895,
          34.292438334015884,
          83.40911761332438,
          1.594819631465458,
          12.978054601495819,
          13.452944152889991,
          6.751710218197588,
          9.081804884184532,
          82.37713511595372,
          8.560737184592886,
          73.52836480041958,
          52.323202358589825,
          33.533243497641585,
          29.98854260324947,
          3.3829373101290274,
          38.843569720275944,
          40.068723970244385,
          32.73212464244748,
          1.8284225708008899,
          93.40522545044931,
          40.10479394102528,
          24.19941298888346
         ],
         "yaxis": "y"
        },
        {
         "customdata": [
          [
           30
          ],
          [
           15823
          ],
          [
           30000
          ],
          [
           100
          ],
          [
           1952
          ],
          [
           10
          ]
         ],
         "hovertemplate": "Compound=TEBU<br>Viability=%{x}<br>Predicted Viability=%{y}<br>Concentration=%{customdata[0]}<extra></extra>",
         "legendgroup": "TEBU",
         "marker": {
          "color": "#B6E880",
          "size": 8,
          "symbol": "circle"
         },
         "mode": "markers",
         "name": "TEBU",
         "orientation": "v",
         "showlegend": true,
         "type": "scatter",
         "x": [
          99.33073304382779,
          62.54340327782453,
          55.150660609848934,
          100.23206189499956,
          59.52782238108452,
          100.60047797689737
         ],
         "xaxis": "x",
         "y": [
          98.66464409365939,
          65.34247854411552,
          70.42457101338576,
          99.08520592414386,
          60.80060730373986,
          99.68882203359288
         ],
         "yaxis": "y"
        },
        {
         "customdata": [
          [
           3000
          ],
          [
           100
          ],
          [
           10000
          ],
          [
           30000
          ]
         ],
         "hovertemplate": "Compound=SELU<br>Viability=%{x}<br>Predicted Viability=%{y}<br>Concentration=%{customdata[0]}<extra></extra>",
         "legendgroup": "SELU",
         "marker": {
          "color": "#FF97FF",
          "size": 8,
          "symbol": "circle"
         },
         "mode": "markers",
         "name": "SELU",
         "orientation": "v",
         "showlegend": true,
         "type": "scatter",
         "x": [
          109.3931057742589,
          105.29053848383161,
          109.28587528527541,
          95.50578852948269
         ],
         "xaxis": "x",
         "y": [
          105.57813777445536,
          102.74175146447442,
          102.62792058884004,
          89.61585808154555
         ],
         "yaxis": "y"
        },
        {
         "customdata": [
          [
           1000
          ],
          [
           10
          ],
          [
           100
          ]
         ],
         "hovertemplate": "Compound=FIAL<br>Viability=%{x}<br>Predicted Viability=%{y}<br>Concentration=%{customdata[0]}<extra></extra>",
         "legendgroup": "FIAL",
         "marker": {
          "color": "#FECB52",
          "size": 8,
          "symbol": "circle"
         },
         "mode": "markers",
         "name": "FIAL",
         "orientation": "v",
         "showlegend": true,
         "type": "scatter",
         "x": [
          96.41782374390507,
          97.53766966286985,
          97.81554267125719
         ],
         "xaxis": "x",
         "y": [
          93.31672762936105,
          98.04103607185185,
          98.13921022638961
         ],
         "yaxis": "y"
        },
        {
         "customdata": [
          [
           100
          ],
          [
           3000
          ],
          [
           1000
          ],
          [
           10
          ],
          [
           30
          ],
          [
           10000
          ]
         ],
         "hovertemplate": "Compound=EZET<br>Viability=%{x}<br>Predicted Viability=%{y}<br>Concentration=%{customdata[0]}<extra></extra>",
         "legendgroup": "EZET",
         "marker": {
          "color": "#636efa",
          "size": 8,
          "symbol": "circle"
         },
         "mode": "markers",
         "name": "EZET",
         "orientation": "v",
         "showlegend": true,
         "type": "scatter",
         "x": [
          96.28824172189154,
          90.71917922327638,
          91.89803872880609,
          99.5437686080814,
          97.4341736289625,
          91.28764388597313
         ],
         "xaxis": "x",
         "y": [
          97.00788342520421,
          92.8713202212535,
          93.63205871806446,
          98.7088231342934,
          96.7546604024388,
          89.70787570458052
         ],
         "yaxis": "y"
        },
        {
         "customdata": [
          [
           1000
          ],
          [
           30000
          ],
          [
           3000
          ],
          [
           300
          ]
         ],
         "hovertemplate": "Compound=WURS<br>Viability=%{x}<br>Predicted Viability=%{y}<br>Concentration=%{customdata[0]}<extra></extra>",
         "legendgroup": "WURS",
         "marker": {
          "color": "#EF553B",
          "size": 8,
          "symbol": "circle"
         },
         "mode": "markers",
         "name": "WURS",
         "orientation": "v",
         "showlegend": true,
         "type": "scatter",
         "x": [
          101.84938372777896,
          95.84054692905514,
          100.04108407994909,
          100.71400717438476
         ],
         "xaxis": "x",
         "y": [
          99.9657474420738,
          95.84485128807904,
          99.42324927954819,
          97.77585789184037
         ],
         "yaxis": "y"
        },
        {
         "customdata": [
          [
           30
          ],
          [
           10000
          ],
          [
           30000
          ],
          [
           3000
          ],
          [
           22049
          ],
          [
           30000
          ],
          [
           10
          ]
         ],
         "hovertemplate": "Compound=ATOR<br>Viability=%{x}<br>Predicted Viability=%{y}<br>Concentration=%{customdata[0]}<extra></extra>",
         "legendgroup": "ATOR",
         "marker": {
          "color": "#00cc96",
          "size": 8,
          "symbol": "circle"
         },
         "mode": "markers",
         "name": "ATOR",
         "orientation": "v",
         "showlegend": true,
         "type": "scatter",
         "x": [
          94.40649786334207,
          64.10201329015148,
          22.489916095587155,
          88.75954766556458,
          60.91151874816055,
          26.930855447497272,
          98.26209042354455
         ],
         "xaxis": "x",
         "y": [
          95.80234012097156,
          63.58137316787638,
          25.24118527177607,
          89.53756149591533,
          62.56370213679425,
          27.767681318337342,
          96.27907839714082
         ],
         "yaxis": "y"
        },
        {
         "customdata": [
          [
           30000
          ]
         ],
         "hovertemplate": "Compound=CLEV<br>Viability=%{x}<br>Predicted Viability=%{y}<br>Concentration=%{customdata[0]}<extra></extra>",
         "legendgroup": "CLEV",
         "marker": {
          "color": "#ab63fa",
          "size": 8,
          "symbol": "circle"
         },
         "mode": "markers",
         "name": "CLEV",
         "orientation": "v",
         "showlegend": true,
         "type": "scatter",
         "x": [
          98.63176183586498
         ],
         "xaxis": "x",
         "y": [
          97.02582183571835
         ],
         "yaxis": "y"
        },
        {
         "customdata": [
          [
           100
          ],
          [
           3000
          ],
          [
           10
          ],
          [
           10000
          ],
          [
           300
          ]
         ],
         "hovertemplate": "Compound=DAPT<br>Viability=%{x}<br>Predicted Viability=%{y}<br>Concentration=%{customdata[0]}<extra></extra>",
         "legendgroup": "DAPT",
         "marker": {
          "color": "#FFA15A",
          "size": 8,
          "symbol": "circle"
         },
         "mode": "markers",
         "name": "DAPT",
         "orientation": "v",
         "showlegend": true,
         "type": "scatter",
         "x": [
          100.22221792778328,
          99.35561540823893,
          100.42911409278557,
          100.24775297281462,
          99.20985756853646
         ],
         "xaxis": "x",
         "y": [
          99.28400136017713,
          98.22156562021648,
          92.64113806142255,
          95.64492122785914,
          98.77717705076289
         ],
         "yaxis": "y"
        },
        {
         "customdata": [
          [
           300
          ],
          [
           3000
          ]
         ],
         "hovertemplate": "Compound=NELA<br>Viability=%{x}<br>Predicted Viability=%{y}<br>Concentration=%{customdata[0]}<extra></extra>",
         "legendgroup": "NELA",
         "marker": {
          "color": "#19d3f3",
          "size": 8,
          "symbol": "circle"
         },
         "mode": "markers",
         "name": "NELA",
         "orientation": "v",
         "showlegend": true,
         "type": "scatter",
         "x": [
          99.41857548126819,
          97.64131405036298
         ],
         "xaxis": "x",
         "y": [
          98.76702371300983,
          96.64200762691857
         ],
         "yaxis": "y"
        },
        {
         "customdata": [
          [
           3000
          ],
          [
           30000
          ],
          [
           134
          ],
          [
           10000
          ],
          [
           1000
          ],
          [
           100
          ],
          [
           30
          ],
          [
           300
          ]
         ],
         "hovertemplate": "Compound=DOXO<br>Viability=%{x}<br>Predicted Viability=%{y}<br>Concentration=%{customdata[0]}<extra></extra>",
         "legendgroup": "DOXO",
         "marker": {
          "color": "#FF6692",
          "size": 8,
          "symbol": "circle"
         },
         "mode": "markers",
         "name": "DOXO",
         "orientation": "v",
         "showlegend": true,
         "type": "scatter",
         "x": [
          8.526268015230581,
          3.6130149352097414,
          73.57578023289129,
          3.6409130128184835,
          40.012919993995396,
          83.1608528002641,
          89.39324280814708,
          65.97189693626268
         ],
         "xaxis": "x",
         "y": [
          9.388458060729299,
          3.683956506393007,
          76.09950766618279,
          3.6000764791625177,
          40.61119495225923,
          81.18080867959884,
          88.98673872008447,
          68.46089804564149
         ],
         "yaxis": "y"
        },
        {
         "customdata": [
          [
           30000
          ],
          [
           300
          ],
          [
           10000
          ]
         ],
         "hovertemplate": "Compound=LEFL<br>Viability=%{x}<br>Predicted Viability=%{y}<br>Concentration=%{customdata[0]}<extra></extra>",
         "legendgroup": "LEFL",
         "marker": {
          "color": "#B6E880",
          "size": 8,
          "symbol": "circle"
         },
         "mode": "markers",
         "name": "LEFL",
         "orientation": "v",
         "showlegend": true,
         "type": "scatter",
         "x": [
          93.69206041489761,
          96.23172092846835,
          98.73308939224933
         ],
         "xaxis": "x",
         "y": [
          92.64307452721481,
          96.41154795688007,
          98.02843437022743
         ],
         "yaxis": "y"
        },
        {
         "customdata": [
          [
           100
          ],
          [
           30
          ]
         ],
         "hovertemplate": "Compound=VORI<br>Viability=%{x}<br>Predicted Viability=%{y}<br>Concentration=%{customdata[0]}<extra></extra>",
         "legendgroup": "VORI",
         "marker": {
          "color": "#FF97FF",
          "size": 8,
          "symbol": "circle"
         },
         "mode": "markers",
         "name": "VORI",
         "orientation": "v",
         "showlegend": true,
         "type": "scatter",
         "x": [
          97.84612793818138,
          99.9669926160356
         ],
         "xaxis": "x",
         "y": [
          98.28992012789358,
          98.9161283769019
         ],
         "yaxis": "y"
        },
        {
         "customdata": [
          [
           300
          ],
          [
           30000
          ]
         ],
         "hovertemplate": "Compound=ETRE<br>Viability=%{x}<br>Predicted Viability=%{y}<br>Concentration=%{customdata[0]}<extra></extra>",
         "legendgroup": "ETRE",
         "marker": {
          "color": "#FECB52",
          "size": 8,
          "symbol": "circle"
         },
         "mode": "markers",
         "name": "ETRE",
         "orientation": "v",
         "showlegend": true,
         "type": "scatter",
         "x": [
          95.81535060860921,
          92.54908734658349
         ],
         "xaxis": "x",
         "y": [
          96.12714622543717,
          88.63349974602325
         ],
         "yaxis": "y"
        },
        {
         "customdata": [
          [
           300
          ],
          [
           100
          ],
          [
           1000
          ],
          [
           30000
          ]
         ],
         "hovertemplate": "Compound=CLOF<br>Viability=%{x}<br>Predicted Viability=%{y}<br>Concentration=%{customdata[0]}<extra></extra>",
         "legendgroup": "CLOF",
         "marker": {
          "color": "#636efa",
          "size": 8,
          "symbol": "circle"
         },
         "mode": "markers",
         "name": "CLOF",
         "orientation": "v",
         "showlegend": true,
         "type": "scatter",
         "x": [
          98.0144935910869,
          96.27590369713752,
          95.3259073893461,
          95.83618235452012
         ],
         "xaxis": "x",
         "y": [
          97.89706027967551,
          97.03847615263021,
          94.38808458276175,
          93.60404502111474
         ],
         "yaxis": "y"
        },
        {
         "customdata": [
          [
           100
          ],
          [
           300
          ],
          [
           10000
          ]
         ],
         "hovertemplate": "Compound=GEMF<br>Viability=%{x}<br>Predicted Viability=%{y}<br>Concentration=%{customdata[0]}<extra></extra>",
         "legendgroup": "GEMF",
         "marker": {
          "color": "#EF553B",
          "size": 8,
          "symbol": "circle"
         },
         "mode": "markers",
         "name": "GEMF",
         "orientation": "v",
         "showlegend": true,
         "type": "scatter",
         "x": [
          98.14921233251198,
          96.90192196366374,
          98.55791324666868
         ],
         "xaxis": "x",
         "y": [
          98.33153060551592,
          96.34087557752193,
          97.098461644261
         ],
         "yaxis": "y"
        },
        {
         "customdata": [
          [
           10
          ],
          [
           3000
          ],
          [
           1000
          ]
         ],
         "hovertemplate": "Compound=MCPP<br>Viability=%{x}<br>Predicted Viability=%{y}<br>Concentration=%{customdata[0]}<extra></extra>",
         "legendgroup": "MCPP",
         "marker": {
          "color": "#00cc96",
          "size": 8,
          "symbol": "circle"
         },
         "mode": "markers",
         "name": "MCPP",
         "orientation": "v",
         "showlegend": true,
         "type": "scatter",
         "x": [
          99.9625861613402,
          100.66811350188271,
          100.80927867151081
         ],
         "xaxis": "x",
         "y": [
          99.4970827809256,
          99.78195284769512,
          100.11086054122505
         ],
         "yaxis": "y"
        },
        {
         "customdata": [
          [
           100
          ],
          [
           10000
          ]
         ],
         "hovertemplate": "Compound=NCAP<br>Viability=%{x}<br>Predicted Viability=%{y}<br>Concentration=%{customdata[0]}<extra></extra>",
         "legendgroup": "NCAP",
         "marker": {
          "color": "#ab63fa",
          "size": 8,
          "symbol": "circle"
         },
         "mode": "markers",
         "name": "NCAP",
         "orientation": "v",
         "showlegend": true,
         "type": "scatter",
         "x": [
          97.80827085505717,
          95.21623615667666
         ],
         "xaxis": "x",
         "y": [
          97.86461146448346,
          95.2021545058098
         ],
         "yaxis": "y"
        },
        {
         "customdata": [
          [
           10000
          ],
          [
           10
          ],
          [
           300
          ]
         ],
         "hovertemplate": "Compound=DEXA<br>Viability=%{x}<br>Predicted Viability=%{y}<br>Concentration=%{customdata[0]}<extra></extra>",
         "legendgroup": "DEXA",
         "marker": {
          "color": "#FFA15A",
          "size": 8,
          "symbol": "circle"
         },
         "mode": "markers",
         "name": "DEXA",
         "orientation": "v",
         "showlegend": true,
         "type": "scatter",
         "x": [
          95.19853271239649,
          97.47911757429152,
          97.61294123295185
         ],
         "xaxis": "x",
         "y": [
          95.6342772171226,
          97.70742327165733,
          97.13280561801241
         ],
         "yaxis": "y"
        },
        {
         "customdata": [
          [
           30000
          ],
          [
           100
          ]
         ],
         "hovertemplate": "Compound=ETHF<br>Viability=%{x}<br>Predicted Viability=%{y}<br>Concentration=%{customdata[0]}<extra></extra>",
         "legendgroup": "ETHF",
         "marker": {
          "color": "#19d3f3",
          "size": 8,
          "symbol": "circle"
         },
         "mode": "markers",
         "name": "ETHF",
         "orientation": "v",
         "showlegend": true,
         "type": "scatter",
         "x": [
          100.0505128950567,
          98.68469918097529
         ],
         "xaxis": "x",
         "y": [
          98.22144470522606,
          97.61529137086565
         ],
         "yaxis": "y"
        },
        {
         "customdata": [
          [
           12098
          ],
          [
           10000
          ],
          [
           6491
          ],
          [
           30000
          ],
          [
           1000
          ]
         ],
         "hovertemplate": "Compound=OLAN<br>Viability=%{x}<br>Predicted Viability=%{y}<br>Concentration=%{customdata[0]}<extra></extra>",
         "legendgroup": "OLAN",
         "marker": {
          "color": "#FF6692",
          "size": 8,
          "symbol": "circle"
         },
         "mode": "markers",
         "name": "OLAN",
         "orientation": "v",
         "showlegend": true,
         "type": "scatter",
         "x": [
          59.435205134136105,
          88.45742492007213,
          65.30627127365922,
          57.45985830848086,
          97.27287620823932
         ],
         "xaxis": "x",
         "y": [
          59.28534720000379,
          91.1295796521464,
          65.55672181132739,
          57.71493074240826,
          96.98693070422055
         ],
         "yaxis": "y"
        },
        {
         "customdata": [
          [
           10000
          ],
          [
           300
          ]
         ],
         "hovertemplate": "Compound=CISP<br>Viability=%{x}<br>Predicted Viability=%{y}<br>Concentration=%{customdata[0]}<extra></extra>",
         "legendgroup": "CISP",
         "marker": {
          "color": "#B6E880",
          "size": 8,
          "symbol": "circle"
         },
         "mode": "markers",
         "name": "CISP",
         "orientation": "v",
         "showlegend": true,
         "type": "scatter",
         "x": [
          95.72287110682873,
          98.41360389875446
         ],
         "xaxis": "x",
         "y": [
          93.58593136954487,
          97.63592611861829
         ],
         "yaxis": "y"
        },
        {
         "customdata": [
          [
           300
          ]
         ],
         "hovertemplate": "Compound=ZIDO<br>Viability=%{x}<br>Predicted Viability=%{y}<br>Concentration=%{customdata[0]}<extra></extra>",
         "legendgroup": "ZIDO",
         "marker": {
          "color": "#FF97FF",
          "size": 8,
          "symbol": "circle"
         },
         "mode": "markers",
         "name": "ZIDO",
         "orientation": "v",
         "showlegend": true,
         "type": "scatter",
         "x": [
          103.72640842926717
         ],
         "xaxis": "x",
         "y": [
          100.37175619525682
         ],
         "yaxis": "y"
        },
        {
         "hovertemplate": "<b>OLS trendline</b><br>Predicted Viability = 0.96144 * Viability + 2.35091<br>R<sup>2</sup>=0.991049<br><br>Viability=%{x}<br>Predicted Viability=%{y} <b>(trend)</b><extra></extra>",
         "legendgroup": "Overall Trendline",
         "line": {
          "color": "#FECB52"
         },
         "marker": {
          "size": 8
         },
         "mode": "lines",
         "name": "Overall Trendline",
         "showlegend": true,
         "type": "scatter",
         "x": [
          0,
          0.1944174629751232,
          0.4602122851996447,
          0.8494588292499397,
          1.018974617560717,
          2.9480416934958225,
          3.2218833484451936,
          3.6130149352097414,
          3.636463213756877,
          3.6409130128184835,
          3.8484513891859806,
          4.950714816820131,
          6.541092551156673,
          7.450678592912301,
          8.128943858506911,
          8.153267038828723,
          8.526268015230581,
          8.638624092071996,
          8.845616883790653,
          9.099061532359809,
          9.101586712430587,
          10.961015550648964,
          11.580961804988583,
          12.404385251612817,
          12.821151969414958,
          21.9238846083636,
          22.489916095587155,
          26.30595524249674,
          26.30595524249674,
          26.930855447497272,
          28.32614897259682,
          33.4295789998608,
          34.17714369251915,
          34.559677331198294,
          38.80810822692382,
          39.271256991260515,
          39.42226237154856,
          39.64469289709659,
          39.99309871760222,
          40.012919993995396,
          44.68620914905763,
          50.939513869787085,
          52.092996154793404,
          52.092996154793404,
          53.05008419711435,
          53.05008419711435,
          53.84533901242469,
          54.49669003462304,
          54.62290584808787,
          55.150660609848934,
          57.45985830848086,
          59.435205134136105,
          59.52782238108452,
          60.08418787253077,
          60.91151874816055,
          61.577772579079465,
          62.54340327782453,
          64.10201329015148,
          65.30627127365922,
          65.63279857562297,
          65.97189693626268,
          67.00599044305939,
          69.37322181025635,
          70.39402583170452,
          71.99637541746381,
          73.57578023289129,
          74.42962781569112,
          74.9351608491217,
          81.12522768486116,
          81.8375886387641,
          82.6566931429205,
          82.86867858411482,
          82.86867858411482,
          83.1608528002641,
          83.2850925760406,
          83.2850925760406,
          83.39691384573487,
          83.61212734301377,
          83.70552938350211,
          83.78112418604813,
          84.32626422309332,
          84.52082579612991,
          84.68871182156224,
          84.77496151533113,
          84.82054351341024,
          84.83806758848124,
          84.88057727773585,
          85.12366596576622,
          85.22047752739236,
          85.29324952613815,
          85.3984849728528,
          85.56311095080092,
          86.41882241098581,
          86.69657419900828,
          88.45742492007213,
          88.75954766556458,
          89.39324280814708,
          90.16040769603498,
          90.71917922327638,
          90.85858301282637,
          91.26484473782571,
          91.28764388597313,
          91.89803872880609,
          92.54908734658349,
          93.69206041489761,
          94.40649786334207,
          94.61580757656175,
          95.19853271239649,
          95.21623615667666,
          95.28931126880491,
          95.3259073893461,
          95.50578852948269,
          95.72287110682873,
          95.81535060860921,
          95.83618235452012,
          95.84054692905514,
          96.23172092846835,
          96.27590369713752,
          96.28824172189154,
          96.41782374390507,
          96.45305966749078,
          96.76009837439821,
          96.85682654581913,
          96.90192196366374,
          96.96359784035542,
          97.27287620823932,
          97.4341736289625,
          97.47911757429152,
          97.53766966286985,
          97.61294123295185,
          97.64131405036298,
          97.80827085505717,
          97.81554267125719,
          97.84612793818138,
          98.0144935910869,
          98.14921233251198,
          98.16340344199628,
          98.26209042354455,
          98.41360389875446,
          98.55791324666868,
          98.56067012552757,
          98.63176183586498,
          98.68469918097529,
          98.73308939224933,
          99.20985756853646,
          99.33073304382779,
          99.35561540823893,
          99.41857548126819,
          99.5437686080814,
          99.9625861613402,
          99.9669926160356,
          100.04108407994909,
          100.0505128950567,
          100.22221792778328,
          100.23206189499956,
          100.24775297281462,
          100.42911409278557,
          100.60047797689737,
          100.66811350188271,
          100.71400717438476,
          100.80927867151081,
          101.84938372777896,
          103.72640842926717,
          105.29053848383161,
          109.28587528527541,
          109.3931057742589
         ],
         "xaxis": "x",
         "y": [
          2.3509090309080687,
          2.537829784117641,
          2.7933755957393527,
          3.1676128483230563,
          3.330592131907368,
          5.185274655316881,
          5.448557014936201,
          5.824606623254767,
          5.847150739510719,
          5.85142895495237,
          6.050964680997042,
          7.110724987380135,
          8.639777982110127,
          9.51429051525449,
          10.166401968519661,
          10.189787250462093,
          10.548405362179055,
          10.656429004651732,
          10.855440183714151,
          11.099112042622956,
          11.101539852108774,
          12.889269378359469,
          13.485310593162493,
          14.276982948608868,
          14.677679200952339,
          23.429411761907282,
          23.973617155358482,
          27.64251037463079,
          27.64251037463079,
          28.243314516460686,
          29.584805721360418,
          34.49144821144678,
          35.21018691570845,
          35.5779701115989,
          39.6625821152513,
          40.10787192900107,
          40.25305456326758,
          40.46690819933503,
          40.80187954087468,
          40.8209365116647,
          45.31402430050254,
          51.32620247915354,
          52.43520665104147,
          52.43520665104147,
          53.35538951435451,
          53.35538951435451,
          54.11997941691058,
          54.7462144361831,
          54.86756338580304,
          55.37496799889039,
          57.595123362163086,
          59.494301094715134,
          59.583347033772625,
          60.11825915087115,
          60.91368826541546,
          61.55425144322044,
          62.482647559338915,
          63.98115779090907,
          65.13897975757423,
          65.45291621314027,
          65.77893898914479,
          66.773157997158,
          69.04910925897649,
          70.03055122230911,
          71.57111443557096,
          73.0896176255869,
          73.91054096683808,
          74.39658071828394,
          80.34795945581054,
          81.03285187248437,
          81.8203718232712,
          82.02418313595443,
          82.02418313595443,
          82.30509115581697,
          82.42454026348125,
          82.42454026348125,
          82.53204972089445,
          82.73896461627801,
          82.82876508734797,
          82.90144496504209,
          83.42556447966726,
          83.6126237860748,
          83.77403615020583,
          83.85696006803022,
          83.90078443073592,
          83.91763277996056,
          83.95850330163378,
          84.19221852437165,
          84.28529704592849,
          84.35526296673606,
          84.45644054956855,
          84.61471857318345,
          85.4374339209724,
          85.70447563948875,
          87.39742820678455,
          87.68790114211146,
          88.29716108997903,
          89.03474420872537,
          89.57196958522043,
          89.70599798444034,
          90.09659431501181,
          90.11851433124409,
          90.70537243561186,
          91.33131671113497,
          92.43021690023407,
          93.11710574211476,
          93.31834450251412,
          93.8785998398565,
          93.89562064183909,
          93.96587798802014,
          94.00106296734982,
          94.1740079162654,
          94.38271982025412,
          94.4716333255778,
          94.49166180232443,
          94.49585807948515,
          94.87194846502666,
          94.91442755240979,
          94.92628982468126,
          95.05087518232625,
          95.0847524137019,
          95.37995175166968,
          95.47295009853576,
          95.51630664347171,
          95.57560430711597,
          95.87295694505099,
          96.02803476013489,
          96.07124567331394,
          96.12754000167094,
          96.19990911069894,
          96.22718787629957,
          96.38770685031217,
          96.3946982663121,
          96.42410416968671,
          96.58597766692368,
          96.71550167280913,
          96.72914557512681,
          96.82402720067986,
          96.9696983378002,
          97.10844313775038,
          97.11109371175195,
          97.17944413583359,
          97.2303402244334,
          97.276864516032,
          97.73524857914134,
          97.85146311326943,
          97.8753860172421,
          97.93591835879553,
          98.0562840564159,
          98.45895206429205,
          98.4631886067201,
          98.53442311430588,
          98.54348835564181,
          98.70857246668811,
          98.71803685192636,
          98.73312288400896,
          98.90749074494663,
          99.0722468620203,
          99.13727437076628,
          99.18139838977343,
          99.2729962314986,
          100.27299498448923,
          102.07764188002065,
          103.58145930178345,
          107.42273648349092,
          107.52583218004565
         ],
         "yaxis": "y"
        }
       ],
       "layout": {
        "height": 1000,
        "legend": {
         "title": {
          "text": "Compound"
         },
         "tracegroupgap": 0
        },
        "margin": {
         "t": 60
        },
        "template": {
         "data": {
          "bar": [
           {
            "error_x": {
             "color": "#2a3f5f"
            },
            "error_y": {
             "color": "#2a3f5f"
            },
            "marker": {
             "line": {
              "color": "#E5ECF6",
              "width": 0.5
             },
             "pattern": {
              "fillmode": "overlay",
              "size": 10,
              "solidity": 0.2
             }
            },
            "type": "bar"
           }
          ],
          "barpolar": [
           {
            "marker": {
             "line": {
              "color": "#E5ECF6",
              "width": 0.5
             },
             "pattern": {
              "fillmode": "overlay",
              "size": 10,
              "solidity": 0.2
             }
            },
            "type": "barpolar"
           }
          ],
          "carpet": [
           {
            "aaxis": {
             "endlinecolor": "#2a3f5f",
             "gridcolor": "white",
             "linecolor": "white",
             "minorgridcolor": "white",
             "startlinecolor": "#2a3f5f"
            },
            "baxis": {
             "endlinecolor": "#2a3f5f",
             "gridcolor": "white",
             "linecolor": "white",
             "minorgridcolor": "white",
             "startlinecolor": "#2a3f5f"
            },
            "type": "carpet"
           }
          ],
          "choropleth": [
           {
            "colorbar": {
             "outlinewidth": 0,
             "ticks": ""
            },
            "type": "choropleth"
           }
          ],
          "contour": [
           {
            "colorbar": {
             "outlinewidth": 0,
             "ticks": ""
            },
            "colorscale": [
             [
              0,
              "#0d0887"
             ],
             [
              0.1111111111111111,
              "#46039f"
             ],
             [
              0.2222222222222222,
              "#7201a8"
             ],
             [
              0.3333333333333333,
              "#9c179e"
             ],
             [
              0.4444444444444444,
              "#bd3786"
             ],
             [
              0.5555555555555556,
              "#d8576b"
             ],
             [
              0.6666666666666666,
              "#ed7953"
             ],
             [
              0.7777777777777778,
              "#fb9f3a"
             ],
             [
              0.8888888888888888,
              "#fdca26"
             ],
             [
              1,
              "#f0f921"
             ]
            ],
            "type": "contour"
           }
          ],
          "contourcarpet": [
           {
            "colorbar": {
             "outlinewidth": 0,
             "ticks": ""
            },
            "type": "contourcarpet"
           }
          ],
          "heatmap": [
           {
            "colorbar": {
             "outlinewidth": 0,
             "ticks": ""
            },
            "colorscale": [
             [
              0,
              "#0d0887"
             ],
             [
              0.1111111111111111,
              "#46039f"
             ],
             [
              0.2222222222222222,
              "#7201a8"
             ],
             [
              0.3333333333333333,
              "#9c179e"
             ],
             [
              0.4444444444444444,
              "#bd3786"
             ],
             [
              0.5555555555555556,
              "#d8576b"
             ],
             [
              0.6666666666666666,
              "#ed7953"
             ],
             [
              0.7777777777777778,
              "#fb9f3a"
             ],
             [
              0.8888888888888888,
              "#fdca26"
             ],
             [
              1,
              "#f0f921"
             ]
            ],
            "type": "heatmap"
           }
          ],
          "heatmapgl": [
           {
            "colorbar": {
             "outlinewidth": 0,
             "ticks": ""
            },
            "colorscale": [
             [
              0,
              "#0d0887"
             ],
             [
              0.1111111111111111,
              "#46039f"
             ],
             [
              0.2222222222222222,
              "#7201a8"
             ],
             [
              0.3333333333333333,
              "#9c179e"
             ],
             [
              0.4444444444444444,
              "#bd3786"
             ],
             [
              0.5555555555555556,
              "#d8576b"
             ],
             [
              0.6666666666666666,
              "#ed7953"
             ],
             [
              0.7777777777777778,
              "#fb9f3a"
             ],
             [
              0.8888888888888888,
              "#fdca26"
             ],
             [
              1,
              "#f0f921"
             ]
            ],
            "type": "heatmapgl"
           }
          ],
          "histogram": [
           {
            "marker": {
             "pattern": {
              "fillmode": "overlay",
              "size": 10,
              "solidity": 0.2
             }
            },
            "type": "histogram"
           }
          ],
          "histogram2d": [
           {
            "colorbar": {
             "outlinewidth": 0,
             "ticks": ""
            },
            "colorscale": [
             [
              0,
              "#0d0887"
             ],
             [
              0.1111111111111111,
              "#46039f"
             ],
             [
              0.2222222222222222,
              "#7201a8"
             ],
             [
              0.3333333333333333,
              "#9c179e"
             ],
             [
              0.4444444444444444,
              "#bd3786"
             ],
             [
              0.5555555555555556,
              "#d8576b"
             ],
             [
              0.6666666666666666,
              "#ed7953"
             ],
             [
              0.7777777777777778,
              "#fb9f3a"
             ],
             [
              0.8888888888888888,
              "#fdca26"
             ],
             [
              1,
              "#f0f921"
             ]
            ],
            "type": "histogram2d"
           }
          ],
          "histogram2dcontour": [
           {
            "colorbar": {
             "outlinewidth": 0,
             "ticks": ""
            },
            "colorscale": [
             [
              0,
              "#0d0887"
             ],
             [
              0.1111111111111111,
              "#46039f"
             ],
             [
              0.2222222222222222,
              "#7201a8"
             ],
             [
              0.3333333333333333,
              "#9c179e"
             ],
             [
              0.4444444444444444,
              "#bd3786"
             ],
             [
              0.5555555555555556,
              "#d8576b"
             ],
             [
              0.6666666666666666,
              "#ed7953"
             ],
             [
              0.7777777777777778,
              "#fb9f3a"
             ],
             [
              0.8888888888888888,
              "#fdca26"
             ],
             [
              1,
              "#f0f921"
             ]
            ],
            "type": "histogram2dcontour"
           }
          ],
          "mesh3d": [
           {
            "colorbar": {
             "outlinewidth": 0,
             "ticks": ""
            },
            "type": "mesh3d"
           }
          ],
          "parcoords": [
           {
            "line": {
             "colorbar": {
              "outlinewidth": 0,
              "ticks": ""
             }
            },
            "type": "parcoords"
           }
          ],
          "pie": [
           {
            "automargin": true,
            "type": "pie"
           }
          ],
          "scatter": [
           {
            "fillpattern": {
             "fillmode": "overlay",
             "size": 10,
             "solidity": 0.2
            },
            "type": "scatter"
           }
          ],
          "scatter3d": [
           {
            "line": {
             "colorbar": {
              "outlinewidth": 0,
              "ticks": ""
             }
            },
            "marker": {
             "colorbar": {
              "outlinewidth": 0,
              "ticks": ""
             }
            },
            "type": "scatter3d"
           }
          ],
          "scattercarpet": [
           {
            "marker": {
             "colorbar": {
              "outlinewidth": 0,
              "ticks": ""
             }
            },
            "type": "scattercarpet"
           }
          ],
          "scattergeo": [
           {
            "marker": {
             "colorbar": {
              "outlinewidth": 0,
              "ticks": ""
             }
            },
            "type": "scattergeo"
           }
          ],
          "scattergl": [
           {
            "marker": {
             "colorbar": {
              "outlinewidth": 0,
              "ticks": ""
             }
            },
            "type": "scattergl"
           }
          ],
          "scattermapbox": [
           {
            "marker": {
             "colorbar": {
              "outlinewidth": 0,
              "ticks": ""
             }
            },
            "type": "scattermapbox"
           }
          ],
          "scatterpolar": [
           {
            "marker": {
             "colorbar": {
              "outlinewidth": 0,
              "ticks": ""
             }
            },
            "type": "scatterpolar"
           }
          ],
          "scatterpolargl": [
           {
            "marker": {
             "colorbar": {
              "outlinewidth": 0,
              "ticks": ""
             }
            },
            "type": "scatterpolargl"
           }
          ],
          "scatterternary": [
           {
            "marker": {
             "colorbar": {
              "outlinewidth": 0,
              "ticks": ""
             }
            },
            "type": "scatterternary"
           }
          ],
          "surface": [
           {
            "colorbar": {
             "outlinewidth": 0,
             "ticks": ""
            },
            "colorscale": [
             [
              0,
              "#0d0887"
             ],
             [
              0.1111111111111111,
              "#46039f"
             ],
             [
              0.2222222222222222,
              "#7201a8"
             ],
             [
              0.3333333333333333,
              "#9c179e"
             ],
             [
              0.4444444444444444,
              "#bd3786"
             ],
             [
              0.5555555555555556,
              "#d8576b"
             ],
             [
              0.6666666666666666,
              "#ed7953"
             ],
             [
              0.7777777777777778,
              "#fb9f3a"
             ],
             [
              0.8888888888888888,
              "#fdca26"
             ],
             [
              1,
              "#f0f921"
             ]
            ],
            "type": "surface"
           }
          ],
          "table": [
           {
            "cells": {
             "fill": {
              "color": "#EBF0F8"
             },
             "line": {
              "color": "white"
             }
            },
            "header": {
             "fill": {
              "color": "#C8D4E3"
             },
             "line": {
              "color": "white"
             }
            },
            "type": "table"
           }
          ]
         },
         "layout": {
          "annotationdefaults": {
           "arrowcolor": "#2a3f5f",
           "arrowhead": 0,
           "arrowwidth": 1
          },
          "autotypenumbers": "strict",
          "coloraxis": {
           "colorbar": {
            "outlinewidth": 0,
            "ticks": ""
           }
          },
          "colorscale": {
           "diverging": [
            [
             0,
             "#8e0152"
            ],
            [
             0.1,
             "#c51b7d"
            ],
            [
             0.2,
             "#de77ae"
            ],
            [
             0.3,
             "#f1b6da"
            ],
            [
             0.4,
             "#fde0ef"
            ],
            [
             0.5,
             "#f7f7f7"
            ],
            [
             0.6,
             "#e6f5d0"
            ],
            [
             0.7,
             "#b8e186"
            ],
            [
             0.8,
             "#7fbc41"
            ],
            [
             0.9,
             "#4d9221"
            ],
            [
             1,
             "#276419"
            ]
           ],
           "sequential": [
            [
             0,
             "#0d0887"
            ],
            [
             0.1111111111111111,
             "#46039f"
            ],
            [
             0.2222222222222222,
             "#7201a8"
            ],
            [
             0.3333333333333333,
             "#9c179e"
            ],
            [
             0.4444444444444444,
             "#bd3786"
            ],
            [
             0.5555555555555556,
             "#d8576b"
            ],
            [
             0.6666666666666666,
             "#ed7953"
            ],
            [
             0.7777777777777778,
             "#fb9f3a"
            ],
            [
             0.8888888888888888,
             "#fdca26"
            ],
            [
             1,
             "#f0f921"
            ]
           ],
           "sequentialminus": [
            [
             0,
             "#0d0887"
            ],
            [
             0.1111111111111111,
             "#46039f"
            ],
            [
             0.2222222222222222,
             "#7201a8"
            ],
            [
             0.3333333333333333,
             "#9c179e"
            ],
            [
             0.4444444444444444,
             "#bd3786"
            ],
            [
             0.5555555555555556,
             "#d8576b"
            ],
            [
             0.6666666666666666,
             "#ed7953"
            ],
            [
             0.7777777777777778,
             "#fb9f3a"
            ],
            [
             0.8888888888888888,
             "#fdca26"
            ],
            [
             1,
             "#f0f921"
            ]
           ]
          },
          "colorway": [
           "#636efa",
           "#EF553B",
           "#00cc96",
           "#ab63fa",
           "#FFA15A",
           "#19d3f3",
           "#FF6692",
           "#B6E880",
           "#FF97FF",
           "#FECB52"
          ],
          "font": {
           "color": "#2a3f5f"
          },
          "geo": {
           "bgcolor": "white",
           "lakecolor": "white",
           "landcolor": "#E5ECF6",
           "showlakes": true,
           "showland": true,
           "subunitcolor": "white"
          },
          "hoverlabel": {
           "align": "left"
          },
          "hovermode": "closest",
          "mapbox": {
           "style": "light"
          },
          "paper_bgcolor": "white",
          "plot_bgcolor": "#E5ECF6",
          "polar": {
           "angularaxis": {
            "gridcolor": "white",
            "linecolor": "white",
            "ticks": ""
           },
           "bgcolor": "#E5ECF6",
           "radialaxis": {
            "gridcolor": "white",
            "linecolor": "white",
            "ticks": ""
           }
          },
          "scene": {
           "xaxis": {
            "backgroundcolor": "#E5ECF6",
            "gridcolor": "white",
            "gridwidth": 2,
            "linecolor": "white",
            "showbackground": true,
            "ticks": "",
            "zerolinecolor": "white"
           },
           "yaxis": {
            "backgroundcolor": "#E5ECF6",
            "gridcolor": "white",
            "gridwidth": 2,
            "linecolor": "white",
            "showbackground": true,
            "ticks": "",
            "zerolinecolor": "white"
           },
           "zaxis": {
            "backgroundcolor": "#E5ECF6",
            "gridcolor": "white",
            "gridwidth": 2,
            "linecolor": "white",
            "showbackground": true,
            "ticks": "",
            "zerolinecolor": "white"
           }
          },
          "shapedefaults": {
           "line": {
            "color": "#2a3f5f"
           }
          },
          "ternary": {
           "aaxis": {
            "gridcolor": "white",
            "linecolor": "white",
            "ticks": ""
           },
           "baxis": {
            "gridcolor": "white",
            "linecolor": "white",
            "ticks": ""
           },
           "bgcolor": "#E5ECF6",
           "caxis": {
            "gridcolor": "white",
            "linecolor": "white",
            "ticks": ""
           }
          },
          "title": {
           "x": 0.05
          },
          "xaxis": {
           "automargin": true,
           "gridcolor": "white",
           "linecolor": "white",
           "ticks": "",
           "title": {
            "standoff": 15
           },
           "zerolinecolor": "white",
           "zerolinewidth": 2
          },
          "yaxis": {
           "automargin": true,
           "gridcolor": "white",
           "linecolor": "white",
           "ticks": "",
           "title": {
            "standoff": 15
           },
           "zerolinecolor": "white",
           "zerolinewidth": 2
          }
         }
        },
        "width": 1200,
        "xaxis": {
         "anchor": "y",
         "domain": [
          0,
          1
         ],
         "title": {
          "text": "Viability"
         }
        },
        "yaxis": {
         "anchor": "x",
         "domain": [
          0,
          1
         ],
         "title": {
          "text": "Predicted Viability"
         }
        }
       }
      }
     },
     "metadata": {},
     "output_type": "display_data"
    },
    {
     "data": {
      "text/plain": [
       "0.990067566064187"
      ]
     },
     "execution_count": 95,
     "metadata": {},
     "output_type": "execute_result"
    }
   ],
   "source": [
    "y_train = pd.DataFrame(y_train)\n",
    "y_train['Predicted Viability'] = rf.predict(X_train)\n",
    "y_train = y_train.merge(augmentedData[['Compound', 'Concentration']], left_index=True, right_index=True)\n"
   ]
  },
  {
   "cell_type": "code",
   "execution_count": 96,
   "metadata": {},
   "outputs": [
    {
     "data": {
      "application/vnd.plotly.v1+json": {
       "config": {
        "plotlyServerURL": "https://plot.ly"
       },
       "data": [
        {
         "customdata": [
          [
           751
          ],
          [
           121
          ],
          [
           273
          ],
          [
           1747
          ],
          [
           312
          ],
          [
           300
          ],
          [
           3000
          ],
          [
           1556
          ],
          [
           14878
          ],
          [
           857
          ],
          [
           10000
          ],
          [
           1000
          ],
          [
           13059
          ],
          [
           30
          ],
          [
           100
          ]
         ],
         "hovertemplate": "Compound=COLC<br>Viability=%{x}<br>Predicted Viability=%{y}<br>Concentration=%{customdata[0]}<extra></extra>",
         "legendgroup": "COLC",
         "marker": {
          "color": "#636efa",
          "size": 10,
          "symbol": "circle"
         },
         "mode": "markers",
         "name": "COLC",
         "orientation": "v",
         "showlegend": true,
         "type": "scatter",
         "x": [
          85.12366596576622,
          83.2850925760406,
          83.2850925760406,
          82.86867858411482,
          82.86867858411482,
          85.56311095080092,
          84.68871182156224,
          83.70552938350211,
          83.61212734301377,
          85.22047752739236,
          86.41882241098581,
          84.88057727773585,
          81.8375886387641,
          86.69657419900828,
          81.12522768486116
         ],
         "xaxis": "x",
         "y": [
          84.8434835558213,
          83.04344357066462,
          83.65804464284571,
          83.1055102991867,
          82.72892689034063,
          85.49983163103254,
          83.89810678841351,
          84.07856471857666,
          83.2361654155211,
          84.8388899454148,
          85.53474527062392,
          84.9974410006224,
          82.37130277605971,
          75.8200684948598,
          81.65073839862359
         ],
         "yaxis": "y"
        },
        {
         "customdata": [
          [
           3000
          ],
          [
           2164
          ],
          [
           100
          ],
          [
           300
          ],
          [
           30000
          ]
         ],
         "hovertemplate": "Compound=ETOP<br>Viability=%{x}<br>Predicted Viability=%{y}<br>Concentration=%{customdata[0]}<extra></extra>",
         "legendgroup": "ETOP",
         "marker": {
          "color": "#EF553B",
          "size": 10,
          "symbol": "circle"
         },
         "mode": "markers",
         "name": "ETOP",
         "orientation": "v",
         "showlegend": true,
         "type": "scatter",
         "x": [
          84.32626422309332,
          84.77496151533113,
          95.28931126880491,
          90.16040769603498,
          60.08418787253077
         ],
         "xaxis": "x",
         "y": [
          84.4756806886706,
          84.46749245767096,
          90.9478224932754,
          76.90806365159028,
          58.37201901671645
         ],
         "yaxis": "y"
        },
        {
         "customdata": [
          [
           1000
          ],
          [
           2699
          ],
          [
           100
          ],
          [
           3000
          ],
          [
           6552
          ],
          [
           30000
          ],
          [
           6494
          ],
          [
           30
          ],
          [
           2923
          ],
          [
           2173
          ]
         ],
         "hovertemplate": "Compound=CERI<br>Viability=%{x}<br>Predicted Viability=%{y}<br>Concentration=%{customdata[0]}<extra></extra>",
         "legendgroup": "CERI",
         "marker": {
          "color": "#00cc96",
          "size": 10,
          "symbol": "circle"
         },
         "mode": "markers",
         "name": "CERI",
         "orientation": "v",
         "showlegend": true,
         "type": "scatter",
         "x": [
          34.17714369251915,
          52.092996154793404,
          71.99637541746381,
          11.580961804988583,
          53.05008419711435,
          8.638624092071996,
          53.05008419711435,
          85.3984849728528,
          44.68620914905763,
          52.092996154793404
         ],
         "xaxis": "x",
         "y": [
          33.770700147071274,
          48.65982677534749,
          71.81015688161827,
          13.574964348902286,
          53.14849436511658,
          8.37629905068124,
          52.75941985053369,
          86.96921537650128,
          49.37268129657611,
          50.7205828713818
         ],
         "yaxis": "y"
        },
        {
         "customdata": [
          [
           3000
          ],
          [
           30
          ],
          [
           10000
          ],
          [
           10000
          ],
          [
           7769
          ],
          [
           30000
          ]
         ],
         "hovertemplate": "Compound=SIMV<br>Viability=%{x}<br>Predicted Viability=%{y}<br>Concentration=%{customdata[0]}<extra></extra>",
         "legendgroup": "SIMV",
         "marker": {
          "color": "#ab63fa",
          "size": 10,
          "symbol": "circle"
         },
         "mode": "markers",
         "name": "SIMV",
         "orientation": "v",
         "showlegend": true,
         "type": "scatter",
         "x": [
          90.85858301282637,
          96.85682654581913,
          69.37322181025635,
          67.00599044305939,
          50.939513869787085,
          54.49669003462304
         ],
         "xaxis": "x",
         "y": [
          91.13213212485657,
          97.57452565869093,
          74.52731684441244,
          64.08552849849097,
          51.06717537386062,
          53.86847006871554
         ],
         "yaxis": "y"
        },
        {
         "customdata": [
          [
           3000
          ],
          [
           2394
          ],
          [
           1000
          ],
          [
           8645
          ],
          [
           30000
          ]
         ],
         "hovertemplate": "Compound=IMAT<br>Viability=%{x}<br>Predicted Viability=%{y}<br>Concentration=%{customdata[0]}<extra></extra>",
         "legendgroup": "IMAT",
         "marker": {
          "color": "#FFA15A",
          "size": 10,
          "symbol": "circle"
         },
         "mode": "markers",
         "name": "IMAT",
         "orientation": "v",
         "showlegend": true,
         "type": "scatter",
         "x": [
          94.61580757656175,
          12.821151969414958,
          96.96359784035542,
          12.404385251612817,
          39.271256991260515
         ],
         "xaxis": "x",
         "y": [
          89.59563730235068,
          28.17284138802319,
          92.09983902675789,
          25.421751829161156,
          38.389048337774994
         ],
         "yaxis": "y"
        },
        {
         "customdata": [
          [
           3000
          ],
          [
           30
          ],
          [
           300
          ]
         ],
         "hovertemplate": "Compound=HCQ<br>Viability=%{x}<br>Predicted Viability=%{y}<br>Concentration=%{customdata[0]}<extra></extra>",
         "legendgroup": "HCQ",
         "marker": {
          "color": "#19d3f3",
          "size": 10,
          "symbol": "circle"
         },
         "mode": "markers",
         "name": "HCQ",
         "orientation": "v",
         "showlegend": true,
         "type": "scatter",
         "x": [
          96.76009837439821,
          98.16340344199628,
          96.45305966749078
         ],
         "xaxis": "x",
         "y": [
          96.49209683311624,
          96.82840217463772,
          96.79235760620323
         ],
         "yaxis": "y"
        },
        {
         "customdata": [
          [
           667
          ],
          [
           9832
          ],
          [
           9922
          ],
          [
           30062
          ],
          [
           6992
          ],
          [
           3331
          ],
          [
           9736
          ],
          [
           1270
          ],
          [
           9640
          ],
          [
           9685
          ],
          [
           3314
          ],
          [
           394
          ],
          [
           30075
          ],
          [
           0
          ],
          [
           30160
          ],
          [
           1453
          ],
          [
           10131
          ],
          [
           10057
          ],
          [
           29690
          ],
          [
           10000
          ],
          [
           30084
          ],
          [
           1160
          ],
          [
           30091
          ],
          [
           1120
          ],
          [
           3432
          ],
          [
           30000
          ],
          [
           3162
          ],
          [
           2925
          ],
          [
           10116
          ],
          [
           3170
          ],
          [
           1000
          ],
          [
           30143
          ],
          [
           10080
          ],
          [
           30018
          ],
          [
           897
          ],
          [
           1837
          ],
          [
           30012
          ],
          [
           30090
          ],
          [
           1270
          ],
          [
           2298
          ],
          [
           11876
          ],
          [
           300
          ],
          [
           836
          ],
          [
           30018
          ]
         ],
         "hovertemplate": "Compound=SUNI<br>Viability=%{x}<br>Predicted Viability=%{y}<br>Concentration=%{customdata[0]}<extra></extra>",
         "legendgroup": "SUNI",
         "marker": {
          "color": "#FF6692",
          "size": 10,
          "symbol": "circle"
         },
         "mode": "markers",
         "name": "SUNI",
         "orientation": "v",
         "showlegend": true,
         "type": "scatter",
         "x": [
          65.63279857562297,
          0.1944174629751232,
          2.9480416934958225,
          38.80810822692382,
          28.32614897259682,
          83.39691384573487,
          3.636463213756877,
          85.29324952613815,
          7.450678592912301,
          74.9351608491217,
          8.153267038828723,
          84.82054351341024,
          53.84533901242469,
          82.6566931429205,
          61.577772579079465,
          84.83806758848124,
          70.39402583170452,
          3.8484513891859806,
          8.845616883790653,
          0.8494588292499397,
          0,
          83.78112418604813,
          4.950714816820131,
          34.559677331198294,
          84.52082579612991,
          0.4602122851996447,
          9.099061532359809,
          10.961015550648964,
          6.541092551156673,
          8.128943858506911,
          91.26484473782571,
          9.101586712430587,
          74.42962781569112,
          54.62290584808787,
          33.4295789998608,
          26.30595524249674,
          3.2218833484451936,
          39.99309871760222,
          39.42226237154856,
          26.30595524249674,
          1.018974617560717,
          98.56067012552757,
          39.64469289709659,
          21.9238846083636
         ],
         "xaxis": "x",
         "y": [
          66.41767733118213,
          0.9398754305280385,
          3.216429187748251,
          37.996986836826565,
          39.080799356369944,
          83.30975621843126,
          3.5602043739202753,
          83.16505856910169,
          7.011883333395852,
          74.73298645344035,
          8.312047986238987,
          75.13990449874764,
          52.60481766493661,
          80.68437341614288,
          57.26070824275448,
          83.10243975198792,
          67.15445776187975,
          3.6597943183813366,
          8.508140653590123,
          1.545109195314943,
          1.4019568826906146,
          84.03262466088307,
          4.250685248513895,
          34.292438334015884,
          83.40911761332438,
          1.594819631465458,
          12.978054601495819,
          13.452944152889991,
          6.751710218197588,
          9.081804884184532,
          82.37713511595372,
          8.560737184592886,
          73.52836480041958,
          52.323202358589825,
          33.533243497641585,
          29.98854260324947,
          3.3829373101290274,
          38.843569720275944,
          40.068723970244385,
          32.73212464244748,
          1.8284225708008899,
          93.40522545044931,
          40.10479394102528,
          24.19941298888346
         ],
         "yaxis": "y"
        },
        {
         "customdata": [
          [
           30
          ],
          [
           15823
          ],
          [
           30000
          ],
          [
           100
          ],
          [
           1952
          ],
          [
           10
          ]
         ],
         "hovertemplate": "Compound=TEBU<br>Viability=%{x}<br>Predicted Viability=%{y}<br>Concentration=%{customdata[0]}<extra></extra>",
         "legendgroup": "TEBU",
         "marker": {
          "color": "#B6E880",
          "size": 10,
          "symbol": "circle"
         },
         "mode": "markers",
         "name": "TEBU",
         "orientation": "v",
         "showlegend": true,
         "type": "scatter",
         "x": [
          99.33073304382779,
          62.54340327782453,
          55.150660609848934,
          100.23206189499956,
          59.52782238108452,
          100.60047797689737
         ],
         "xaxis": "x",
         "y": [
          98.66464409365939,
          65.34247854411552,
          70.42457101338576,
          99.08520592414386,
          60.80060730373986,
          99.68882203359288
         ],
         "yaxis": "y"
        },
        {
         "customdata": [
          [
           3000
          ],
          [
           100
          ],
          [
           10000
          ],
          [
           30000
          ]
         ],
         "hovertemplate": "Compound=SELU<br>Viability=%{x}<br>Predicted Viability=%{y}<br>Concentration=%{customdata[0]}<extra></extra>",
         "legendgroup": "SELU",
         "marker": {
          "color": "#FF97FF",
          "size": 10,
          "symbol": "circle"
         },
         "mode": "markers",
         "name": "SELU",
         "orientation": "v",
         "showlegend": true,
         "type": "scatter",
         "x": [
          109.3931057742589,
          105.29053848383161,
          109.28587528527541,
          95.50578852948269
         ],
         "xaxis": "x",
         "y": [
          105.57813777445536,
          102.74175146447442,
          102.62792058884004,
          89.61585808154555
         ],
         "yaxis": "y"
        },
        {
         "customdata": [
          [
           1000
          ],
          [
           10
          ],
          [
           100
          ]
         ],
         "hovertemplate": "Compound=FIAL<br>Viability=%{x}<br>Predicted Viability=%{y}<br>Concentration=%{customdata[0]}<extra></extra>",
         "legendgroup": "FIAL",
         "marker": {
          "color": "#FECB52",
          "size": 10,
          "symbol": "circle"
         },
         "mode": "markers",
         "name": "FIAL",
         "orientation": "v",
         "showlegend": true,
         "type": "scatter",
         "x": [
          96.41782374390507,
          97.53766966286985,
          97.81554267125719
         ],
         "xaxis": "x",
         "y": [
          93.31672762936105,
          98.04103607185185,
          98.13921022638961
         ],
         "yaxis": "y"
        },
        {
         "customdata": [
          [
           100
          ],
          [
           3000
          ],
          [
           1000
          ],
          [
           10
          ],
          [
           30
          ],
          [
           10000
          ]
         ],
         "hovertemplate": "Compound=EZET<br>Viability=%{x}<br>Predicted Viability=%{y}<br>Concentration=%{customdata[0]}<extra></extra>",
         "legendgroup": "EZET",
         "marker": {
          "color": "#636efa",
          "size": 10,
          "symbol": "circle"
         },
         "mode": "markers",
         "name": "EZET",
         "orientation": "v",
         "showlegend": true,
         "type": "scatter",
         "x": [
          96.28824172189154,
          90.71917922327638,
          91.89803872880609,
          99.5437686080814,
          97.4341736289625,
          91.28764388597313
         ],
         "xaxis": "x",
         "y": [
          97.00788342520421,
          92.8713202212535,
          93.63205871806446,
          98.7088231342934,
          96.7546604024388,
          89.70787570458052
         ],
         "yaxis": "y"
        },
        {
         "customdata": [
          [
           1000
          ],
          [
           30000
          ],
          [
           3000
          ],
          [
           300
          ]
         ],
         "hovertemplate": "Compound=WURS<br>Viability=%{x}<br>Predicted Viability=%{y}<br>Concentration=%{customdata[0]}<extra></extra>",
         "legendgroup": "WURS",
         "marker": {
          "color": "#EF553B",
          "size": 10,
          "symbol": "circle"
         },
         "mode": "markers",
         "name": "WURS",
         "orientation": "v",
         "showlegend": true,
         "type": "scatter",
         "x": [
          101.84938372777896,
          95.84054692905514,
          100.04108407994909,
          100.71400717438476
         ],
         "xaxis": "x",
         "y": [
          99.9657474420738,
          95.84485128807904,
          99.42324927954819,
          97.77585789184037
         ],
         "yaxis": "y"
        },
        {
         "customdata": [
          [
           30
          ],
          [
           10000
          ],
          [
           30000
          ],
          [
           3000
          ],
          [
           22049
          ],
          [
           30000
          ],
          [
           10
          ]
         ],
         "hovertemplate": "Compound=ATOR<br>Viability=%{x}<br>Predicted Viability=%{y}<br>Concentration=%{customdata[0]}<extra></extra>",
         "legendgroup": "ATOR",
         "marker": {
          "color": "#00cc96",
          "size": 10,
          "symbol": "circle"
         },
         "mode": "markers",
         "name": "ATOR",
         "orientation": "v",
         "showlegend": true,
         "type": "scatter",
         "x": [
          94.40649786334207,
          64.10201329015148,
          22.489916095587155,
          88.75954766556458,
          60.91151874816055,
          26.930855447497272,
          98.26209042354455
         ],
         "xaxis": "x",
         "y": [
          95.80234012097156,
          63.58137316787638,
          25.24118527177607,
          89.53756149591533,
          62.56370213679425,
          27.767681318337342,
          96.27907839714082
         ],
         "yaxis": "y"
        },
        {
         "customdata": [
          [
           30000
          ]
         ],
         "hovertemplate": "Compound=CLEV<br>Viability=%{x}<br>Predicted Viability=%{y}<br>Concentration=%{customdata[0]}<extra></extra>",
         "legendgroup": "CLEV",
         "marker": {
          "color": "#ab63fa",
          "size": 10,
          "symbol": "circle"
         },
         "mode": "markers",
         "name": "CLEV",
         "orientation": "v",
         "showlegend": true,
         "type": "scatter",
         "x": [
          98.63176183586498
         ],
         "xaxis": "x",
         "y": [
          97.02582183571835
         ],
         "yaxis": "y"
        },
        {
         "customdata": [
          [
           100
          ],
          [
           3000
          ],
          [
           10
          ],
          [
           10000
          ],
          [
           300
          ]
         ],
         "hovertemplate": "Compound=DAPT<br>Viability=%{x}<br>Predicted Viability=%{y}<br>Concentration=%{customdata[0]}<extra></extra>",
         "legendgroup": "DAPT",
         "marker": {
          "color": "#FFA15A",
          "size": 10,
          "symbol": "circle"
         },
         "mode": "markers",
         "name": "DAPT",
         "orientation": "v",
         "showlegend": true,
         "type": "scatter",
         "x": [
          100.22221792778328,
          99.35561540823893,
          100.42911409278557,
          100.24775297281462,
          99.20985756853646
         ],
         "xaxis": "x",
         "y": [
          99.28400136017713,
          98.22156562021648,
          92.64113806142255,
          95.64492122785914,
          98.77717705076289
         ],
         "yaxis": "y"
        },
        {
         "customdata": [
          [
           300
          ],
          [
           3000
          ]
         ],
         "hovertemplate": "Compound=NELA<br>Viability=%{x}<br>Predicted Viability=%{y}<br>Concentration=%{customdata[0]}<extra></extra>",
         "legendgroup": "NELA",
         "marker": {
          "color": "#19d3f3",
          "size": 10,
          "symbol": "circle"
         },
         "mode": "markers",
         "name": "NELA",
         "orientation": "v",
         "showlegend": true,
         "type": "scatter",
         "x": [
          99.41857548126819,
          97.64131405036298
         ],
         "xaxis": "x",
         "y": [
          98.76702371300983,
          96.64200762691857
         ],
         "yaxis": "y"
        },
        {
         "customdata": [
          [
           3000
          ],
          [
           30000
          ],
          [
           134
          ],
          [
           10000
          ],
          [
           1000
          ],
          [
           100
          ],
          [
           30
          ],
          [
           300
          ]
         ],
         "hovertemplate": "Compound=DOXO<br>Viability=%{x}<br>Predicted Viability=%{y}<br>Concentration=%{customdata[0]}<extra></extra>",
         "legendgroup": "DOXO",
         "marker": {
          "color": "#FF6692",
          "size": 10,
          "symbol": "circle"
         },
         "mode": "markers",
         "name": "DOXO",
         "orientation": "v",
         "showlegend": true,
         "type": "scatter",
         "x": [
          8.526268015230581,
          3.6130149352097414,
          73.57578023289129,
          3.6409130128184835,
          40.012919993995396,
          83.1608528002641,
          89.39324280814708,
          65.97189693626268
         ],
         "xaxis": "x",
         "y": [
          9.388458060729299,
          3.683956506393007,
          76.09950766618279,
          3.6000764791625177,
          40.61119495225923,
          81.18080867959884,
          88.98673872008447,
          68.46089804564149
         ],
         "yaxis": "y"
        },
        {
         "customdata": [
          [
           30000
          ],
          [
           300
          ],
          [
           10000
          ]
         ],
         "hovertemplate": "Compound=LEFL<br>Viability=%{x}<br>Predicted Viability=%{y}<br>Concentration=%{customdata[0]}<extra></extra>",
         "legendgroup": "LEFL",
         "marker": {
          "color": "#B6E880",
          "size": 10,
          "symbol": "circle"
         },
         "mode": "markers",
         "name": "LEFL",
         "orientation": "v",
         "showlegend": true,
         "type": "scatter",
         "x": [
          93.69206041489761,
          96.23172092846835,
          98.73308939224933
         ],
         "xaxis": "x",
         "y": [
          92.64307452721481,
          96.41154795688007,
          98.02843437022743
         ],
         "yaxis": "y"
        },
        {
         "customdata": [
          [
           100
          ],
          [
           30
          ]
         ],
         "hovertemplate": "Compound=VORI<br>Viability=%{x}<br>Predicted Viability=%{y}<br>Concentration=%{customdata[0]}<extra></extra>",
         "legendgroup": "VORI",
         "marker": {
          "color": "#FF97FF",
          "size": 10,
          "symbol": "circle"
         },
         "mode": "markers",
         "name": "VORI",
         "orientation": "v",
         "showlegend": true,
         "type": "scatter",
         "x": [
          97.84612793818138,
          99.9669926160356
         ],
         "xaxis": "x",
         "y": [
          98.28992012789358,
          98.9161283769019
         ],
         "yaxis": "y"
        },
        {
         "customdata": [
          [
           300
          ],
          [
           30000
          ]
         ],
         "hovertemplate": "Compound=ETRE<br>Viability=%{x}<br>Predicted Viability=%{y}<br>Concentration=%{customdata[0]}<extra></extra>",
         "legendgroup": "ETRE",
         "marker": {
          "color": "#FECB52",
          "size": 10,
          "symbol": "circle"
         },
         "mode": "markers",
         "name": "ETRE",
         "orientation": "v",
         "showlegend": true,
         "type": "scatter",
         "x": [
          95.81535060860921,
          92.54908734658349
         ],
         "xaxis": "x",
         "y": [
          96.12714622543717,
          88.63349974602325
         ],
         "yaxis": "y"
        },
        {
         "customdata": [
          [
           300
          ],
          [
           100
          ],
          [
           1000
          ],
          [
           30000
          ]
         ],
         "hovertemplate": "Compound=CLOF<br>Viability=%{x}<br>Predicted Viability=%{y}<br>Concentration=%{customdata[0]}<extra></extra>",
         "legendgroup": "CLOF",
         "marker": {
          "color": "#636efa",
          "size": 10,
          "symbol": "circle"
         },
         "mode": "markers",
         "name": "CLOF",
         "orientation": "v",
         "showlegend": true,
         "type": "scatter",
         "x": [
          98.0144935910869,
          96.27590369713752,
          95.3259073893461,
          95.83618235452012
         ],
         "xaxis": "x",
         "y": [
          97.89706027967551,
          97.03847615263021,
          94.38808458276175,
          93.60404502111474
         ],
         "yaxis": "y"
        },
        {
         "customdata": [
          [
           100
          ],
          [
           300
          ],
          [
           10000
          ]
         ],
         "hovertemplate": "Compound=GEMF<br>Viability=%{x}<br>Predicted Viability=%{y}<br>Concentration=%{customdata[0]}<extra></extra>",
         "legendgroup": "GEMF",
         "marker": {
          "color": "#EF553B",
          "size": 10,
          "symbol": "circle"
         },
         "mode": "markers",
         "name": "GEMF",
         "orientation": "v",
         "showlegend": true,
         "type": "scatter",
         "x": [
          98.14921233251198,
          96.90192196366374,
          98.55791324666868
         ],
         "xaxis": "x",
         "y": [
          98.33153060551592,
          96.34087557752193,
          97.098461644261
         ],
         "yaxis": "y"
        },
        {
         "customdata": [
          [
           10
          ],
          [
           3000
          ],
          [
           1000
          ]
         ],
         "hovertemplate": "Compound=MCPP<br>Viability=%{x}<br>Predicted Viability=%{y}<br>Concentration=%{customdata[0]}<extra></extra>",
         "legendgroup": "MCPP",
         "marker": {
          "color": "#00cc96",
          "size": 10,
          "symbol": "circle"
         },
         "mode": "markers",
         "name": "MCPP",
         "orientation": "v",
         "showlegend": true,
         "type": "scatter",
         "x": [
          99.9625861613402,
          100.66811350188271,
          100.80927867151081
         ],
         "xaxis": "x",
         "y": [
          99.4970827809256,
          99.78195284769512,
          100.11086054122505
         ],
         "yaxis": "y"
        },
        {
         "customdata": [
          [
           100
          ],
          [
           10000
          ]
         ],
         "hovertemplate": "Compound=NCAP<br>Viability=%{x}<br>Predicted Viability=%{y}<br>Concentration=%{customdata[0]}<extra></extra>",
         "legendgroup": "NCAP",
         "marker": {
          "color": "#ab63fa",
          "size": 10,
          "symbol": "circle"
         },
         "mode": "markers",
         "name": "NCAP",
         "orientation": "v",
         "showlegend": true,
         "type": "scatter",
         "x": [
          97.80827085505717,
          95.21623615667666
         ],
         "xaxis": "x",
         "y": [
          97.86461146448346,
          95.2021545058098
         ],
         "yaxis": "y"
        },
        {
         "customdata": [
          [
           10000
          ],
          [
           10
          ],
          [
           300
          ]
         ],
         "hovertemplate": "Compound=DEXA<br>Viability=%{x}<br>Predicted Viability=%{y}<br>Concentration=%{customdata[0]}<extra></extra>",
         "legendgroup": "DEXA",
         "marker": {
          "color": "#FFA15A",
          "size": 10,
          "symbol": "circle"
         },
         "mode": "markers",
         "name": "DEXA",
         "orientation": "v",
         "showlegend": true,
         "type": "scatter",
         "x": [
          95.19853271239649,
          97.47911757429152,
          97.61294123295185
         ],
         "xaxis": "x",
         "y": [
          95.6342772171226,
          97.70742327165733,
          97.13280561801241
         ],
         "yaxis": "y"
        },
        {
         "customdata": [
          [
           30000
          ],
          [
           100
          ]
         ],
         "hovertemplate": "Compound=ETHF<br>Viability=%{x}<br>Predicted Viability=%{y}<br>Concentration=%{customdata[0]}<extra></extra>",
         "legendgroup": "ETHF",
         "marker": {
          "color": "#19d3f3",
          "size": 10,
          "symbol": "circle"
         },
         "mode": "markers",
         "name": "ETHF",
         "orientation": "v",
         "showlegend": true,
         "type": "scatter",
         "x": [
          100.0505128950567,
          98.68469918097529
         ],
         "xaxis": "x",
         "y": [
          98.22144470522606,
          97.61529137086565
         ],
         "yaxis": "y"
        },
        {
         "customdata": [
          [
           12098
          ],
          [
           10000
          ],
          [
           6491
          ],
          [
           30000
          ],
          [
           1000
          ]
         ],
         "hovertemplate": "Compound=OLAN<br>Viability=%{x}<br>Predicted Viability=%{y}<br>Concentration=%{customdata[0]}<extra></extra>",
         "legendgroup": "OLAN",
         "marker": {
          "color": "#FF6692",
          "size": 10,
          "symbol": "circle"
         },
         "mode": "markers",
         "name": "OLAN",
         "orientation": "v",
         "showlegend": true,
         "type": "scatter",
         "x": [
          59.435205134136105,
          88.45742492007213,
          65.30627127365922,
          57.45985830848086,
          97.27287620823932
         ],
         "xaxis": "x",
         "y": [
          59.28534720000379,
          91.1295796521464,
          65.55672181132739,
          57.71493074240826,
          96.98693070422055
         ],
         "yaxis": "y"
        },
        {
         "customdata": [
          [
           10000
          ],
          [
           300
          ]
         ],
         "hovertemplate": "Compound=CISP<br>Viability=%{x}<br>Predicted Viability=%{y}<br>Concentration=%{customdata[0]}<extra></extra>",
         "legendgroup": "CISP",
         "marker": {
          "color": "#B6E880",
          "size": 10,
          "symbol": "circle"
         },
         "mode": "markers",
         "name": "CISP",
         "orientation": "v",
         "showlegend": true,
         "type": "scatter",
         "x": [
          95.72287110682873,
          98.41360389875446
         ],
         "xaxis": "x",
         "y": [
          93.58593136954487,
          97.63592611861829
         ],
         "yaxis": "y"
        },
        {
         "customdata": [
          [
           300
          ]
         ],
         "hovertemplate": "Compound=ZIDO<br>Viability=%{x}<br>Predicted Viability=%{y}<br>Concentration=%{customdata[0]}<extra></extra>",
         "legendgroup": "ZIDO",
         "marker": {
          "color": "#FF97FF",
          "size": 10,
          "symbol": "circle"
         },
         "mode": "markers",
         "name": "ZIDO",
         "orientation": "v",
         "showlegend": true,
         "type": "scatter",
         "x": [
          103.72640842926717
         ],
         "xaxis": "x",
         "y": [
          100.37175619525682
         ],
         "yaxis": "y"
        },
        {
         "hovertemplate": "<b>OLS trendline</b><br>Predicted Viability = 0.96144 * Viability + 2.35091<br>R<sup>2</sup>=0.991049<br><br>Viability=%{x}<br>Predicted Viability=%{y} <b>(trend)</b><extra></extra>",
         "legendgroup": "Overall Trendline",
         "line": {
          "color": "#FECB52"
         },
         "marker": {
          "size": 10
         },
         "mode": "lines",
         "name": "Overall Trendline",
         "showlegend": true,
         "type": "scatter",
         "x": [
          0,
          0.1944174629751232,
          0.4602122851996447,
          0.8494588292499397,
          1.018974617560717,
          2.9480416934958225,
          3.2218833484451936,
          3.6130149352097414,
          3.636463213756877,
          3.6409130128184835,
          3.8484513891859806,
          4.950714816820131,
          6.541092551156673,
          7.450678592912301,
          8.128943858506911,
          8.153267038828723,
          8.526268015230581,
          8.638624092071996,
          8.845616883790653,
          9.099061532359809,
          9.101586712430587,
          10.961015550648964,
          11.580961804988583,
          12.404385251612817,
          12.821151969414958,
          21.9238846083636,
          22.489916095587155,
          26.30595524249674,
          26.30595524249674,
          26.930855447497272,
          28.32614897259682,
          33.4295789998608,
          34.17714369251915,
          34.559677331198294,
          38.80810822692382,
          39.271256991260515,
          39.42226237154856,
          39.64469289709659,
          39.99309871760222,
          40.012919993995396,
          44.68620914905763,
          50.939513869787085,
          52.092996154793404,
          52.092996154793404,
          53.05008419711435,
          53.05008419711435,
          53.84533901242469,
          54.49669003462304,
          54.62290584808787,
          55.150660609848934,
          57.45985830848086,
          59.435205134136105,
          59.52782238108452,
          60.08418787253077,
          60.91151874816055,
          61.577772579079465,
          62.54340327782453,
          64.10201329015148,
          65.30627127365922,
          65.63279857562297,
          65.97189693626268,
          67.00599044305939,
          69.37322181025635,
          70.39402583170452,
          71.99637541746381,
          73.57578023289129,
          74.42962781569112,
          74.9351608491217,
          81.12522768486116,
          81.8375886387641,
          82.6566931429205,
          82.86867858411482,
          82.86867858411482,
          83.1608528002641,
          83.2850925760406,
          83.2850925760406,
          83.39691384573487,
          83.61212734301377,
          83.70552938350211,
          83.78112418604813,
          84.32626422309332,
          84.52082579612991,
          84.68871182156224,
          84.77496151533113,
          84.82054351341024,
          84.83806758848124,
          84.88057727773585,
          85.12366596576622,
          85.22047752739236,
          85.29324952613815,
          85.3984849728528,
          85.56311095080092,
          86.41882241098581,
          86.69657419900828,
          88.45742492007213,
          88.75954766556458,
          89.39324280814708,
          90.16040769603498,
          90.71917922327638,
          90.85858301282637,
          91.26484473782571,
          91.28764388597313,
          91.89803872880609,
          92.54908734658349,
          93.69206041489761,
          94.40649786334207,
          94.61580757656175,
          95.19853271239649,
          95.21623615667666,
          95.28931126880491,
          95.3259073893461,
          95.50578852948269,
          95.72287110682873,
          95.81535060860921,
          95.83618235452012,
          95.84054692905514,
          96.23172092846835,
          96.27590369713752,
          96.28824172189154,
          96.41782374390507,
          96.45305966749078,
          96.76009837439821,
          96.85682654581913,
          96.90192196366374,
          96.96359784035542,
          97.27287620823932,
          97.4341736289625,
          97.47911757429152,
          97.53766966286985,
          97.61294123295185,
          97.64131405036298,
          97.80827085505717,
          97.81554267125719,
          97.84612793818138,
          98.0144935910869,
          98.14921233251198,
          98.16340344199628,
          98.26209042354455,
          98.41360389875446,
          98.55791324666868,
          98.56067012552757,
          98.63176183586498,
          98.68469918097529,
          98.73308939224933,
          99.20985756853646,
          99.33073304382779,
          99.35561540823893,
          99.41857548126819,
          99.5437686080814,
          99.9625861613402,
          99.9669926160356,
          100.04108407994909,
          100.0505128950567,
          100.22221792778328,
          100.23206189499956,
          100.24775297281462,
          100.42911409278557,
          100.60047797689737,
          100.66811350188271,
          100.71400717438476,
          100.80927867151081,
          101.84938372777896,
          103.72640842926717,
          105.29053848383161,
          109.28587528527541,
          109.3931057742589
         ],
         "xaxis": "x",
         "y": [
          2.3509090309080687,
          2.537829784117641,
          2.7933755957393527,
          3.1676128483230563,
          3.330592131907368,
          5.185274655316881,
          5.448557014936201,
          5.824606623254767,
          5.847150739510719,
          5.85142895495237,
          6.050964680997042,
          7.110724987380135,
          8.639777982110127,
          9.51429051525449,
          10.166401968519661,
          10.189787250462093,
          10.548405362179055,
          10.656429004651732,
          10.855440183714151,
          11.099112042622956,
          11.101539852108774,
          12.889269378359469,
          13.485310593162493,
          14.276982948608868,
          14.677679200952339,
          23.429411761907282,
          23.973617155358482,
          27.64251037463079,
          27.64251037463079,
          28.243314516460686,
          29.584805721360418,
          34.49144821144678,
          35.21018691570845,
          35.5779701115989,
          39.6625821152513,
          40.10787192900107,
          40.25305456326758,
          40.46690819933503,
          40.80187954087468,
          40.8209365116647,
          45.31402430050254,
          51.32620247915354,
          52.43520665104147,
          52.43520665104147,
          53.35538951435451,
          53.35538951435451,
          54.11997941691058,
          54.7462144361831,
          54.86756338580304,
          55.37496799889039,
          57.595123362163086,
          59.494301094715134,
          59.583347033772625,
          60.11825915087115,
          60.91368826541546,
          61.55425144322044,
          62.482647559338915,
          63.98115779090907,
          65.13897975757423,
          65.45291621314027,
          65.77893898914479,
          66.773157997158,
          69.04910925897649,
          70.03055122230911,
          71.57111443557096,
          73.0896176255869,
          73.91054096683808,
          74.39658071828394,
          80.34795945581054,
          81.03285187248437,
          81.8203718232712,
          82.02418313595443,
          82.02418313595443,
          82.30509115581697,
          82.42454026348125,
          82.42454026348125,
          82.53204972089445,
          82.73896461627801,
          82.82876508734797,
          82.90144496504209,
          83.42556447966726,
          83.6126237860748,
          83.77403615020583,
          83.85696006803022,
          83.90078443073592,
          83.91763277996056,
          83.95850330163378,
          84.19221852437165,
          84.28529704592849,
          84.35526296673606,
          84.45644054956855,
          84.61471857318345,
          85.4374339209724,
          85.70447563948875,
          87.39742820678455,
          87.68790114211146,
          88.29716108997903,
          89.03474420872537,
          89.57196958522043,
          89.70599798444034,
          90.09659431501181,
          90.11851433124409,
          90.70537243561186,
          91.33131671113497,
          92.43021690023407,
          93.11710574211476,
          93.31834450251412,
          93.8785998398565,
          93.89562064183909,
          93.96587798802014,
          94.00106296734982,
          94.1740079162654,
          94.38271982025412,
          94.4716333255778,
          94.49166180232443,
          94.49585807948515,
          94.87194846502666,
          94.91442755240979,
          94.92628982468126,
          95.05087518232625,
          95.0847524137019,
          95.37995175166968,
          95.47295009853576,
          95.51630664347171,
          95.57560430711597,
          95.87295694505099,
          96.02803476013489,
          96.07124567331394,
          96.12754000167094,
          96.19990911069894,
          96.22718787629957,
          96.38770685031217,
          96.3946982663121,
          96.42410416968671,
          96.58597766692368,
          96.71550167280913,
          96.72914557512681,
          96.82402720067986,
          96.9696983378002,
          97.10844313775038,
          97.11109371175195,
          97.17944413583359,
          97.2303402244334,
          97.276864516032,
          97.73524857914134,
          97.85146311326943,
          97.8753860172421,
          97.93591835879553,
          98.0562840564159,
          98.45895206429205,
          98.4631886067201,
          98.53442311430588,
          98.54348835564181,
          98.70857246668811,
          98.71803685192636,
          98.73312288400896,
          98.90749074494663,
          99.0722468620203,
          99.13727437076628,
          99.18139838977343,
          99.2729962314986,
          100.27299498448923,
          102.07764188002065,
          103.58145930178345,
          107.42273648349092,
          107.52583218004565
         ],
         "yaxis": "y"
        }
       ],
       "layout": {
        "font": {
         "color": "black",
         "size": 18
        },
        "height": 1000,
        "legend": {
         "title": {
          "text": "Compound"
         },
         "tracegroupgap": 0
        },
        "margin": {
         "t": 60
        },
        "template": {
         "data": {
          "bar": [
           {
            "error_x": {
             "color": "#2a3f5f"
            },
            "error_y": {
             "color": "#2a3f5f"
            },
            "marker": {
             "line": {
              "color": "#E5ECF6",
              "width": 0.5
             },
             "pattern": {
              "fillmode": "overlay",
              "size": 10,
              "solidity": 0.2
             }
            },
            "type": "bar"
           }
          ],
          "barpolar": [
           {
            "marker": {
             "line": {
              "color": "#E5ECF6",
              "width": 0.5
             },
             "pattern": {
              "fillmode": "overlay",
              "size": 10,
              "solidity": 0.2
             }
            },
            "type": "barpolar"
           }
          ],
          "carpet": [
           {
            "aaxis": {
             "endlinecolor": "#2a3f5f",
             "gridcolor": "white",
             "linecolor": "white",
             "minorgridcolor": "white",
             "startlinecolor": "#2a3f5f"
            },
            "baxis": {
             "endlinecolor": "#2a3f5f",
             "gridcolor": "white",
             "linecolor": "white",
             "minorgridcolor": "white",
             "startlinecolor": "#2a3f5f"
            },
            "type": "carpet"
           }
          ],
          "choropleth": [
           {
            "colorbar": {
             "outlinewidth": 0,
             "ticks": ""
            },
            "type": "choropleth"
           }
          ],
          "contour": [
           {
            "colorbar": {
             "outlinewidth": 0,
             "ticks": ""
            },
            "colorscale": [
             [
              0,
              "#0d0887"
             ],
             [
              0.1111111111111111,
              "#46039f"
             ],
             [
              0.2222222222222222,
              "#7201a8"
             ],
             [
              0.3333333333333333,
              "#9c179e"
             ],
             [
              0.4444444444444444,
              "#bd3786"
             ],
             [
              0.5555555555555556,
              "#d8576b"
             ],
             [
              0.6666666666666666,
              "#ed7953"
             ],
             [
              0.7777777777777778,
              "#fb9f3a"
             ],
             [
              0.8888888888888888,
              "#fdca26"
             ],
             [
              1,
              "#f0f921"
             ]
            ],
            "type": "contour"
           }
          ],
          "contourcarpet": [
           {
            "colorbar": {
             "outlinewidth": 0,
             "ticks": ""
            },
            "type": "contourcarpet"
           }
          ],
          "heatmap": [
           {
            "colorbar": {
             "outlinewidth": 0,
             "ticks": ""
            },
            "colorscale": [
             [
              0,
              "#0d0887"
             ],
             [
              0.1111111111111111,
              "#46039f"
             ],
             [
              0.2222222222222222,
              "#7201a8"
             ],
             [
              0.3333333333333333,
              "#9c179e"
             ],
             [
              0.4444444444444444,
              "#bd3786"
             ],
             [
              0.5555555555555556,
              "#d8576b"
             ],
             [
              0.6666666666666666,
              "#ed7953"
             ],
             [
              0.7777777777777778,
              "#fb9f3a"
             ],
             [
              0.8888888888888888,
              "#fdca26"
             ],
             [
              1,
              "#f0f921"
             ]
            ],
            "type": "heatmap"
           }
          ],
          "heatmapgl": [
           {
            "colorbar": {
             "outlinewidth": 0,
             "ticks": ""
            },
            "colorscale": [
             [
              0,
              "#0d0887"
             ],
             [
              0.1111111111111111,
              "#46039f"
             ],
             [
              0.2222222222222222,
              "#7201a8"
             ],
             [
              0.3333333333333333,
              "#9c179e"
             ],
             [
              0.4444444444444444,
              "#bd3786"
             ],
             [
              0.5555555555555556,
              "#d8576b"
             ],
             [
              0.6666666666666666,
              "#ed7953"
             ],
             [
              0.7777777777777778,
              "#fb9f3a"
             ],
             [
              0.8888888888888888,
              "#fdca26"
             ],
             [
              1,
              "#f0f921"
             ]
            ],
            "type": "heatmapgl"
           }
          ],
          "histogram": [
           {
            "marker": {
             "pattern": {
              "fillmode": "overlay",
              "size": 10,
              "solidity": 0.2
             }
            },
            "type": "histogram"
           }
          ],
          "histogram2d": [
           {
            "colorbar": {
             "outlinewidth": 0,
             "ticks": ""
            },
            "colorscale": [
             [
              0,
              "#0d0887"
             ],
             [
              0.1111111111111111,
              "#46039f"
             ],
             [
              0.2222222222222222,
              "#7201a8"
             ],
             [
              0.3333333333333333,
              "#9c179e"
             ],
             [
              0.4444444444444444,
              "#bd3786"
             ],
             [
              0.5555555555555556,
              "#d8576b"
             ],
             [
              0.6666666666666666,
              "#ed7953"
             ],
             [
              0.7777777777777778,
              "#fb9f3a"
             ],
             [
              0.8888888888888888,
              "#fdca26"
             ],
             [
              1,
              "#f0f921"
             ]
            ],
            "type": "histogram2d"
           }
          ],
          "histogram2dcontour": [
           {
            "colorbar": {
             "outlinewidth": 0,
             "ticks": ""
            },
            "colorscale": [
             [
              0,
              "#0d0887"
             ],
             [
              0.1111111111111111,
              "#46039f"
             ],
             [
              0.2222222222222222,
              "#7201a8"
             ],
             [
              0.3333333333333333,
              "#9c179e"
             ],
             [
              0.4444444444444444,
              "#bd3786"
             ],
             [
              0.5555555555555556,
              "#d8576b"
             ],
             [
              0.6666666666666666,
              "#ed7953"
             ],
             [
              0.7777777777777778,
              "#fb9f3a"
             ],
             [
              0.8888888888888888,
              "#fdca26"
             ],
             [
              1,
              "#f0f921"
             ]
            ],
            "type": "histogram2dcontour"
           }
          ],
          "mesh3d": [
           {
            "colorbar": {
             "outlinewidth": 0,
             "ticks": ""
            },
            "type": "mesh3d"
           }
          ],
          "parcoords": [
           {
            "line": {
             "colorbar": {
              "outlinewidth": 0,
              "ticks": ""
             }
            },
            "type": "parcoords"
           }
          ],
          "pie": [
           {
            "automargin": true,
            "type": "pie"
           }
          ],
          "scatter": [
           {
            "fillpattern": {
             "fillmode": "overlay",
             "size": 10,
             "solidity": 0.2
            },
            "type": "scatter"
           }
          ],
          "scatter3d": [
           {
            "line": {
             "colorbar": {
              "outlinewidth": 0,
              "ticks": ""
             }
            },
            "marker": {
             "colorbar": {
              "outlinewidth": 0,
              "ticks": ""
             }
            },
            "type": "scatter3d"
           }
          ],
          "scattercarpet": [
           {
            "marker": {
             "colorbar": {
              "outlinewidth": 0,
              "ticks": ""
             }
            },
            "type": "scattercarpet"
           }
          ],
          "scattergeo": [
           {
            "marker": {
             "colorbar": {
              "outlinewidth": 0,
              "ticks": ""
             }
            },
            "type": "scattergeo"
           }
          ],
          "scattergl": [
           {
            "marker": {
             "colorbar": {
              "outlinewidth": 0,
              "ticks": ""
             }
            },
            "type": "scattergl"
           }
          ],
          "scattermapbox": [
           {
            "marker": {
             "colorbar": {
              "outlinewidth": 0,
              "ticks": ""
             }
            },
            "type": "scattermapbox"
           }
          ],
          "scatterpolar": [
           {
            "marker": {
             "colorbar": {
              "outlinewidth": 0,
              "ticks": ""
             }
            },
            "type": "scatterpolar"
           }
          ],
          "scatterpolargl": [
           {
            "marker": {
             "colorbar": {
              "outlinewidth": 0,
              "ticks": ""
             }
            },
            "type": "scatterpolargl"
           }
          ],
          "scatterternary": [
           {
            "marker": {
             "colorbar": {
              "outlinewidth": 0,
              "ticks": ""
             }
            },
            "type": "scatterternary"
           }
          ],
          "surface": [
           {
            "colorbar": {
             "outlinewidth": 0,
             "ticks": ""
            },
            "colorscale": [
             [
              0,
              "#0d0887"
             ],
             [
              0.1111111111111111,
              "#46039f"
             ],
             [
              0.2222222222222222,
              "#7201a8"
             ],
             [
              0.3333333333333333,
              "#9c179e"
             ],
             [
              0.4444444444444444,
              "#bd3786"
             ],
             [
              0.5555555555555556,
              "#d8576b"
             ],
             [
              0.6666666666666666,
              "#ed7953"
             ],
             [
              0.7777777777777778,
              "#fb9f3a"
             ],
             [
              0.8888888888888888,
              "#fdca26"
             ],
             [
              1,
              "#f0f921"
             ]
            ],
            "type": "surface"
           }
          ],
          "table": [
           {
            "cells": {
             "fill": {
              "color": "#EBF0F8"
             },
             "line": {
              "color": "white"
             }
            },
            "header": {
             "fill": {
              "color": "#C8D4E3"
             },
             "line": {
              "color": "white"
             }
            },
            "type": "table"
           }
          ]
         },
         "layout": {
          "annotationdefaults": {
           "arrowcolor": "#2a3f5f",
           "arrowhead": 0,
           "arrowwidth": 1
          },
          "autotypenumbers": "strict",
          "coloraxis": {
           "colorbar": {
            "outlinewidth": 0,
            "ticks": ""
           }
          },
          "colorscale": {
           "diverging": [
            [
             0,
             "#8e0152"
            ],
            [
             0.1,
             "#c51b7d"
            ],
            [
             0.2,
             "#de77ae"
            ],
            [
             0.3,
             "#f1b6da"
            ],
            [
             0.4,
             "#fde0ef"
            ],
            [
             0.5,
             "#f7f7f7"
            ],
            [
             0.6,
             "#e6f5d0"
            ],
            [
             0.7,
             "#b8e186"
            ],
            [
             0.8,
             "#7fbc41"
            ],
            [
             0.9,
             "#4d9221"
            ],
            [
             1,
             "#276419"
            ]
           ],
           "sequential": [
            [
             0,
             "#0d0887"
            ],
            [
             0.1111111111111111,
             "#46039f"
            ],
            [
             0.2222222222222222,
             "#7201a8"
            ],
            [
             0.3333333333333333,
             "#9c179e"
            ],
            [
             0.4444444444444444,
             "#bd3786"
            ],
            [
             0.5555555555555556,
             "#d8576b"
            ],
            [
             0.6666666666666666,
             "#ed7953"
            ],
            [
             0.7777777777777778,
             "#fb9f3a"
            ],
            [
             0.8888888888888888,
             "#fdca26"
            ],
            [
             1,
             "#f0f921"
            ]
           ],
           "sequentialminus": [
            [
             0,
             "#0d0887"
            ],
            [
             0.1111111111111111,
             "#46039f"
            ],
            [
             0.2222222222222222,
             "#7201a8"
            ],
            [
             0.3333333333333333,
             "#9c179e"
            ],
            [
             0.4444444444444444,
             "#bd3786"
            ],
            [
             0.5555555555555556,
             "#d8576b"
            ],
            [
             0.6666666666666666,
             "#ed7953"
            ],
            [
             0.7777777777777778,
             "#fb9f3a"
            ],
            [
             0.8888888888888888,
             "#fdca26"
            ],
            [
             1,
             "#f0f921"
            ]
           ]
          },
          "colorway": [
           "#636efa",
           "#EF553B",
           "#00cc96",
           "#ab63fa",
           "#FFA15A",
           "#19d3f3",
           "#FF6692",
           "#B6E880",
           "#FF97FF",
           "#FECB52"
          ],
          "font": {
           "color": "#2a3f5f"
          },
          "geo": {
           "bgcolor": "white",
           "lakecolor": "white",
           "landcolor": "#E5ECF6",
           "showlakes": true,
           "showland": true,
           "subunitcolor": "white"
          },
          "hoverlabel": {
           "align": "left"
          },
          "hovermode": "closest",
          "mapbox": {
           "style": "light"
          },
          "paper_bgcolor": "white",
          "plot_bgcolor": "#E5ECF6",
          "polar": {
           "angularaxis": {
            "gridcolor": "white",
            "linecolor": "white",
            "ticks": ""
           },
           "bgcolor": "#E5ECF6",
           "radialaxis": {
            "gridcolor": "white",
            "linecolor": "white",
            "ticks": ""
           }
          },
          "scene": {
           "xaxis": {
            "backgroundcolor": "#E5ECF6",
            "gridcolor": "white",
            "gridwidth": 2,
            "linecolor": "white",
            "showbackground": true,
            "ticks": "",
            "zerolinecolor": "white"
           },
           "yaxis": {
            "backgroundcolor": "#E5ECF6",
            "gridcolor": "white",
            "gridwidth": 2,
            "linecolor": "white",
            "showbackground": true,
            "ticks": "",
            "zerolinecolor": "white"
           },
           "zaxis": {
            "backgroundcolor": "#E5ECF6",
            "gridcolor": "white",
            "gridwidth": 2,
            "linecolor": "white",
            "showbackground": true,
            "ticks": "",
            "zerolinecolor": "white"
           }
          },
          "shapedefaults": {
           "line": {
            "color": "#2a3f5f"
           }
          },
          "ternary": {
           "aaxis": {
            "gridcolor": "white",
            "linecolor": "white",
            "ticks": ""
           },
           "baxis": {
            "gridcolor": "white",
            "linecolor": "white",
            "ticks": ""
           },
           "bgcolor": "#E5ECF6",
           "caxis": {
            "gridcolor": "white",
            "linecolor": "white",
            "ticks": ""
           }
          },
          "title": {
           "x": 0.05
          },
          "xaxis": {
           "automargin": true,
           "gridcolor": "white",
           "linecolor": "white",
           "ticks": "",
           "title": {
            "standoff": 15
           },
           "zerolinecolor": "white",
           "zerolinewidth": 2
          },
          "yaxis": {
           "automargin": true,
           "gridcolor": "white",
           "linecolor": "white",
           "ticks": "",
           "title": {
            "standoff": 15
           },
           "zerolinecolor": "white",
           "zerolinewidth": 2
          }
         }
        },
        "width": 1200,
        "xaxis": {
         "anchor": "y",
         "domain": [
          0,
          1
         ],
         "title": {
          "text": "Viability"
         }
        },
        "yaxis": {
         "anchor": "x",
         "domain": [
          0,
          1
         ],
         "title": {
          "text": "Predicted Viability"
         }
        }
       }
      }
     },
     "metadata": {},
     "output_type": "display_data"
    },
    {
     "data": {
      "text/plain": [
       "0.990067566064187"
      ]
     },
     "execution_count": 96,
     "metadata": {},
     "output_type": "execute_result"
    }
   ],
   "source": [
    "\n",
    "fig2 = px.scatter(y_train, x=\"Viability\", y=\"Predicted Viability\", color=\"Compound\", hover_data=['Concentration'], trendline=\"ols\", trendline_scope='overall',height=1000, width=1200)\n",
    "fig2.update_traces(marker={'size': 8})\n",
    "\n",
    "fig2.update_traces(marker={'size': 10})\n",
    "fig2.update_layout(\n",
    "    font=dict(\n",
    "        size=18,\n",
    "        color=\"black\"\n",
    "    )\n",
    ")\n",
    "fig2.show()\n",
    "r2_score(y_train['Viability'], y_train['Predicted Viability'])"
   ]
  },
  {
   "cell_type": "code",
   "execution_count": 81,
   "metadata": {},
   "outputs": [
    {
     "data": {
      "text/html": [
       "<div>\n",
       "<style scoped>\n",
       "    .dataframe tbody tr th:only-of-type {\n",
       "        vertical-align: middle;\n",
       "    }\n",
       "\n",
       "    .dataframe tbody tr th {\n",
       "        vertical-align: top;\n",
       "    }\n",
       "\n",
       "    .dataframe thead th {\n",
       "        text-align: right;\n",
       "    }\n",
       "</style>\n",
       "<table border=\"1\" class=\"dataframe\">\n",
       "  <thead>\n",
       "    <tr style=\"text-align: right;\">\n",
       "      <th></th>\n",
       "      <th>importance</th>\n",
       "    </tr>\n",
       "  </thead>\n",
       "  <tbody>\n",
       "    <tr>\n",
       "      <th>Granularity_2_ER (FilteredNuclei)</th>\n",
       "      <td>0.358767</td>\n",
       "    </tr>\n",
       "    <tr>\n",
       "      <th>Granularity_4_ER (Cytoplasm)</th>\n",
       "      <td>0.125132</td>\n",
       "    </tr>\n",
       "    <tr>\n",
       "      <th>Granularity_2_RNA (FilteredNuclei)</th>\n",
       "      <td>0.096380</td>\n",
       "    </tr>\n",
       "    <tr>\n",
       "      <th>Texture_InverseDifferenceMoment_DNA_3_00_256 (Cytoplasm)</th>\n",
       "      <td>0.057619</td>\n",
       "    </tr>\n",
       "    <tr>\n",
       "      <th>Granularity_3_RNA (Cells)</th>\n",
       "      <td>0.044074</td>\n",
       "    </tr>\n",
       "    <tr>\n",
       "      <th>Granularity_3_ER (Cells)</th>\n",
       "      <td>0.029807</td>\n",
       "    </tr>\n",
       "    <tr>\n",
       "      <th>RadialDistribution_FracAtD_DNA_2of4 (FilteredNuclei)</th>\n",
       "      <td>0.024309</td>\n",
       "    </tr>\n",
       "    <tr>\n",
       "      <th>AreaShape_Eccentricity (Cytoplasm)</th>\n",
       "      <td>0.018494</td>\n",
       "    </tr>\n",
       "    <tr>\n",
       "      <th>RadialDistribution_MeanFrac_DNA_1of4 (Cells)</th>\n",
       "      <td>0.015521</td>\n",
       "    </tr>\n",
       "    <tr>\n",
       "      <th>Granularity_4_RNA (Cytoplasm)</th>\n",
       "      <td>0.014902</td>\n",
       "    </tr>\n",
       "    <tr>\n",
       "      <th>RadialDistribution_MeanFrac_DNA_3of4 (FilteredNuclei)</th>\n",
       "      <td>0.013432</td>\n",
       "    </tr>\n",
       "    <tr>\n",
       "      <th>Intensity_IntegratedIntensity_DNA (Cells)</th>\n",
       "      <td>0.012178</td>\n",
       "    </tr>\n",
       "    <tr>\n",
       "      <th>Intensity_IntegratedIntensity_DNA (FilteredNuclei)</th>\n",
       "      <td>0.011693</td>\n",
       "    </tr>\n",
       "    <tr>\n",
       "      <th>Texture_DifferenceEntropy_MITO_3_01_256 (Cytoplasm)</th>\n",
       "      <td>0.007668</td>\n",
       "    </tr>\n",
       "    <tr>\n",
       "      <th>Granularity_3_ER (FilteredNuclei)</th>\n",
       "      <td>0.007197</td>\n",
       "    </tr>\n",
       "  </tbody>\n",
       "</table>\n",
       "</div>"
      ],
      "text/plain": [
       "                                                    importance\n",
       "Granularity_2_ER (FilteredNuclei)                     0.358767\n",
       "Granularity_4_ER (Cytoplasm)                          0.125132\n",
       "Granularity_2_RNA (FilteredNuclei)                    0.096380\n",
       "Texture_InverseDifferenceMoment_DNA_3_00_256 (C...    0.057619\n",
       "Granularity_3_RNA (Cells)                             0.044074\n",
       "Granularity_3_ER (Cells)                              0.029807\n",
       "RadialDistribution_FracAtD_DNA_2of4 (FilteredNu...    0.024309\n",
       "AreaShape_Eccentricity (Cytoplasm)                    0.018494\n",
       "RadialDistribution_MeanFrac_DNA_1of4 (Cells)          0.015521\n",
       "Granularity_4_RNA (Cytoplasm)                         0.014902\n",
       "RadialDistribution_MeanFrac_DNA_3of4 (FilteredN...    0.013432\n",
       "Intensity_IntegratedIntensity_DNA (Cells)             0.012178\n",
       "Intensity_IntegratedIntensity_DNA (FilteredNuclei)    0.011693\n",
       "Texture_DifferenceEntropy_MITO_3_01_256 (Cytopl...    0.007668\n",
       "Granularity_3_ER (FilteredNuclei)                     0.007197"
      ]
     },
     "execution_count": 81,
     "metadata": {},
     "output_type": "execute_result"
    }
   ],
   "source": [
    "#calculate the feature importance\n",
    "feature_importances = pd.DataFrame(rf.feature_importances_, index = X_train.columns, columns=['importance']).sort_values('importance', ascending=False)\n",
    "feature_importances.head(15)"
   ]
  },
  {
   "cell_type": "code",
   "execution_count": 62,
   "metadata": {},
   "outputs": [
    {
     "name": "stdout",
     "output_type": "stream",
     "text": [
      "R2 scores:  [0.87188091 0.91649292 0.89186148 0.91639581 0.90902414]\n",
      "Mean R2 score:  0.9011310506106159\n"
     ]
    }
   ],
   "source": [
    "#now perform cross-validation to get a better estimate of the model performance, and plot the predicted vs actual values\n",
    "from sklearn.model_selection import cross_val_score\n",
    "scores = cross_val_score(rf, X, y, cv=5, scoring='r2')\n",
    "print('R2 scores: ', scores)\n",
    "print('Mean R2 score: ', scores.mean())"
   ]
  },
  {
   "cell_type": "code",
   "execution_count": 63,
   "metadata": {},
   "outputs": [
    {
     "data": {
      "application/vnd.plotly.v1+json": {
       "config": {
        "plotlyServerURL": "https://plot.ly"
       },
       "data": [
        {
         "customdata": [
          [
           "SUNI",
           9894
          ],
          [
           "SUNI",
           30488
          ],
          [
           "SUNI",
           30206
          ],
          [
           "SUNI",
           9834
          ],
          [
           "SUNI",
           929
          ],
          [
           "SUNI",
           29884
          ],
          [
           "SUNI",
           2924
          ],
          [
           "SUNI",
           10363
          ],
          [
           "SUNI",
           30127
          ],
          [
           "SUNI",
           9422
          ],
          [
           "SUNI",
           29890
          ],
          [
           "SUNI",
           10148
          ],
          [
           "SUNI",
           9445
          ],
          [
           "SUNI",
           30019
          ],
          [
           "SUNI",
           29938
          ],
          [
           "SUNI",
           29728
          ],
          [
           "SUNI",
           2774
          ],
          [
           "SUNI",
           3207
          ],
          [
           "SUNI",
           29809
          ],
          [
           "SUNI",
           29913
          ],
          [
           "SUNI",
           3301
          ],
          [
           "SUNI",
           9652
          ],
          [
           "SUNI",
           29683
          ],
          [
           "SUNI",
           2852
          ],
          [
           "SUNI",
           7106
          ],
          [
           "SUNI",
           10000
          ],
          [
           "SUNI",
           29852
          ],
          [
           "SUNI",
           1630
          ],
          [
           "SUNI",
           2175
          ],
          [
           "SUNI",
           3000
          ],
          [
           "SUNI",
           880
          ],
          [
           "SUNI",
           29675
          ],
          [
           "SUNI",
           100
          ],
          [
           "SUNI",
           352
          ],
          [
           "SUNI",
           10081
          ],
          [
           "SUNI",
           30200
          ],
          [
           "SUNI",
           29986
          ],
          [
           "SUNI",
           715
          ],
          [
           "SUNI",
           30009
          ],
          [
           "SUNI",
           29698
          ],
          [
           "SUNI",
           214
          ],
          [
           "SUNI",
           10074
          ],
          [
           "SUNI",
           29790
          ],
          [
           "SUNI",
           9583
          ],
          [
           "SUNI",
           756
          ],
          [
           "SUNI",
           3618
          ],
          [
           "SUNI",
           30000
          ],
          [
           "SUNI",
           1563
          ],
          [
           "SUNI",
           1318
          ],
          [
           "SUNI",
           53
          ],
          [
           "SUNI",
           30240
          ],
          [
           "SUNI",
           0
          ]
         ],
         "hovertemplate": "Compound=%{customdata[0]}<br>Viability=%{x}<br>Prediction=%{y}<br>Concentration=%{customdata[1]}<extra></extra>",
         "legendgroup": "SUNI",
         "marker": {
          "color": "#636efa",
          "symbol": "circle"
         },
         "mode": "markers",
         "name": "SUNI",
         "orientation": "v",
         "showlegend": true,
         "type": "scatter",
         "x": [
          7.687813848313439,
          83.22914846526108,
          3.18058025600918,
          7.647607277744086,
          85.23639645143764,
          8.668139502500015,
          7.600063167550837,
          0.9159651473415333,
          23.39076291926564,
          2.7810383259383524,
          39.90487022915736,
          2.319010840392064,
          3.4482842866191987,
          3.4891178872898383,
          54.202019199611456,
          8.717411921917222,
          9.444867356813456,
          11.008587591629173,
          0.35118240190945604,
          23.342099202130285,
          10.707510746785465,
          75.26889554369025,
          39.254499082179635,
          84.17280253931708,
          27.609914742185094,
          0.8494588292499397,
          59.507713445985765,
          40.13904298240601,
          28.566321948313792,
          22.37951174565565,
          32.944792289357906,
          8.640012298189998,
          96.89243606440405,
          65.46839167183278,
          3.0187828979522786,
          23.17552868260612,
          39.53455074560565,
          39.9021112550821,
          0.40261973383694916,
          53.576113852512584,
          84.37650844557143,
          69.24790443403403,
          59.37427487857091,
          3.8871004730386662,
          86.6894700885711,
          84.03506826227036,
          0.4602122851996447,
          33.92150162532223,
          84.31489902374388,
          81.44948947596144,
          2.9739873174062446,
          83.93336018881108
         ],
         "xaxis": "x",
         "y": [
          8.641141857148067,
          83.36031736375564,
          5.001478601603705,
          8.88786028720586,
          80.38220648574219,
          8.685069378537275,
          9.28724142136487,
          13.776484847311405,
          26.52893926181382,
          13.591662380301377,
          36.89423930460506,
          12.326461600637849,
          4.429675444036823,
          3.262282244981797,
          46.270850636661216,
          8.512396439988136,
          7.941244768709044,
          12.482455021668779,
          1.6485863090387747,
          26.692306886370403,
          11.921940961969302,
          70.66883469648171,
          36.63301998809135,
          83.99145906496778,
          65.46396672683015,
          3.422174851878188,
          61.366306513664696,
          40.21184780251006,
          44.438228044956325,
          40.503137699246665,
          34.70137882629262,
          8.5933376968024,
          53.22249878513819,
          67.51170996706531,
          3.555094608297566,
          29.772523773694374,
          37.2089784129846,
          39.18261336338726,
          1.6649716370494492,
          50.98336963063912,
          79.45499221503523,
          64.3627095920252,
          62.47082877018385,
          3.122793324629973,
          84.21440485272308,
          83.9474687333117,
          1.3185970192624348,
          34.46347123055277,
          84.84813115856421,
          80.51647906823598,
          4.217654935580486,
          81.10733721011361
         ],
         "yaxis": "y"
        },
        {
         "customdata": [
          [
           "OLAN",
           300
          ],
          [
           "OLAN",
           1000
          ],
          [
           "OLAN",
           30000
          ],
          [
           "OLAN",
           10000
          ],
          [
           "OLAN",
           30000
          ],
          [
           "OLAN",
           3487
          ]
         ],
         "hovertemplate": "Compound=%{customdata[0]}<br>Viability=%{x}<br>Prediction=%{y}<br>Concentration=%{customdata[1]}<extra></extra>",
         "legendgroup": "OLAN",
         "marker": {
          "color": "#EF553B",
          "symbol": "circle"
         },
         "mode": "markers",
         "name": "OLAN",
         "orientation": "v",
         "showlegend": true,
         "type": "scatter",
         "x": [
          99.3721291378496,
          97.27287620823932,
          58.42174012121279,
          88.45742492007213,
          57.45985830848086,
          65.30627127365922
         ],
         "xaxis": "x",
         "y": [
          97.78215417569031,
          97.88833485685467,
          93.50460466099858,
          98.64533451654417,
          46.419665442531596,
          77.68631308785125
         ],
         "yaxis": "y"
        },
        {
         "customdata": [
          [
           "ETOP",
           10000
          ],
          [
           "ETOP",
           1000
          ],
          [
           "ETOP",
           300
          ],
          [
           "ETOP",
           15098
          ],
          [
           "ETOP",
           3000
          ],
          [
           "ETOP",
           10
          ],
          [
           "ETOP",
           18799
          ],
          [
           "ETOP",
           30000
          ],
          [
           "ETOP",
           2113
          ],
          [
           "ETOP",
           22456
          ]
         ],
         "hovertemplate": "Compound=%{customdata[0]}<br>Viability=%{x}<br>Prediction=%{y}<br>Concentration=%{customdata[1]}<extra></extra>",
         "legendgroup": "ETOP",
         "marker": {
          "color": "#00cc96",
          "symbol": "circle"
         },
         "mode": "markers",
         "name": "ETOP",
         "orientation": "v",
         "showlegend": true,
         "type": "scatter",
         "x": [
          74.40452933644183,
          85.2284593583581,
          90.16040769603498,
          66.48194453771977,
          84.32626422309332,
          96.60050776323612,
          70.17047628677203,
          60.08418787253077,
          84.77496151533113,
          66.48194453771977
         ],
         "xaxis": "x",
         "y": [
          78.09170487325453,
          80.48187370910192,
          53.08328495984911,
          73.65380493685339,
          84.565473991942,
          94.64498236854575,
          66.32909374637488,
          61.768081218411915,
          84.11837285609586,
          64.76877101956664
         ],
         "yaxis": "y"
        },
        {
         "customdata": [
          [
           "SIMV",
           30000
          ],
          [
           "SIMV",
           5899
          ],
          [
           "SIMV",
           30000
          ],
          [
           "SIMV",
           24900
          ],
          [
           "SIMV",
           30
          ],
          [
           "SIMV",
           1000
          ],
          [
           "SIMV",
           10000
          ],
          [
           "SIMV",
           100
          ]
         ],
         "hovertemplate": "Compound=%{customdata[0]}<br>Viability=%{x}<br>Prediction=%{y}<br>Concentration=%{customdata[1]}<extra></extra>",
         "legendgroup": "SIMV",
         "marker": {
          "color": "#ab63fa",
          "symbol": "circle"
         },
         "mode": "markers",
         "name": "SIMV",
         "orientation": "v",
         "showlegend": true,
         "type": "scatter",
         "x": [
          54.49669003462304,
          70.1767481559937,
          43.73557850824023,
          53.20759667788748,
          96.85682654581913,
          95.69878295636963,
          69.37322181025635,
          98.32305449777624
         ],
         "xaxis": "x",
         "y": [
          53.368620155128745,
          65.39319489146772,
          41.06217695301342,
          49.89005159795015,
          98.3973698679053,
          98.71523598271136,
          73.13085583253324,
          98.52950679238424
         ],
         "yaxis": "y"
        },
        {
         "customdata": [
          [
           "NCAP",
           1000
          ],
          [
           "NCAP",
           30000
          ],
          [
           "NCAP",
           10000
          ],
          [
           "NCAP",
           300
          ],
          [
           "NCAP",
           3000
          ]
         ],
         "hovertemplate": "Compound=%{customdata[0]}<br>Viability=%{x}<br>Prediction=%{y}<br>Concentration=%{customdata[1]}<extra></extra>",
         "legendgroup": "NCAP",
         "marker": {
          "color": "#FFA15A",
          "symbol": "circle"
         },
         "mode": "markers",
         "name": "NCAP",
         "orientation": "v",
         "showlegend": true,
         "type": "scatter",
         "x": [
          95.49156986024792,
          96.44066554994734,
          95.21623615667666,
          97.64629073128931,
          96.86984033703425
         ],
         "xaxis": "x",
         "y": [
          98.55241957060537,
          97.79464849884904,
          97.52286056819106,
          98.14362583499991,
          96.92723954495933
         ],
         "yaxis": "y"
        },
        {
         "customdata": [
          [
           "IMAT",
           10000
          ],
          [
           "IMAT",
           1380
          ],
          [
           "IMAT",
           30000
          ],
          [
           "IMAT",
           100
          ],
          [
           "IMAT",
           10
          ],
          [
           "IMAT",
           300
          ],
          [
           "IMAT",
           3000
          ],
          [
           "IMAT",
           22538
          ]
         ],
         "hovertemplate": "Compound=%{customdata[0]}<br>Viability=%{x}<br>Prediction=%{y}<br>Concentration=%{customdata[1]}<extra></extra>",
         "legendgroup": "IMAT",
         "marker": {
          "color": "#19d3f3",
          "symbol": "circle"
         },
         "mode": "markers",
         "name": "IMAT",
         "orientation": "v",
         "showlegend": true,
         "type": "scatter",
         "x": [
          8.993070972332934,
          12.821151969414958,
          39.271256991260515,
          98.3826107695539,
          98.29348755160196,
          99.76306527117342,
          94.61580757656175,
          11.774363111611677
         ],
         "xaxis": "x",
         "y": [
          39.26877805043318,
          77.16948184010003,
          37.03853683303533,
          98.77750238078906,
          98.23722995222677,
          98.4432206016597,
          78.3940612331563,
          62.60863659001655
         ],
         "yaxis": "y"
        },
        {
         "customdata": [
          [
           "TEBU",
           100
          ],
          [
           "TEBU",
           30
          ],
          [
           "TEBU",
           10
          ],
          [
           "TEBU",
           10000
          ],
          [
           "TEBU",
           30000
          ]
         ],
         "hovertemplate": "Compound=%{customdata[0]}<br>Viability=%{x}<br>Prediction=%{y}<br>Concentration=%{customdata[1]}<extra></extra>",
         "legendgroup": "TEBU",
         "marker": {
          "color": "#FF6692",
          "symbol": "circle"
         },
         "mode": "markers",
         "name": "TEBU",
         "orientation": "v",
         "showlegend": true,
         "type": "scatter",
         "x": [
          100.23206189499956,
          99.33073304382779,
          100.60047797689737,
          100.30274323855072,
          55.150660609848934
         ],
         "xaxis": "x",
         "y": [
          98.61366696009144,
          97.83892631148032,
          98.70431335283429,
          88.13094984624806,
          81.32573286299409
         ],
         "yaxis": "y"
        },
        {
         "customdata": [
          [
           "DOXO",
           30000
          ],
          [
           "DOXO",
           1000
          ],
          [
           "DOXO",
           300
          ],
          [
           "DOXO",
           121
          ],
          [
           "DOXO",
           30
          ],
          [
           "DOXO",
           3000
          ],
          [
           "DOXO",
           100
          ],
          [
           "DOXO",
           196
          ],
          [
           "DOXO",
           10000
          ]
         ],
         "hovertemplate": "Compound=%{customdata[0]}<br>Viability=%{x}<br>Prediction=%{y}<br>Concentration=%{customdata[1]}<extra></extra>",
         "legendgroup": "DOXO",
         "marker": {
          "color": "#B6E880",
          "symbol": "circle"
         },
         "mode": "markers",
         "name": "DOXO",
         "orientation": "v",
         "showlegend": true,
         "type": "scatter",
         "x": [
          3.6130149352097414,
          40.012919993995396,
          65.97189693626268,
          73.57578023289129,
          89.39324280814708,
          8.526268015230581,
          83.1608528002641,
          73.57578023289129,
          3.6409130128184835
         ],
         "xaxis": "x",
         "y": [
          4.907178938468583,
          37.30357675316967,
          72.16760441463114,
          84.41018113920549,
          76.7151467400252,
          8.431322877309379,
          81.06156094511199,
          73.60101931444,
          3.155256912488461
         ],
         "yaxis": "y"
        },
        {
         "customdata": [
          [
           "HCQ",
           100
          ],
          [
           "HCQ",
           30000
          ],
          [
           "HCQ",
           1000
          ],
          [
           "HCQ",
           10
          ]
         ],
         "hovertemplate": "Compound=%{customdata[0]}<br>Viability=%{x}<br>Prediction=%{y}<br>Concentration=%{customdata[1]}<extra></extra>",
         "legendgroup": "HCQ",
         "marker": {
          "color": "#FF97FF",
          "symbol": "circle"
         },
         "mode": "markers",
         "name": "HCQ",
         "orientation": "v",
         "showlegend": true,
         "type": "scatter",
         "x": [
          96.42806384737263,
          99.99099643949864,
          96.53306206021036,
          98.02059892865503
         ],
         "xaxis": "x",
         "y": [
          97.59217551576072,
          95.44690608078682,
          97.50800999721545,
          97.10526917685053
         ],
         "yaxis": "y"
        },
        {
         "customdata": [
          [
           "NELA",
           10000
          ],
          [
           "NELA",
           300
          ]
         ],
         "hovertemplate": "Compound=%{customdata[0]}<br>Viability=%{x}<br>Prediction=%{y}<br>Concentration=%{customdata[1]}<extra></extra>",
         "legendgroup": "NELA",
         "marker": {
          "color": "#FECB52",
          "symbol": "circle"
         },
         "mode": "markers",
         "name": "NELA",
         "orientation": "v",
         "showlegend": true,
         "type": "scatter",
         "x": [
          98.97964648829654,
          99.41857548126819
         ],
         "xaxis": "x",
         "y": [
          94.74965751632652,
          97.24929469666635
         ],
         "yaxis": "y"
        },
        {
         "customdata": [
          [
           "CERI",
           1227
          ],
          [
           "CERI",
           8226
          ],
          [
           "CERI",
           367
          ],
          [
           "CERI",
           1693
          ],
          [
           "CERI",
           21963
          ],
          [
           "CERI",
           30000
          ],
          [
           "CERI",
           30
          ],
          [
           "CERI",
           300
          ],
          [
           "CERI",
           20990
          ],
          [
           "CERI",
           10000
          ],
          [
           "CERI",
           100
          ],
          [
           "CERI",
           3000
          ],
          [
           "CERI",
           4761
          ],
          [
           "CERI",
           40
          ],
          [
           "CERI",
           18360
          ],
          [
           "CERI",
           1000
          ],
          [
           "CERI",
           2921
          ],
          [
           "CERI",
           532
          ],
          [
           "CERI",
           23534
          ]
         ],
         "hovertemplate": "Compound=%{customdata[0]}<br>Viability=%{x}<br>Prediction=%{y}<br>Concentration=%{customdata[1]}<extra></extra>",
         "legendgroup": "CERI",
         "marker": {
          "color": "#636efa",
          "symbol": "circle"
         },
         "mode": "markers",
         "name": "CERI",
         "orientation": "v",
         "showlegend": true,
         "type": "scatter",
         "x": [
          41.23709971184571,
          49.046907351602606,
          44.68620914905763,
          41.23709971184571,
          75.33496189141931,
          8.638624092071996,
          85.3984849728528,
          50.01152897254959,
          75.33496189141931,
          6.697203044070011,
          71.99637541746381,
          11.580961804988583,
          53.05008419711435,
          78.12683805482658,
          67.46166894091715,
          34.17714369251915,
          54.74681672671239,
          66.28221390679334,
          51.19452797152995
         ],
         "xaxis": "x",
         "y": [
          46.93216295749095,
          36.50195534710875,
          65.0714415488776,
          38.26063938572725,
          73.67661692582382,
          8.68775967722654,
          61.69520839814569,
          42.80816129982649,
          73.83799151855258,
          7.689732482784067,
          49.716055310030086,
          10.766694784383098,
          49.509631057902986,
          49.527432345656045,
          67.37489971227645,
          34.17169474867576,
          45.05012153283343,
          62.10397228178242,
          53.647653243858876
         ],
         "yaxis": "y"
        },
        {
         "customdata": [
          [
           "COLC",
           765
          ],
          [
           "COLC",
           28173
          ],
          [
           "COLC",
           3000
          ],
          [
           "COLC",
           100
          ],
          [
           "COLC",
           300
          ],
          [
           "COLC",
           655
          ],
          [
           "COLC",
           30000
          ],
          [
           "COLC",
           729
          ],
          [
           "COLC",
           2214
          ],
          [
           "COLC",
           646
          ],
          [
           "COLC",
           18163
          ],
          [
           "COLC",
           9954
          ],
          [
           "COLC",
           1205
          ],
          [
           "COLC",
           2414
          ],
          [
           "COLC",
           1000
          ]
         ],
         "hovertemplate": "Compound=%{customdata[0]}<br>Viability=%{x}<br>Prediction=%{y}<br>Concentration=%{customdata[1]}<extra></extra>",
         "legendgroup": "COLC",
         "marker": {
          "color": "#EF553B",
          "symbol": "circle"
         },
         "mode": "markers",
         "name": "COLC",
         "orientation": "v",
         "showlegend": true,
         "type": "scatter",
         "x": [
          82.96042610353604,
          83.70552938350211,
          84.68871182156224,
          81.12522768486116,
          85.56311095080092,
          85.22047752739236,
          82.56257090936111,
          85.22047752739236,
          85.12366596576622,
          82.96042610353604,
          83.61212734301377,
          83.70552938350211,
          82.86867858411482,
          84.78453600300871,
          84.88057727773585
         ],
         "xaxis": "x",
         "y": [
          84.14280382921466,
          83.31194572615686,
          84.76653937798166,
          81.30004310858254,
          85.3276233868146,
          84.91824087291008,
          83.55235014730113,
          84.79838741294718,
          84.88703229570372,
          83.44163541662122,
          84.12658826785584,
          83.89884277561889,
          81.32201700763844,
          84.77001811830165,
          84.58327180103288
         ],
         "yaxis": "y"
        },
        {
         "customdata": [
          [
           "VORI",
           30000
          ],
          [
           "VORI",
           10
          ],
          [
           "VORI",
           3000
          ],
          [
           "VORI",
           1000
          ]
         ],
         "hovertemplate": "Compound=%{customdata[0]}<br>Viability=%{x}<br>Prediction=%{y}<br>Concentration=%{customdata[1]}<extra></extra>",
         "legendgroup": "VORI",
         "marker": {
          "color": "#00cc96",
          "symbol": "circle"
         },
         "mode": "markers",
         "name": "VORI",
         "orientation": "v",
         "showlegend": true,
         "type": "scatter",
         "x": [
          97.39096630164613,
          99.1092082243379,
          96.96157833708483,
          97.75210433721854
         ],
         "xaxis": "x",
         "y": [
          96.62149668373547,
          98.63213540307738,
          97.84973296854547,
          97.18515697905808
         ],
         "yaxis": "y"
        },
        {
         "customdata": [
          [
           "MCPP",
           1000
          ],
          [
           "MCPP",
           100
          ]
         ],
         "hovertemplate": "Compound=%{customdata[0]}<br>Viability=%{x}<br>Prediction=%{y}<br>Concentration=%{customdata[1]}<extra></extra>",
         "legendgroup": "MCPP",
         "marker": {
          "color": "#ab63fa",
          "symbol": "circle"
         },
         "mode": "markers",
         "name": "MCPP",
         "orientation": "v",
         "showlegend": true,
         "type": "scatter",
         "x": [
          100.80927867151081,
          99.88385872318739
         ],
         "xaxis": "x",
         "y": [
          98.44996641980774,
          97.99747814727549
         ],
         "yaxis": "y"
        },
        {
         "customdata": [
          [
           "ATOR",
           8654
          ],
          [
           "ATOR",
           1000
          ],
          [
           "ATOR",
           30
          ],
          [
           "ATOR",
           10000
          ],
          [
           "ATOR",
           15986
          ],
          [
           "ATOR",
           30000
          ],
          [
           "ATOR",
           2149
          ],
          [
           "ATOR",
           300
          ]
         ],
         "hovertemplate": "Compound=%{customdata[0]}<br>Viability=%{x}<br>Prediction=%{y}<br>Concentration=%{customdata[1]}<extra></extra>",
         "legendgroup": "ATOR",
         "marker": {
          "color": "#FFA15A",
          "symbol": "circle"
         },
         "mode": "markers",
         "name": "ATOR",
         "orientation": "v",
         "showlegend": true,
         "type": "scatter",
         "x": [
          58.22068910919183,
          93.21515784422148,
          94.40649786334207,
          61.98682876259382,
          59.891538159231345,
          22.489916095587155,
          58.22068910919183,
          91.67963845587023
         ],
         "xaxis": "x",
         "y": [
          52.49814489584759,
          96.80526263315251,
          97.10808117051303,
          51.83066010510873,
          69.11045217206942,
          27.144699080243612,
          47.32901614264194,
          97.63082561854817
         ],
         "yaxis": "y"
        },
        {
         "customdata": [
          [
           "CLEV",
           300
          ],
          [
           "CLEV",
           10
          ],
          [
           "CLEV",
           10000
          ]
         ],
         "hovertemplate": "Compound=%{customdata[0]}<br>Viability=%{x}<br>Prediction=%{y}<br>Concentration=%{customdata[1]}<extra></extra>",
         "legendgroup": "CLEV",
         "marker": {
          "color": "#19d3f3",
          "symbol": "circle"
         },
         "mode": "markers",
         "name": "CLEV",
         "orientation": "v",
         "showlegend": true,
         "type": "scatter",
         "x": [
          99.45842332701554,
          98.65906545177823,
          98.62583981582887
         ],
         "xaxis": "x",
         "y": [
          97.33635196158747,
          97.3926829265377,
          97.82647216008893
         ],
         "yaxis": "y"
        },
        {
         "customdata": [
          [
           "GEMF",
           100
          ],
          [
           "GEMF",
           10
          ],
          [
           "GEMF",
           30000
          ],
          [
           "GEMF",
           1000
          ]
         ],
         "hovertemplate": "Compound=%{customdata[0]}<br>Viability=%{x}<br>Prediction=%{y}<br>Concentration=%{customdata[1]}<extra></extra>",
         "legendgroup": "GEMF",
         "marker": {
          "color": "#FF6692",
          "symbol": "circle"
         },
         "mode": "markers",
         "name": "GEMF",
         "orientation": "v",
         "showlegend": true,
         "type": "scatter",
         "x": [
          98.14921233251198,
          96.16997083735569,
          98.45919702204567,
          97.18550308367611
         ],
         "xaxis": "x",
         "y": [
          98.16114303358712,
          98.30585678909105,
          94.67740618054971,
          97.58182216336144
         ],
         "yaxis": "y"
        },
        {
         "customdata": [
          [
           "WURS",
           3000
          ],
          [
           "WURS",
           30000
          ],
          [
           "WURS",
           10
          ],
          [
           "WURS",
           10000
          ],
          [
           "WURS",
           300
          ]
         ],
         "hovertemplate": "Compound=%{customdata[0]}<br>Viability=%{x}<br>Prediction=%{y}<br>Concentration=%{customdata[1]}<extra></extra>",
         "legendgroup": "WURS",
         "marker": {
          "color": "#B6E880",
          "symbol": "circle"
         },
         "mode": "markers",
         "name": "WURS",
         "orientation": "v",
         "showlegend": true,
         "type": "scatter",
         "x": [
          100.04108407994909,
          95.84054692905514,
          101.62915134798466,
          98.95596198851018,
          100.71400717438476
         ],
         "xaxis": "x",
         "y": [
          98.12092305688441,
          97.7341443141394,
          97.97833118481499,
          98.14252231348432,
          93.48026477441432
         ],
         "yaxis": "y"
        },
        {
         "customdata": [
          [
           "FIAL",
           1000
          ],
          [
           "FIAL",
           10000
          ],
          [
           "FIAL",
           10
          ],
          [
           "FIAL",
           100
          ],
          [
           "FIAL",
           300
          ]
         ],
         "hovertemplate": "Compound=%{customdata[0]}<br>Viability=%{x}<br>Prediction=%{y}<br>Concentration=%{customdata[1]}<extra></extra>",
         "legendgroup": "FIAL",
         "marker": {
          "color": "#FF97FF",
          "symbol": "circle"
         },
         "mode": "markers",
         "name": "FIAL",
         "orientation": "v",
         "showlegend": true,
         "type": "scatter",
         "x": [
          96.41782374390507,
          99.0960546870985,
          97.53766966286985,
          97.81554267125719,
          98.48118877240711
         ],
         "xaxis": "x",
         "y": [
          91.82196494397861,
          72.77531466885209,
          97.52527968873456,
          98.42331931647155,
          98.47112759774636
         ],
         "yaxis": "y"
        },
        {
         "customdata": [
          [
           "LEFL",
           1000
          ],
          [
           "LEFL",
           300
          ],
          [
           "LEFL",
           10000
          ],
          [
           "LEFL",
           10
          ]
         ],
         "hovertemplate": "Compound=%{customdata[0]}<br>Viability=%{x}<br>Prediction=%{y}<br>Concentration=%{customdata[1]}<extra></extra>",
         "legendgroup": "LEFL",
         "marker": {
          "color": "#FECB52",
          "symbol": "circle"
         },
         "mode": "markers",
         "name": "LEFL",
         "orientation": "v",
         "showlegend": true,
         "type": "scatter",
         "x": [
          98.63488296535465,
          96.23172092846835,
          98.73308939224933,
          100.46702448377164
         ],
         "xaxis": "x",
         "y": [
          96.05488317544517,
          97.65299409094179,
          98.08308772461125,
          97.48328707045363
         ],
         "yaxis": "y"
        },
        {
         "customdata": [
          [
           "DEXA",
           10000
          ],
          [
           "DEXA",
           300
          ],
          [
           "DEXA",
           30000
          ],
          [
           "DEXA",
           30
          ]
         ],
         "hovertemplate": "Compound=%{customdata[0]}<br>Viability=%{x}<br>Prediction=%{y}<br>Concentration=%{customdata[1]}<extra></extra>",
         "legendgroup": "DEXA",
         "marker": {
          "color": "#636efa",
          "symbol": "circle"
         },
         "mode": "markers",
         "name": "DEXA",
         "orientation": "v",
         "showlegend": true,
         "type": "scatter",
         "x": [
          95.19853271239649,
          97.61294123295185,
          93.38440378980076,
          99.18757150051489
         ],
         "xaxis": "x",
         "y": [
          95.46450434557171,
          97.81756356581307,
          95.92874452030044,
          96.31790093818616
         ],
         "yaxis": "y"
        },
        {
         "customdata": [
          [
           "ETRE",
           10
          ],
          [
           "ETRE",
           30
          ]
         ],
         "hovertemplate": "Compound=%{customdata[0]}<br>Viability=%{x}<br>Prediction=%{y}<br>Concentration=%{customdata[1]}<extra></extra>",
         "legendgroup": "ETRE",
         "marker": {
          "color": "#EF553B",
          "symbol": "circle"
         },
         "mode": "markers",
         "name": "ETRE",
         "orientation": "v",
         "showlegend": true,
         "type": "scatter",
         "x": [
          97.40899154139106,
          95.2293969721681
         ],
         "xaxis": "x",
         "y": [
          94.69258838763724,
          97.04828139658072
         ],
         "yaxis": "y"
        },
        {
         "customdata": [
          [
           "EZET",
           10000
          ],
          [
           "EZET",
           3000
          ],
          [
           "EZET",
           10
          ]
         ],
         "hovertemplate": "Compound=%{customdata[0]}<br>Viability=%{x}<br>Prediction=%{y}<br>Concentration=%{customdata[1]}<extra></extra>",
         "legendgroup": "EZET",
         "marker": {
          "color": "#00cc96",
          "symbol": "circle"
         },
         "mode": "markers",
         "name": "EZET",
         "orientation": "v",
         "showlegend": true,
         "type": "scatter",
         "x": [
          91.28764388597313,
          90.71917922327638,
          99.5437686080814
         ],
         "xaxis": "x",
         "y": [
          77.81912347832295,
          97.76764454236007,
          98.46430517783656
         ],
         "yaxis": "y"
        },
        {
         "customdata": [
          [
           "CLOF",
           100
          ],
          [
           "CLOF",
           30
          ],
          [
           "CLOF",
           10000
          ],
          [
           "CLOF",
           10
          ]
         ],
         "hovertemplate": "Compound=%{customdata[0]}<br>Viability=%{x}<br>Prediction=%{y}<br>Concentration=%{customdata[1]}<extra></extra>",
         "legendgroup": "CLOF",
         "marker": {
          "color": "#ab63fa",
          "symbol": "circle"
         },
         "mode": "markers",
         "name": "CLOF",
         "orientation": "v",
         "showlegend": true,
         "type": "scatter",
         "x": [
          96.27590369713752,
          95.58964923902339,
          98.61027773019424,
          98.3202671352125
         ],
         "xaxis": "x",
         "y": [
          97.24856495679136,
          97.04972462399734,
          97.76487281670285,
          97.37821356340186
         ],
         "yaxis": "y"
        },
        {
         "customdata": [
          [
           "DAPT",
           3000
          ],
          [
           "DAPT",
           10
          ],
          [
           "DAPT",
           300
          ],
          [
           "DAPT",
           30000
          ],
          [
           "DAPT",
           100
          ]
         ],
         "hovertemplate": "Compound=%{customdata[0]}<br>Viability=%{x}<br>Prediction=%{y}<br>Concentration=%{customdata[1]}<extra></extra>",
         "legendgroup": "DAPT",
         "marker": {
          "color": "#FFA15A",
          "symbol": "circle"
         },
         "mode": "markers",
         "name": "DAPT",
         "orientation": "v",
         "showlegend": true,
         "type": "scatter",
         "x": [
          99.35561540823893,
          100.42911409278557,
          99.20985756853646,
          98.54977599771297,
          100.22221792778328
         ],
         "xaxis": "x",
         "y": [
          96.97304755145382,
          95.18856767052958,
          96.64932632739527,
          96.97562697545715,
          96.86268431356599
         ],
         "yaxis": "y"
        },
        {
         "customdata": [
          [
           "CISP",
           300
          ],
          [
           "CISP",
           100
          ]
         ],
         "hovertemplate": "Compound=%{customdata[0]}<br>Viability=%{x}<br>Prediction=%{y}<br>Concentration=%{customdata[1]}<extra></extra>",
         "legendgroup": "CISP",
         "marker": {
          "color": "#19d3f3",
          "symbol": "circle"
         },
         "mode": "markers",
         "name": "CISP",
         "orientation": "v",
         "showlegend": true,
         "type": "scatter",
         "x": [
          98.41360389875446,
          97.98950209148803
         ],
         "xaxis": "x",
         "y": [
          98.27534668598031,
          98.7563628928316
         ],
         "yaxis": "y"
        },
        {
         "customdata": [
          [
           "SELU",
           300
          ],
          [
           "SELU",
           100
          ],
          [
           "SELU",
           1000
          ]
         ],
         "hovertemplate": "Compound=%{customdata[0]}<br>Viability=%{x}<br>Prediction=%{y}<br>Concentration=%{customdata[1]}<extra></extra>",
         "legendgroup": "SELU",
         "marker": {
          "color": "#FF6692",
          "symbol": "circle"
         },
         "mode": "markers",
         "name": "SELU",
         "orientation": "v",
         "showlegend": true,
         "type": "scatter",
         "x": [
          108.69199422570712,
          105.29053848383161,
          108.35567918160157
         ],
         "xaxis": "x",
         "y": [
          100.27395908160395,
          91.6223943259345,
          94.3509283204887
         ],
         "yaxis": "y"
        },
        {
         "customdata": [
          [
           "ZIDO",
           100
          ],
          [
           "ZIDO",
           1000
          ]
         ],
         "hovertemplate": "Compound=%{customdata[0]}<br>Viability=%{x}<br>Prediction=%{y}<br>Concentration=%{customdata[1]}<extra></extra>",
         "legendgroup": "ZIDO",
         "marker": {
          "color": "#B6E880",
          "symbol": "circle"
         },
         "mode": "markers",
         "name": "ZIDO",
         "orientation": "v",
         "showlegend": true,
         "type": "scatter",
         "x": [
          103.68505524816696,
          101.589529274016
         ],
         "xaxis": "x",
         "y": [
          98.49444553413994,
          83.04799219090108
         ],
         "yaxis": "y"
        },
        {
         "customdata": [
          [
           "ETHF",
           10000
          ],
          [
           "ETHF",
           300
          ],
          [
           "ETHF",
           30000
          ]
         ],
         "hovertemplate": "Compound=%{customdata[0]}<br>Viability=%{x}<br>Prediction=%{y}<br>Concentration=%{customdata[1]}<extra></extra>",
         "legendgroup": "ETHF",
         "marker": {
          "color": "#FF97FF",
          "symbol": "circle"
         },
         "mode": "markers",
         "name": "ETHF",
         "orientation": "v",
         "showlegend": true,
         "type": "scatter",
         "x": [
          97.72431416688056,
          98.75540769546726,
          100.0505128950567
         ],
         "xaxis": "x",
         "y": [
          97.89967173822237,
          98.09125381233046,
          96.10114057366934
         ],
         "yaxis": "y"
        },
        {
         "customdata": [
          [
           "DMSO",
           0
          ]
         ],
         "hovertemplate": "Compound=%{customdata[0]}<br>Viability=%{x}<br>Prediction=%{y}<br>Concentration=%{customdata[1]}<extra></extra>",
         "legendgroup": "DMSO",
         "marker": {
          "color": "#FECB52",
          "symbol": "circle"
         },
         "mode": "markers",
         "name": "DMSO",
         "orientation": "v",
         "showlegend": true,
         "type": "scatter",
         "x": [
          99.88001557352732
         ],
         "xaxis": "x",
         "y": [
          91.97670961305084
         ],
         "yaxis": "y"
        },
        {
         "customdata": [
          [
           "IBIP",
           300
          ]
         ],
         "hovertemplate": "Compound=%{customdata[0]}<br>Viability=%{x}<br>Prediction=%{y}<br>Concentration=%{customdata[1]}<extra></extra>",
         "legendgroup": "IBIP",
         "marker": {
          "color": "#636efa",
          "symbol": "circle"
         },
         "mode": "markers",
         "name": "IBIP",
         "orientation": "v",
         "showlegend": true,
         "type": "scatter",
         "x": [
          99.70007185184369
         ],
         "xaxis": "x",
         "y": [
          97.92915277519374
         ],
         "yaxis": "y"
        },
        {
         "hovertemplate": "<b>OLS trendline</b><br>Prediction = 0.896861 * Viability + 6.92713<br>R<sup>2</sup>=0.906550<br><br>Viability=%{x}<br>Prediction=%{y} <b>(trend)</b><extra></extra>",
         "legendgroup": "Overall Trendline",
         "line": {
          "color": "#EF553B"
         },
         "mode": "lines",
         "name": "Overall Trendline",
         "showlegend": true,
         "type": "scatter",
         "x": [
          0.35118240190945604,
          0.40261973383694916,
          0.4602122851996447,
          0.8494588292499397,
          0.9159651473415333,
          2.319010840392064,
          2.7810383259383524,
          2.9739873174062446,
          3.0187828979522786,
          3.18058025600918,
          3.4482842866191987,
          3.4891178872898383,
          3.6130149352097414,
          3.6409130128184835,
          3.8871004730386662,
          6.697203044070011,
          7.600063167550837,
          7.647607277744086,
          7.687813848313439,
          8.526268015230581,
          8.638624092071996,
          8.640012298189998,
          8.668139502500015,
          8.717411921917222,
          8.993070972332934,
          9.444867356813456,
          10.707510746785465,
          11.008587591629173,
          11.580961804988583,
          11.774363111611677,
          12.821151969414958,
          22.37951174565565,
          22.489916095587155,
          23.17552868260612,
          23.342099202130285,
          23.39076291926564,
          27.609914742185094,
          28.566321948313792,
          32.944792289357906,
          33.92150162532223,
          34.17714369251915,
          39.254499082179635,
          39.271256991260515,
          39.53455074560565,
          39.9021112550821,
          39.90487022915736,
          40.012919993995396,
          40.13904298240601,
          41.23709971184571,
          41.23709971184571,
          43.73557850824023,
          44.68620914905763,
          49.046907351602606,
          50.01152897254959,
          51.19452797152995,
          53.05008419711435,
          53.20759667788748,
          53.576113852512584,
          54.202019199611456,
          54.49669003462304,
          54.74681672671239,
          55.150660609848934,
          57.45985830848086,
          58.22068910919183,
          58.22068910919183,
          58.42174012121279,
          59.37427487857091,
          59.507713445985765,
          59.891538159231345,
          60.08418787253077,
          61.98682876259382,
          65.30627127365922,
          65.46839167183278,
          65.97189693626268,
          66.28221390679334,
          66.48194453771977,
          66.48194453771977,
          67.46166894091715,
          69.24790443403403,
          69.37322181025635,
          70.17047628677203,
          70.1767481559937,
          71.99637541746381,
          73.57578023289129,
          73.57578023289129,
          74.40452933644183,
          75.26889554369025,
          75.33496189141931,
          75.33496189141931,
          78.12683805482658,
          81.12522768486116,
          81.44948947596144,
          82.56257090936111,
          82.86867858411482,
          82.96042610353604,
          82.96042610353604,
          83.1608528002641,
          83.22914846526108,
          83.61212734301377,
          83.70552938350211,
          83.70552938350211,
          83.93336018881108,
          84.03506826227036,
          84.17280253931708,
          84.31489902374388,
          84.32626422309332,
          84.37650844557143,
          84.68871182156224,
          84.77496151533113,
          84.78453600300871,
          84.88057727773585,
          85.12366596576622,
          85.22047752739236,
          85.22047752739236,
          85.2284593583581,
          85.23639645143764,
          85.3984849728528,
          85.56311095080092,
          86.6894700885711,
          88.45742492007213,
          89.39324280814708,
          90.16040769603498,
          90.71917922327638,
          91.28764388597313,
          91.67963845587023,
          93.21515784422148,
          93.38440378980076,
          94.40649786334207,
          94.61580757656175,
          95.19853271239649,
          95.21623615667666,
          95.2293969721681,
          95.49156986024792,
          95.58964923902339,
          95.69878295636963,
          95.84054692905514,
          96.16997083735569,
          96.23172092846835,
          96.27590369713752,
          96.41782374390507,
          96.42806384737263,
          96.44066554994734,
          96.53306206021036,
          96.60050776323612,
          96.85682654581913,
          96.86984033703425,
          96.89243606440405,
          96.96157833708483,
          97.18550308367611,
          97.27287620823932,
          97.39096630164613,
          97.40899154139106,
          97.53766966286985,
          97.61294123295185,
          97.64629073128931,
          97.72431416688056,
          97.75210433721854,
          97.81554267125719,
          97.98950209148803,
          98.02059892865503,
          98.14921233251198,
          98.29348755160196,
          98.3202671352125,
          98.32305449777624,
          98.3826107695539,
          98.41360389875446,
          98.45919702204567,
          98.48118877240711,
          98.54977599771297,
          98.61027773019424,
          98.62583981582887,
          98.63488296535465,
          98.65906545177823,
          98.73308939224933,
          98.75540769546726,
          98.95596198851018,
          98.97964648829654,
          99.0960546870985,
          99.1092082243379,
          99.18757150051489,
          99.20985756853646,
          99.33073304382779,
          99.35561540823893,
          99.3721291378496,
          99.41857548126819,
          99.45842332701554,
          99.5437686080814,
          99.70007185184369,
          99.76306527117342,
          99.88001557352732,
          99.88385872318739,
          99.99099643949864,
          100.04108407994909,
          100.0505128950567,
          100.22221792778328,
          100.23206189499956,
          100.30274323855072,
          100.42911409278557,
          100.46702448377164,
          100.60047797689737,
          100.71400717438476,
          100.80927867151081,
          101.589529274016,
          101.62915134798466,
          103.68505524816696,
          105.29053848383161,
          108.35567918160157,
          108.69199422570712
         ],
         "xaxis": "x",
         "y": [
          7.242096624535013,
          7.288228785458602,
          7.339881325508874,
          7.688981551671294,
          7.748628505618315,
          9.006966122860874,
          9.421340770915865,
          9.59438928628187,
          9.634564716324165,
          9.779674532078491,
          10.01976796144616,
          10.05639004440884,
          10.167508532448917,
          10.192529243233828,
          10.413325289736715,
          12.933598001419114,
          13.743338455426741,
          13.785978935797994,
          13.82203865962476,
          14.574015893004578,
          14.674783728803249,
          14.676028757377457,
          14.701254963071591,
          14.745445497387276,
          14.992673477480553,
          15.397872245234119,
          16.530288447097064,
          16.80031266756548,
          17.313653043703766,
          17.487107223102996,
          18.42593181278569,
          26.99845637499797,
          27.097473782138835,
          27.71237329209363,
          27.861763972439306,
          27.905408585134083,
          31.689403274639794,
          32.547168043695144,
          36.474049372939376,
          37.3500223399236,
          37.57929785910083,
          42.13298225766655,
          42.14801178057321,
          42.38414980310416,
          42.71380066050527,
          42.71627507803928,
          42.81318074854122,
          42.92629559683319,
          43.911100365034386,
          43.911100365034386,
          46.1518897213315,
          47.004473711552876,
          50.91541589460744,
          51.78054785577969,
          52.84153407237304,
          54.50571094923929,
          54.64697782367092,
          54.97748667717981,
          55.53883706440445,
          55.803115981503126,
          56.02744497327541,
          56.38963699037154,
          58.4606674238286,
          59.14302725119091,
          59.14302725119091,
          59.32334215658833,
          60.17763387556199,
          60.29730978476491,
          60.641547379802994,
          60.81432748411206,
          62.52073278219238,
          65.49781285922539,
          65.64321239721234,
          66.09478686684652,
          66.37309819998526,
          66.55222890645847,
          66.55222890645847,
          67.43090597106165,
          69.03291175417752,
          69.14530407994123,
          69.86033089858566,
          69.86595589641085,
          71.49790946984692,
          72.91441678814056,
          72.91441678814056,
          73.65768992416103,
          74.43290666802142,
          74.49215902950407,
          74.49215902950407,
          76.99608517852342,
          79.6852252979868,
          79.97604320334582,
          80.97432304956793,
          81.248859227525,
          81.33114404230206,
          81.33114404230206,
          81.5108990233706,
          81.57215077360651,
          81.91562977138437,
          81.99939846235135,
          81.99939846235135,
          82.20373113241828,
          82.29494918429286,
          82.41847774993406,
          82.5459186112815,
          82.5561116206323,
          82.60117372766592,
          82.88117690517127,
          82.95853093197356,
          82.967117921029,
          83.05325363948471,
          83.2712705166184,
          83.35809707571164,
          83.35809707571164,
          83.36525567233355,
          83.37237414526926,
          83.51774509421995,
          83.66539179015687,
          84.67557989778686,
          86.26119045992509,
          87.10048946300523,
          87.7885300890793,
          88.2896707402032,
          88.79950479100248,
          89.15106961565468,
          90.5282177854813,
          90.68000795236115,
          91.59668474162619,
          91.78440655788859,
          92.30703027753334,
          92.32290781452508,
          92.3347112428015,
          92.56984400357047,
          92.65780761901097,
          92.75568544474856,
          92.88282808912821,
          93.17827569848752,
          93.23365697573321,
          93.2732827984172,
          93.40056541962689,
          93.40974937383558,
          93.4210513552818,
          93.50391822493671,
          93.564407677033,
          93.79429011616351,
          93.80596168403193,
          93.82622692120789,
          93.88823796125227,
          94.08906743777109,
          94.1674290263626,
          94.27333948066462,
          94.28950562360865,
          94.40491207229017,
          94.47242024298785,
          94.50233012295972,
          94.57230633579246,
          94.59723026870432,
          94.65412566597571,
          94.8101431666419,
          94.83803272161384,
          94.95338112755415,
          95.0827760120658,
          95.10679358868369,
          95.1092934667591,
          95.1627071919797,
          95.19050373527283,
          95.23139445067082,
          95.25111800414159,
          95.31263124358357,
          95.36689291607692,
          95.38084995101441,
          95.38896040335607,
          95.41064874358331,
          95.47703796335902,
          95.4970543895034,
          95.67692380678996,
          95.69816552199165,
          95.80256754983259,
          95.81436445052522,
          95.88464545328392,
          95.90463296892284,
          96.0130415249054,
          96.03535755873064,
          96.05016808647966,
          96.09182402213199,
          96.12756201948898,
          96.20410491338846,
          96.34428726974173,
          96.40078364015501,
          96.5056718597823,
          96.50911863262078,
          96.60520632194385,
          96.65012799659058,
          96.65858433753137,
          96.81257996491536,
          96.82140863978496,
          96.88480001318656,
          96.99813716278506,
          97.03213753162437,
          97.15182682712224,
          97.25364678962335,
          97.33909212421118,
          98.03886882348158,
          98.07440433483013,
          99.91826532086141,
          101.35816136936192,
          104.10716794929668,
          104.408795952817
         ],
         "yaxis": "y"
        }
       ],
       "layout": {
        "height": 1000,
        "legend": {
         "title": {
          "text": "Compound"
         },
         "tracegroupgap": 0
        },
        "template": {
         "data": {
          "bar": [
           {
            "error_x": {
             "color": "#2a3f5f"
            },
            "error_y": {
             "color": "#2a3f5f"
            },
            "marker": {
             "line": {
              "color": "#E5ECF6",
              "width": 0.5
             },
             "pattern": {
              "fillmode": "overlay",
              "size": 10,
              "solidity": 0.2
             }
            },
            "type": "bar"
           }
          ],
          "barpolar": [
           {
            "marker": {
             "line": {
              "color": "#E5ECF6",
              "width": 0.5
             },
             "pattern": {
              "fillmode": "overlay",
              "size": 10,
              "solidity": 0.2
             }
            },
            "type": "barpolar"
           }
          ],
          "carpet": [
           {
            "aaxis": {
             "endlinecolor": "#2a3f5f",
             "gridcolor": "white",
             "linecolor": "white",
             "minorgridcolor": "white",
             "startlinecolor": "#2a3f5f"
            },
            "baxis": {
             "endlinecolor": "#2a3f5f",
             "gridcolor": "white",
             "linecolor": "white",
             "minorgridcolor": "white",
             "startlinecolor": "#2a3f5f"
            },
            "type": "carpet"
           }
          ],
          "choropleth": [
           {
            "colorbar": {
             "outlinewidth": 0,
             "ticks": ""
            },
            "type": "choropleth"
           }
          ],
          "contour": [
           {
            "colorbar": {
             "outlinewidth": 0,
             "ticks": ""
            },
            "colorscale": [
             [
              0,
              "#0d0887"
             ],
             [
              0.1111111111111111,
              "#46039f"
             ],
             [
              0.2222222222222222,
              "#7201a8"
             ],
             [
              0.3333333333333333,
              "#9c179e"
             ],
             [
              0.4444444444444444,
              "#bd3786"
             ],
             [
              0.5555555555555556,
              "#d8576b"
             ],
             [
              0.6666666666666666,
              "#ed7953"
             ],
             [
              0.7777777777777778,
              "#fb9f3a"
             ],
             [
              0.8888888888888888,
              "#fdca26"
             ],
             [
              1,
              "#f0f921"
             ]
            ],
            "type": "contour"
           }
          ],
          "contourcarpet": [
           {
            "colorbar": {
             "outlinewidth": 0,
             "ticks": ""
            },
            "type": "contourcarpet"
           }
          ],
          "heatmap": [
           {
            "colorbar": {
             "outlinewidth": 0,
             "ticks": ""
            },
            "colorscale": [
             [
              0,
              "#0d0887"
             ],
             [
              0.1111111111111111,
              "#46039f"
             ],
             [
              0.2222222222222222,
              "#7201a8"
             ],
             [
              0.3333333333333333,
              "#9c179e"
             ],
             [
              0.4444444444444444,
              "#bd3786"
             ],
             [
              0.5555555555555556,
              "#d8576b"
             ],
             [
              0.6666666666666666,
              "#ed7953"
             ],
             [
              0.7777777777777778,
              "#fb9f3a"
             ],
             [
              0.8888888888888888,
              "#fdca26"
             ],
             [
              1,
              "#f0f921"
             ]
            ],
            "type": "heatmap"
           }
          ],
          "heatmapgl": [
           {
            "colorbar": {
             "outlinewidth": 0,
             "ticks": ""
            },
            "colorscale": [
             [
              0,
              "#0d0887"
             ],
             [
              0.1111111111111111,
              "#46039f"
             ],
             [
              0.2222222222222222,
              "#7201a8"
             ],
             [
              0.3333333333333333,
              "#9c179e"
             ],
             [
              0.4444444444444444,
              "#bd3786"
             ],
             [
              0.5555555555555556,
              "#d8576b"
             ],
             [
              0.6666666666666666,
              "#ed7953"
             ],
             [
              0.7777777777777778,
              "#fb9f3a"
             ],
             [
              0.8888888888888888,
              "#fdca26"
             ],
             [
              1,
              "#f0f921"
             ]
            ],
            "type": "heatmapgl"
           }
          ],
          "histogram": [
           {
            "marker": {
             "pattern": {
              "fillmode": "overlay",
              "size": 10,
              "solidity": 0.2
             }
            },
            "type": "histogram"
           }
          ],
          "histogram2d": [
           {
            "colorbar": {
             "outlinewidth": 0,
             "ticks": ""
            },
            "colorscale": [
             [
              0,
              "#0d0887"
             ],
             [
              0.1111111111111111,
              "#46039f"
             ],
             [
              0.2222222222222222,
              "#7201a8"
             ],
             [
              0.3333333333333333,
              "#9c179e"
             ],
             [
              0.4444444444444444,
              "#bd3786"
             ],
             [
              0.5555555555555556,
              "#d8576b"
             ],
             [
              0.6666666666666666,
              "#ed7953"
             ],
             [
              0.7777777777777778,
              "#fb9f3a"
             ],
             [
              0.8888888888888888,
              "#fdca26"
             ],
             [
              1,
              "#f0f921"
             ]
            ],
            "type": "histogram2d"
           }
          ],
          "histogram2dcontour": [
           {
            "colorbar": {
             "outlinewidth": 0,
             "ticks": ""
            },
            "colorscale": [
             [
              0,
              "#0d0887"
             ],
             [
              0.1111111111111111,
              "#46039f"
             ],
             [
              0.2222222222222222,
              "#7201a8"
             ],
             [
              0.3333333333333333,
              "#9c179e"
             ],
             [
              0.4444444444444444,
              "#bd3786"
             ],
             [
              0.5555555555555556,
              "#d8576b"
             ],
             [
              0.6666666666666666,
              "#ed7953"
             ],
             [
              0.7777777777777778,
              "#fb9f3a"
             ],
             [
              0.8888888888888888,
              "#fdca26"
             ],
             [
              1,
              "#f0f921"
             ]
            ],
            "type": "histogram2dcontour"
           }
          ],
          "mesh3d": [
           {
            "colorbar": {
             "outlinewidth": 0,
             "ticks": ""
            },
            "type": "mesh3d"
           }
          ],
          "parcoords": [
           {
            "line": {
             "colorbar": {
              "outlinewidth": 0,
              "ticks": ""
             }
            },
            "type": "parcoords"
           }
          ],
          "pie": [
           {
            "automargin": true,
            "type": "pie"
           }
          ],
          "scatter": [
           {
            "fillpattern": {
             "fillmode": "overlay",
             "size": 10,
             "solidity": 0.2
            },
            "type": "scatter"
           }
          ],
          "scatter3d": [
           {
            "line": {
             "colorbar": {
              "outlinewidth": 0,
              "ticks": ""
             }
            },
            "marker": {
             "colorbar": {
              "outlinewidth": 0,
              "ticks": ""
             }
            },
            "type": "scatter3d"
           }
          ],
          "scattercarpet": [
           {
            "marker": {
             "colorbar": {
              "outlinewidth": 0,
              "ticks": ""
             }
            },
            "type": "scattercarpet"
           }
          ],
          "scattergeo": [
           {
            "marker": {
             "colorbar": {
              "outlinewidth": 0,
              "ticks": ""
             }
            },
            "type": "scattergeo"
           }
          ],
          "scattergl": [
           {
            "marker": {
             "colorbar": {
              "outlinewidth": 0,
              "ticks": ""
             }
            },
            "type": "scattergl"
           }
          ],
          "scattermapbox": [
           {
            "marker": {
             "colorbar": {
              "outlinewidth": 0,
              "ticks": ""
             }
            },
            "type": "scattermapbox"
           }
          ],
          "scatterpolar": [
           {
            "marker": {
             "colorbar": {
              "outlinewidth": 0,
              "ticks": ""
             }
            },
            "type": "scatterpolar"
           }
          ],
          "scatterpolargl": [
           {
            "marker": {
             "colorbar": {
              "outlinewidth": 0,
              "ticks": ""
             }
            },
            "type": "scatterpolargl"
           }
          ],
          "scatterternary": [
           {
            "marker": {
             "colorbar": {
              "outlinewidth": 0,
              "ticks": ""
             }
            },
            "type": "scatterternary"
           }
          ],
          "surface": [
           {
            "colorbar": {
             "outlinewidth": 0,
             "ticks": ""
            },
            "colorscale": [
             [
              0,
              "#0d0887"
             ],
             [
              0.1111111111111111,
              "#46039f"
             ],
             [
              0.2222222222222222,
              "#7201a8"
             ],
             [
              0.3333333333333333,
              "#9c179e"
             ],
             [
              0.4444444444444444,
              "#bd3786"
             ],
             [
              0.5555555555555556,
              "#d8576b"
             ],
             [
              0.6666666666666666,
              "#ed7953"
             ],
             [
              0.7777777777777778,
              "#fb9f3a"
             ],
             [
              0.8888888888888888,
              "#fdca26"
             ],
             [
              1,
              "#f0f921"
             ]
            ],
            "type": "surface"
           }
          ],
          "table": [
           {
            "cells": {
             "fill": {
              "color": "#EBF0F8"
             },
             "line": {
              "color": "white"
             }
            },
            "header": {
             "fill": {
              "color": "#C8D4E3"
             },
             "line": {
              "color": "white"
             }
            },
            "type": "table"
           }
          ]
         },
         "layout": {
          "annotationdefaults": {
           "arrowcolor": "#2a3f5f",
           "arrowhead": 0,
           "arrowwidth": 1
          },
          "autotypenumbers": "strict",
          "coloraxis": {
           "colorbar": {
            "outlinewidth": 0,
            "ticks": ""
           }
          },
          "colorscale": {
           "diverging": [
            [
             0,
             "#8e0152"
            ],
            [
             0.1,
             "#c51b7d"
            ],
            [
             0.2,
             "#de77ae"
            ],
            [
             0.3,
             "#f1b6da"
            ],
            [
             0.4,
             "#fde0ef"
            ],
            [
             0.5,
             "#f7f7f7"
            ],
            [
             0.6,
             "#e6f5d0"
            ],
            [
             0.7,
             "#b8e186"
            ],
            [
             0.8,
             "#7fbc41"
            ],
            [
             0.9,
             "#4d9221"
            ],
            [
             1,
             "#276419"
            ]
           ],
           "sequential": [
            [
             0,
             "#0d0887"
            ],
            [
             0.1111111111111111,
             "#46039f"
            ],
            [
             0.2222222222222222,
             "#7201a8"
            ],
            [
             0.3333333333333333,
             "#9c179e"
            ],
            [
             0.4444444444444444,
             "#bd3786"
            ],
            [
             0.5555555555555556,
             "#d8576b"
            ],
            [
             0.6666666666666666,
             "#ed7953"
            ],
            [
             0.7777777777777778,
             "#fb9f3a"
            ],
            [
             0.8888888888888888,
             "#fdca26"
            ],
            [
             1,
             "#f0f921"
            ]
           ],
           "sequentialminus": [
            [
             0,
             "#0d0887"
            ],
            [
             0.1111111111111111,
             "#46039f"
            ],
            [
             0.2222222222222222,
             "#7201a8"
            ],
            [
             0.3333333333333333,
             "#9c179e"
            ],
            [
             0.4444444444444444,
             "#bd3786"
            ],
            [
             0.5555555555555556,
             "#d8576b"
            ],
            [
             0.6666666666666666,
             "#ed7953"
            ],
            [
             0.7777777777777778,
             "#fb9f3a"
            ],
            [
             0.8888888888888888,
             "#fdca26"
            ],
            [
             1,
             "#f0f921"
            ]
           ]
          },
          "colorway": [
           "#636efa",
           "#EF553B",
           "#00cc96",
           "#ab63fa",
           "#FFA15A",
           "#19d3f3",
           "#FF6692",
           "#B6E880",
           "#FF97FF",
           "#FECB52"
          ],
          "font": {
           "color": "#2a3f5f"
          },
          "geo": {
           "bgcolor": "white",
           "lakecolor": "white",
           "landcolor": "#E5ECF6",
           "showlakes": true,
           "showland": true,
           "subunitcolor": "white"
          },
          "hoverlabel": {
           "align": "left"
          },
          "hovermode": "closest",
          "mapbox": {
           "style": "light"
          },
          "paper_bgcolor": "white",
          "plot_bgcolor": "#E5ECF6",
          "polar": {
           "angularaxis": {
            "gridcolor": "white",
            "linecolor": "white",
            "ticks": ""
           },
           "bgcolor": "#E5ECF6",
           "radialaxis": {
            "gridcolor": "white",
            "linecolor": "white",
            "ticks": ""
           }
          },
          "scene": {
           "xaxis": {
            "backgroundcolor": "#E5ECF6",
            "gridcolor": "white",
            "gridwidth": 2,
            "linecolor": "white",
            "showbackground": true,
            "ticks": "",
            "zerolinecolor": "white"
           },
           "yaxis": {
            "backgroundcolor": "#E5ECF6",
            "gridcolor": "white",
            "gridwidth": 2,
            "linecolor": "white",
            "showbackground": true,
            "ticks": "",
            "zerolinecolor": "white"
           },
           "zaxis": {
            "backgroundcolor": "#E5ECF6",
            "gridcolor": "white",
            "gridwidth": 2,
            "linecolor": "white",
            "showbackground": true,
            "ticks": "",
            "zerolinecolor": "white"
           }
          },
          "shapedefaults": {
           "line": {
            "color": "#2a3f5f"
           }
          },
          "ternary": {
           "aaxis": {
            "gridcolor": "white",
            "linecolor": "white",
            "ticks": ""
           },
           "baxis": {
            "gridcolor": "white",
            "linecolor": "white",
            "ticks": ""
           },
           "bgcolor": "#E5ECF6",
           "caxis": {
            "gridcolor": "white",
            "linecolor": "white",
            "ticks": ""
           }
          },
          "title": {
           "x": 0.05
          },
          "xaxis": {
           "automargin": true,
           "gridcolor": "white",
           "linecolor": "white",
           "ticks": "",
           "title": {
            "standoff": 15
           },
           "zerolinecolor": "white",
           "zerolinewidth": 2
          },
          "yaxis": {
           "automargin": true,
           "gridcolor": "white",
           "linecolor": "white",
           "ticks": "",
           "title": {
            "standoff": 15
           },
           "zerolinecolor": "white",
           "zerolinewidth": 2
          }
         }
        },
        "title": {
         "text": "Well level (Cross-Validation)"
        },
        "width": 1000,
        "xaxis": {
         "anchor": "y",
         "domain": [
          0,
          1
         ],
         "title": {
          "text": "Actual Viability"
         }
        },
        "yaxis": {
         "anchor": "x",
         "domain": [
          0,
          1
         ],
         "title": {
          "text": "Predicted Viability"
         }
        }
       }
      }
     },
     "metadata": {},
     "output_type": "display_data"
    },
    {
     "name": "stdout",
     "output_type": "stream",
     "text": [
      "Cross-validated R2 score:  0.9063935283331807\n"
     ]
    }
   ],
   "source": [
    "\n",
    "#plot the predicted vs actual values, and display the regression line and R2 score\n",
    "from sklearn.model_selection import cross_val_predict\n",
    "import plotly.express as px\n",
    "augmentedData = augmentedData.reset_index(drop=True)\n",
    "#randomize row order\n",
    "X = augmentedData.drop(columns=['Compound', 'Concentration', 'Viability','Count'])\n",
    "y = augmentedData['Viability']\n",
    "\n",
    "y_pred = cross_val_predict(rf, X, y, cv=5)\n",
    "# add back the compound and concentration columns\n",
    "y_pred = pd.DataFrame(y_pred, columns=['Viability'])\n",
    "y_pred = pd.concat([augmentedData[['Compound', 'Concentration']], y_pred], axis=1)\n",
    "augmentedData['Prediction'] = y_pred['Viability']\n",
    "\n",
    "fig = px.scatter(augmentedData, x=\"Viability\", y=\"Prediction\", trendline=\"ols\", title='Treat level (Cross-Validation)', hover_data=['Compound', 'Concentration'],\n",
    "                 height=1000, width=1000, trendline_scope = 'overall', color='Compound')\n",
    "fig.update_layout(title='Well level (Cross-Validation)',\n",
    "                     xaxis_title='Actual Viability',\n",
    "                     yaxis_title='Predicted Viability')\n",
    "\n",
    "\n",
    "fig.show()\n",
    "r2_cv = r2_score(augmentedData['Viability'], augmentedData['Prediction'])\n",
    "print('Cross-validated R2 score: ', r2_cv)"
   ]
  },
  {
   "cell_type": "code",
   "execution_count": 64,
   "metadata": {},
   "outputs": [
    {
     "data": {
      "text/html": [
       "<div>\n",
       "<style scoped>\n",
       "    .dataframe tbody tr th:only-of-type {\n",
       "        vertical-align: middle;\n",
       "    }\n",
       "\n",
       "    .dataframe tbody tr th {\n",
       "        vertical-align: top;\n",
       "    }\n",
       "\n",
       "    .dataframe thead th {\n",
       "        text-align: right;\n",
       "    }\n",
       "</style>\n",
       "<table border=\"1\" class=\"dataframe\">\n",
       "  <thead>\n",
       "    <tr style=\"text-align: right;\">\n",
       "      <th></th>\n",
       "      <th>Compound</th>\n",
       "      <th>Concentration</th>\n",
       "      <th>Count</th>\n",
       "      <th>AreaShape_Area (Cells)</th>\n",
       "      <th>AreaShape_BoundingBoxMaximum_X (Cells)</th>\n",
       "      <th>AreaShape_BoundingBoxMaximum_Y (Cells)</th>\n",
       "      <th>AreaShape_BoundingBoxMinimum_X (Cells)</th>\n",
       "      <th>AreaShape_BoundingBoxMinimum_Y (Cells)</th>\n",
       "      <th>AreaShape_Center_X (Cells)</th>\n",
       "      <th>AreaShape_Center_Y (Cells)</th>\n",
       "      <th>...</th>\n",
       "      <th>Texture_Variance_ER_3_03_256 (FilteredNuclei)</th>\n",
       "      <th>Texture_Variance_MITO_3_00_256 (FilteredNuclei)</th>\n",
       "      <th>Texture_Variance_MITO_3_01_256 (FilteredNuclei)</th>\n",
       "      <th>Texture_Variance_MITO_3_02_256 (FilteredNuclei)</th>\n",
       "      <th>Texture_Variance_MITO_3_03_256 (FilteredNuclei)</th>\n",
       "      <th>Texture_Variance_RNA_3_00_256 (FilteredNuclei)</th>\n",
       "      <th>Texture_Variance_RNA_3_01_256 (FilteredNuclei)</th>\n",
       "      <th>Texture_Variance_RNA_3_02_256 (FilteredNuclei)</th>\n",
       "      <th>Texture_Variance_RNA_3_03_256 (FilteredNuclei)</th>\n",
       "      <th>Viability</th>\n",
       "    </tr>\n",
       "  </thead>\n",
       "  <tbody>\n",
       "    <tr>\n",
       "      <th>0</th>\n",
       "      <td>NCAP</td>\n",
       "      <td>30</td>\n",
       "      <td>657.2</td>\n",
       "      <td>0.484584</td>\n",
       "      <td>1.550984</td>\n",
       "      <td>1.081673</td>\n",
       "      <td>1.458567</td>\n",
       "      <td>0.683639</td>\n",
       "      <td>1.580247</td>\n",
       "      <td>1.136553</td>\n",
       "      <td>...</td>\n",
       "      <td>-2.561085</td>\n",
       "      <td>-0.017531</td>\n",
       "      <td>0.024250</td>\n",
       "      <td>0.012477</td>\n",
       "      <td>-0.002019</td>\n",
       "      <td>-2.246122</td>\n",
       "      <td>-2.237506</td>\n",
       "      <td>-2.245002</td>\n",
       "      <td>-2.266022</td>\n",
       "      <td>96.597931</td>\n",
       "    </tr>\n",
       "    <tr>\n",
       "      <th>1</th>\n",
       "      <td>NCAP</td>\n",
       "      <td>30</td>\n",
       "      <td>678.4</td>\n",
       "      <td>0.163440</td>\n",
       "      <td>-1.884026</td>\n",
       "      <td>1.008649</td>\n",
       "      <td>-1.811738</td>\n",
       "      <td>0.756886</td>\n",
       "      <td>-1.909827</td>\n",
       "      <td>1.086644</td>\n",
       "      <td>...</td>\n",
       "      <td>-2.671342</td>\n",
       "      <td>-0.385313</td>\n",
       "      <td>-0.344760</td>\n",
       "      <td>-0.351456</td>\n",
       "      <td>-0.351843</td>\n",
       "      <td>-2.402328</td>\n",
       "      <td>-2.397610</td>\n",
       "      <td>-2.414436</td>\n",
       "      <td>-2.418905</td>\n",
       "      <td>96.597931</td>\n",
       "    </tr>\n",
       "    <tr>\n",
       "      <th>2</th>\n",
       "      <td>NCAP</td>\n",
       "      <td>30</td>\n",
       "      <td>653.6</td>\n",
       "      <td>1.585652</td>\n",
       "      <td>0.229826</td>\n",
       "      <td>-0.159741</td>\n",
       "      <td>0.724417</td>\n",
       "      <td>-0.341819</td>\n",
       "      <td>0.508658</td>\n",
       "      <td>-0.308365</td>\n",
       "      <td>...</td>\n",
       "      <td>-1.972640</td>\n",
       "      <td>-0.798323</td>\n",
       "      <td>-0.780569</td>\n",
       "      <td>-0.789076</td>\n",
       "      <td>-0.805890</td>\n",
       "      <td>-1.666951</td>\n",
       "      <td>-1.688319</td>\n",
       "      <td>-1.653058</td>\n",
       "      <td>-1.656130</td>\n",
       "      <td>96.597931</td>\n",
       "    </tr>\n",
       "    <tr>\n",
       "      <th>3</th>\n",
       "      <td>NCAP</td>\n",
       "      <td>30</td>\n",
       "      <td>678.8</td>\n",
       "      <td>-0.088888</td>\n",
       "      <td>-0.496810</td>\n",
       "      <td>0.351430</td>\n",
       "      <td>-0.209956</td>\n",
       "      <td>-0.195325</td>\n",
       "      <td>-0.285052</td>\n",
       "      <td>0.082756</td>\n",
       "      <td>...</td>\n",
       "      <td>-1.983882</td>\n",
       "      <td>-0.272515</td>\n",
       "      <td>-0.281053</td>\n",
       "      <td>-0.261342</td>\n",
       "      <td>-0.237133</td>\n",
       "      <td>-1.710806</td>\n",
       "      <td>-1.736869</td>\n",
       "      <td>-1.722915</td>\n",
       "      <td>-1.720094</td>\n",
       "      <td>96.597931</td>\n",
       "    </tr>\n",
       "    <tr>\n",
       "      <th>4</th>\n",
       "      <td>NCAP</td>\n",
       "      <td>30</td>\n",
       "      <td>688.4</td>\n",
       "      <td>-1.406359</td>\n",
       "      <td>-2.269490</td>\n",
       "      <td>0.179625</td>\n",
       "      <td>-2.115838</td>\n",
       "      <td>0.544482</td>\n",
       "      <td>-2.251701</td>\n",
       "      <td>0.249832</td>\n",
       "      <td>...</td>\n",
       "      <td>-0.903040</td>\n",
       "      <td>-0.101623</td>\n",
       "      <td>-0.147450</td>\n",
       "      <td>-0.117662</td>\n",
       "      <td>-0.062600</td>\n",
       "      <td>-2.288013</td>\n",
       "      <td>-2.290764</td>\n",
       "      <td>-2.365198</td>\n",
       "      <td>-2.329030</td>\n",
       "      <td>96.597931</td>\n",
       "    </tr>\n",
       "    <tr>\n",
       "      <th>...</th>\n",
       "      <td>...</td>\n",
       "      <td>...</td>\n",
       "      <td>...</td>\n",
       "      <td>...</td>\n",
       "      <td>...</td>\n",
       "      <td>...</td>\n",
       "      <td>...</td>\n",
       "      <td>...</td>\n",
       "      <td>...</td>\n",
       "      <td>...</td>\n",
       "      <td>...</td>\n",
       "      <td>...</td>\n",
       "      <td>...</td>\n",
       "      <td>...</td>\n",
       "      <td>...</td>\n",
       "      <td>...</td>\n",
       "      <td>...</td>\n",
       "      <td>...</td>\n",
       "      <td>...</td>\n",
       "      <td>...</td>\n",
       "      <td>...</td>\n",
       "    </tr>\n",
       "    <tr>\n",
       "      <th>3275</th>\n",
       "      <td>ZIDO</td>\n",
       "      <td>10</td>\n",
       "      <td>635.4</td>\n",
       "      <td>0.979674</td>\n",
       "      <td>0.297763</td>\n",
       "      <td>0.135141</td>\n",
       "      <td>0.589736</td>\n",
       "      <td>0.364955</td>\n",
       "      <td>0.513444</td>\n",
       "      <td>0.368862</td>\n",
       "      <td>...</td>\n",
       "      <td>-1.707316</td>\n",
       "      <td>-0.998949</td>\n",
       "      <td>-1.043873</td>\n",
       "      <td>-1.021137</td>\n",
       "      <td>-1.048704</td>\n",
       "      <td>-1.536208</td>\n",
       "      <td>-1.549852</td>\n",
       "      <td>-1.536072</td>\n",
       "      <td>-1.525473</td>\n",
       "      <td>101.228239</td>\n",
       "    </tr>\n",
       "    <tr>\n",
       "      <th>3276</th>\n",
       "      <td>ZIDO</td>\n",
       "      <td>10</td>\n",
       "      <td>635.8</td>\n",
       "      <td>1.069310</td>\n",
       "      <td>0.596858</td>\n",
       "      <td>-0.184818</td>\n",
       "      <td>0.567377</td>\n",
       "      <td>-0.510049</td>\n",
       "      <td>0.450926</td>\n",
       "      <td>-0.368965</td>\n",
       "      <td>...</td>\n",
       "      <td>-1.186714</td>\n",
       "      <td>-2.597369</td>\n",
       "      <td>-2.622536</td>\n",
       "      <td>-2.619828</td>\n",
       "      <td>-2.578199</td>\n",
       "      <td>-0.855171</td>\n",
       "      <td>-0.826253</td>\n",
       "      <td>-0.851512</td>\n",
       "      <td>-0.885756</td>\n",
       "      <td>101.228239</td>\n",
       "    </tr>\n",
       "    <tr>\n",
       "      <th>3277</th>\n",
       "      <td>ZIDO</td>\n",
       "      <td>10</td>\n",
       "      <td>638.2</td>\n",
       "      <td>0.318708</td>\n",
       "      <td>-0.198953</td>\n",
       "      <td>-1.145107</td>\n",
       "      <td>0.266263</td>\n",
       "      <td>-1.253440</td>\n",
       "      <td>0.030010</td>\n",
       "      <td>-1.335544</td>\n",
       "      <td>...</td>\n",
       "      <td>-1.666207</td>\n",
       "      <td>-1.973629</td>\n",
       "      <td>-2.059334</td>\n",
       "      <td>-2.027878</td>\n",
       "      <td>-1.933142</td>\n",
       "      <td>-1.493846</td>\n",
       "      <td>-1.499028</td>\n",
       "      <td>-1.465447</td>\n",
       "      <td>-1.482572</td>\n",
       "      <td>101.228239</td>\n",
       "    </tr>\n",
       "    <tr>\n",
       "      <th>3278</th>\n",
       "      <td>ZIDO</td>\n",
       "      <td>10</td>\n",
       "      <td>624.8</td>\n",
       "      <td>1.498225</td>\n",
       "      <td>-0.845549</td>\n",
       "      <td>-0.939331</td>\n",
       "      <td>-0.938193</td>\n",
       "      <td>-0.510049</td>\n",
       "      <td>-0.950975</td>\n",
       "      <td>-0.743367</td>\n",
       "      <td>...</td>\n",
       "      <td>-1.439188</td>\n",
       "      <td>-2.232664</td>\n",
       "      <td>-2.199772</td>\n",
       "      <td>-2.131945</td>\n",
       "      <td>-2.141157</td>\n",
       "      <td>-1.336880</td>\n",
       "      <td>-1.341865</td>\n",
       "      <td>-1.356299</td>\n",
       "      <td>-1.328229</td>\n",
       "      <td>101.228239</td>\n",
       "    </tr>\n",
       "    <tr>\n",
       "      <th>3279</th>\n",
       "      <td>ZIDO</td>\n",
       "      <td>10</td>\n",
       "      <td>661.4</td>\n",
       "      <td>-0.217436</td>\n",
       "      <td>0.795811</td>\n",
       "      <td>0.226735</td>\n",
       "      <td>0.968863</td>\n",
       "      <td>-0.807405</td>\n",
       "      <td>0.824993</td>\n",
       "      <td>-0.324558</td>\n",
       "      <td>...</td>\n",
       "      <td>-1.788869</td>\n",
       "      <td>-2.272898</td>\n",
       "      <td>-2.184796</td>\n",
       "      <td>-2.197992</td>\n",
       "      <td>-2.173862</td>\n",
       "      <td>-1.799917</td>\n",
       "      <td>-1.751446</td>\n",
       "      <td>-1.758930</td>\n",
       "      <td>-1.773001</td>\n",
       "      <td>101.228239</td>\n",
       "    </tr>\n",
       "  </tbody>\n",
       "</table>\n",
       "<p>3280 rows × 1628 columns</p>\n",
       "</div>"
      ],
      "text/plain": [
       "     Compound  Concentration  Count  AreaShape_Area (Cells)   \n",
       "0        NCAP             30  657.2                0.484584  \\\n",
       "1        NCAP             30  678.4                0.163440   \n",
       "2        NCAP             30  653.6                1.585652   \n",
       "3        NCAP             30  678.8               -0.088888   \n",
       "4        NCAP             30  688.4               -1.406359   \n",
       "...       ...            ...    ...                     ...   \n",
       "3275     ZIDO             10  635.4                0.979674   \n",
       "3276     ZIDO             10  635.8                1.069310   \n",
       "3277     ZIDO             10  638.2                0.318708   \n",
       "3278     ZIDO             10  624.8                1.498225   \n",
       "3279     ZIDO             10  661.4               -0.217436   \n",
       "\n",
       "      AreaShape_BoundingBoxMaximum_X (Cells)   \n",
       "0                                   1.550984  \\\n",
       "1                                  -1.884026   \n",
       "2                                   0.229826   \n",
       "3                                  -0.496810   \n",
       "4                                  -2.269490   \n",
       "...                                      ...   \n",
       "3275                                0.297763   \n",
       "3276                                0.596858   \n",
       "3277                               -0.198953   \n",
       "3278                               -0.845549   \n",
       "3279                                0.795811   \n",
       "\n",
       "      AreaShape_BoundingBoxMaximum_Y (Cells)   \n",
       "0                                   1.081673  \\\n",
       "1                                   1.008649   \n",
       "2                                  -0.159741   \n",
       "3                                   0.351430   \n",
       "4                                   0.179625   \n",
       "...                                      ...   \n",
       "3275                                0.135141   \n",
       "3276                               -0.184818   \n",
       "3277                               -1.145107   \n",
       "3278                               -0.939331   \n",
       "3279                                0.226735   \n",
       "\n",
       "      AreaShape_BoundingBoxMinimum_X (Cells)   \n",
       "0                                   1.458567  \\\n",
       "1                                  -1.811738   \n",
       "2                                   0.724417   \n",
       "3                                  -0.209956   \n",
       "4                                  -2.115838   \n",
       "...                                      ...   \n",
       "3275                                0.589736   \n",
       "3276                                0.567377   \n",
       "3277                                0.266263   \n",
       "3278                               -0.938193   \n",
       "3279                                0.968863   \n",
       "\n",
       "      AreaShape_BoundingBoxMinimum_Y (Cells)  AreaShape_Center_X (Cells)   \n",
       "0                                   0.683639                    1.580247  \\\n",
       "1                                   0.756886                   -1.909827   \n",
       "2                                  -0.341819                    0.508658   \n",
       "3                                  -0.195325                   -0.285052   \n",
       "4                                   0.544482                   -2.251701   \n",
       "...                                      ...                         ...   \n",
       "3275                                0.364955                    0.513444   \n",
       "3276                               -0.510049                    0.450926   \n",
       "3277                               -1.253440                    0.030010   \n",
       "3278                               -0.510049                   -0.950975   \n",
       "3279                               -0.807405                    0.824993   \n",
       "\n",
       "      AreaShape_Center_Y (Cells)  ...   \n",
       "0                       1.136553  ...  \\\n",
       "1                       1.086644  ...   \n",
       "2                      -0.308365  ...   \n",
       "3                       0.082756  ...   \n",
       "4                       0.249832  ...   \n",
       "...                          ...  ...   \n",
       "3275                    0.368862  ...   \n",
       "3276                   -0.368965  ...   \n",
       "3277                   -1.335544  ...   \n",
       "3278                   -0.743367  ...   \n",
       "3279                   -0.324558  ...   \n",
       "\n",
       "      Texture_Variance_ER_3_03_256 (FilteredNuclei)   \n",
       "0                                         -2.561085  \\\n",
       "1                                         -2.671342   \n",
       "2                                         -1.972640   \n",
       "3                                         -1.983882   \n",
       "4                                         -0.903040   \n",
       "...                                             ...   \n",
       "3275                                      -1.707316   \n",
       "3276                                      -1.186714   \n",
       "3277                                      -1.666207   \n",
       "3278                                      -1.439188   \n",
       "3279                                      -1.788869   \n",
       "\n",
       "      Texture_Variance_MITO_3_00_256 (FilteredNuclei)   \n",
       "0                                           -0.017531  \\\n",
       "1                                           -0.385313   \n",
       "2                                           -0.798323   \n",
       "3                                           -0.272515   \n",
       "4                                           -0.101623   \n",
       "...                                               ...   \n",
       "3275                                        -0.998949   \n",
       "3276                                        -2.597369   \n",
       "3277                                        -1.973629   \n",
       "3278                                        -2.232664   \n",
       "3279                                        -2.272898   \n",
       "\n",
       "      Texture_Variance_MITO_3_01_256 (FilteredNuclei)   \n",
       "0                                            0.024250  \\\n",
       "1                                           -0.344760   \n",
       "2                                           -0.780569   \n",
       "3                                           -0.281053   \n",
       "4                                           -0.147450   \n",
       "...                                               ...   \n",
       "3275                                        -1.043873   \n",
       "3276                                        -2.622536   \n",
       "3277                                        -2.059334   \n",
       "3278                                        -2.199772   \n",
       "3279                                        -2.184796   \n",
       "\n",
       "      Texture_Variance_MITO_3_02_256 (FilteredNuclei)   \n",
       "0                                            0.012477  \\\n",
       "1                                           -0.351456   \n",
       "2                                           -0.789076   \n",
       "3                                           -0.261342   \n",
       "4                                           -0.117662   \n",
       "...                                               ...   \n",
       "3275                                        -1.021137   \n",
       "3276                                        -2.619828   \n",
       "3277                                        -2.027878   \n",
       "3278                                        -2.131945   \n",
       "3279                                        -2.197992   \n",
       "\n",
       "      Texture_Variance_MITO_3_03_256 (FilteredNuclei)   \n",
       "0                                           -0.002019  \\\n",
       "1                                           -0.351843   \n",
       "2                                           -0.805890   \n",
       "3                                           -0.237133   \n",
       "4                                           -0.062600   \n",
       "...                                               ...   \n",
       "3275                                        -1.048704   \n",
       "3276                                        -2.578199   \n",
       "3277                                        -1.933142   \n",
       "3278                                        -2.141157   \n",
       "3279                                        -2.173862   \n",
       "\n",
       "      Texture_Variance_RNA_3_00_256 (FilteredNuclei)   \n",
       "0                                          -2.246122  \\\n",
       "1                                          -2.402328   \n",
       "2                                          -1.666951   \n",
       "3                                          -1.710806   \n",
       "4                                          -2.288013   \n",
       "...                                              ...   \n",
       "3275                                       -1.536208   \n",
       "3276                                       -0.855171   \n",
       "3277                                       -1.493846   \n",
       "3278                                       -1.336880   \n",
       "3279                                       -1.799917   \n",
       "\n",
       "      Texture_Variance_RNA_3_01_256 (FilteredNuclei)   \n",
       "0                                          -2.237506  \\\n",
       "1                                          -2.397610   \n",
       "2                                          -1.688319   \n",
       "3                                          -1.736869   \n",
       "4                                          -2.290764   \n",
       "...                                              ...   \n",
       "3275                                       -1.549852   \n",
       "3276                                       -0.826253   \n",
       "3277                                       -1.499028   \n",
       "3278                                       -1.341865   \n",
       "3279                                       -1.751446   \n",
       "\n",
       "      Texture_Variance_RNA_3_02_256 (FilteredNuclei)   \n",
       "0                                          -2.245002  \\\n",
       "1                                          -2.414436   \n",
       "2                                          -1.653058   \n",
       "3                                          -1.722915   \n",
       "4                                          -2.365198   \n",
       "...                                              ...   \n",
       "3275                                       -1.536072   \n",
       "3276                                       -0.851512   \n",
       "3277                                       -1.465447   \n",
       "3278                                       -1.356299   \n",
       "3279                                       -1.758930   \n",
       "\n",
       "      Texture_Variance_RNA_3_03_256 (FilteredNuclei)   Viability  \n",
       "0                                          -2.266022   96.597931  \n",
       "1                                          -2.418905   96.597931  \n",
       "2                                          -1.656130   96.597931  \n",
       "3                                          -1.720094   96.597931  \n",
       "4                                          -2.329030   96.597931  \n",
       "...                                              ...         ...  \n",
       "3275                                       -1.525473  101.228239  \n",
       "3276                                       -0.885756  101.228239  \n",
       "3277                                       -1.482572  101.228239  \n",
       "3278                                       -1.328229  101.228239  \n",
       "3279                                       -1.773001  101.228239  \n",
       "\n",
       "[3280 rows x 1628 columns]"
      ]
     },
     "execution_count": 64,
     "metadata": {},
     "output_type": "execute_result"
    }
   ],
   "source": [
    "# run the same analysis without aggregation\n",
    "table_per_well2 = table_per_well.drop(columns=['Row', 'Column', 'PlateName'], errors='ignore')\n",
    "\n",
    "#join viability data to the table_per_well, on Compound and Concentration columns\n",
    "per_well_withviability = table_per_well2.merge(viability_table_per_treatment, on=['Compound', 'Concentration'])\n",
    "#drop Unnamed: 0, Plate, Well, all columns ending with _y, and rename 1s luciferase (CPS) to Viability\n",
    "per_well_withviability.rename(columns={'1s luciferase (CPS)': 'Viability'}, inplace=True)\n",
    "per_well_withviability"
   ]
  },
  {
   "cell_type": "code",
   "execution_count": 65,
   "metadata": {},
   "outputs": [
    {
     "name": "stderr",
     "output_type": "stream",
     "text": [
      "dist_matrix:   8%|7         | 47/622 [07:59<1:37:46, 10.20s/it]\n"
     ]
    },
    {
     "ename": "KeyboardInterrupt",
     "evalue": "",
     "output_type": "error",
     "traceback": [
      "\u001b[1;31m---------------------------------------------------------------------------\u001b[0m",
      "\u001b[1;31mKeyboardInterrupt\u001b[0m                         Traceback (most recent call last)",
      "\u001b[1;32mc:\\Users\\Roman\\OneDrive - National University of Ireland, Galway\\Scripts\\CPA-viabilityPrediction.ipynb Cell 14\u001b[0m line \u001b[0;36m1\n\u001b[1;32m----> <a href='vscode-notebook-cell:/c%3A/Users/Roman/OneDrive%20-%20National%20University%20of%20Ireland%2C%20Galway/Scripts/CPA-viabilityPrediction.ipynb#X15sZmlsZQ%3D%3D?line=0'>1</a>\u001b[0m augmentedData2 \u001b[39m=\u001b[39m smogn\u001b[39m.\u001b[39;49msmoter(data \u001b[39m=\u001b[39;49m per_well_withviability, y \u001b[39m=\u001b[39;49m \u001b[39m\"\u001b[39;49m\u001b[39mViability\u001b[39;49m\u001b[39m\"\u001b[39;49m, rel_xtrm_type \u001b[39m=\u001b[39;49m \u001b[39m\"\u001b[39;49m\u001b[39mlow\u001b[39;49m\u001b[39m\"\u001b[39;49m)\n\u001b[0;32m      <a href='vscode-notebook-cell:/c%3A/Users/Roman/OneDrive%20-%20National%20University%20of%20Ireland%2C%20Galway/Scripts/CPA-viabilityPrediction.ipynb#X15sZmlsZQ%3D%3D?line=1'>2</a>\u001b[0m sns\u001b[39m.\u001b[39mkdeplot(per_well_withviability[\u001b[39m'\u001b[39m\u001b[39mViability\u001b[39m\u001b[39m'\u001b[39m], label \u001b[39m=\u001b[39m \u001b[39m\"\u001b[39m\u001b[39mOriginal\u001b[39m\u001b[39m\"\u001b[39m, cut\u001b[39m=\u001b[39m\u001b[39m0\u001b[39m)\n\u001b[0;32m      <a href='vscode-notebook-cell:/c%3A/Users/Roman/OneDrive%20-%20National%20University%20of%20Ireland%2C%20Galway/Scripts/CPA-viabilityPrediction.ipynb#X15sZmlsZQ%3D%3D?line=2'>3</a>\u001b[0m sns\u001b[39m.\u001b[39mkdeplot(augmentedData2[\u001b[39m'\u001b[39m\u001b[39mViability\u001b[39m\u001b[39m'\u001b[39m], label \u001b[39m=\u001b[39m \u001b[39m\"\u001b[39m\u001b[39mSMOGN\u001b[39m\u001b[39m\"\u001b[39m,cut\u001b[39m=\u001b[39m\u001b[39m0\u001b[39m)\n",
      "File \u001b[1;32mc:\\Users\\Roman\\anaconda3\\envs\\bigfile\\Lib\\site-packages\\smogn\\smoter.py:240\u001b[0m, in \u001b[0;36msmoter\u001b[1;34m(data, y, k, pert, samp_method, under_samp, drop_na_col, drop_na_row, replace, rel_thres, rel_method, rel_xtrm_type, rel_coef, rel_ctrl_pts_rg)\u001b[0m\n\u001b[0;32m    234\u001b[0m \u001b[39m## over-sampling\u001b[39;00m\n\u001b[0;32m    235\u001b[0m \u001b[39mif\u001b[39;00m s_perc[i] \u001b[39m>\u001b[39m \u001b[39m1\u001b[39m:\n\u001b[0;32m    236\u001b[0m     \n\u001b[0;32m    237\u001b[0m     \u001b[39m## generate synthetic observations in training set\u001b[39;00m\n\u001b[0;32m    238\u001b[0m     \u001b[39m## considered 'minority'\u001b[39;00m\n\u001b[0;32m    239\u001b[0m     \u001b[39m## (see 'over_sampling()' function for details)\u001b[39;00m\n\u001b[1;32m--> 240\u001b[0m     synth_obs \u001b[39m=\u001b[39m over_sampling(\n\u001b[0;32m    241\u001b[0m         data \u001b[39m=\u001b[39;49m data,\n\u001b[0;32m    242\u001b[0m         index \u001b[39m=\u001b[39;49m \u001b[39mlist\u001b[39;49m(b_index[i]\u001b[39m.\u001b[39;49mindex),\n\u001b[0;32m    243\u001b[0m         perc \u001b[39m=\u001b[39;49m s_perc[i],\n\u001b[0;32m    244\u001b[0m         pert \u001b[39m=\u001b[39;49m pert,\n\u001b[0;32m    245\u001b[0m         k \u001b[39m=\u001b[39;49m k\n\u001b[0;32m    246\u001b[0m     )\n\u001b[0;32m    248\u001b[0m     \u001b[39m## concatenate over-sampling\u001b[39;00m\n\u001b[0;32m    249\u001b[0m     \u001b[39m## results to modified training set\u001b[39;00m\n\u001b[0;32m    250\u001b[0m     data_new \u001b[39m=\u001b[39m pd\u001b[39m.\u001b[39mconcat([synth_obs, data_new])\n",
      "File \u001b[1;32mc:\\Users\\Roman\\anaconda3\\envs\\bigfile\\Lib\\site-packages\\smogn\\over_sampling.py:179\u001b[0m, in \u001b[0;36mover_sampling\u001b[1;34m(data, index, perc, pert, k)\u001b[0m\n\u001b[0;32m    175\u001b[0m \u001b[39m## utilize heom distance given that \u001b[39;00m\n\u001b[0;32m    176\u001b[0m \u001b[39m## data contains both numeric / continuous \u001b[39;00m\n\u001b[0;32m    177\u001b[0m \u001b[39m## and nominal / categorical\u001b[39;00m\n\u001b[0;32m    178\u001b[0m \u001b[39mif\u001b[39;00m feat_count_nom \u001b[39m>\u001b[39m \u001b[39m0\u001b[39m \u001b[39mand\u001b[39;00m feat_count_num \u001b[39m>\u001b[39m \u001b[39m0\u001b[39m:\n\u001b[1;32m--> 179\u001b[0m     dist_matrix[i][j] \u001b[39m=\u001b[39m heom_dist(\n\u001b[0;32m    180\u001b[0m         \n\u001b[0;32m    181\u001b[0m         \u001b[39m## numeric inputs\u001b[39;49;00m\n\u001b[0;32m    182\u001b[0m         a_num \u001b[39m=\u001b[39;49m data_num\u001b[39m.\u001b[39;49miloc[i],\n\u001b[0;32m    183\u001b[0m         b_num \u001b[39m=\u001b[39;49m data_num\u001b[39m.\u001b[39;49miloc[j],\n\u001b[0;32m    184\u001b[0m         d_num \u001b[39m=\u001b[39;49m feat_count_num,\n\u001b[0;32m    185\u001b[0m         ranges_num \u001b[39m=\u001b[39;49m feat_ranges_num,\n\u001b[0;32m    186\u001b[0m         \n\u001b[0;32m    187\u001b[0m         \u001b[39m## nominal inputs\u001b[39;49;00m\n\u001b[0;32m    188\u001b[0m         a_nom \u001b[39m=\u001b[39;49m data_nom\u001b[39m.\u001b[39;49miloc[i],\n\u001b[0;32m    189\u001b[0m         b_nom \u001b[39m=\u001b[39;49m data_nom\u001b[39m.\u001b[39;49miloc[j],\n\u001b[0;32m    190\u001b[0m         d_nom \u001b[39m=\u001b[39;49m feat_count_nom\n\u001b[0;32m    191\u001b[0m     )\n\u001b[0;32m    193\u001b[0m \u001b[39m## utilize hamming distance given that \u001b[39;00m\n\u001b[0;32m    194\u001b[0m \u001b[39m## data is all nominal / categorical\u001b[39;00m\n\u001b[0;32m    195\u001b[0m \u001b[39mif\u001b[39;00m feat_count_num \u001b[39m==\u001b[39m \u001b[39m0\u001b[39m:\n",
      "File \u001b[1;32mc:\\Users\\Roman\\anaconda3\\envs\\bigfile\\Lib\\site-packages\\smogn\\dist_metrics.py:64\u001b[0m, in \u001b[0;36mheom_dist\u001b[1;34m(a_num, b_num, d_num, ranges_num, a_nom, b_nom, d_nom)\u001b[0m\n\u001b[0;32m     56\u001b[0m \u001b[39mfor\u001b[39;00m i \u001b[39min\u001b[39;00m \u001b[39mrange\u001b[39m(d_num):\n\u001b[0;32m     57\u001b[0m     \n\u001b[0;32m     58\u001b[0m     \u001b[39m## epsilon utilized to avoid division by zero\u001b[39;00m\n\u001b[0;32m     59\u001b[0m     \u001b[39mif\u001b[39;00m ranges_num[i] \u001b[39m>\u001b[39m eps:\n\u001b[0;32m     60\u001b[0m     \n\u001b[0;32m     61\u001b[0m         \u001b[39m## the absolute value of the differences between values in\u001b[39;00m\n\u001b[0;32m     62\u001b[0m         \u001b[39m## vectors a and b of equal length, divided by their range, squared\u001b[39;00m\n\u001b[0;32m     63\u001b[0m         \u001b[39m## (division by range conducted for normalization)\u001b[39;00m\n\u001b[1;32m---> 64\u001b[0m         dist[i] \u001b[39m=\u001b[39m (\u001b[39mabs\u001b[39m(a_num\u001b[39m.\u001b[39;49miloc[i] \u001b[39m-\u001b[39m b_num\u001b[39m.\u001b[39miloc[i]) \u001b[39m/\u001b[39m ranges_num[i]) \u001b[39m*\u001b[39m\u001b[39m*\u001b[39m \u001b[39m2\u001b[39m\n\u001b[0;32m     66\u001b[0m \u001b[39m## loop through columns to calculate hamming\u001b[39;00m\n\u001b[0;32m     67\u001b[0m \u001b[39m## distance for nominal / categorical features\u001b[39;00m\n\u001b[0;32m     68\u001b[0m \u001b[39mfor\u001b[39;00m i \u001b[39min\u001b[39;00m \u001b[39mrange\u001b[39m(d_nom):\n\u001b[0;32m     69\u001b[0m     \n\u001b[0;32m     70\u001b[0m     \u001b[39m## distance equals 0 for values that are equal\u001b[39;00m\n\u001b[0;32m     71\u001b[0m     \u001b[39m## in two vectors a and b of equal length\u001b[39;00m\n",
      "File \u001b[1;32mc:\\Users\\Roman\\anaconda3\\envs\\bigfile\\Lib\\site-packages\\pandas\\core\\indexing.py:1103\u001b[0m, in \u001b[0;36m_LocationIndexer.__getitem__\u001b[1;34m(self, key)\u001b[0m\n\u001b[0;32m   1100\u001b[0m axis \u001b[39m=\u001b[39m \u001b[39mself\u001b[39m\u001b[39m.\u001b[39maxis \u001b[39mor\u001b[39;00m \u001b[39m0\u001b[39m\n\u001b[0;32m   1102\u001b[0m maybe_callable \u001b[39m=\u001b[39m com\u001b[39m.\u001b[39mapply_if_callable(key, \u001b[39mself\u001b[39m\u001b[39m.\u001b[39mobj)\n\u001b[1;32m-> 1103\u001b[0m \u001b[39mreturn\u001b[39;00m \u001b[39mself\u001b[39;49m\u001b[39m.\u001b[39;49m_getitem_axis(maybe_callable, axis\u001b[39m=\u001b[39;49maxis)\n",
      "File \u001b[1;32mc:\\Users\\Roman\\anaconda3\\envs\\bigfile\\Lib\\site-packages\\pandas\\core\\indexing.py:1641\u001b[0m, in \u001b[0;36m_iLocIndexer._getitem_axis\u001b[1;34m(self, key, axis)\u001b[0m\n\u001b[0;32m   1638\u001b[0m \u001b[39mif\u001b[39;00m \u001b[39misinstance\u001b[39m(key, \u001b[39mlist\u001b[39m):\n\u001b[0;32m   1639\u001b[0m     key \u001b[39m=\u001b[39m np\u001b[39m.\u001b[39masarray(key)\n\u001b[1;32m-> 1641\u001b[0m \u001b[39mif\u001b[39;00m com\u001b[39m.\u001b[39;49mis_bool_indexer(key):\n\u001b[0;32m   1642\u001b[0m     \u001b[39mself\u001b[39m\u001b[39m.\u001b[39m_validate_key(key, axis)\n\u001b[0;32m   1643\u001b[0m     \u001b[39mreturn\u001b[39;00m \u001b[39mself\u001b[39m\u001b[39m.\u001b[39m_getbool_axis(key, axis\u001b[39m=\u001b[39maxis)\n",
      "File \u001b[1;32mc:\\Users\\Roman\\anaconda3\\envs\\bigfile\\Lib\\site-packages\\pandas\\core\\common.py:123\u001b[0m, in \u001b[0;36mis_bool_indexer\u001b[1;34m(key)\u001b[0m\n\u001b[0;32m     95\u001b[0m \u001b[39mdef\u001b[39;00m \u001b[39mis_bool_indexer\u001b[39m(key: Any) \u001b[39m-\u001b[39m\u001b[39m>\u001b[39m \u001b[39mbool\u001b[39m:\n\u001b[0;32m     96\u001b[0m     \u001b[39m\"\"\"\u001b[39;00m\n\u001b[0;32m     97\u001b[0m \u001b[39m    Check whether `key` is a valid boolean indexer.\u001b[39;00m\n\u001b[0;32m     98\u001b[0m \n\u001b[1;32m   (...)\u001b[0m\n\u001b[0;32m    121\u001b[0m \u001b[39m        and convert to an ndarray.\u001b[39;00m\n\u001b[0;32m    122\u001b[0m \u001b[39m    \"\"\"\u001b[39;00m\n\u001b[1;32m--> 123\u001b[0m     \u001b[39mif\u001b[39;00m \u001b[39misinstance\u001b[39m(key, (ABCSeries, np\u001b[39m.\u001b[39mndarray, ABCIndex)) \u001b[39mor\u001b[39;00m (\n\u001b[0;32m    124\u001b[0m         is_array_like(key) \u001b[39mand\u001b[39;00m is_extension_array_dtype(key\u001b[39m.\u001b[39mdtype)\n\u001b[0;32m    125\u001b[0m     ):\n\u001b[0;32m    126\u001b[0m         \u001b[39mif\u001b[39;00m key\u001b[39m.\u001b[39mdtype \u001b[39m==\u001b[39m np\u001b[39m.\u001b[39mobject_:\n\u001b[0;32m    127\u001b[0m             key_array \u001b[39m=\u001b[39m np\u001b[39m.\u001b[39masarray(key)\n",
      "File \u001b[1;32mc:\\Users\\Roman\\anaconda3\\envs\\bigfile\\Lib\\site-packages\\pandas\\core\\dtypes\\generic.py:44\u001b[0m, in \u001b[0;36mcreate_pandas_abc_type.<locals>._instancecheck\u001b[1;34m(cls, inst)\u001b[0m\n\u001b[0;32m     42\u001b[0m \u001b[39m@classmethod\u001b[39m  \u001b[39m# type: ignore[misc]\u001b[39;00m\n\u001b[0;32m     43\u001b[0m \u001b[39mdef\u001b[39;00m \u001b[39m_instancecheck\u001b[39m(\u001b[39mcls\u001b[39m, inst) \u001b[39m-\u001b[39m\u001b[39m>\u001b[39m \u001b[39mbool\u001b[39m:\n\u001b[1;32m---> 44\u001b[0m     \u001b[39mreturn\u001b[39;00m _check(inst) \u001b[39mand\u001b[39;00m \u001b[39mnot\u001b[39;00m \u001b[39misinstance\u001b[39m(inst, \u001b[39mtype\u001b[39m)\n",
      "File \u001b[1;32mc:\\Users\\Roman\\anaconda3\\envs\\bigfile\\Lib\\site-packages\\pandas\\core\\dtypes\\generic.py:37\u001b[0m, in \u001b[0;36mcreate_pandas_abc_type.<locals>._check\u001b[1;34m(inst)\u001b[0m\n\u001b[0;32m     36\u001b[0m \u001b[39mdef\u001b[39;00m \u001b[39mcreate_pandas_abc_type\u001b[39m(name, attr, comp):\n\u001b[1;32m---> 37\u001b[0m     \u001b[39mdef\u001b[39;00m \u001b[39m_check\u001b[39m(inst) \u001b[39m-\u001b[39m\u001b[39m>\u001b[39m \u001b[39mbool\u001b[39m:\n\u001b[0;32m     38\u001b[0m         \u001b[39mreturn\u001b[39;00m \u001b[39mgetattr\u001b[39m(inst, attr, \u001b[39m\"\u001b[39m\u001b[39m_typ\u001b[39m\u001b[39m\"\u001b[39m) \u001b[39min\u001b[39;00m comp\n\u001b[0;32m     40\u001b[0m     \u001b[39m# https://github.com/python/mypy/issues/1006\u001b[39;00m\n\u001b[0;32m     41\u001b[0m     \u001b[39m# error: 'classmethod' used with a non-method\u001b[39;00m\n",
      "\u001b[1;31mKeyboardInterrupt\u001b[0m: "
     ]
    }
   ],
   "source": [
    "augmentedData2 = smogn.smoter(data = per_well_withviability, y = \"Viability\", rel_xtrm_type = \"low\")\n",
    "sns.kdeplot(per_well_withviability['Viability'], label = \"Original\", cut=0)\n",
    "sns.kdeplot(augmentedData2['Viability'], label = \"SMOGN\",cut=0)\n",
    "plt.legend()"
   ]
  },
  {
   "cell_type": "code",
   "execution_count": null,
   "metadata": {},
   "outputs": [
    {
     "name": "stdout",
     "output_type": "stream",
     "text": [
      "Mean squared error:  13.086567522067755\n",
      "R2 score:  0.8928685729193934\n"
     ]
    }
   ],
   "source": [
    "#train a random forest regressor to predict viability from the other features\n",
    "#split the data into train and test sets\n",
    "curatedData = drop_correlated_columns(per_well_withviability.query('Viability < 97'), 0.9, numeric=True)\n",
    "X2 = curatedData.drop(columns=['Compound', 'Concentration', 'Viability','Count']).dropna(axis=1)\n",
    "y2 = curatedData['Viability']\n",
    "X_train2, X_test2, y_train2, y_test2 = train_test_split(X2, y2, test_size=0.1, random_state=111)\n",
    "\n",
    "#train the model\n",
    "rf2 = RandomForestRegressor(n_estimators=100, random_state=72)\n",
    "rf2.fit(X_train2, y_train2)\n",
    "\n",
    "#predict the viability values for the test set\n",
    "y_pred2 = rf2.predict(X_test2)\n",
    "\n",
    "#calculate the mean squared error and the R2 score\n",
    "mse2 = mean_squared_error(y_test2, y_pred2)\n",
    "r22 = r2_score(y_test2, y_pred2)\n",
    "print('Mean squared error: ', mse)\n",
    "print('R2 score: ', r22)\n"
   ]
  },
  {
   "cell_type": "code",
   "execution_count": null,
   "metadata": {},
   "outputs": [
    {
     "data": {
      "image/png": "[encoded data removed]",
      "text/plain": [
       "<Figure size 640x480 with 1 Axes>"
      ]
     },
     "metadata": {},
     "output_type": "display_data"
    }
   ],
   "source": [
    "\n",
    "#add the regression line to the plot, make the plot square\n",
    "plt.scatter(y_test2, y_pred2 )\n",
    "plt.xlabel('Actual Viability')\n",
    "plt.ylabel('Predicted Viability')\n",
    "plt.title('Predicted Viability vs Actual Viability')\n",
    "plt.plot([0, 1], [0, 1], transform=plt.gca().transAxes, ls=\"--\", c=\".3\")\n",
    "plt.show()"
   ]
  },
  {
   "cell_type": "code",
   "execution_count": null,
   "metadata": {},
   "outputs": [
    {
     "data": {
      "text/html": [
       "<div>\n",
       "<style scoped>\n",
       "    .dataframe tbody tr th:only-of-type {\n",
       "        vertical-align: middle;\n",
       "    }\n",
       "\n",
       "    .dataframe tbody tr th {\n",
       "        vertical-align: top;\n",
       "    }\n",
       "\n",
       "    .dataframe thead th {\n",
       "        text-align: right;\n",
       "    }\n",
       "</style>\n",
       "<table border=\"1\" class=\"dataframe\">\n",
       "  <thead>\n",
       "    <tr style=\"text-align: right;\">\n",
       "      <th></th>\n",
       "      <th>importance</th>\n",
       "    </tr>\n",
       "  </thead>\n",
       "  <tbody>\n",
       "    <tr>\n",
       "      <th>Cytoplasm 488 Profile 4/5 SER-Edge</th>\n",
       "      <td>0.350247</td>\n",
       "    </tr>\n",
       "    <tr>\n",
       "      <th>Nucleus 33342 Profile 5/5</th>\n",
       "      <td>0.178366</td>\n",
       "    </tr>\n",
       "    <tr>\n",
       "      <th>Cytoplasm Mito Profile 4/5 SER-Bright</th>\n",
       "      <td>0.123103</td>\n",
       "    </tr>\n",
       "    <tr>\n",
       "      <th>Cytoplasm 33342 Profile 3/5 SER-Hole</th>\n",
       "      <td>0.016715</td>\n",
       "    </tr>\n",
       "    <tr>\n",
       "      <th>Cytoplasm 33342 Profile 3/5 SER-Edge</th>\n",
       "      <td>0.012692</td>\n",
       "    </tr>\n",
       "    <tr>\n",
       "      <th>Cytoplasm 488 Profile 3/5 SER-Dark</th>\n",
       "      <td>0.011226</td>\n",
       "    </tr>\n",
       "    <tr>\n",
       "      <th>Cell 33342 Radial Mean</th>\n",
       "      <td>0.011040</td>\n",
       "    </tr>\n",
       "    <tr>\n",
       "      <th>Cell 488 Radial Mean Ratio SER-Dark</th>\n",
       "      <td>0.009542</td>\n",
       "    </tr>\n",
       "    <tr>\n",
       "      <th>Intensity Cytoplasm Alexa 568 Mean</th>\n",
       "      <td>0.008704</td>\n",
       "    </tr>\n",
       "    <tr>\n",
       "      <th>Nucleus 33342 Radial Mean Ratio SER-Bright</th>\n",
       "      <td>0.008264</td>\n",
       "    </tr>\n",
       "  </tbody>\n",
       "</table>\n",
       "</div>"
      ],
      "text/plain": [
       "                                            importance\n",
       "Cytoplasm 488 Profile 4/5 SER-Edge            0.350247\n",
       "Nucleus 33342 Profile 5/5                     0.178366\n",
       "Cytoplasm Mito Profile 4/5 SER-Bright         0.123103\n",
       "Cytoplasm 33342 Profile 3/5 SER-Hole          0.016715\n",
       "Cytoplasm 33342 Profile 3/5 SER-Edge          0.012692\n",
       "Cytoplasm 488 Profile 3/5 SER-Dark            0.011226\n",
       "Cell 33342 Radial Mean                        0.011040\n",
       "Cell 488 Radial Mean Ratio SER-Dark           0.009542\n",
       "Intensity Cytoplasm Alexa 568 Mean            0.008704\n",
       "Nucleus 33342 Radial Mean Ratio SER-Bright    0.008264"
      ]
     },
     "execution_count": 103,
     "metadata": {},
     "output_type": "execute_result"
    }
   ],
   "source": [
    "feature_importances2 = pd.DataFrame(rf2.feature_importances_, index = X_train2.columns, columns=['importance']).sort_values('importance', ascending=False)\n",
    "feature_importances2.head(10)"
   ]
  },
  {
   "cell_type": "code",
   "execution_count": null,
   "metadata": {},
   "outputs": [
    {
     "name": "stdout",
     "output_type": "stream",
     "text": [
      "Cross-validation scores:  [0.88944951 0.83283827 0.87190141 0.89354614 0.86880426]\n",
      "Mean score:  0.8713079173678405\n",
      "Standard deviation:  0.021495068675252357\n"
     ]
    }
   ],
   "source": [
    "from sklearn.model_selection import cross_val_score\n",
    "from sklearn.model_selection import ShuffleSplit\n",
    "cv_scores = cross_val_score(rf2, X2, y2, cv=ShuffleSplit(n_splits=5, test_size=0.1, random_state=0))\n",
    "\n",
    "print(\"Cross-validation scores: \", cv_scores)\n",
    "print(\"Mean score: \", np.mean(cv_scores))\n",
    "print(\"Standard deviation: \", np.std(cv_scores))\n"
   ]
  }
 ],
 "metadata": {
  "kernelspec": {
   "display_name": "bigfile",
   "language": "python",
   "name": "python3"
  },
  "language_info": {
   "codemirror_mode": {
    "name": "ipython",
    "version": 3
   },
   "file_extension": ".py",
   "mimetype": "text/x-python",
   "name": "python",
   "nbconvert_exporter": "python",
   "pygments_lexer": "ipython3",
   "version": "3.11.0"
  },
  "orig_nbformat": 4,
  "vscode": {
   "interpreter": {
    "hash": "1791e34c410148c5154a9c01c77deebe5ebbf3457cdeed8fd89d2531abae0029"
   }
  }
 },
 "nbformat": 4,
 "nbformat_minor": 2
}
