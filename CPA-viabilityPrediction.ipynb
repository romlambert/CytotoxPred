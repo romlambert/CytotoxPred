{
 "cells": [
  {
   "cell_type": "markdown",
   "metadata": {},
   "source": [
    "# **Prediction of cell viability from Cell Painting profiles**\n",
    "This notebook is used to build a Random Forest model for the prediction of cell viability from Cell Painting profiles extracted with CellProfiler or Harmony.\n",
    "A data oversampling algorithm can be applied to the training set to balance the number of samples in each class.\n",
    "\n",
    "**Data input and basic formatting:**"
   ]
  },
  {
   "cell_type": "code",
   "execution_count": 15,
   "metadata": {},
   "outputs": [
    {
     "data": {
      "text/html": [
       "<div>\n",
       "<style scoped>\n",
       "    .dataframe tbody tr th:only-of-type {\n",
       "        vertical-align: middle;\n",
       "    }\n",
       "\n",
       "    .dataframe tbody tr th {\n",
       "        vertical-align: top;\n",
       "    }\n",
       "\n",
       "    .dataframe thead th {\n",
       "        text-align: right;\n",
       "    }\n",
       "</style>\n",
       "<table border=\"1\" class=\"dataframe\">\n",
       "  <thead>\n",
       "    <tr style=\"text-align: right;\">\n",
       "      <th></th>\n",
       "      <th>Unnamed: 0</th>\n",
       "      <th>Plate</th>\n",
       "      <th>Well</th>\n",
       "      <th>1s luciferase (CPS)</th>\n",
       "      <th>Row</th>\n",
       "      <th>Column</th>\n",
       "      <th>Concentration</th>\n",
       "      <th>Compound</th>\n",
       "    </tr>\n",
       "  </thead>\n",
       "  <tbody>\n",
       "    <tr>\n",
       "      <th>0</th>\n",
       "      <td>0</td>\n",
       "      <td>aB1</td>\n",
       "      <td>A01</td>\n",
       "      <td>0.420143</td>\n",
       "      <td>1</td>\n",
       "      <td>1</td>\n",
       "      <td>0</td>\n",
       "      <td>none</td>\n",
       "    </tr>\n",
       "    <tr>\n",
       "      <th>1</th>\n",
       "      <td>1</td>\n",
       "      <td>aB1</td>\n",
       "      <td>A02</td>\n",
       "      <td>0.701689</td>\n",
       "      <td>1</td>\n",
       "      <td>2</td>\n",
       "      <td>0</td>\n",
       "      <td>none</td>\n",
       "    </tr>\n",
       "    <tr>\n",
       "      <th>2</th>\n",
       "      <td>2</td>\n",
       "      <td>aB1</td>\n",
       "      <td>A03</td>\n",
       "      <td>115.530466</td>\n",
       "      <td>1</td>\n",
       "      <td>3</td>\n",
       "      <td>0</td>\n",
       "      <td>none</td>\n",
       "    </tr>\n",
       "    <tr>\n",
       "      <th>3</th>\n",
       "      <td>3</td>\n",
       "      <td>aB1</td>\n",
       "      <td>A04</td>\n",
       "      <td>117.776712</td>\n",
       "      <td>1</td>\n",
       "      <td>4</td>\n",
       "      <td>0</td>\n",
       "      <td>none</td>\n",
       "    </tr>\n",
       "    <tr>\n",
       "      <th>4</th>\n",
       "      <td>4</td>\n",
       "      <td>aB1</td>\n",
       "      <td>A05</td>\n",
       "      <td>113.804258</td>\n",
       "      <td>1</td>\n",
       "      <td>5</td>\n",
       "      <td>0</td>\n",
       "      <td>none</td>\n",
       "    </tr>\n",
       "    <tr>\n",
       "      <th>...</th>\n",
       "      <td>...</td>\n",
       "      <td>...</td>\n",
       "      <td>...</td>\n",
       "      <td>...</td>\n",
       "      <td>...</td>\n",
       "      <td>...</td>\n",
       "      <td>...</td>\n",
       "      <td>...</td>\n",
       "    </tr>\n",
       "    <tr>\n",
       "      <th>9731</th>\n",
       "      <td>259</td>\n",
       "      <td>gT5</td>\n",
       "      <td>N19</td>\n",
       "      <td>107.674235</td>\n",
       "      <td>14</td>\n",
       "      <td>19</td>\n",
       "      <td>10000</td>\n",
       "      <td>ZIDO</td>\n",
       "    </tr>\n",
       "    <tr>\n",
       "      <th>9732</th>\n",
       "      <td>260</td>\n",
       "      <td>gT5</td>\n",
       "      <td>N20</td>\n",
       "      <td>103.564534</td>\n",
       "      <td>14</td>\n",
       "      <td>20</td>\n",
       "      <td>10000</td>\n",
       "      <td>ZIDO</td>\n",
       "    </tr>\n",
       "    <tr>\n",
       "      <th>9733</th>\n",
       "      <td>261</td>\n",
       "      <td>gT5</td>\n",
       "      <td>N21</td>\n",
       "      <td>102.288023</td>\n",
       "      <td>14</td>\n",
       "      <td>21</td>\n",
       "      <td>30000</td>\n",
       "      <td>ZIDO</td>\n",
       "    </tr>\n",
       "    <tr>\n",
       "      <th>9734</th>\n",
       "      <td>262</td>\n",
       "      <td>gT5</td>\n",
       "      <td>N22</td>\n",
       "      <td>104.278182</td>\n",
       "      <td>14</td>\n",
       "      <td>22</td>\n",
       "      <td>30000</td>\n",
       "      <td>ZIDO</td>\n",
       "    </tr>\n",
       "    <tr>\n",
       "      <th>9735</th>\n",
       "      <td>263</td>\n",
       "      <td>gT5</td>\n",
       "      <td>N23</td>\n",
       "      <td>0.163236</td>\n",
       "      <td>14</td>\n",
       "      <td>23</td>\n",
       "      <td>0</td>\n",
       "      <td>none</td>\n",
       "    </tr>\n",
       "  </tbody>\n",
       "</table>\n",
       "<p>9736 rows × 8 columns</p>\n",
       "</div>"
      ],
      "text/plain": [
       "      Unnamed: 0 Plate Well  1s luciferase (CPS)  Row  Column  Concentration   \n",
       "0              0   aB1  A01             0.420143    1       1              0  \\\n",
       "1              1   aB1  A02             0.701689    1       2              0   \n",
       "2              2   aB1  A03           115.530466    1       3              0   \n",
       "3              3   aB1  A04           117.776712    1       4              0   \n",
       "4              4   aB1  A05           113.804258    1       5              0   \n",
       "...          ...   ...  ...                  ...  ...     ...            ...   \n",
       "9731         259   gT5  N19           107.674235   14      19          10000   \n",
       "9732         260   gT5  N20           103.564534   14      20          10000   \n",
       "9733         261   gT5  N21           102.288023   14      21          30000   \n",
       "9734         262   gT5  N22           104.278182   14      22          30000   \n",
       "9735         263   gT5  N23             0.163236   14      23              0   \n",
       "\n",
       "     Compound  \n",
       "0        none  \n",
       "1        none  \n",
       "2        none  \n",
       "3        none  \n",
       "4        none  \n",
       "...       ...  \n",
       "9731     ZIDO  \n",
       "9732     ZIDO  \n",
       "9733     ZIDO  \n",
       "9734     ZIDO  \n",
       "9735     none  \n",
       "\n",
       "[9736 rows x 8 columns]"
      ]
     },
     "execution_count": 15,
     "metadata": {},
     "output_type": "execute_result"
    }
   ],
   "source": [
    "import warnings\n",
    "warnings.simplefilter(action='ignore', category=FutureWarning)\n",
    "import pandas as pd\n",
    "import seaborn as sns\n",
    "import matplotlib.pyplot as plt\n",
    "from toxifate import *\n",
    "from sklearn.model_selection import train_test_split\n",
    "from sklearn.ensemble import RandomForestRegressor\n",
    "from sklearn.metrics import mean_squared_error\n",
    "from sklearn.metrics import r2_score\n",
    "import smogn\n",
    "import numpy as np\n",
    "import plotly.express as px\n",
    "\n",
    "SMOGN = 'True'\n",
    "\n",
    "csv_per_well = \"C:\\\\Users\\\\Roman\\\\OneDrive - National University of Ireland, Galway\\\\CellPainting project data\\\\CellProfiler\\\\PerWell\\\\tubesPolyByWellProfiler.csv\"\n",
    "viability_file = \"C:\\\\Users\\\\Roman\\\\OneDrive - National University of Ireland, Galway\\\\plate reader\\\\CTG-fullWellNormresults.csv\"\n",
    "\n",
    "fileFormat = 'cp' # 'harmony' or 'cp'\n",
    "viability_table_per_well = pd.read_csv(viability_file)\n",
    "\n",
    "table_per_well = pd.read_csv(csv_per_well)\n",
    "if fileFormat == 'harmony':\n",
    "    table_per_well = table_per_well.drop(columns=['Unnamed: 0'])\n",
    "elif fileFormat == 'cp':\n",
    "    table_per_well = table_per_well.drop(columns=['Unnamed: 0'])\n",
    "viability_table_per_well"
   ]
  },
  {
   "cell_type": "markdown",
   "metadata": {},
   "source": [
    "# Data formatting and merging with viability data\n",
    "File format recognition (CellProfiler or Harmony). \n",
    "Grouping viability table and profile table by drug and concentration using the median value"
   ]
  },
  {
   "cell_type": "code",
   "execution_count": 16,
   "metadata": {},
   "outputs": [
    {
     "data": {
      "text/html": [
       "<div>\n",
       "<style scoped>\n",
       "    .dataframe tbody tr th:only-of-type {\n",
       "        vertical-align: middle;\n",
       "    }\n",
       "\n",
       "    .dataframe tbody tr th {\n",
       "        vertical-align: top;\n",
       "    }\n",
       "\n",
       "    .dataframe thead th {\n",
       "        text-align: right;\n",
       "    }\n",
       "</style>\n",
       "<table border=\"1\" class=\"dataframe\">\n",
       "  <thead>\n",
       "    <tr style=\"text-align: right;\">\n",
       "      <th></th>\n",
       "      <th>Compound</th>\n",
       "      <th>Concentration</th>\n",
       "      <th>Count</th>\n",
       "      <th>Viability</th>\n",
       "      <th>AreaShape_Area (Nuclei)</th>\n",
       "      <th>AreaShape_BoundingBoxMaximum_X (Nuclei)</th>\n",
       "      <th>AreaShape_BoundingBoxMaximum_Y (Nuclei)</th>\n",
       "      <th>AreaShape_BoundingBoxMinimum_X (Nuclei)</th>\n",
       "      <th>AreaShape_BoundingBoxMinimum_Y (Nuclei)</th>\n",
       "      <th>AreaShape_Center_X (Nuclei)</th>\n",
       "      <th>...</th>\n",
       "      <th>Texture_Variance_ER_3_02_256 (Tubes)</th>\n",
       "      <th>Texture_Variance_ER_3_03_256 (Tubes)</th>\n",
       "      <th>Texture_Variance_MITO_3_00_256 (Tubes)</th>\n",
       "      <th>Texture_Variance_MITO_3_01_256 (Tubes)</th>\n",
       "      <th>Texture_Variance_MITO_3_02_256 (Tubes)</th>\n",
       "      <th>Texture_Variance_MITO_3_03_256 (Tubes)</th>\n",
       "      <th>Texture_Variance_RNA_3_00_256 (Tubes)</th>\n",
       "      <th>Texture_Variance_RNA_3_01_256 (Tubes)</th>\n",
       "      <th>Texture_Variance_RNA_3_02_256 (Tubes)</th>\n",
       "      <th>Texture_Variance_RNA_3_03_256 (Tubes)</th>\n",
       "    </tr>\n",
       "  </thead>\n",
       "  <tbody>\n",
       "    <tr>\n",
       "      <th>0</th>\n",
       "      <td>ATOR</td>\n",
       "      <td>10</td>\n",
       "      <td>174.1</td>\n",
       "      <td>98.262090</td>\n",
       "      <td>-0.416554</td>\n",
       "      <td>0.439721</td>\n",
       "      <td>-0.067363</td>\n",
       "      <td>0.398059</td>\n",
       "      <td>-0.070208</td>\n",
       "      <td>0.391460</td>\n",
       "      <td>...</td>\n",
       "      <td>-0.681490</td>\n",
       "      <td>-0.634247</td>\n",
       "      <td>0.364182</td>\n",
       "      <td>0.371763</td>\n",
       "      <td>0.412353</td>\n",
       "      <td>0.457564</td>\n",
       "      <td>-0.499347</td>\n",
       "      <td>-0.356443</td>\n",
       "      <td>-0.340559</td>\n",
       "      <td>-0.730945</td>\n",
       "    </tr>\n",
       "    <tr>\n",
       "      <th>1</th>\n",
       "      <td>ATOR</td>\n",
       "      <td>30</td>\n",
       "      <td>180.9</td>\n",
       "      <td>94.406498</td>\n",
       "      <td>-0.364728</td>\n",
       "      <td>0.004944</td>\n",
       "      <td>0.274704</td>\n",
       "      <td>-0.001199</td>\n",
       "      <td>0.268512</td>\n",
       "      <td>-0.001458</td>\n",
       "      <td>...</td>\n",
       "      <td>0.861161</td>\n",
       "      <td>0.841876</td>\n",
       "      <td>1.087101</td>\n",
       "      <td>1.086995</td>\n",
       "      <td>1.086221</td>\n",
       "      <td>1.086681</td>\n",
       "      <td>0.786716</td>\n",
       "      <td>0.523160</td>\n",
       "      <td>0.566125</td>\n",
       "      <td>0.992816</td>\n",
       "    </tr>\n",
       "    <tr>\n",
       "      <th>2</th>\n",
       "      <td>ATOR</td>\n",
       "      <td>100</td>\n",
       "      <td>167.0</td>\n",
       "      <td>95.387465</td>\n",
       "      <td>0.023552</td>\n",
       "      <td>-0.336701</td>\n",
       "      <td>0.365684</td>\n",
       "      <td>-0.329487</td>\n",
       "      <td>0.367612</td>\n",
       "      <td>-0.348614</td>\n",
       "      <td>...</td>\n",
       "      <td>0.861161</td>\n",
       "      <td>0.841876</td>\n",
       "      <td>0.364182</td>\n",
       "      <td>0.371763</td>\n",
       "      <td>0.412353</td>\n",
       "      <td>0.457564</td>\n",
       "      <td>0.053585</td>\n",
       "      <td>0.523160</td>\n",
       "      <td>0.227609</td>\n",
       "      <td>-0.040317</td>\n",
       "    </tr>\n",
       "    <tr>\n",
       "      <th>3</th>\n",
       "      <td>ATOR</td>\n",
       "      <td>300</td>\n",
       "      <td>167.1</td>\n",
       "      <td>91.679638</td>\n",
       "      <td>-0.409997</td>\n",
       "      <td>-0.151827</td>\n",
       "      <td>0.226834</td>\n",
       "      <td>-0.131013</td>\n",
       "      <td>0.230880</td>\n",
       "      <td>-0.148479</td>\n",
       "      <td>...</td>\n",
       "      <td>-0.002469</td>\n",
       "      <td>0.120988</td>\n",
       "      <td>0.364182</td>\n",
       "      <td>0.371763</td>\n",
       "      <td>0.412353</td>\n",
       "      <td>0.457564</td>\n",
       "      <td>-0.326950</td>\n",
       "      <td>0.167852</td>\n",
       "      <td>-0.013015</td>\n",
       "      <td>-0.732488</td>\n",
       "    </tr>\n",
       "    <tr>\n",
       "      <th>4</th>\n",
       "      <td>ATOR</td>\n",
       "      <td>1000</td>\n",
       "      <td>191.7</td>\n",
       "      <td>93.215158</td>\n",
       "      <td>-0.225798</td>\n",
       "      <td>-0.087606</td>\n",
       "      <td>0.203530</td>\n",
       "      <td>-0.063537</td>\n",
       "      <td>0.219048</td>\n",
       "      <td>-0.078404</td>\n",
       "      <td>...</td>\n",
       "      <td>0.084868</td>\n",
       "      <td>0.175944</td>\n",
       "      <td>0.148539</td>\n",
       "      <td>0.150112</td>\n",
       "      <td>0.102653</td>\n",
       "      <td>0.093474</td>\n",
       "      <td>0.229883</td>\n",
       "      <td>0.276910</td>\n",
       "      <td>0.276555</td>\n",
       "      <td>-0.028310</td>\n",
       "    </tr>\n",
       "    <tr>\n",
       "      <th>...</th>\n",
       "      <td>...</td>\n",
       "      <td>...</td>\n",
       "      <td>...</td>\n",
       "      <td>...</td>\n",
       "      <td>...</td>\n",
       "      <td>...</td>\n",
       "      <td>...</td>\n",
       "      <td>...</td>\n",
       "      <td>...</td>\n",
       "      <td>...</td>\n",
       "      <td>...</td>\n",
       "      <td>...</td>\n",
       "      <td>...</td>\n",
       "      <td>...</td>\n",
       "      <td>...</td>\n",
       "      <td>...</td>\n",
       "      <td>...</td>\n",
       "      <td>...</td>\n",
       "      <td>...</td>\n",
       "      <td>...</td>\n",
       "      <td>...</td>\n",
       "    </tr>\n",
       "    <tr>\n",
       "      <th>236</th>\n",
       "      <td>ZIDO</td>\n",
       "      <td>300</td>\n",
       "      <td>175.2</td>\n",
       "      <td>103.726408</td>\n",
       "      <td>-0.532602</td>\n",
       "      <td>-0.231918</td>\n",
       "      <td>-0.030341</td>\n",
       "      <td>-0.165028</td>\n",
       "      <td>0.018898</td>\n",
       "      <td>-0.206765</td>\n",
       "      <td>...</td>\n",
       "      <td>-0.010959</td>\n",
       "      <td>0.045657</td>\n",
       "      <td>-0.173985</td>\n",
       "      <td>-0.243657</td>\n",
       "      <td>-0.222182</td>\n",
       "      <td>-0.193719</td>\n",
       "      <td>0.250411</td>\n",
       "      <td>0.279971</td>\n",
       "      <td>0.260964</td>\n",
       "      <td>0.291821</td>\n",
       "    </tr>\n",
       "    <tr>\n",
       "      <th>237</th>\n",
       "      <td>ZIDO</td>\n",
       "      <td>1000</td>\n",
       "      <td>200.5</td>\n",
       "      <td>101.589529</td>\n",
       "      <td>0.472813</td>\n",
       "      <td>-0.105939</td>\n",
       "      <td>-0.237638</td>\n",
       "      <td>-0.126970</td>\n",
       "      <td>-0.191171</td>\n",
       "      <td>-0.113706</td>\n",
       "      <td>...</td>\n",
       "      <td>0.594559</td>\n",
       "      <td>0.600628</td>\n",
       "      <td>0.167920</td>\n",
       "      <td>0.144529</td>\n",
       "      <td>0.146259</td>\n",
       "      <td>0.240428</td>\n",
       "      <td>0.282791</td>\n",
       "      <td>0.415259</td>\n",
       "      <td>0.379502</td>\n",
       "      <td>0.417197</td>\n",
       "    </tr>\n",
       "    <tr>\n",
       "      <th>238</th>\n",
       "      <td>ZIDO</td>\n",
       "      <td>3000</td>\n",
       "      <td>188.9</td>\n",
       "      <td>98.338109</td>\n",
       "      <td>-0.109513</td>\n",
       "      <td>0.016375</td>\n",
       "      <td>0.435465</td>\n",
       "      <td>-0.007904</td>\n",
       "      <td>0.466768</td>\n",
       "      <td>-0.006231</td>\n",
       "      <td>...</td>\n",
       "      <td>-0.010959</td>\n",
       "      <td>0.045657</td>\n",
       "      <td>-0.173985</td>\n",
       "      <td>-0.243657</td>\n",
       "      <td>-0.222182</td>\n",
       "      <td>-0.193719</td>\n",
       "      <td>0.408993</td>\n",
       "      <td>0.311797</td>\n",
       "      <td>0.394398</td>\n",
       "      <td>0.417197</td>\n",
       "    </tr>\n",
       "    <tr>\n",
       "      <th>239</th>\n",
       "      <td>ZIDO</td>\n",
       "      <td>10000</td>\n",
       "      <td>189.9</td>\n",
       "      <td>99.459198</td>\n",
       "      <td>-0.095676</td>\n",
       "      <td>-0.320778</td>\n",
       "      <td>0.111551</td>\n",
       "      <td>-0.288444</td>\n",
       "      <td>0.091680</td>\n",
       "      <td>-0.297980</td>\n",
       "      <td>...</td>\n",
       "      <td>0.732717</td>\n",
       "      <td>0.674120</td>\n",
       "      <td>0.509825</td>\n",
       "      <td>0.532715</td>\n",
       "      <td>0.514699</td>\n",
       "      <td>0.674574</td>\n",
       "      <td>0.441372</td>\n",
       "      <td>0.582372</td>\n",
       "      <td>0.512936</td>\n",
       "      <td>0.515744</td>\n",
       "    </tr>\n",
       "    <tr>\n",
       "      <th>240</th>\n",
       "      <td>ZIDO</td>\n",
       "      <td>30000</td>\n",
       "      <td>181.8</td>\n",
       "      <td>98.473119</td>\n",
       "      <td>-0.421573</td>\n",
       "      <td>-0.170301</td>\n",
       "      <td>0.584080</td>\n",
       "      <td>-0.169284</td>\n",
       "      <td>0.587513</td>\n",
       "      <td>-0.163368</td>\n",
       "      <td>...</td>\n",
       "      <td>-0.392224</td>\n",
       "      <td>-0.373346</td>\n",
       "      <td>-0.173985</td>\n",
       "      <td>-0.243657</td>\n",
       "      <td>-0.222182</td>\n",
       "      <td>-0.193719</td>\n",
       "      <td>-0.103023</td>\n",
       "      <td>0.030968</td>\n",
       "      <td>-0.000248</td>\n",
       "      <td>0.017312</td>\n",
       "    </tr>\n",
       "  </tbody>\n",
       "</table>\n",
       "<p>241 rows × 2117 columns</p>\n",
       "</div>"
      ],
      "text/plain": [
       "    Compound  Concentration  Count   Viability  AreaShape_Area (Nuclei)   \n",
       "0       ATOR             10  174.1   98.262090                -0.416554  \\\n",
       "1       ATOR             30  180.9   94.406498                -0.364728   \n",
       "2       ATOR            100  167.0   95.387465                 0.023552   \n",
       "3       ATOR            300  167.1   91.679638                -0.409997   \n",
       "4       ATOR           1000  191.7   93.215158                -0.225798   \n",
       "..       ...            ...    ...         ...                      ...   \n",
       "236     ZIDO            300  175.2  103.726408                -0.532602   \n",
       "237     ZIDO           1000  200.5  101.589529                 0.472813   \n",
       "238     ZIDO           3000  188.9   98.338109                -0.109513   \n",
       "239     ZIDO          10000  189.9   99.459198                -0.095676   \n",
       "240     ZIDO          30000  181.8   98.473119                -0.421573   \n",
       "\n",
       "     AreaShape_BoundingBoxMaximum_X (Nuclei)   \n",
       "0                                   0.439721  \\\n",
       "1                                   0.004944   \n",
       "2                                  -0.336701   \n",
       "3                                  -0.151827   \n",
       "4                                  -0.087606   \n",
       "..                                       ...   \n",
       "236                                -0.231918   \n",
       "237                                -0.105939   \n",
       "238                                 0.016375   \n",
       "239                                -0.320778   \n",
       "240                                -0.170301   \n",
       "\n",
       "     AreaShape_BoundingBoxMaximum_Y (Nuclei)   \n",
       "0                                  -0.067363  \\\n",
       "1                                   0.274704   \n",
       "2                                   0.365684   \n",
       "3                                   0.226834   \n",
       "4                                   0.203530   \n",
       "..                                       ...   \n",
       "236                                -0.030341   \n",
       "237                                -0.237638   \n",
       "238                                 0.435465   \n",
       "239                                 0.111551   \n",
       "240                                 0.584080   \n",
       "\n",
       "     AreaShape_BoundingBoxMinimum_X (Nuclei)   \n",
       "0                                   0.398059  \\\n",
       "1                                  -0.001199   \n",
       "2                                  -0.329487   \n",
       "3                                  -0.131013   \n",
       "4                                  -0.063537   \n",
       "..                                       ...   \n",
       "236                                -0.165028   \n",
       "237                                -0.126970   \n",
       "238                                -0.007904   \n",
       "239                                -0.288444   \n",
       "240                                -0.169284   \n",
       "\n",
       "     AreaShape_BoundingBoxMinimum_Y (Nuclei)  AreaShape_Center_X (Nuclei)   \n",
       "0                                  -0.070208                     0.391460  \\\n",
       "1                                   0.268512                    -0.001458   \n",
       "2                                   0.367612                    -0.348614   \n",
       "3                                   0.230880                    -0.148479   \n",
       "4                                   0.219048                    -0.078404   \n",
       "..                                       ...                          ...   \n",
       "236                                 0.018898                    -0.206765   \n",
       "237                                -0.191171                    -0.113706   \n",
       "238                                 0.466768                    -0.006231   \n",
       "239                                 0.091680                    -0.297980   \n",
       "240                                 0.587513                    -0.163368   \n",
       "\n",
       "     ...  Texture_Variance_ER_3_02_256 (Tubes)   \n",
       "0    ...                             -0.681490  \\\n",
       "1    ...                              0.861161   \n",
       "2    ...                              0.861161   \n",
       "3    ...                             -0.002469   \n",
       "4    ...                              0.084868   \n",
       "..   ...                                   ...   \n",
       "236  ...                             -0.010959   \n",
       "237  ...                              0.594559   \n",
       "238  ...                             -0.010959   \n",
       "239  ...                              0.732717   \n",
       "240  ...                             -0.392224   \n",
       "\n",
       "     Texture_Variance_ER_3_03_256 (Tubes)   \n",
       "0                               -0.634247  \\\n",
       "1                                0.841876   \n",
       "2                                0.841876   \n",
       "3                                0.120988   \n",
       "4                                0.175944   \n",
       "..                                    ...   \n",
       "236                              0.045657   \n",
       "237                              0.600628   \n",
       "238                              0.045657   \n",
       "239                              0.674120   \n",
       "240                             -0.373346   \n",
       "\n",
       "     Texture_Variance_MITO_3_00_256 (Tubes)   \n",
       "0                                  0.364182  \\\n",
       "1                                  1.087101   \n",
       "2                                  0.364182   \n",
       "3                                  0.364182   \n",
       "4                                  0.148539   \n",
       "..                                      ...   \n",
       "236                               -0.173985   \n",
       "237                                0.167920   \n",
       "238                               -0.173985   \n",
       "239                                0.509825   \n",
       "240                               -0.173985   \n",
       "\n",
       "     Texture_Variance_MITO_3_01_256 (Tubes)   \n",
       "0                                  0.371763  \\\n",
       "1                                  1.086995   \n",
       "2                                  0.371763   \n",
       "3                                  0.371763   \n",
       "4                                  0.150112   \n",
       "..                                      ...   \n",
       "236                               -0.243657   \n",
       "237                                0.144529   \n",
       "238                               -0.243657   \n",
       "239                                0.532715   \n",
       "240                               -0.243657   \n",
       "\n",
       "     Texture_Variance_MITO_3_02_256 (Tubes)   \n",
       "0                                  0.412353  \\\n",
       "1                                  1.086221   \n",
       "2                                  0.412353   \n",
       "3                                  0.412353   \n",
       "4                                  0.102653   \n",
       "..                                      ...   \n",
       "236                               -0.222182   \n",
       "237                                0.146259   \n",
       "238                               -0.222182   \n",
       "239                                0.514699   \n",
       "240                               -0.222182   \n",
       "\n",
       "     Texture_Variance_MITO_3_03_256 (Tubes)   \n",
       "0                                  0.457564  \\\n",
       "1                                  1.086681   \n",
       "2                                  0.457564   \n",
       "3                                  0.457564   \n",
       "4                                  0.093474   \n",
       "..                                      ...   \n",
       "236                               -0.193719   \n",
       "237                                0.240428   \n",
       "238                               -0.193719   \n",
       "239                                0.674574   \n",
       "240                               -0.193719   \n",
       "\n",
       "     Texture_Variance_RNA_3_00_256 (Tubes)   \n",
       "0                                -0.499347  \\\n",
       "1                                 0.786716   \n",
       "2                                 0.053585   \n",
       "3                                -0.326950   \n",
       "4                                 0.229883   \n",
       "..                                     ...   \n",
       "236                               0.250411   \n",
       "237                               0.282791   \n",
       "238                               0.408993   \n",
       "239                               0.441372   \n",
       "240                              -0.103023   \n",
       "\n",
       "     Texture_Variance_RNA_3_01_256 (Tubes)   \n",
       "0                                -0.356443  \\\n",
       "1                                 0.523160   \n",
       "2                                 0.523160   \n",
       "3                                 0.167852   \n",
       "4                                 0.276910   \n",
       "..                                     ...   \n",
       "236                               0.279971   \n",
       "237                               0.415259   \n",
       "238                               0.311797   \n",
       "239                               0.582372   \n",
       "240                               0.030968   \n",
       "\n",
       "     Texture_Variance_RNA_3_02_256 (Tubes)   \n",
       "0                                -0.340559  \\\n",
       "1                                 0.566125   \n",
       "2                                 0.227609   \n",
       "3                                -0.013015   \n",
       "4                                 0.276555   \n",
       "..                                     ...   \n",
       "236                               0.260964   \n",
       "237                               0.379502   \n",
       "238                               0.394398   \n",
       "239                               0.512936   \n",
       "240                              -0.000248   \n",
       "\n",
       "     Texture_Variance_RNA_3_03_256 (Tubes)  \n",
       "0                                -0.730945  \n",
       "1                                 0.992816  \n",
       "2                                -0.040317  \n",
       "3                                -0.732488  \n",
       "4                                -0.028310  \n",
       "..                                     ...  \n",
       "236                               0.291821  \n",
       "237                               0.417197  \n",
       "238                               0.417197  \n",
       "239                               0.515744  \n",
       "240                               0.017312  \n",
       "\n",
       "[241 rows x 2117 columns]"
      ]
     },
     "execution_count": 16,
     "metadata": {},
     "output_type": "execute_result"
    }
   ],
   "source": [
    "if fileFormat == 'cp':\n",
    "    table_per_well.rename(columns={'Metadata_Compound':'Compound', 'Metadata_Concentration (Image)':'Concentration','Metadata_Well':'Well'}, inplace=True)\n",
    "    table_per_well.drop(columns=['PlateID','Well'], inplace=True)\n",
    "\n",
    "# aggregate viability_table_per_well by Compound and Concentration, median, discard Row, Column, Unnamed: 0,Plate,Well\n",
    "viability_table_per_treatment = viability_table_per_well.groupby(['Compound', 'Concentration']).median(numeric_only=True).reset_index()\n",
    "viability_table_per_treatment = viability_table_per_treatment.drop(columns=['Row', 'Column', 'Unnamed: 0'])\n",
    "\n",
    "\n",
    "# aggregate table_per_well by Compound and Concentration, median, discard Row and Column\n",
    "table_per_treatment = table_per_well.groupby(['Compound', 'Concentration']).median(numeric_only=True).reset_index()\n",
    "table_per_treatment.drop(columns=['Row', 'Column'], inplace=True, errors='ignore')\n",
    "table_per_treatment.insert(loc=3, column='Viability', value=viability_table_per_treatment['1s luciferase (CPS)'])\n",
    "table_per_treatment.head()\n",
    "#remove columns with too many missing values\n",
    "table_per_treatment = table_per_treatment.dropna(axis=1)\n",
    "table_per_treatment\n",
    "\n",
    "\n",
    "#plot the distribution of Viability values with a displot (kde), by Compound\n",
    "\n",
    "#sns.displot(data=table_per_treatment.loc[table_per_treatment['Compound'] != 'DMSO'], x=\"Viability\", hue=\"Compound\", kind=\"kde\", fill=True, col='Compound', col_wrap=6,facet_kws=dict(sharey=False),cut=0, legend=False)"
   ]
  },
  {
   "cell_type": "markdown",
   "metadata": {},
   "source": [
    "## Oversampling of high toxicity profiles, downsampling of low toxicity\n",
    "SMOGN algorithm, can be turned off in the parameters. A plot of the distribution of the viability values is shown before and after the oversampling."
   ]
  },
  {
   "cell_type": "code",
   "execution_count": 19,
   "metadata": {},
   "outputs": [
    {
     "name": "stderr",
     "output_type": "stream",
     "text": [
      "dist_matrix: 100%|##########| 24/24 [00:13<00:00,  1.75it/s]\n",
      "synth_matrix: 100%|##########| 24/24 [00:38<00:00,  1.62s/it]\n"
     ]
    },
    {
     "data": {
      "text/plain": [
       "<matplotlib.legend.Legend at 0x25c699bad10>"
      ]
     },
     "execution_count": 19,
     "metadata": {},
     "output_type": "execute_result"
    },
    {
     "data": {
      "image/png": "[encoded data removed]",
      "text/plain": [
       "<Figure size 640x480 with 1 Axes>"
      ]
     },
     "metadata": {},
     "output_type": "display_data"
    }
   ],
   "source": [
    "#remove correlated features from table_per_treatment\n",
    "#table_per_treatment = Drop_correlated_columns(table_per_treatment, 0.9)\n",
    "\n",
    "#oversample the data to balance the Viability values between 0 and 100\n",
    "augmentedData = smogn.smoter(data = table_per_treatment, \n",
    "                             y = \"Viability\", \n",
    "                             rel_xtrm_type = \"low\", \n",
    "                             samp_method='balance',\n",
    "                             rel_coef = 5,\n",
    "                             rel_thres = 0.8)\n",
    "sns.kdeplot(table_per_treatment['Viability'], label = \"Original\", cut=0)\n",
    "sns.kdeplot(augmentedData['Viability'], label = \"SMOGN\",cut=0)\n",
    "#add minor ticks to x axis \n",
    "plt.minorticks_on()\n",
    "plt.legend()"
   ]
  },
  {
   "cell_type": "code",
   "execution_count": 20,
   "metadata": {},
   "outputs": [],
   "source": [
    "if SMOGN == 'False':\n",
    "    augmentedData = table_per_treatment\n",
    "\n",
    "#train a random forest regressor to predict viability from the other features\n",
    "#split the data into train and test sets\n",
    "augmentedData.reset_index(drop=True, inplace=True)\n",
    "augmentedData = augmentedData.sample(frac=1).reset_index(drop=True) # shuffle rows to avoid chunks of same drugs with stratified cv\n",
    "X = augmentedData.drop(columns=['Compound', 'Concentration', 'Viability','Count'])\n",
    "y = augmentedData['Viability']\n",
    "\n",
    "X_train, X_test, y_train, y_test = train_test_split(X, y, test_size=0.2)\n",
    "\n",
    "#train the model\n",
    "rf = RandomForestRegressor(n_estimators=200, random_state=42)\n",
    "rf.fit(X_train, y_train)\n",
    "\n",
    "#predict the viability values for the test set\n",
    "y_pred = rf.predict(X_test)\n",
    "\n",
    "#calculate the mean squared error and the R2 score\n",
    "mse = mean_squared_error(y_test, y_pred)\n",
    "r2 = r2_score(y_test, y_pred)\n",
    "\n",
    "# merge y_test and y_pred into a dataframe, and add the Compound and Concentration columns using merge\n",
    "\n",
    "y_test = pd.DataFrame(y_test)\n",
    "y_test['Predicted Viability'] = y_pred\n",
    "y_test = y_test.merge(augmentedData[['Compound', 'Concentration']], left_index=True, right_index=True)\n",
    "\n"
   ]
  },
  {
   "cell_type": "code",
   "execution_count": 21,
   "metadata": {},
   "outputs": [
    {
     "data": {
      "application/vnd.plotly.v1+json": {
       "config": {
        "plotlyServerURL": "https://plot.ly"
       },
       "data": [
        {
         "customdata": [
          [
           10179
          ],
          [
           29837
          ],
          [
           970
          ],
          [
           29737
          ],
          [
           29926
          ],
          [
           1458
          ],
          [
           30345
          ],
          [
           10626
          ],
          [
           9570
          ],
          [
           29947
          ],
          [
           29973
          ],
          [
           9902
          ],
          [
           9851
          ],
          [
           30074
          ],
          [
           10000
          ],
          [
           415
          ],
          [
           30000
          ],
          [
           3548
          ],
          [
           2881
          ],
          [
           29430
          ],
          [
           10040
          ],
          [
           29828
          ]
         ],
         "hovertemplate": "Compound=SUNI<br>Viability=%{x}<br>Predicted Viability=%{y}<br>Concentration=%{customdata[0]}<extra></extra>",
         "legendgroup": "SUNI",
         "marker": {
          "color": "#636efa",
          "size": 10,
          "symbol": "circle"
         },
         "mode": "markers",
         "name": "SUNI",
         "orientation": "v",
         "showlegend": true,
         "type": "scatter",
         "x": [
          7.393941851060705,
          54.69501649558888,
          34.32425885168661,
          55.43044614447356,
          59.50834906833463,
          35.23835350247581,
          0.3150061650211848,
          5.633453002552162,
          0,
          54.55567567857413,
          0,
          9.496376265676814,
          74.32952177315259,
          54.290067336262936,
          0.8494588292499397,
          66.31212148535631,
          0.4602122851996447,
          22.02311749604362,
          12.018829378124092,
          0.4762031619118185,
          74.39408737309881,
          59.878091792643666
         ],
         "xaxis": "x",
         "y": [
          10.711720188330467,
          66.95447288297912,
          33.76626682641187,
          68.00727965630921,
          62.14582412400224,
          32.6614834357024,
          10.281161355033806,
          10.527917406105571,
          2.8167407247370404,
          54.292832760650334,
          9.973129205562604,
          9.488191131426587,
          75.12117931384813,
          66.52849823285774,
          2.8478603817814356,
          66.17547508055036,
          10.42376660863584,
          20.837534225127957,
          12.061924379302663,
          10.827874428653276,
          75.90471173274635,
          61.303776555484895
         ],
         "yaxis": "y"
        },
        {
         "customdata": [
          [
           10000
          ],
          [
           1000
          ]
         ],
         "hovertemplate": "Compound=IBIP<br>Viability=%{x}<br>Predicted Viability=%{y}<br>Concentration=%{customdata[0]}<extra></extra>",
         "legendgroup": "IBIP",
         "marker": {
          "color": "#EF553B",
          "size": 10,
          "symbol": "circle"
         },
         "mode": "markers",
         "name": "IBIP",
         "orientation": "v",
         "showlegend": true,
         "type": "scatter",
         "x": [
          96.97767530345695,
          98.74602257627492
         ],
         "xaxis": "x",
         "y": [
          80.79268419477982,
          97.4246206786028
         ],
         "yaxis": "y"
        },
        {
         "customdata": [
          [
           3000
          ]
         ],
         "hovertemplate": "Compound=GEMF<br>Viability=%{x}<br>Predicted Viability=%{y}<br>Concentration=%{customdata[0]}<extra></extra>",
         "legendgroup": "GEMF",
         "marker": {
          "color": "#00cc96",
          "size": 10,
          "symbol": "circle"
         },
         "mode": "markers",
         "name": "GEMF",
         "orientation": "v",
         "showlegend": true,
         "type": "scatter",
         "x": [
          96.28683479867159
         ],
         "xaxis": "x",
         "y": [
          97.9724882894961
         ],
         "yaxis": "y"
        },
        {
         "customdata": [
          [
           100
          ],
          [
           30
          ],
          [
           8978
          ],
          [
           300
          ],
          [
           3000
          ]
         ],
         "hovertemplate": "Compound=CERI<br>Viability=%{x}<br>Predicted Viability=%{y}<br>Concentration=%{customdata[0]}<extra></extra>",
         "legendgroup": "CERI",
         "marker": {
          "color": "#ab63fa",
          "size": 10,
          "symbol": "circle"
         },
         "mode": "markers",
         "name": "CERI",
         "orientation": "v",
         "showlegend": true,
         "type": "scatter",
         "x": [
          71.99637541746381,
          85.3984849728528,
          68.53049906567013,
          50.01152897254959,
          11.580961804988583
         ],
         "xaxis": "x",
         "y": [
          73.16613529021875,
          76.61617817785998,
          63.45937641858527,
          50.45807697237096,
          11.65904008844522
         ],
         "yaxis": "y"
        },
        {
         "customdata": [
          [
           3000
          ]
         ],
         "hovertemplate": "Compound=TEBU<br>Viability=%{x}<br>Predicted Viability=%{y}<br>Concentration=%{customdata[0]}<extra></extra>",
         "legendgroup": "TEBU",
         "marker": {
          "color": "#FFA15A",
          "size": 10,
          "symbol": "circle"
         },
         "mode": "markers",
         "name": "TEBU",
         "orientation": "v",
         "showlegend": true,
         "type": "scatter",
         "x": [
          99.6388257479839
         ],
         "xaxis": "x",
         "y": [
          97.39895492917952
         ],
         "yaxis": "y"
        },
        {
         "customdata": [
          [
           300
          ],
          [
           3000
          ]
         ],
         "hovertemplate": "Compound=ETHF<br>Viability=%{x}<br>Predicted Viability=%{y}<br>Concentration=%{customdata[0]}<extra></extra>",
         "legendgroup": "ETHF",
         "marker": {
          "color": "#19d3f3",
          "size": 10,
          "symbol": "circle"
         },
         "mode": "markers",
         "name": "ETHF",
         "orientation": "v",
         "showlegend": true,
         "type": "scatter",
         "x": [
          98.75540769546726,
          97.96558329167979
         ],
         "xaxis": "x",
         "y": [
          99.2057833015268,
          99.82147902360994
         ],
         "yaxis": "y"
        },
        {
         "customdata": [
          [
           1000
          ]
         ],
         "hovertemplate": "Compound=NELA<br>Viability=%{x}<br>Predicted Viability=%{y}<br>Concentration=%{customdata[0]}<extra></extra>",
         "legendgroup": "NELA",
         "marker": {
          "color": "#FF6692",
          "size": 10,
          "symbol": "circle"
         },
         "mode": "markers",
         "name": "NELA",
         "orientation": "v",
         "showlegend": true,
         "type": "scatter",
         "x": [
          98.06034331237102
         ],
         "xaxis": "x",
         "y": [
          99.09754494393417
         ],
         "yaxis": "y"
        },
        {
         "customdata": [
          [
           100
          ],
          [
           30
          ]
         ],
         "hovertemplate": "Compound=ETRE<br>Viability=%{x}<br>Predicted Viability=%{y}<br>Concentration=%{customdata[0]}<extra></extra>",
         "legendgroup": "ETRE",
         "marker": {
          "color": "#B6E880",
          "size": 10,
          "symbol": "circle"
         },
         "mode": "markers",
         "name": "ETRE",
         "orientation": "v",
         "showlegend": true,
         "type": "scatter",
         "x": [
          95.12162892542014,
          95.2293969721681
         ],
         "xaxis": "x",
         "y": [
          97.3034875137522,
          98.18062976932481
         ],
         "yaxis": "y"
        },
        {
         "customdata": [
          [
           300
          ]
         ],
         "hovertemplate": "Compound=ETOP<br>Viability=%{x}<br>Predicted Viability=%{y}<br>Concentration=%{customdata[0]}<extra></extra>",
         "legendgroup": "ETOP",
         "marker": {
          "color": "#FF97FF",
          "size": 10,
          "symbol": "circle"
         },
         "mode": "markers",
         "name": "ETOP",
         "orientation": "v",
         "showlegend": true,
         "type": "scatter",
         "x": [
          90.16040769603498
         ],
         "xaxis": "x",
         "y": [
          97.26209068748966
         ],
         "yaxis": "y"
        },
        {
         "customdata": [
          [
           10000
          ]
         ],
         "hovertemplate": "Compound=COLC<br>Viability=%{x}<br>Predicted Viability=%{y}<br>Concentration=%{customdata[0]}<extra></extra>",
         "legendgroup": "COLC",
         "marker": {
          "color": "#FECB52",
          "size": 10,
          "symbol": "circle"
         },
         "mode": "markers",
         "name": "COLC",
         "orientation": "v",
         "showlegend": true,
         "type": "scatter",
         "x": [
          86.41882241098581
         ],
         "xaxis": "x",
         "y": [
          76.76604071082306
         ],
         "yaxis": "y"
        },
        {
         "customdata": [
          [
           10000
          ]
         ],
         "hovertemplate": "Compound=DEXA<br>Viability=%{x}<br>Predicted Viability=%{y}<br>Concentration=%{customdata[0]}<extra></extra>",
         "legendgroup": "DEXA",
         "marker": {
          "color": "#636efa",
          "size": 10,
          "symbol": "circle"
         },
         "mode": "markers",
         "name": "DEXA",
         "orientation": "v",
         "showlegend": true,
         "type": "scatter",
         "x": [
          95.19853271239649
         ],
         "xaxis": "x",
         "y": [
          74.90417385099619
         ],
         "yaxis": "y"
        },
        {
         "customdata": [
          [
           30000
          ],
          [
           30
          ]
         ],
         "hovertemplate": "Compound=FIAL<br>Viability=%{x}<br>Predicted Viability=%{y}<br>Concentration=%{customdata[0]}<extra></extra>",
         "legendgroup": "FIAL",
         "marker": {
          "color": "#EF553B",
          "size": 10,
          "symbol": "circle"
         },
         "mode": "markers",
         "name": "FIAL",
         "orientation": "v",
         "showlegend": true,
         "type": "scatter",
         "x": [
          100.27631356415598,
          96.57406987068438
         ],
         "xaxis": "x",
         "y": [
          95.44941109540643,
          97.62694429323847
         ],
         "yaxis": "y"
        },
        {
         "customdata": [
          [
           3000
          ]
         ],
         "hovertemplate": "Compound=NCAP<br>Viability=%{x}<br>Predicted Viability=%{y}<br>Concentration=%{customdata[0]}<extra></extra>",
         "legendgroup": "NCAP",
         "marker": {
          "color": "#00cc96",
          "size": 10,
          "symbol": "circle"
         },
         "mode": "markers",
         "name": "NCAP",
         "orientation": "v",
         "showlegend": true,
         "type": "scatter",
         "x": [
          96.86984033703425
         ],
         "xaxis": "x",
         "y": [
          98.06576252000585
         ],
         "yaxis": "y"
        },
        {
         "customdata": [
          [
           10000
          ]
         ],
         "hovertemplate": "Compound=CLOF<br>Viability=%{x}<br>Predicted Viability=%{y}<br>Concentration=%{customdata[0]}<extra></extra>",
         "legendgroup": "CLOF",
         "marker": {
          "color": "#ab63fa",
          "size": 10,
          "symbol": "circle"
         },
         "mode": "markers",
         "name": "CLOF",
         "orientation": "v",
         "showlegend": true,
         "type": "scatter",
         "x": [
          98.61027773019424
         ],
         "xaxis": "x",
         "y": [
          96.90653646114951
         ],
         "yaxis": "y"
        },
        {
         "customdata": [
          [
           30
          ]
         ],
         "hovertemplate": "Compound=ZIDO<br>Viability=%{x}<br>Predicted Viability=%{y}<br>Concentration=%{customdata[0]}<extra></extra>",
         "legendgroup": "ZIDO",
         "marker": {
          "color": "#FFA15A",
          "size": 10,
          "symbol": "circle"
         },
         "mode": "markers",
         "name": "ZIDO",
         "orientation": "v",
         "showlegend": true,
         "type": "scatter",
         "x": [
          98.85981917934453
         ],
         "xaxis": "x",
         "y": [
          99.13969131141248
         ],
         "yaxis": "y"
        },
        {
         "hovertemplate": "<b>OLS trendline</b><br>Predicted Viability = 0.92346 * Viability + 5.52568<br>R<sup>2</sup>=0.971964<br><br>Viability=%{x}<br>Predicted Viability=%{y} <b>(trend)</b><extra></extra>",
         "legendgroup": "Overall Trendline",
         "line": {
          "color": "#19d3f3"
         },
         "marker": {
          "size": 10
         },
         "mode": "lines",
         "name": "Overall Trendline",
         "showlegend": true,
         "type": "scatter",
         "x": [
          0,
          0,
          0.3150061650211848,
          0.4602122851996447,
          0.4762031619118185,
          0.8494588292499397,
          5.633453002552162,
          7.393941851060705,
          9.496376265676814,
          11.580961804988583,
          12.018829378124092,
          22.02311749604362,
          34.32425885168661,
          35.23835350247581,
          50.01152897254959,
          54.290067336262936,
          54.55567567857413,
          54.69501649558888,
          55.43044614447356,
          59.50834906833463,
          59.878091792643666,
          66.31212148535631,
          68.53049906567013,
          71.99637541746381,
          74.32952177315259,
          74.39408737309881,
          85.3984849728528,
          86.41882241098581,
          90.16040769603498,
          95.12162892542014,
          95.19853271239649,
          95.2293969721681,
          96.28683479867159,
          96.57406987068438,
          96.86984033703425,
          96.97767530345695,
          97.96558329167979,
          98.06034331237102,
          98.61027773019424,
          98.74602257627492,
          98.75540769546726,
          98.85981917934453,
          99.6388257479839,
          100.27631356415598
         ],
         "xaxis": "x",
         "y": [
          5.525680147111968,
          5.525680147111968,
          5.816575866244035,
          5.950667968056867,
          5.965434909460782,
          6.310121737298391,
          10.727950909856894,
          12.353692645979539,
          14.295207571335455,
          16.220239767164458,
          16.624593131370204,
          25.863157037796853,
          37.22277395372078,
          38.0669041655159,
          51.70934669340202,
          55.66040744188873,
          55.90568622790518,
          56.03436195451271,
          56.71350211219491,
          60.47928397715475,
          60.820726741217776,
          66.76229837443596,
          68.81088222195666,
          72.01148178390507,
          74.16605005063344,
          74.22567382538175,
          84.3877992338808,
          85.33004045256651,
          88.78524629628433,
          93.36673763693227,
          93.43775523880987,
          93.46625716048223,
          94.44275911865023,
          94.70800933312617,
          94.98114164627022,
          95.08072296748976,
          95.99301687339181,
          96.08052399999706,
          96.58836665741744,
          96.71372164726804,
          96.72238843319083,
          96.8188083038498,
          97.53819002127656,
          98.12688477495175
         ],
         "yaxis": "y"
        }
       ],
       "layout": {
        "font": {
         "color": "black",
         "size": 18
        },
        "height": 1000,
        "legend": {
         "title": {
          "text": "Compound"
         },
         "tracegroupgap": 0
        },
        "template": {
         "data": {
          "bar": [
           {
            "error_x": {
             "color": "#2a3f5f"
            },
            "error_y": {
             "color": "#2a3f5f"
            },
            "marker": {
             "line": {
              "color": "#E5ECF6",
              "width": 0.5
             },
             "pattern": {
              "fillmode": "overlay",
              "size": 10,
              "solidity": 0.2
             }
            },
            "type": "bar"
           }
          ],
          "barpolar": [
           {
            "marker": {
             "line": {
              "color": "#E5ECF6",
              "width": 0.5
             },
             "pattern": {
              "fillmode": "overlay",
              "size": 10,
              "solidity": 0.2
             }
            },
            "type": "barpolar"
           }
          ],
          "carpet": [
           {
            "aaxis": {
             "endlinecolor": "#2a3f5f",
             "gridcolor": "white",
             "linecolor": "white",
             "minorgridcolor": "white",
             "startlinecolor": "#2a3f5f"
            },
            "baxis": {
             "endlinecolor": "#2a3f5f",
             "gridcolor": "white",
             "linecolor": "white",
             "minorgridcolor": "white",
             "startlinecolor": "#2a3f5f"
            },
            "type": "carpet"
           }
          ],
          "choropleth": [
           {
            "colorbar": {
             "outlinewidth": 0,
             "ticks": ""
            },
            "type": "choropleth"
           }
          ],
          "contour": [
           {
            "colorbar": {
             "outlinewidth": 0,
             "ticks": ""
            },
            "colorscale": [
             [
              0,
              "#0d0887"
             ],
             [
              0.1111111111111111,
              "#46039f"
             ],
             [
              0.2222222222222222,
              "#7201a8"
             ],
             [
              0.3333333333333333,
              "#9c179e"
             ],
             [
              0.4444444444444444,
              "#bd3786"
             ],
             [
              0.5555555555555556,
              "#d8576b"
             ],
             [
              0.6666666666666666,
              "#ed7953"
             ],
             [
              0.7777777777777778,
              "#fb9f3a"
             ],
             [
              0.8888888888888888,
              "#fdca26"
             ],
             [
              1,
              "#f0f921"
             ]
            ],
            "type": "contour"
           }
          ],
          "contourcarpet": [
           {
            "colorbar": {
             "outlinewidth": 0,
             "ticks": ""
            },
            "type": "contourcarpet"
           }
          ],
          "heatmap": [
           {
            "colorbar": {
             "outlinewidth": 0,
             "ticks": ""
            },
            "colorscale": [
             [
              0,
              "#0d0887"
             ],
             [
              0.1111111111111111,
              "#46039f"
             ],
             [
              0.2222222222222222,
              "#7201a8"
             ],
             [
              0.3333333333333333,
              "#9c179e"
             ],
             [
              0.4444444444444444,
              "#bd3786"
             ],
             [
              0.5555555555555556,
              "#d8576b"
             ],
             [
              0.6666666666666666,
              "#ed7953"
             ],
             [
              0.7777777777777778,
              "#fb9f3a"
             ],
             [
              0.8888888888888888,
              "#fdca26"
             ],
             [
              1,
              "#f0f921"
             ]
            ],
            "type": "heatmap"
           }
          ],
          "heatmapgl": [
           {
            "colorbar": {
             "outlinewidth": 0,
             "ticks": ""
            },
            "colorscale": [
             [
              0,
              "#0d0887"
             ],
             [
              0.1111111111111111,
              "#46039f"
             ],
             [
              0.2222222222222222,
              "#7201a8"
             ],
             [
              0.3333333333333333,
              "#9c179e"
             ],
             [
              0.4444444444444444,
              "#bd3786"
             ],
             [
              0.5555555555555556,
              "#d8576b"
             ],
             [
              0.6666666666666666,
              "#ed7953"
             ],
             [
              0.7777777777777778,
              "#fb9f3a"
             ],
             [
              0.8888888888888888,
              "#fdca26"
             ],
             [
              1,
              "#f0f921"
             ]
            ],
            "type": "heatmapgl"
           }
          ],
          "histogram": [
           {
            "marker": {
             "pattern": {
              "fillmode": "overlay",
              "size": 10,
              "solidity": 0.2
             }
            },
            "type": "histogram"
           }
          ],
          "histogram2d": [
           {
            "colorbar": {
             "outlinewidth": 0,
             "ticks": ""
            },
            "colorscale": [
             [
              0,
              "#0d0887"
             ],
             [
              0.1111111111111111,
              "#46039f"
             ],
             [
              0.2222222222222222,
              "#7201a8"
             ],
             [
              0.3333333333333333,
              "#9c179e"
             ],
             [
              0.4444444444444444,
              "#bd3786"
             ],
             [
              0.5555555555555556,
              "#d8576b"
             ],
             [
              0.6666666666666666,
              "#ed7953"
             ],
             [
              0.7777777777777778,
              "#fb9f3a"
             ],
             [
              0.8888888888888888,
              "#fdca26"
             ],
             [
              1,
              "#f0f921"
             ]
            ],
            "type": "histogram2d"
           }
          ],
          "histogram2dcontour": [
           {
            "colorbar": {
             "outlinewidth": 0,
             "ticks": ""
            },
            "colorscale": [
             [
              0,
              "#0d0887"
             ],
             [
              0.1111111111111111,
              "#46039f"
             ],
             [
              0.2222222222222222,
              "#7201a8"
             ],
             [
              0.3333333333333333,
              "#9c179e"
             ],
             [
              0.4444444444444444,
              "#bd3786"
             ],
             [
              0.5555555555555556,
              "#d8576b"
             ],
             [
              0.6666666666666666,
              "#ed7953"
             ],
             [
              0.7777777777777778,
              "#fb9f3a"
             ],
             [
              0.8888888888888888,
              "#fdca26"
             ],
             [
              1,
              "#f0f921"
             ]
            ],
            "type": "histogram2dcontour"
           }
          ],
          "mesh3d": [
           {
            "colorbar": {
             "outlinewidth": 0,
             "ticks": ""
            },
            "type": "mesh3d"
           }
          ],
          "parcoords": [
           {
            "line": {
             "colorbar": {
              "outlinewidth": 0,
              "ticks": ""
             }
            },
            "type": "parcoords"
           }
          ],
          "pie": [
           {
            "automargin": true,
            "type": "pie"
           }
          ],
          "scatter": [
           {
            "fillpattern": {
             "fillmode": "overlay",
             "size": 10,
             "solidity": 0.2
            },
            "type": "scatter"
           }
          ],
          "scatter3d": [
           {
            "line": {
             "colorbar": {
              "outlinewidth": 0,
              "ticks": ""
             }
            },
            "marker": {
             "colorbar": {
              "outlinewidth": 0,
              "ticks": ""
             }
            },
            "type": "scatter3d"
           }
          ],
          "scattercarpet": [
           {
            "marker": {
             "colorbar": {
              "outlinewidth": 0,
              "ticks": ""
             }
            },
            "type": "scattercarpet"
           }
          ],
          "scattergeo": [
           {
            "marker": {
             "colorbar": {
              "outlinewidth": 0,
              "ticks": ""
             }
            },
            "type": "scattergeo"
           }
          ],
          "scattergl": [
           {
            "marker": {
             "colorbar": {
              "outlinewidth": 0,
              "ticks": ""
             }
            },
            "type": "scattergl"
           }
          ],
          "scattermapbox": [
           {
            "marker": {
             "colorbar": {
              "outlinewidth": 0,
              "ticks": ""
             }
            },
            "type": "scattermapbox"
           }
          ],
          "scatterpolar": [
           {
            "marker": {
             "colorbar": {
              "outlinewidth": 0,
              "ticks": ""
             }
            },
            "type": "scatterpolar"
           }
          ],
          "scatterpolargl": [
           {
            "marker": {
             "colorbar": {
              "outlinewidth": 0,
              "ticks": ""
             }
            },
            "type": "scatterpolargl"
           }
          ],
          "scatterternary": [
           {
            "marker": {
             "colorbar": {
              "outlinewidth": 0,
              "ticks": ""
             }
            },
            "type": "scatterternary"
           }
          ],
          "surface": [
           {
            "colorbar": {
             "outlinewidth": 0,
             "ticks": ""
            },
            "colorscale": [
             [
              0,
              "#0d0887"
             ],
             [
              0.1111111111111111,
              "#46039f"
             ],
             [
              0.2222222222222222,
              "#7201a8"
             ],
             [
              0.3333333333333333,
              "#9c179e"
             ],
             [
              0.4444444444444444,
              "#bd3786"
             ],
             [
              0.5555555555555556,
              "#d8576b"
             ],
             [
              0.6666666666666666,
              "#ed7953"
             ],
             [
              0.7777777777777778,
              "#fb9f3a"
             ],
             [
              0.8888888888888888,
              "#fdca26"
             ],
             [
              1,
              "#f0f921"
             ]
            ],
            "type": "surface"
           }
          ],
          "table": [
           {
            "cells": {
             "fill": {
              "color": "#EBF0F8"
             },
             "line": {
              "color": "white"
             }
            },
            "header": {
             "fill": {
              "color": "#C8D4E3"
             },
             "line": {
              "color": "white"
             }
            },
            "type": "table"
           }
          ]
         },
         "layout": {
          "annotationdefaults": {
           "arrowcolor": "#2a3f5f",
           "arrowhead": 0,
           "arrowwidth": 1
          },
          "autotypenumbers": "strict",
          "coloraxis": {
           "colorbar": {
            "outlinewidth": 0,
            "ticks": ""
           }
          },
          "colorscale": {
           "diverging": [
            [
             0,
             "#8e0152"
            ],
            [
             0.1,
             "#c51b7d"
            ],
            [
             0.2,
             "#de77ae"
            ],
            [
             0.3,
             "#f1b6da"
            ],
            [
             0.4,
             "#fde0ef"
            ],
            [
             0.5,
             "#f7f7f7"
            ],
            [
             0.6,
             "#e6f5d0"
            ],
            [
             0.7,
             "#b8e186"
            ],
            [
             0.8,
             "#7fbc41"
            ],
            [
             0.9,
             "#4d9221"
            ],
            [
             1,
             "#276419"
            ]
           ],
           "sequential": [
            [
             0,
             "#0d0887"
            ],
            [
             0.1111111111111111,
             "#46039f"
            ],
            [
             0.2222222222222222,
             "#7201a8"
            ],
            [
             0.3333333333333333,
             "#9c179e"
            ],
            [
             0.4444444444444444,
             "#bd3786"
            ],
            [
             0.5555555555555556,
             "#d8576b"
            ],
            [
             0.6666666666666666,
             "#ed7953"
            ],
            [
             0.7777777777777778,
             "#fb9f3a"
            ],
            [
             0.8888888888888888,
             "#fdca26"
            ],
            [
             1,
             "#f0f921"
            ]
           ],
           "sequentialminus": [
            [
             0,
             "#0d0887"
            ],
            [
             0.1111111111111111,
             "#46039f"
            ],
            [
             0.2222222222222222,
             "#7201a8"
            ],
            [
             0.3333333333333333,
             "#9c179e"
            ],
            [
             0.4444444444444444,
             "#bd3786"
            ],
            [
             0.5555555555555556,
             "#d8576b"
            ],
            [
             0.6666666666666666,
             "#ed7953"
            ],
            [
             0.7777777777777778,
             "#fb9f3a"
            ],
            [
             0.8888888888888888,
             "#fdca26"
            ],
            [
             1,
             "#f0f921"
            ]
           ]
          },
          "colorway": [
           "#636efa",
           "#EF553B",
           "#00cc96",
           "#ab63fa",
           "#FFA15A",
           "#19d3f3",
           "#FF6692",
           "#B6E880",
           "#FF97FF",
           "#FECB52"
          ],
          "font": {
           "color": "#2a3f5f"
          },
          "geo": {
           "bgcolor": "white",
           "lakecolor": "white",
           "landcolor": "#E5ECF6",
           "showlakes": true,
           "showland": true,
           "subunitcolor": "white"
          },
          "hoverlabel": {
           "align": "left"
          },
          "hovermode": "closest",
          "mapbox": {
           "style": "light"
          },
          "paper_bgcolor": "white",
          "plot_bgcolor": "#E5ECF6",
          "polar": {
           "angularaxis": {
            "gridcolor": "white",
            "linecolor": "white",
            "ticks": ""
           },
           "bgcolor": "#E5ECF6",
           "radialaxis": {
            "gridcolor": "white",
            "linecolor": "white",
            "ticks": ""
           }
          },
          "scene": {
           "xaxis": {
            "backgroundcolor": "#E5ECF6",
            "gridcolor": "white",
            "gridwidth": 2,
            "linecolor": "white",
            "showbackground": true,
            "ticks": "",
            "zerolinecolor": "white"
           },
           "yaxis": {
            "backgroundcolor": "#E5ECF6",
            "gridcolor": "white",
            "gridwidth": 2,
            "linecolor": "white",
            "showbackground": true,
            "ticks": "",
            "zerolinecolor": "white"
           },
           "zaxis": {
            "backgroundcolor": "#E5ECF6",
            "gridcolor": "white",
            "gridwidth": 2,
            "linecolor": "white",
            "showbackground": true,
            "ticks": "",
            "zerolinecolor": "white"
           }
          },
          "shapedefaults": {
           "line": {
            "color": "#2a3f5f"
           }
          },
          "ternary": {
           "aaxis": {
            "gridcolor": "white",
            "linecolor": "white",
            "ticks": ""
           },
           "baxis": {
            "gridcolor": "white",
            "linecolor": "white",
            "ticks": ""
           },
           "bgcolor": "#E5ECF6",
           "caxis": {
            "gridcolor": "white",
            "linecolor": "white",
            "ticks": ""
           }
          },
          "title": {
           "x": 0.05
          },
          "xaxis": {
           "automargin": true,
           "gridcolor": "white",
           "linecolor": "white",
           "ticks": "",
           "title": {
            "standoff": 15
           },
           "zerolinecolor": "white",
           "zerolinewidth": 2
          },
          "yaxis": {
           "automargin": true,
           "gridcolor": "white",
           "linecolor": "white",
           "ticks": "",
           "title": {
            "standoff": 15
           },
           "zerolinecolor": "white",
           "zerolinewidth": 2
          }
         }
        },
        "title": {
         "text": "Test set"
        },
        "width": 1200,
        "xaxis": {
         "anchor": "y",
         "domain": [
          0,
          1
         ],
         "range": [
          0,
          100
         ],
         "title": {
          "text": "Viability"
         }
        },
        "yaxis": {
         "anchor": "x",
         "domain": [
          0,
          1
         ],
         "range": [
          0,
          100
         ],
         "title": {
          "text": "Predicted Viability"
         }
        }
       }
      }
     },
     "metadata": {},
     "output_type": "display_data"
    },
    {
     "name": "stdout",
     "output_type": "stream",
     "text": [
      "Mean squared error:  43.39007981516708\n",
      "R2 score:  0.9688438810113577\n"
     ]
    }
   ],
   "source": [
    "\n",
    "#plot the actual and predicted viability values for each compound, fixed axis limits to 0-100\n",
    "\n",
    "fig = px.scatter(y_test, x=\"Viability\", y=\"Predicted Viability\", color=\"Compound\", hover_data=['Concentration'], trendline=\"ols\", trendline_scope='overall',height=1000, width=1200, range_x=[0,100], range_y=[0,100], title = 'Test set' )\n",
    "fig.update_traces(marker={'size': 10})\n",
    "fig.update_layout(\n",
    "    font=dict(\n",
    "        size=18,\n",
    "        color=\"black\"\n",
    "    )\n",
    ")\n",
    "fig.show()\n",
    "\n",
    "print('Mean squared error: ', mse)\n",
    "print('R2 score: ', r2)\n"
   ]
  },
  {
   "cell_type": "code",
   "execution_count": 22,
   "metadata": {},
   "outputs": [
    {
     "data": {
      "application/vnd.plotly.v1+json": {
       "config": {
        "plotlyServerURL": "https://plot.ly"
       },
       "data": [
        {
         "customdata": [
          [
           300
          ],
          [
           10
          ],
          [
           3000
          ],
          [
           100
          ],
          [
           10000
          ]
         ],
         "hovertemplate": "Compound=VORI<br>Viability=%{x}<br>Predicted Viability=%{y}<br>Concentration=%{customdata[0]}<extra></extra>",
         "legendgroup": "VORI",
         "marker": {
          "color": "#636efa",
          "size": 10,
          "symbol": "circle"
         },
         "mode": "markers",
         "name": "VORI",
         "orientation": "v",
         "showlegend": true,
         "type": "scatter",
         "x": [
          97.57776440159377,
          99.1092082243379,
          96.96157833708483,
          97.84612793818138,
          96.03751060889387
         ],
         "xaxis": "x",
         "y": [
          97.81740409453575,
          98.50238025388774,
          97.97603067672141,
          98.01915688212922,
          96.48170300474985
         ],
         "yaxis": "y"
        },
        {
         "customdata": [
          [
           10
          ],
          [
           10000
          ],
          [
           30000
          ],
          [
           1000
          ],
          [
           3158
          ]
         ],
         "hovertemplate": "Compound=CERI<br>Viability=%{x}<br>Predicted Viability=%{y}<br>Concentration=%{customdata[0]}<extra></extra>",
         "legendgroup": "CERI",
         "marker": {
          "color": "#EF553B",
          "size": 10,
          "symbol": "circle"
         },
         "mode": "markers",
         "name": "CERI",
         "orientation": "v",
         "showlegend": true,
         "type": "scatter",
         "x": [
          91.87806064411728,
          6.697203044070011,
          8.638624092071996,
          34.17714369251915,
          68.53049906567013
         ],
         "xaxis": "x",
         "y": [
          91.79233755622596,
          12.336687334654274,
          8.545210342535125,
          32.96327486654217,
          68.3031522774
         ],
         "yaxis": "y"
        },
        {
         "customdata": [
          [
           10000
          ],
          [
           3000
          ],
          [
           1000
          ],
          [
           300
          ]
         ],
         "hovertemplate": "Compound=FIAL<br>Viability=%{x}<br>Predicted Viability=%{y}<br>Concentration=%{customdata[0]}<extra></extra>",
         "legendgroup": "FIAL",
         "marker": {
          "color": "#00cc96",
          "size": 10,
          "symbol": "circle"
         },
         "mode": "markers",
         "name": "FIAL",
         "orientation": "v",
         "showlegend": true,
         "type": "scatter",
         "x": [
          99.0960546870985,
          97.91375218273944,
          96.41782374390507,
          98.48118877240711
         ],
         "xaxis": "x",
         "y": [
          98.11943463175334,
          96.72473587267189,
          97.06895383245448,
          97.21458813275234
         ],
         "yaxis": "y"
        },
        {
         "customdata": [
          [
           10207
          ],
          [
           10212
          ],
          [
           2931
          ],
          [
           29450
          ],
          [
           30447
          ],
          [
           10
          ],
          [
           3119
          ],
          [
           0
          ],
          [
           29894
          ],
          [
           29813
          ],
          [
           30374
          ],
          [
           2860
          ],
          [
           9864
          ],
          [
           9830
          ],
          [
           1347
          ],
          [
           10001
          ],
          [
           29970
          ],
          [
           30
          ],
          [
           964
          ],
          [
           30166
          ],
          [
           757
          ],
          [
           9529
          ],
          [
           2979
          ],
          [
           9916
          ],
          [
           29917
          ],
          [
           9818
          ],
          [
           30368
          ],
          [
           30150
          ],
          [
           29957
          ],
          [
           610
          ],
          [
           3184
          ],
          [
           3147
          ],
          [
           29474
          ],
          [
           3039
          ],
          [
           185
          ],
          [
           9557
          ],
          [
           563
          ],
          [
           29703
          ],
          [
           30000
          ],
          [
           29717
          ],
          [
           30356
          ],
          [
           3277
          ],
          [
           918
          ],
          [
           9902
          ],
          [
           10571
          ],
          [
           3167
          ],
          [
           30055
          ],
          [
           10023
          ],
          [
           16
          ],
          [
           29996
          ],
          [
           1023
          ],
          [
           9618
          ],
          [
           10597
          ],
          [
           29739
          ],
          [
           30105
          ],
          [
           168
          ],
          [
           374
          ],
          [
           300
          ],
          [
           526
          ],
          [
           9709
          ],
          [
           233
          ],
          [
           10012
          ],
          [
           9424
          ],
          [
           30039
          ],
          [
           705
          ],
          [
           29785
          ],
          [
           10363
          ],
          [
           29944
          ],
          [
           356
          ],
          [
           9830
          ],
          [
           29745
          ],
          [
           3000
          ],
          [
           29978
          ],
          [
           10060
          ],
          [
           29420
          ],
          [
           0
          ],
          [
           2821
          ],
          [
           29853
          ]
         ],
         "hovertemplate": "Compound=SUNI<br>Viability=%{x}<br>Predicted Viability=%{y}<br>Concentration=%{customdata[0]}<extra></extra>",
         "legendgroup": "SUNI",
         "marker": {
          "color": "#ab63fa",
          "size": 10,
          "symbol": "circle"
         },
         "mode": "markers",
         "name": "SUNI",
         "orientation": "v",
         "showlegend": true,
         "type": "scatter",
         "x": [
          8.476954380909786,
          75.34577265021528,
          8.50825009760538,
          38.92463316207148,
          22.453287257211027,
          98.75117980749218,
          11.685538721671147,
          72.0950758760543,
          4.2754802762514945,
          8.298743282321576,
          59.961887817099026,
          8.321744935614891,
          8.791164378052105,
          2.624955701986784,
          40.289517965437824,
          68.62473142813634,
          60.037272744901856,
          98.00508871591447,
          33.45873112922424,
          3.3762603959447866,
          66.53656884533474,
          7.429372174877845,
          11.518611692429436,
          3.1659047485626,
          58.102234349307146,
          69.64806489137723,
          7.915503405580704,
          39.77390351746497,
          39.84310669889126,
          40.059060581163024,
          22.146736639784976,
          8.154981778466878,
          57.96316531599564,
          8.119710093604976,
          65.67903707101406,
          3.0271653057198566,
          65.825576871431,
          22.808326830703873,
          57.28582915107847,
          0,
          22.8744654470101,
          22.60840523501637,
          39.60165990346974,
          74.25536462639023,
          69.1021029105657,
          11.752077836779728,
          3.67639567745358,
          0.9814250423219351,
          50.245452538645644,
          8.925742173652635,
          33.38651247087686,
          62.22506210265254,
          9.099479009921916,
          54.6348532914472,
          55.37521978146681,
          71.98211176073247,
          72.4070291620682,
          98.56067012552757,
          50.56689243222366,
          61.10412338716825,
          50.237127780629585,
          68.98109736608852,
          0.20939988836202494,
          54.55193791665679,
          39.24826826194325,
          23.103895655981013,
          4.517519128165078,
          54.198943513134104,
          51.594917265587924,
          6.295269921447327,
          4.6504396016513265,
          22.37951174565565,
          57.929268187755795,
          0.8890589471938477,
          39.295412379741954,
          71.45656550195393,
          22.820688754218075,
          8.917070491497782
         ],
         "xaxis": "x",
         "y": [
          9.6736507008558,
          75.83973271496443,
          8.411031028595932,
          39.10232174930723,
          20.45122496011478,
          98.44847297063092,
          11.83337110643179,
          71.71240851582702,
          4.1153190264920845,
          8.46698347609493,
          60.9958471370276,
          8.248049792013813,
          11.030238931250462,
          2.8861453262372434,
          40.31484001646457,
          68.66921054484895,
          61.39652913653748,
          97.9893349287956,
          33.32320342116256,
          3.5370108290564235,
          66.30536231821542,
          10.032227220357768,
          11.401082178861756,
          3.344883365756484,
          58.467452714019416,
          69.19421734253493,
          8.260718866596557,
          39.576910548385875,
          39.6382367839622,
          39.57390603944445,
          22.564929563756564,
          8.194764229787067,
          58.24761104835806,
          8.191009725703644,
          65.6885202553473,
          3.428892911453873,
          66.0278167644712,
          22.74414113819206,
          59.94882147664452,
          9.475485190345896,
          22.70440759262135,
          22.71643849805111,
          39.62720389115732,
          75.34531580914204,
          68.9842733331159,
          12.233673824787672,
          3.686152699085307,
          2.9798768272429443,
          50.13150105119393,
          8.7818107456529,
          32.74071441642542,
          62.87325209582912,
          10.66498713902008,
          63.381608663645046,
          54.896920849560736,
          71.92067292070688,
          72.1345113139038,
          96.76087810989372,
          50.84053282313441,
          62.54743950234388,
          50.32514055913736,
          68.97206021548874,
          2.425652303729388,
          54.34027110525877,
          33.619387943154855,
          22.77932179439938,
          3.948711518045985,
          54.167504199297746,
          51.339280700431964,
          22.235503018421436,
          4.285110312100992,
          22.359923265177724,
          58.30520139085967,
          2.851544306514841,
          38.974076749409114,
          70.93588190936185,
          23.38522543429627,
          8.76731580499624
         ],
         "yaxis": "y"
        },
        {
         "customdata": [
          [
           3000
          ],
          [
           1000
          ]
         ],
         "hovertemplate": "Compound=EZET<br>Viability=%{x}<br>Predicted Viability=%{y}<br>Concentration=%{customdata[0]}<extra></extra>",
         "legendgroup": "EZET",
         "marker": {
          "color": "#FFA15A",
          "size": 10,
          "symbol": "circle"
         },
         "mode": "markers",
         "name": "EZET",
         "orientation": "v",
         "showlegend": true,
         "type": "scatter",
         "x": [
          90.71917922327638,
          91.89803872880609
         ],
         "xaxis": "x",
         "y": [
          88.29311240555415,
          90.42557981388882
         ],
         "yaxis": "y"
        },
        {
         "customdata": [
          [
           100
          ],
          [
           30000
          ],
          [
           300
          ],
          [
           1000
          ]
         ],
         "hovertemplate": "Compound=CLEV<br>Viability=%{x}<br>Predicted Viability=%{y}<br>Concentration=%{customdata[0]}<extra></extra>",
         "legendgroup": "CLEV",
         "marker": {
          "color": "#19d3f3",
          "size": 10,
          "symbol": "circle"
         },
         "mode": "markers",
         "name": "CLEV",
         "orientation": "v",
         "showlegend": true,
         "type": "scatter",
         "x": [
          99.20919848158306,
          98.63176183586498,
          99.45842332701554,
          98.85148106293113
         ],
         "xaxis": "x",
         "y": [
          98.89222673963123,
          98.20766958109726,
          99.11418253450893,
          98.99423028946016
         ],
         "yaxis": "y"
        },
        {
         "customdata": [
          [
           1000
          ],
          [
           3000
          ],
          [
           10000
          ],
          [
           300
          ],
          [
           30000
          ]
         ],
         "hovertemplate": "Compound=DOXO<br>Viability=%{x}<br>Predicted Viability=%{y}<br>Concentration=%{customdata[0]}<extra></extra>",
         "legendgroup": "DOXO",
         "marker": {
          "color": "#FF6692",
          "size": 10,
          "symbol": "circle"
         },
         "mode": "markers",
         "name": "DOXO",
         "orientation": "v",
         "showlegend": true,
         "type": "scatter",
         "x": [
          40.012919993995396,
          8.526268015230581,
          3.6409130128184835,
          65.97189693626268,
          3.6130149352097414
         ],
         "xaxis": "x",
         "y": [
          39.41970066133969,
          8.397634982315056,
          3.5327963558638964,
          68.09402113448708,
          3.6975821232662636
         ],
         "yaxis": "y"
        },
        {
         "customdata": [
          [
           10
          ],
          [
           10000
          ],
          [
           300
          ],
          [
           3000
          ]
         ],
         "hovertemplate": "Compound=NELA<br>Viability=%{x}<br>Predicted Viability=%{y}<br>Concentration=%{customdata[0]}<extra></extra>",
         "legendgroup": "NELA",
         "marker": {
          "color": "#B6E880",
          "size": 10,
          "symbol": "circle"
         },
         "mode": "markers",
         "name": "NELA",
         "orientation": "v",
         "showlegend": true,
         "type": "scatter",
         "x": [
          98.4448120411856,
          98.97964648829654,
          99.41857548126819,
          97.64131405036298
         ],
         "xaxis": "x",
         "y": [
          98.23563677691759,
          98.23809698397835,
          99.03724499130595,
          97.38264123269614
         ],
         "yaxis": "y"
        },
        {
         "customdata": [
          [
           1000
          ],
          [
           10
          ],
          [
           3000
          ]
         ],
         "hovertemplate": "Compound=COLC<br>Viability=%{x}<br>Predicted Viability=%{y}<br>Concentration=%{customdata[0]}<extra></extra>",
         "legendgroup": "COLC",
         "marker": {
          "color": "#FF97FF",
          "size": 10,
          "symbol": "circle"
         },
         "mode": "markers",
         "name": "COLC",
         "orientation": "v",
         "showlegend": true,
         "type": "scatter",
         "x": [
          84.88057727773585,
          96.9642188134675,
          84.68871182156224
         ],
         "xaxis": "x",
         "y": [
          80.75248741311131,
          96.73786138233407,
          80.1003662610197
         ],
         "yaxis": "y"
        },
        {
         "customdata": [
          [
           1000
          ],
          [
           10
          ],
          [
           3000
          ],
          [
           30000
          ],
          [
           10000
          ],
          [
           30
          ]
         ],
         "hovertemplate": "Compound=ETOP<br>Viability=%{x}<br>Predicted Viability=%{y}<br>Concentration=%{customdata[0]}<extra></extra>",
         "legendgroup": "ETOP",
         "marker": {
          "color": "#FECB52",
          "size": 10,
          "symbol": "circle"
         },
         "mode": "markers",
         "name": "ETOP",
         "orientation": "v",
         "showlegend": true,
         "type": "scatter",
         "x": [
          85.2284593583581,
          96.60050776323612,
          84.32626422309332,
          60.08418787253077,
          74.40452933644183,
          95.71307960610659
         ],
         "xaxis": "x",
         "y": [
          89.24251310222618,
          97.03345027706757,
          83.56490296972868,
          64.19197957580235,
          75.97542392744244,
          96.25044934642777
         ],
         "yaxis": "y"
        },
        {
         "customdata": [
          [
           10000
          ],
          [
           30
          ],
          [
           30000
          ],
          [
           1000
          ]
         ],
         "hovertemplate": "Compound=OLAN<br>Viability=%{x}<br>Predicted Viability=%{y}<br>Concentration=%{customdata[0]}<extra></extra>",
         "legendgroup": "OLAN",
         "marker": {
          "color": "#636efa",
          "size": 10,
          "symbol": "circle"
         },
         "mode": "markers",
         "name": "OLAN",
         "orientation": "v",
         "showlegend": true,
         "type": "scatter",
         "x": [
          88.45742492007213,
          94.96452470879225,
          58.42174012121279,
          97.27287620823932
         ],
         "xaxis": "x",
         "y": [
          88.62127623933942,
          96.85605016895059,
          61.00696408032972,
          97.53359038191489
         ],
         "yaxis": "y"
        },
        {
         "customdata": [
          [
           30
          ],
          [
           30000
          ],
          [
           100
          ]
         ],
         "hovertemplate": "Compound=CLOF<br>Viability=%{x}<br>Predicted Viability=%{y}<br>Concentration=%{customdata[0]}<extra></extra>",
         "legendgroup": "CLOF",
         "marker": {
          "color": "#EF553B",
          "size": 10,
          "symbol": "circle"
         },
         "mode": "markers",
         "name": "CLOF",
         "orientation": "v",
         "showlegend": true,
         "type": "scatter",
         "x": [
          95.58964923902339,
          95.83618235452012,
          96.27590369713752
         ],
         "xaxis": "x",
         "y": [
          96.40825320801247,
          93.99726699385025,
          96.80189800405809
         ],
         "yaxis": "y"
        },
        {
         "customdata": [
          [
           100
          ],
          [
           10
          ],
          [
           10000
          ]
         ],
         "hovertemplate": "Compound=NCAP<br>Viability=%{x}<br>Predicted Viability=%{y}<br>Concentration=%{customdata[0]}<extra></extra>",
         "legendgroup": "NCAP",
         "marker": {
          "color": "#00cc96",
          "size": 10,
          "symbol": "circle"
         },
         "mode": "markers",
         "name": "NCAP",
         "orientation": "v",
         "showlegend": true,
         "type": "scatter",
         "x": [
          97.80827085505717,
          97.73071816649106,
          95.21623615667666
         ],
         "xaxis": "x",
         "y": [
          97.92816261765897,
          97.72403449777853,
          96.34719641323852
         ],
         "yaxis": "y"
        },
        {
         "customdata": [
          [
           10
          ],
          [
           3000
          ],
          [
           30
          ],
          [
           100
          ]
         ],
         "hovertemplate": "Compound=WURS<br>Viability=%{x}<br>Predicted Viability=%{y}<br>Concentration=%{customdata[0]}<extra></extra>",
         "legendgroup": "WURS",
         "marker": {
          "color": "#ab63fa",
          "size": 10,
          "symbol": "circle"
         },
         "mode": "markers",
         "name": "WURS",
         "orientation": "v",
         "showlegend": true,
         "type": "scatter",
         "x": [
          101.62915134798466,
          100.04108407994909,
          101.69024372119421,
          102.66256475386524
         ],
         "xaxis": "x",
         "y": [
          100.66513820297513,
          99.27344294310453,
          100.35291515034905,
          101.5285498689011
         ],
         "yaxis": "y"
        },
        {
         "customdata": [
          [
           30
          ],
          [
           300
          ],
          [
           100
          ],
          [
           3000
          ]
         ],
         "hovertemplate": "Compound=HCQ<br>Viability=%{x}<br>Predicted Viability=%{y}<br>Concentration=%{customdata[0]}<extra></extra>",
         "legendgroup": "HCQ",
         "marker": {
          "color": "#FFA15A",
          "size": 10,
          "symbol": "circle"
         },
         "mode": "markers",
         "name": "HCQ",
         "orientation": "v",
         "showlegend": true,
         "type": "scatter",
         "x": [
          98.16340344199628,
          96.45305966749078,
          96.42806384737263,
          96.76009837439821
         ],
         "xaxis": "x",
         "y": [
          97.83640865477727,
          96.19225020719676,
          96.33849916565599,
          95.16198509000162
         ],
         "yaxis": "y"
        },
        {
         "customdata": [
          [
           10000
          ],
          [
           3000
          ],
          [
           30000
          ],
          [
           100
          ]
         ],
         "hovertemplate": "Compound=DAPT<br>Viability=%{x}<br>Predicted Viability=%{y}<br>Concentration=%{customdata[0]}<extra></extra>",
         "legendgroup": "DAPT",
         "marker": {
          "color": "#19d3f3",
          "size": 10,
          "symbol": "circle"
         },
         "mode": "markers",
         "name": "DAPT",
         "orientation": "v",
         "showlegend": true,
         "type": "scatter",
         "x": [
          100.24775297281462,
          99.35561540823893,
          98.54977599771297,
          100.22221792778328
         ],
         "xaxis": "x",
         "y": [
          99.5909498101705,
          99.00797647605049,
          98.34708691917105,
          99.20220675843555
         ],
         "yaxis": "y"
        },
        {
         "customdata": [
          [
           100
          ],
          [
           10
          ],
          [
           1000
          ],
          [
           30000
          ],
          [
           10000
          ]
         ],
         "hovertemplate": "Compound=CISP<br>Viability=%{x}<br>Predicted Viability=%{y}<br>Concentration=%{customdata[0]}<extra></extra>",
         "legendgroup": "CISP",
         "marker": {
          "color": "#FF6692",
          "size": 10,
          "symbol": "circle"
         },
         "mode": "markers",
         "name": "CISP",
         "orientation": "v",
         "showlegend": true,
         "type": "scatter",
         "x": [
          97.98950209148803,
          98.96079240132875,
          96.92027303051829,
          93.9178352560302,
          95.72287110682873
         ],
         "xaxis": "x",
         "y": [
          97.45422203748802,
          98.54985786946312,
          97.03692245585425,
          84.41700213685854,
          94.9640346896785
         ],
         "yaxis": "y"
        },
        {
         "customdata": [
          [
           30
          ]
         ],
         "hovertemplate": "Compound=IBIP<br>Viability=%{x}<br>Predicted Viability=%{y}<br>Concentration=%{customdata[0]}<extra></extra>",
         "legendgroup": "IBIP",
         "marker": {
          "color": "#B6E880",
          "size": 10,
          "symbol": "circle"
         },
         "mode": "markers",
         "name": "IBIP",
         "orientation": "v",
         "showlegend": true,
         "type": "scatter",
         "x": [
          98.888662475202
         ],
         "xaxis": "x",
         "y": [
          98.36785290017872
         ],
         "yaxis": "y"
        },
        {
         "customdata": [
          [
           30000
          ],
          [
           10000
          ]
         ],
         "hovertemplate": "Compound=ATOR<br>Viability=%{x}<br>Predicted Viability=%{y}<br>Concentration=%{customdata[0]}<extra></extra>",
         "legendgroup": "ATOR",
         "marker": {
          "color": "#FF97FF",
          "size": 10,
          "symbol": "circle"
         },
         "mode": "markers",
         "name": "ATOR",
         "orientation": "v",
         "showlegend": true,
         "type": "scatter",
         "x": [
          22.489916095587155,
          61.98682876259382
         ],
         "xaxis": "x",
         "y": [
          22.661287451326974,
          64.24051770672939
         ],
         "yaxis": "y"
        },
        {
         "customdata": [
          [
           300
          ],
          [
           10
          ],
          [
           30000
          ],
          [
           1000
          ]
         ],
         "hovertemplate": "Compound=TEBU<br>Viability=%{x}<br>Predicted Viability=%{y}<br>Concentration=%{customdata[0]}<extra></extra>",
         "legendgroup": "TEBU",
         "marker": {
          "color": "#FECB52",
          "size": 10,
          "symbol": "circle"
         },
         "mode": "markers",
         "name": "TEBU",
         "orientation": "v",
         "showlegend": true,
         "type": "scatter",
         "x": [
          102.0635990554454,
          100.60047797689737,
          55.150660609848934,
          98.98592875240932
         ],
         "xaxis": "x",
         "y": [
          100.38562231690621,
          99.76215897035249,
          64.85850072179034,
          98.28539139279768
         ],
         "yaxis": "y"
        },
        {
         "customdata": [
          [
           30
          ],
          [
           10000
          ],
          [
           1000
          ],
          [
           30000
          ],
          [
           3000
          ]
         ],
         "hovertemplate": "Compound=IMAT<br>Viability=%{x}<br>Predicted Viability=%{y}<br>Concentration=%{customdata[0]}<extra></extra>",
         "legendgroup": "IMAT",
         "marker": {
          "color": "#636efa",
          "size": 10,
          "symbol": "circle"
         },
         "mode": "markers",
         "name": "IMAT",
         "orientation": "v",
         "showlegend": true,
         "type": "scatter",
         "x": [
          95.89388870408044,
          8.993070972332934,
          96.96359784035542,
          39.271256991260515,
          94.61580757656175
         ],
         "xaxis": "x",
         "y": [
          96.89810992267951,
          9.776291083381825,
          97.05881612053416,
          39.31534842504002,
          93.34475401228707
         ],
         "yaxis": "y"
        },
        {
         "customdata": [
          [
           10
          ],
          [
           30000
          ],
          [
           1000
          ]
         ],
         "hovertemplate": "Compound=ZIDO<br>Viability=%{x}<br>Predicted Viability=%{y}<br>Concentration=%{customdata[0]}<extra></extra>",
         "legendgroup": "ZIDO",
         "marker": {
          "color": "#EF553B",
          "size": 10,
          "symbol": "circle"
         },
         "mode": "markers",
         "name": "ZIDO",
         "orientation": "v",
         "showlegend": true,
         "type": "scatter",
         "x": [
          101.22823947349733,
          98.47311887187162,
          101.589529274016
         ],
         "xaxis": "x",
         "y": [
          100.20956103064468,
          98.15595676505383,
          100.44615585654773
         ],
         "yaxis": "y"
        },
        {
         "customdata": [
          [
           3000
          ],
          [
           10
          ]
         ],
         "hovertemplate": "Compound=MCPP<br>Viability=%{x}<br>Predicted Viability=%{y}<br>Concentration=%{customdata[0]}<extra></extra>",
         "legendgroup": "MCPP",
         "marker": {
          "color": "#00cc96",
          "size": 10,
          "symbol": "circle"
         },
         "mode": "markers",
         "name": "MCPP",
         "orientation": "v",
         "showlegend": true,
         "type": "scatter",
         "x": [
          100.66811350188271,
          99.9625861613402
         ],
         "xaxis": "x",
         "y": [
          99.7849147514719,
          99.6665579119497
         ],
         "yaxis": "y"
        },
        {
         "customdata": [
          [
           3000
          ],
          [
           10
          ],
          [
           30
          ]
         ],
         "hovertemplate": "Compound=SELU<br>Viability=%{x}<br>Predicted Viability=%{y}<br>Concentration=%{customdata[0]}<extra></extra>",
         "legendgroup": "SELU",
         "marker": {
          "color": "#ab63fa",
          "size": 10,
          "symbol": "circle"
         },
         "mode": "markers",
         "name": "SELU",
         "orientation": "v",
         "showlegend": true,
         "type": "scatter",
         "x": [
          109.3931057742589,
          105.0594405858846,
          102.75179971340097
         ],
         "xaxis": "x",
         "y": [
          91.78203700555405,
          102.01241750608689,
          93.53800088702161
         ],
         "yaxis": "y"
        },
        {
         "customdata": [
          [
           10000
          ],
          [
           30000
          ]
         ],
         "hovertemplate": "Compound=SIMV<br>Viability=%{x}<br>Predicted Viability=%{y}<br>Concentration=%{customdata[0]}<extra></extra>",
         "legendgroup": "SIMV",
         "marker": {
          "color": "#FFA15A",
          "size": 10,
          "symbol": "circle"
         },
         "mode": "markers",
         "name": "SIMV",
         "orientation": "v",
         "showlegend": true,
         "type": "scatter",
         "x": [
          69.37322181025635,
          54.49669003462304
         ],
         "xaxis": "x",
         "y": [
          69.37774214196142,
          54.40381212357757
         ],
         "yaxis": "y"
        },
        {
         "customdata": [
          [
           1000
          ],
          [
           300
          ],
          [
           10
          ]
         ],
         "hovertemplate": "Compound=LEFL<br>Viability=%{x}<br>Predicted Viability=%{y}<br>Concentration=%{customdata[0]}<extra></extra>",
         "legendgroup": "LEFL",
         "marker": {
          "color": "#19d3f3",
          "size": 10,
          "symbol": "circle"
         },
         "mode": "markers",
         "name": "LEFL",
         "orientation": "v",
         "showlegend": true,
         "type": "scatter",
         "x": [
          98.63488296535465,
          96.23172092846835,
          100.46702448377164
         ],
         "xaxis": "x",
         "y": [
          98.3798373179916,
          96.31566667049864,
          98.0010524318878
         ],
         "yaxis": "y"
        },
        {
         "customdata": [
          [
           30
          ]
         ],
         "hovertemplate": "Compound=ETHF<br>Viability=%{x}<br>Predicted Viability=%{y}<br>Concentration=%{customdata[0]}<extra></extra>",
         "legendgroup": "ETHF",
         "marker": {
          "color": "#FF6692",
          "size": 10,
          "symbol": "circle"
         },
         "mode": "markers",
         "name": "ETHF",
         "orientation": "v",
         "showlegend": true,
         "type": "scatter",
         "x": [
          97.08389050609192
         ],
         "xaxis": "x",
         "y": [
          97.49072491357862
         ],
         "yaxis": "y"
        },
        {
         "customdata": [
          [
           300
          ],
          [
           30
          ],
          [
           1000
          ]
         ],
         "hovertemplate": "Compound=GEMF<br>Viability=%{x}<br>Predicted Viability=%{y}<br>Concentration=%{customdata[0]}<extra></extra>",
         "legendgroup": "GEMF",
         "marker": {
          "color": "#B6E880",
          "size": 10,
          "symbol": "circle"
         },
         "mode": "markers",
         "name": "GEMF",
         "orientation": "v",
         "showlegend": true,
         "type": "scatter",
         "x": [
          96.90192196366374,
          97.14042739576794,
          97.18550308367611
         ],
         "xaxis": "x",
         "y": [
          97.31424585130351,
          97.29674755460798,
          96.17278702976994
         ],
         "yaxis": "y"
        },
        {
         "customdata": [
          [
           3000
          ]
         ],
         "hovertemplate": "Compound=ETRE<br>Viability=%{x}<br>Predicted Viability=%{y}<br>Concentration=%{customdata[0]}<extra></extra>",
         "legendgroup": "ETRE",
         "marker": {
          "color": "#FF97FF",
          "size": 10,
          "symbol": "circle"
         },
         "mode": "markers",
         "name": "ETRE",
         "orientation": "v",
         "showlegend": true,
         "type": "scatter",
         "x": [
          94.26800537717982
         ],
         "xaxis": "x",
         "y": [
          90.07155481791894
         ],
         "yaxis": "y"
        },
        {
         "hovertemplate": "<b>OLS trendline</b><br>Predicted Viability = 0.976417 * Viability + 1.4828<br>R<sup>2</sup>=0.994701<br><br>Viability=%{x}<br>Predicted Viability=%{y} <b>(trend)</b><extra></extra>",
         "legendgroup": "Overall Trendline",
         "line": {
          "color": "#FECB52"
         },
         "marker": {
          "size": 10
         },
         "mode": "lines",
         "name": "Overall Trendline",
         "showlegend": true,
         "type": "scatter",
         "x": [
          0,
          0.20939988836202494,
          0.8890589471938477,
          0.9814250423219351,
          2.624955701986784,
          3.0271653057198566,
          3.1659047485626,
          3.3762603959447866,
          3.6130149352097414,
          3.6409130128184835,
          3.67639567745358,
          4.2754802762514945,
          4.517519128165078,
          4.6504396016513265,
          6.295269921447327,
          6.697203044070011,
          7.429372174877845,
          7.915503405580704,
          8.119710093604976,
          8.154981778466878,
          8.298743282321576,
          8.321744935614891,
          8.476954380909786,
          8.50825009760538,
          8.526268015230581,
          8.638624092071996,
          8.791164378052105,
          8.917070491497782,
          8.925742173652635,
          8.993070972332934,
          9.099479009921916,
          11.518611692429436,
          11.685538721671147,
          11.752077836779728,
          22.146736639784976,
          22.37951174565565,
          22.453287257211027,
          22.489916095587155,
          22.60840523501637,
          22.808326830703873,
          22.820688754218075,
          22.8744654470101,
          23.103895655981013,
          33.38651247087686,
          33.45873112922424,
          34.17714369251915,
          38.92463316207148,
          39.24826826194325,
          39.271256991260515,
          39.295412379741954,
          39.60165990346974,
          39.77390351746497,
          39.84310669889126,
          40.012919993995396,
          40.059060581163024,
          40.289517965437824,
          50.237127780629585,
          50.245452538645644,
          50.56689243222366,
          51.594917265587924,
          54.198943513134104,
          54.49669003462304,
          54.55193791665679,
          54.6348532914472,
          55.150660609848934,
          55.37521978146681,
          57.28582915107847,
          57.929268187755795,
          57.96316531599564,
          58.102234349307146,
          58.42174012121279,
          59.961887817099026,
          60.037272744901856,
          60.08418787253077,
          61.10412338716825,
          61.98682876259382,
          62.22506210265254,
          65.67903707101406,
          65.825576871431,
          65.97189693626268,
          66.53656884533474,
          68.53049906567013,
          68.62473142813634,
          68.98109736608852,
          69.1021029105657,
          69.37322181025635,
          69.64806489137723,
          71.45656550195393,
          71.98211176073247,
          72.0950758760543,
          72.4070291620682,
          74.25536462639023,
          74.40452933644183,
          75.34577265021528,
          84.32626422309332,
          84.68871182156224,
          84.88057727773585,
          85.2284593583581,
          88.45742492007213,
          90.71917922327638,
          91.87806064411728,
          91.89803872880609,
          93.9178352560302,
          94.26800537717982,
          94.61580757656175,
          94.96452470879225,
          95.21623615667666,
          95.58964923902339,
          95.71307960610659,
          95.72287110682873,
          95.83618235452012,
          95.89388870408044,
          96.03751060889387,
          96.23172092846835,
          96.27590369713752,
          96.41782374390507,
          96.42806384737263,
          96.45305966749078,
          96.60050776323612,
          96.76009837439821,
          96.90192196366374,
          96.92027303051829,
          96.96157833708483,
          96.96359784035542,
          96.9642188134675,
          97.08389050609192,
          97.14042739576794,
          97.18550308367611,
          97.27287620823932,
          97.57776440159377,
          97.64131405036298,
          97.73071816649106,
          97.80827085505717,
          97.84612793818138,
          97.91375218273944,
          97.98950209148803,
          98.00508871591447,
          98.16340344199628,
          98.4448120411856,
          98.47311887187162,
          98.48118877240711,
          98.54977599771297,
          98.56067012552757,
          98.63176183586498,
          98.63488296535465,
          98.75117980749218,
          98.85148106293113,
          98.888662475202,
          98.96079240132875,
          98.97964648829654,
          98.98592875240932,
          99.0960546870985,
          99.1092082243379,
          99.20919848158306,
          99.35561540823893,
          99.41857548126819,
          99.45842332701554,
          99.9625861613402,
          100.04108407994909,
          100.22221792778328,
          100.24775297281462,
          100.46702448377164,
          100.60047797689737,
          100.66811350188271,
          101.22823947349733,
          101.589529274016,
          101.62915134798466,
          101.69024372119421,
          102.0635990554454,
          102.66256475386524,
          102.75179971340097,
          105.0594405858846,
          109.3931057742589
         ],
         "xaxis": "x",
         "y": [
          1.4828008805974298,
          1.6872624067842994,
          2.3508927914158098,
          2.4410805796020196,
          4.045851191652303,
          4.438575323787962,
          4.574042818292547,
          4.779437563448431,
          5.010608624753354,
          5.037848770725647,
          5.0724946333439025,
          5.657450777988552,
          5.893781529861787,
          6.023567286115363,
          7.629606907886797,
          8.022061079277805,
          8.73696316964125,
          9.21162977110938,
          9.41102057030037,
          9.445460428766669,
          9.585831546989201,
          9.608290742999095,
          9.759839821233307,
          9.79039747839705,
          9.807990472190767,
          9.917696810274617,
          10.066639677056635,
          10.189576495756626,
          10.198043670127433,
          10.263784626544286,
          10.367683200388697,
          12.729764499395369,
          12.892754821059693,
          12.957724717331576,
          23.107242081829185,
          23.33452755832545,
          23.406563192182865,
          23.442328197863706,
          23.558022960042287,
          23.753229723960477,
          23.765300111237615,
          23.81780856655508,
          24.04182803020668,
          34.08194573807098,
          34.15246123461864,
          34.85393118415915,
          39.489458691330434,
          39.805461373877336,
          39.827907950702524,
          39.85149367289743,
          40.150518837534,
          40.31870036078544,
          40.386271495622644,
          40.55208001517537,
          40.59713245023274,
          40.82215486489801,
          50.53516617849164,
          50.543294610375796,
          50.85715385706594,
          51.860934365412085,
          54.40354880980696,
          54.694273454775306,
          54.74821840368417,
          54.82917835168899,
          55.33282117768918,
          55.55208447962978,
          57.417635176497186,
          58.04589973039135,
          58.0789974489598,
          58.21478676106795,
          58.52675749925861,
          60.030583269736894,
          60.10419036432811,
          60.14999907354612,
          61.1458810368375,
          62.00776921473777,
          62.24038420167983,
          65.61290268278573,
          65.7559865758801,
          65.89885591550231,
          66.45021093878735,
          68.39711749709012,
          68.48912753967775,
          68.83708915572574,
          68.95524097755529,
          69.21996597068909,
          69.48832731637769,
          71.25417732633146,
          71.76732941534253,
          71.87762945228963,
          72.18222581791491,
          73.98697124016287,
          74.13261813858739,
          75.05166373098326,
          83.82036474253528,
          84.17426459284275,
          84.36160520844028,
          84.70128304539364,
          87.85409860760394,
          90.06251304521511,
          91.1940640972629,
          91.21357103070835,
          93.18573388033323,
          93.52764579802972,
          93.86724563761433,
          94.20773883281647,
          94.45351406792155,
          94.81812079866994,
          94.93864025753425,
          94.9482008413386,
          95.05883982409233,
          95.11518526149476,
          95.25542007289661,
          95.445050252034,
          95.48819104061762,
          95.62676412957953,
          95.6367627365495,
          95.66116907014225,
          95.80513983786932,
          95.96096675916587,
          96.099445665422,
          96.11736395165218,
          96.15769513848457,
          96.15966701499354,
          96.16027334344582,
          96.2771227701898,
          96.33232632755289,
          96.37633897730032,
          96.46165154616389,
          96.75934943806455,
          96.82140036978963,
          96.90869603252338,
          96.98441976469991,
          97.02138404893667,
          97.08741348361178,
          97.16137695165564,
          97.17659599042045,
          97.3311771163501,
          97.60594914284174,
          97.63358840210233,
          97.64146798691286,
          97.7084376919717,
          97.71907489916828,
          97.78849002497623,
          97.79153754760806,
          97.90509171432778,
          98.00302752473304,
          98.0393320727352,
          98.10976092967005,
          98.12817037308689,
          98.13430448002676,
          98.24183327030184,
          98.25467660235785,
          98.35230874896537,
          98.49527266608024,
          98.55674792626827,
          98.59565602416885,
          99.0879289826649,
          99.16457565314221,
          99.34143774825588,
          99.36637059000283,
          99.58047093232041,
          99.71077713779594,
          99.77681758686747,
          100.32373388137489,
          100.67650323854897,
          100.71519088913796,
          100.77484249622576,
          101.13939284077527,
          101.72423288911752,
          101.81136338454718,
          104.06458222993396,
          108.2960448411557
         ],
         "yaxis": "y"
        }
       ],
       "layout": {
        "font": {
         "color": "black",
         "size": 18
        },
        "height": 1000,
        "legend": {
         "title": {
          "text": "Compound"
         },
         "tracegroupgap": 0
        },
        "template": {
         "data": {
          "bar": [
           {
            "error_x": {
             "color": "#2a3f5f"
            },
            "error_y": {
             "color": "#2a3f5f"
            },
            "marker": {
             "line": {
              "color": "#E5ECF6",
              "width": 0.5
             },
             "pattern": {
              "fillmode": "overlay",
              "size": 10,
              "solidity": 0.2
             }
            },
            "type": "bar"
           }
          ],
          "barpolar": [
           {
            "marker": {
             "line": {
              "color": "#E5ECF6",
              "width": 0.5
             },
             "pattern": {
              "fillmode": "overlay",
              "size": 10,
              "solidity": 0.2
             }
            },
            "type": "barpolar"
           }
          ],
          "carpet": [
           {
            "aaxis": {
             "endlinecolor": "#2a3f5f",
             "gridcolor": "white",
             "linecolor": "white",
             "minorgridcolor": "white",
             "startlinecolor": "#2a3f5f"
            },
            "baxis": {
             "endlinecolor": "#2a3f5f",
             "gridcolor": "white",
             "linecolor": "white",
             "minorgridcolor": "white",
             "startlinecolor": "#2a3f5f"
            },
            "type": "carpet"
           }
          ],
          "choropleth": [
           {
            "colorbar": {
             "outlinewidth": 0,
             "ticks": ""
            },
            "type": "choropleth"
           }
          ],
          "contour": [
           {
            "colorbar": {
             "outlinewidth": 0,
             "ticks": ""
            },
            "colorscale": [
             [
              0,
              "#0d0887"
             ],
             [
              0.1111111111111111,
              "#46039f"
             ],
             [
              0.2222222222222222,
              "#7201a8"
             ],
             [
              0.3333333333333333,
              "#9c179e"
             ],
             [
              0.4444444444444444,
              "#bd3786"
             ],
             [
              0.5555555555555556,
              "#d8576b"
             ],
             [
              0.6666666666666666,
              "#ed7953"
             ],
             [
              0.7777777777777778,
              "#fb9f3a"
             ],
             [
              0.8888888888888888,
              "#fdca26"
             ],
             [
              1,
              "#f0f921"
             ]
            ],
            "type": "contour"
           }
          ],
          "contourcarpet": [
           {
            "colorbar": {
             "outlinewidth": 0,
             "ticks": ""
            },
            "type": "contourcarpet"
           }
          ],
          "heatmap": [
           {
            "colorbar": {
             "outlinewidth": 0,
             "ticks": ""
            },
            "colorscale": [
             [
              0,
              "#0d0887"
             ],
             [
              0.1111111111111111,
              "#46039f"
             ],
             [
              0.2222222222222222,
              "#7201a8"
             ],
             [
              0.3333333333333333,
              "#9c179e"
             ],
             [
              0.4444444444444444,
              "#bd3786"
             ],
             [
              0.5555555555555556,
              "#d8576b"
             ],
             [
              0.6666666666666666,
              "#ed7953"
             ],
             [
              0.7777777777777778,
              "#fb9f3a"
             ],
             [
              0.8888888888888888,
              "#fdca26"
             ],
             [
              1,
              "#f0f921"
             ]
            ],
            "type": "heatmap"
           }
          ],
          "heatmapgl": [
           {
            "colorbar": {
             "outlinewidth": 0,
             "ticks": ""
            },
            "colorscale": [
             [
              0,
              "#0d0887"
             ],
             [
              0.1111111111111111,
              "#46039f"
             ],
             [
              0.2222222222222222,
              "#7201a8"
             ],
             [
              0.3333333333333333,
              "#9c179e"
             ],
             [
              0.4444444444444444,
              "#bd3786"
             ],
             [
              0.5555555555555556,
              "#d8576b"
             ],
             [
              0.6666666666666666,
              "#ed7953"
             ],
             [
              0.7777777777777778,
              "#fb9f3a"
             ],
             [
              0.8888888888888888,
              "#fdca26"
             ],
             [
              1,
              "#f0f921"
             ]
            ],
            "type": "heatmapgl"
           }
          ],
          "histogram": [
           {
            "marker": {
             "pattern": {
              "fillmode": "overlay",
              "size": 10,
              "solidity": 0.2
             }
            },
            "type": "histogram"
           }
          ],
          "histogram2d": [
           {
            "colorbar": {
             "outlinewidth": 0,
             "ticks": ""
            },
            "colorscale": [
             [
              0,
              "#0d0887"
             ],
             [
              0.1111111111111111,
              "#46039f"
             ],
             [
              0.2222222222222222,
              "#7201a8"
             ],
             [
              0.3333333333333333,
              "#9c179e"
             ],
             [
              0.4444444444444444,
              "#bd3786"
             ],
             [
              0.5555555555555556,
              "#d8576b"
             ],
             [
              0.6666666666666666,
              "#ed7953"
             ],
             [
              0.7777777777777778,
              "#fb9f3a"
             ],
             [
              0.8888888888888888,
              "#fdca26"
             ],
             [
              1,
              "#f0f921"
             ]
            ],
            "type": "histogram2d"
           }
          ],
          "histogram2dcontour": [
           {
            "colorbar": {
             "outlinewidth": 0,
             "ticks": ""
            },
            "colorscale": [
             [
              0,
              "#0d0887"
             ],
             [
              0.1111111111111111,
              "#46039f"
             ],
             [
              0.2222222222222222,
              "#7201a8"
             ],
             [
              0.3333333333333333,
              "#9c179e"
             ],
             [
              0.4444444444444444,
              "#bd3786"
             ],
             [
              0.5555555555555556,
              "#d8576b"
             ],
             [
              0.6666666666666666,
              "#ed7953"
             ],
             [
              0.7777777777777778,
              "#fb9f3a"
             ],
             [
              0.8888888888888888,
              "#fdca26"
             ],
             [
              1,
              "#f0f921"
             ]
            ],
            "type": "histogram2dcontour"
           }
          ],
          "mesh3d": [
           {
            "colorbar": {
             "outlinewidth": 0,
             "ticks": ""
            },
            "type": "mesh3d"
           }
          ],
          "parcoords": [
           {
            "line": {
             "colorbar": {
              "outlinewidth": 0,
              "ticks": ""
             }
            },
            "type": "parcoords"
           }
          ],
          "pie": [
           {
            "automargin": true,
            "type": "pie"
           }
          ],
          "scatter": [
           {
            "fillpattern": {
             "fillmode": "overlay",
             "size": 10,
             "solidity": 0.2
            },
            "type": "scatter"
           }
          ],
          "scatter3d": [
           {
            "line": {
             "colorbar": {
              "outlinewidth": 0,
              "ticks": ""
             }
            },
            "marker": {
             "colorbar": {
              "outlinewidth": 0,
              "ticks": ""
             }
            },
            "type": "scatter3d"
           }
          ],
          "scattercarpet": [
           {
            "marker": {
             "colorbar": {
              "outlinewidth": 0,
              "ticks": ""
             }
            },
            "type": "scattercarpet"
           }
          ],
          "scattergeo": [
           {
            "marker": {
             "colorbar": {
              "outlinewidth": 0,
              "ticks": ""
             }
            },
            "type": "scattergeo"
           }
          ],
          "scattergl": [
           {
            "marker": {
             "colorbar": {
              "outlinewidth": 0,
              "ticks": ""
             }
            },
            "type": "scattergl"
           }
          ],
          "scattermapbox": [
           {
            "marker": {
             "colorbar": {
              "outlinewidth": 0,
              "ticks": ""
             }
            },
            "type": "scattermapbox"
           }
          ],
          "scatterpolar": [
           {
            "marker": {
             "colorbar": {
              "outlinewidth": 0,
              "ticks": ""
             }
            },
            "type": "scatterpolar"
           }
          ],
          "scatterpolargl": [
           {
            "marker": {
             "colorbar": {
              "outlinewidth": 0,
              "ticks": ""
             }
            },
            "type": "scatterpolargl"
           }
          ],
          "scatterternary": [
           {
            "marker": {
             "colorbar": {
              "outlinewidth": 0,
              "ticks": ""
             }
            },
            "type": "scatterternary"
           }
          ],
          "surface": [
           {
            "colorbar": {
             "outlinewidth": 0,
             "ticks": ""
            },
            "colorscale": [
             [
              0,
              "#0d0887"
             ],
             [
              0.1111111111111111,
              "#46039f"
             ],
             [
              0.2222222222222222,
              "#7201a8"
             ],
             [
              0.3333333333333333,
              "#9c179e"
             ],
             [
              0.4444444444444444,
              "#bd3786"
             ],
             [
              0.5555555555555556,
              "#d8576b"
             ],
             [
              0.6666666666666666,
              "#ed7953"
             ],
             [
              0.7777777777777778,
              "#fb9f3a"
             ],
             [
              0.8888888888888888,
              "#fdca26"
             ],
             [
              1,
              "#f0f921"
             ]
            ],
            "type": "surface"
           }
          ],
          "table": [
           {
            "cells": {
             "fill": {
              "color": "#EBF0F8"
             },
             "line": {
              "color": "white"
             }
            },
            "header": {
             "fill": {
              "color": "#C8D4E3"
             },
             "line": {
              "color": "white"
             }
            },
            "type": "table"
           }
          ]
         },
         "layout": {
          "annotationdefaults": {
           "arrowcolor": "#2a3f5f",
           "arrowhead": 0,
           "arrowwidth": 1
          },
          "autotypenumbers": "strict",
          "coloraxis": {
           "colorbar": {
            "outlinewidth": 0,
            "ticks": ""
           }
          },
          "colorscale": {
           "diverging": [
            [
             0,
             "#8e0152"
            ],
            [
             0.1,
             "#c51b7d"
            ],
            [
             0.2,
             "#de77ae"
            ],
            [
             0.3,
             "#f1b6da"
            ],
            [
             0.4,
             "#fde0ef"
            ],
            [
             0.5,
             "#f7f7f7"
            ],
            [
             0.6,
             "#e6f5d0"
            ],
            [
             0.7,
             "#b8e186"
            ],
            [
             0.8,
             "#7fbc41"
            ],
            [
             0.9,
             "#4d9221"
            ],
            [
             1,
             "#276419"
            ]
           ],
           "sequential": [
            [
             0,
             "#0d0887"
            ],
            [
             0.1111111111111111,
             "#46039f"
            ],
            [
             0.2222222222222222,
             "#7201a8"
            ],
            [
             0.3333333333333333,
             "#9c179e"
            ],
            [
             0.4444444444444444,
             "#bd3786"
            ],
            [
             0.5555555555555556,
             "#d8576b"
            ],
            [
             0.6666666666666666,
             "#ed7953"
            ],
            [
             0.7777777777777778,
             "#fb9f3a"
            ],
            [
             0.8888888888888888,
             "#fdca26"
            ],
            [
             1,
             "#f0f921"
            ]
           ],
           "sequentialminus": [
            [
             0,
             "#0d0887"
            ],
            [
             0.1111111111111111,
             "#46039f"
            ],
            [
             0.2222222222222222,
             "#7201a8"
            ],
            [
             0.3333333333333333,
             "#9c179e"
            ],
            [
             0.4444444444444444,
             "#bd3786"
            ],
            [
             0.5555555555555556,
             "#d8576b"
            ],
            [
             0.6666666666666666,
             "#ed7953"
            ],
            [
             0.7777777777777778,
             "#fb9f3a"
            ],
            [
             0.8888888888888888,
             "#fdca26"
            ],
            [
             1,
             "#f0f921"
            ]
           ]
          },
          "colorway": [
           "#636efa",
           "#EF553B",
           "#00cc96",
           "#ab63fa",
           "#FFA15A",
           "#19d3f3",
           "#FF6692",
           "#B6E880",
           "#FF97FF",
           "#FECB52"
          ],
          "font": {
           "color": "#2a3f5f"
          },
          "geo": {
           "bgcolor": "white",
           "lakecolor": "white",
           "landcolor": "#E5ECF6",
           "showlakes": true,
           "showland": true,
           "subunitcolor": "white"
          },
          "hoverlabel": {
           "align": "left"
          },
          "hovermode": "closest",
          "mapbox": {
           "style": "light"
          },
          "paper_bgcolor": "white",
          "plot_bgcolor": "#E5ECF6",
          "polar": {
           "angularaxis": {
            "gridcolor": "white",
            "linecolor": "white",
            "ticks": ""
           },
           "bgcolor": "#E5ECF6",
           "radialaxis": {
            "gridcolor": "white",
            "linecolor": "white",
            "ticks": ""
           }
          },
          "scene": {
           "xaxis": {
            "backgroundcolor": "#E5ECF6",
            "gridcolor": "white",
            "gridwidth": 2,
            "linecolor": "white",
            "showbackground": true,
            "ticks": "",
            "zerolinecolor": "white"
           },
           "yaxis": {
            "backgroundcolor": "#E5ECF6",
            "gridcolor": "white",
            "gridwidth": 2,
            "linecolor": "white",
            "showbackground": true,
            "ticks": "",
            "zerolinecolor": "white"
           },
           "zaxis": {
            "backgroundcolor": "#E5ECF6",
            "gridcolor": "white",
            "gridwidth": 2,
            "linecolor": "white",
            "showbackground": true,
            "ticks": "",
            "zerolinecolor": "white"
           }
          },
          "shapedefaults": {
           "line": {
            "color": "#2a3f5f"
           }
          },
          "ternary": {
           "aaxis": {
            "gridcolor": "white",
            "linecolor": "white",
            "ticks": ""
           },
           "baxis": {
            "gridcolor": "white",
            "linecolor": "white",
            "ticks": ""
           },
           "bgcolor": "#E5ECF6",
           "caxis": {
            "gridcolor": "white",
            "linecolor": "white",
            "ticks": ""
           }
          },
          "title": {
           "x": 0.05
          },
          "xaxis": {
           "automargin": true,
           "gridcolor": "white",
           "linecolor": "white",
           "ticks": "",
           "title": {
            "standoff": 15
           },
           "zerolinecolor": "white",
           "zerolinewidth": 2
          },
          "yaxis": {
           "automargin": true,
           "gridcolor": "white",
           "linecolor": "white",
           "ticks": "",
           "title": {
            "standoff": 15
           },
           "zerolinecolor": "white",
           "zerolinewidth": 2
          }
         }
        },
        "title": {
         "text": "Train set"
        },
        "width": 1200,
        "xaxis": {
         "anchor": "y",
         "domain": [
          0,
          1
         ],
         "range": [
          0,
          100
         ],
         "title": {
          "text": "Viability"
         }
        },
        "yaxis": {
         "anchor": "x",
         "domain": [
          0,
          1
         ],
         "range": [
          0,
          100
         ],
         "title": {
          "text": "Predicted Viability"
         }
        }
       }
      }
     },
     "metadata": {},
     "output_type": "display_data"
    },
    {
     "data": {
      "text/plain": [
       "0.994364335703305"
      ]
     },
     "execution_count": 22,
     "metadata": {},
     "output_type": "execute_result"
    }
   ],
   "source": [
    "y_train = pd.DataFrame(y_train)\n",
    "y_train['Predicted Viability'] = rf.predict(X_train)\n",
    "y_train = y_train.merge(augmentedData[['Compound', 'Concentration']], left_index=True, right_index=True)\n",
    "\n",
    "fig2 = px.scatter(y_train, x=\"Viability\", y=\"Predicted Viability\", color=\"Compound\", hover_data=['Concentration'], trendline=\"ols\", trendline_scope='overall',height=1000, width=1200, range_x=[0,100], range_y=[0,100], title = 'Train set') \n",
    "\n",
    "fig2.update_traces(marker={'size': 10})\n",
    "fig2.update_layout(\n",
    "    font=dict(\n",
    "        size=18,\n",
    "        color=\"black\"\n",
    "    )\n",
    ")\n",
    "fig2.show()\n",
    "r2_score(y_train['Viability'], y_train['Predicted Viability'])"
   ]
  },
  {
   "cell_type": "code",
   "execution_count": 23,
   "metadata": {},
   "outputs": [
    {
     "data": {
      "text/html": [
       "<div>\n",
       "<style scoped>\n",
       "    .dataframe tbody tr th:only-of-type {\n",
       "        vertical-align: middle;\n",
       "    }\n",
       "\n",
       "    .dataframe tbody tr th {\n",
       "        vertical-align: top;\n",
       "    }\n",
       "\n",
       "    .dataframe thead th {\n",
       "        text-align: right;\n",
       "    }\n",
       "</style>\n",
       "<table border=\"1\" class=\"dataframe\">\n",
       "  <thead>\n",
       "    <tr style=\"text-align: right;\">\n",
       "      <th></th>\n",
       "      <th>importance</th>\n",
       "    </tr>\n",
       "  </thead>\n",
       "  <tbody>\n",
       "    <tr>\n",
       "      <th>RadialDistribution_RadialCV_RNA_3of4 (Cells)</th>\n",
       "      <td>0.424756</td>\n",
       "    </tr>\n",
       "    <tr>\n",
       "      <th>RadialDistribution_RadialCV_ER_3of4 (Cells)</th>\n",
       "      <td>0.243198</td>\n",
       "    </tr>\n",
       "    <tr>\n",
       "      <th>Mean_Nuclei_Granularity_8_MITO (Tubes)</th>\n",
       "      <td>0.086724</td>\n",
       "    </tr>\n",
       "    <tr>\n",
       "      <th>Intensity_MinIntensity_AGP (Nuclei)</th>\n",
       "      <td>0.038412</td>\n",
       "    </tr>\n",
       "    <tr>\n",
       "      <th>Intensity_MinIntensityEdge_RNA (Cells)</th>\n",
       "      <td>0.023060</td>\n",
       "    </tr>\n",
       "    <tr>\n",
       "      <th>RadialDistribution_RadialCV_MITO_1of4 (Nuclei)</th>\n",
       "      <td>0.015611</td>\n",
       "    </tr>\n",
       "    <tr>\n",
       "      <th>Intensity_MinIntensity_RNA (Cells)</th>\n",
       "      <td>0.011847</td>\n",
       "    </tr>\n",
       "    <tr>\n",
       "      <th>Texture_InfoMeas1_MITO_3_01_256 (Cells)</th>\n",
       "      <td>0.009549</td>\n",
       "    </tr>\n",
       "    <tr>\n",
       "      <th>Intensity_MaxIntensityEdge_ER (Cells)</th>\n",
       "      <td>0.008340</td>\n",
       "    </tr>\n",
       "    <tr>\n",
       "      <th>Intensity_IntegratedIntensity_ER (Cells)</th>\n",
       "      <td>0.007854</td>\n",
       "    </tr>\n",
       "    <tr>\n",
       "      <th>RadialDistribution_RadialCV_MITO_4of4 (Nuclei)</th>\n",
       "      <td>0.007704</td>\n",
       "    </tr>\n",
       "    <tr>\n",
       "      <th>Intensity_IntegratedIntensityEdge_DNA (Nuclei)</th>\n",
       "      <td>0.007350</td>\n",
       "    </tr>\n",
       "    <tr>\n",
       "      <th>Texture_InfoMeas1_MITO_3_00_256 (Cells)</th>\n",
       "      <td>0.005812</td>\n",
       "    </tr>\n",
       "    <tr>\n",
       "      <th>RadialDistribution_RadialCV_RNA_2of4 (Cells)</th>\n",
       "      <td>0.004811</td>\n",
       "    </tr>\n",
       "    <tr>\n",
       "      <th>RadialDistribution_RadialCV_MITO_2of4 (Nuclei)</th>\n",
       "      <td>0.004526</td>\n",
       "    </tr>\n",
       "  </tbody>\n",
       "</table>\n",
       "</div>"
      ],
      "text/plain": [
       "                                                importance\n",
       "RadialDistribution_RadialCV_RNA_3of4 (Cells)      0.424756\n",
       "RadialDistribution_RadialCV_ER_3of4 (Cells)       0.243198\n",
       "Mean_Nuclei_Granularity_8_MITO (Tubes)            0.086724\n",
       "Intensity_MinIntensity_AGP (Nuclei)               0.038412\n",
       "Intensity_MinIntensityEdge_RNA (Cells)            0.023060\n",
       "RadialDistribution_RadialCV_MITO_1of4 (Nuclei)    0.015611\n",
       "Intensity_MinIntensity_RNA (Cells)                0.011847\n",
       "Texture_InfoMeas1_MITO_3_01_256 (Cells)           0.009549\n",
       "Intensity_MaxIntensityEdge_ER (Cells)             0.008340\n",
       "Intensity_IntegratedIntensity_ER (Cells)          0.007854\n",
       "RadialDistribution_RadialCV_MITO_4of4 (Nuclei)    0.007704\n",
       "Intensity_IntegratedIntensityEdge_DNA (Nuclei)    0.007350\n",
       "Texture_InfoMeas1_MITO_3_00_256 (Cells)           0.005812\n",
       "RadialDistribution_RadialCV_RNA_2of4 (Cells)      0.004811\n",
       "RadialDistribution_RadialCV_MITO_2of4 (Nuclei)    0.004526"
      ]
     },
     "execution_count": 23,
     "metadata": {},
     "output_type": "execute_result"
    }
   ],
   "source": [
    "#calculate the feature importance\n",
    "feature_importances = pd.DataFrame(rf.feature_importances_, index = X_train.columns, columns=['importance']).sort_values('importance', ascending=False)\n",
    "feature_importances.head(15)"
   ]
  },
  {
   "cell_type": "code",
   "execution_count": 24,
   "metadata": {},
   "outputs": [
    {
     "name": "stdout",
     "output_type": "stream",
     "text": [
      "R2 scores:  [0.99135015 0.98871731 0.95142249 0.97063144 0.9630893 ]\n",
      "Mean R2 score:  0.9730421401843742\n"
     ]
    }
   ],
   "source": [
    "#now perform cross-validation to get a better estimate of the model performance, and plot the predicted vs actual values\n",
    "from sklearn.model_selection import cross_val_score\n",
    "scores = cross_val_score(rf, X, y, cv=5, scoring='r2')\n",
    "print('R2 scores: ', scores)\n",
    "print('Mean R2 score: ', scores.mean())"
   ]
  },
  {
   "cell_type": "code",
   "execution_count": 25,
   "metadata": {},
   "outputs": [
    {
     "data": {
      "application/vnd.plotly.v1+json": {
       "config": {
        "plotlyServerURL": "https://plot.ly"
       },
       "data": [
        {
         "customdata": [
          [
           "SUNI",
           9529
          ],
          [
           "SUNI",
           3184
          ],
          [
           "SUNI",
           30345
          ],
          [
           "SUNI",
           29737
          ],
          [
           "SUNI",
           29745
          ],
          [
           "SUNI",
           9830
          ],
          [
           "SUNI",
           9570
          ],
          [
           "SUNI",
           29926
          ],
          [
           "SUNI",
           9864
          ],
          [
           "SUNI",
           30447
          ],
          [
           "SUNI",
           10040
          ],
          [
           "SUNI",
           1347
          ],
          [
           "SUNI",
           29894
          ],
          [
           "SUNI",
           526
          ],
          [
           "SUNI",
           29828
          ],
          [
           "SUNI",
           2860
          ],
          [
           "SUNI",
           0
          ],
          [
           "SUNI",
           610
          ],
          [
           "SUNI",
           16
          ],
          [
           "SUNI",
           30000
          ],
          [
           "SUNI",
           10363
          ],
          [
           "SUNI",
           10212
          ],
          [
           "SUNI",
           29970
          ],
          [
           "SUNI",
           9709
          ],
          [
           "SUNI",
           1023
          ],
          [
           "SUNI",
           0
          ],
          [
           "SUNI",
           356
          ],
          [
           "SUNI",
           9618
          ],
          [
           "SUNI",
           168
          ],
          [
           "SUNI",
           30039
          ],
          [
           "SUNI",
           10626
          ],
          [
           "SUNI",
           10207
          ],
          [
           "SUNI",
           29947
          ],
          [
           "SUNI",
           30374
          ],
          [
           "SUNI",
           10000
          ],
          [
           "SUNI",
           374
          ],
          [
           "SUNI",
           30150
          ],
          [
           "SUNI",
           29813
          ],
          [
           "SUNI",
           10023
          ],
          [
           "SUNI",
           29703
          ],
          [
           "SUNI",
           10
          ],
          [
           "SUNI",
           29739
          ],
          [
           "SUNI",
           2979
          ],
          [
           "SUNI",
           757
          ],
          [
           "SUNI",
           29837
          ],
          [
           "SUNI",
           30368
          ],
          [
           "SUNI",
           563
          ],
          [
           "SUNI",
           30105
          ],
          [
           "SUNI",
           30
          ],
          [
           "SUNI",
           29717
          ],
          [
           "SUNI",
           10179
          ],
          [
           "SUNI",
           29450
          ],
          [
           "SUNI",
           3548
          ],
          [
           "SUNI",
           10001
          ],
          [
           "SUNI",
           9424
          ],
          [
           "SUNI",
           3119
          ],
          [
           "SUNI",
           9916
          ],
          [
           "SUNI",
           29978
          ],
          [
           "SUNI",
           9902
          ],
          [
           "SUNI",
           9902
          ],
          [
           "SUNI",
           30000
          ],
          [
           "SUNI",
           3167
          ],
          [
           "SUNI",
           9818
          ],
          [
           "SUNI",
           3039
          ],
          [
           "SUNI",
           10060
          ],
          [
           "SUNI",
           2881
          ],
          [
           "SUNI",
           9851
          ],
          [
           "SUNI",
           705
          ],
          [
           "SUNI",
           3147
          ],
          [
           "SUNI",
           2821
          ],
          [
           "SUNI",
           918
          ],
          [
           "SUNI",
           30074
          ],
          [
           "SUNI",
           29420
          ],
          [
           "SUNI",
           29944
          ],
          [
           "SUNI",
           3000
          ],
          [
           "SUNI",
           29957
          ],
          [
           "SUNI",
           9557
          ],
          [
           "SUNI",
           10012
          ],
          [
           "SUNI",
           29853
          ],
          [
           "SUNI",
           29474
          ],
          [
           "SUNI",
           30356
          ],
          [
           "SUNI",
           1458
          ],
          [
           "SUNI",
           970
          ],
          [
           "SUNI",
           29996
          ],
          [
           "SUNI",
           185
          ],
          [
           "SUNI",
           30166
          ],
          [
           "SUNI",
           10571
          ],
          [
           "SUNI",
           2931
          ],
          [
           "SUNI",
           10597
          ],
          [
           "SUNI",
           29430
          ],
          [
           "SUNI",
           964
          ],
          [
           "SUNI",
           30055
          ],
          [
           "SUNI",
           3277
          ],
          [
           "SUNI",
           29785
          ],
          [
           "SUNI",
           29973
          ],
          [
           "SUNI",
           29917
          ],
          [
           "SUNI",
           233
          ],
          [
           "SUNI",
           300
          ],
          [
           "SUNI",
           415
          ],
          [
           "SUNI",
           9830
          ]
         ],
         "hovertemplate": "Compound=%{customdata[0]}<br>Viability=%{x}<br>Prediction=%{y}<br>Concentration=%{customdata[1]}<extra></extra>",
         "legendgroup": "SUNI",
         "marker": {
          "color": "#636efa",
          "symbol": "circle"
         },
         "mode": "markers",
         "name": "SUNI",
         "orientation": "v",
         "showlegend": true,
         "type": "scatter",
         "x": [
          7.429372174877845,
          22.146736639784976,
          0.3150061650211848,
          55.43044614447356,
          4.6504396016513265,
          2.624955701986784,
          0,
          59.50834906833463,
          8.791164378052105,
          22.453287257211027,
          74.39408737309881,
          40.289517965437824,
          4.2754802762514945,
          50.56689243222366,
          59.878091792643666,
          8.321744935614891,
          71.45656550195393,
          40.059060581163024,
          50.245452538645644,
          57.28582915107847,
          4.517519128165078,
          75.34577265021528,
          60.037272744901856,
          61.10412338716825,
          33.38651247087686,
          72.0950758760543,
          51.594917265587924,
          62.22506210265254,
          71.98211176073247,
          54.55193791665679,
          5.633453002552162,
          8.476954380909786,
          54.55567567857413,
          59.961887817099026,
          0.8494588292499397,
          72.4070291620682,
          39.77390351746497,
          8.298743282321576,
          0.9814250423219351,
          22.808326830703873,
          98.75117980749218,
          54.6348532914472,
          11.518611692429436,
          66.53656884533474,
          54.69501649558888,
          7.915503405580704,
          65.825576871431,
          55.37521978146681,
          98.00508871591447,
          0,
          7.393941851060705,
          38.92463316207148,
          22.02311749604362,
          68.62473142813634,
          0.20939988836202494,
          11.685538721671147,
          3.1659047485626,
          57.929268187755795,
          9.496376265676814,
          74.25536462639023,
          0.4602122851996447,
          11.752077836779728,
          69.64806489137723,
          8.119710093604976,
          0.8890589471938477,
          12.018829378124092,
          74.32952177315259,
          39.24826826194325,
          8.154981778466878,
          22.820688754218075,
          39.60165990346974,
          54.290067336262936,
          39.295412379741954,
          54.198943513134104,
          22.37951174565565,
          39.84310669889126,
          3.0271653057198566,
          68.98109736608852,
          8.917070491497782,
          57.96316531599564,
          22.8744654470101,
          35.23835350247581,
          34.32425885168661,
          8.925742173652635,
          65.67903707101406,
          3.3762603959447866,
          69.1021029105657,
          8.50825009760538,
          9.099479009921916,
          0.4762031619118185,
          33.45873112922424,
          3.67639567745358,
          22.60840523501637,
          23.103895655981013,
          0,
          58.102234349307146,
          50.237127780629585,
          98.56067012552757,
          66.31212148535631,
          6.295269921447327
         ],
         "xaxis": "x",
         "y": [
          7.797697172715726,
          22.98718281303612,
          1.4040421152864122,
          58.7627013725622,
          4.234164584403263,
          3.8549300731504315,
          0.7941185894356049,
          61.11830407153107,
          10.356928434783098,
          21.759944760152802,
          74.72361277377998,
          40.36122499722476,
          4.2209847421342985,
          51.16311007446997,
          60.51118987172708,
          8.107938487323125,
          71.8048148350854,
          39.43889941490127,
          48.226060281543994,
          60.61396285195016,
          3.7405579969222966,
          74.313406046841,
          60.774786491780624,
          70.31562933659548,
          30.0396167484905,
          70.74885511141032,
          52.31311691898828,
          70.37568355496761,
          72.04522027938519,
          53.675394099530855,
          8.091985005436513,
          10.912828402626552,
          53.85338394612882,
          61.27695502764232,
          1.6997314168334128,
          72.75264367842593,
          38.34343433127371,
          10.857796313662936,
          2.3933624210963735,
          20.392673360261217,
          94.09822087961885,
          60.22497637926456,
          13.600825879959709,
          63.913659824756884,
          64.21005871242706,
          9.611687073031757,
          64.01888422637917,
          53.38819245458039,
          97.71989924401758,
          1.3247938855617536,
          8.936810853289572,
          39.94418861840352,
          20.82227444584612,
          65.55536371023105,
          1.235440945597851,
          14.136333187971704,
          3.8095457255269434,
          59.80070630675562,
          9.251146113071954,
          75.14552938562677,
          0.9803758132900319,
          12.026211548130675,
          65.12509688794928,
          9.066281396646533,
          1.488013240222303,
          11.956179100462847,
          74.09944071182488,
          22.699093117567497,
          9.156961752507856,
          22.358008872326142,
          38.98175241707435,
          58.76115035196505,
          36.87311081455911,
          53.689621709654396,
          22.359496713844045,
          37.06354709877041,
          4.058936361042032,
          65.09774284944561,
          8.784003979342922,
          59.874492250214814,
          20.93830448780675,
          28.050246861978227,
          31.944539899217297,
          8.813443481016538,
          65.6740838627951,
          4.0883811436501905,
          67.89737979333894,
          8.375931330656817,
          9.889828637253299,
          2.6085583185225243,
          30.59288983269986,
          4.091581357397657,
          22.010310301506983,
          19.918360149983826,
          2.8870079720525057,
          62.76431007363937,
          51.27463978008712,
          91.85327436615599,
          65.7902081295762,
          43.14180832143494
         ],
         "yaxis": "y"
        },
        {
         "customdata": [
          [
           "CERI",
           30000
          ],
          [
           "CERI",
           100
          ],
          [
           "CERI",
           10
          ],
          [
           "CERI",
           3000
          ],
          [
           "CERI",
           1000
          ],
          [
           "CERI",
           300
          ],
          [
           "CERI",
           8978
          ],
          [
           "CERI",
           10000
          ],
          [
           "CERI",
           3158
          ],
          [
           "CERI",
           30
          ]
         ],
         "hovertemplate": "Compound=%{customdata[0]}<br>Viability=%{x}<br>Prediction=%{y}<br>Concentration=%{customdata[1]}<extra></extra>",
         "legendgroup": "CERI",
         "marker": {
          "color": "#EF553B",
          "symbol": "circle"
         },
         "mode": "markers",
         "name": "CERI",
         "orientation": "v",
         "showlegend": true,
         "type": "scatter",
         "x": [
          8.638624092071996,
          71.99637541746381,
          91.87806064411728,
          11.580961804988583,
          34.17714369251915,
          50.01152897254959,
          68.53049906567013,
          6.697203044070011,
          68.53049906567013,
          85.3984849728528
         ],
         "xaxis": "x",
         "y": [
          9.212046812924694,
          75.15567918733225,
          89.35759417997171,
          12.32419900055708,
          33.122643993482306,
          50.24784158702491,
          62.47939624386754,
          10.761372127907626,
          70.53357417913651,
          74.86400821045918
         ],
         "yaxis": "y"
        },
        {
         "customdata": [
          [
           "NCAP",
           100
          ],
          [
           "NCAP",
           10
          ],
          [
           "NCAP",
           10000
          ],
          [
           "NCAP",
           3000
          ]
         ],
         "hovertemplate": "Compound=%{customdata[0]}<br>Viability=%{x}<br>Prediction=%{y}<br>Concentration=%{customdata[1]}<extra></extra>",
         "legendgroup": "NCAP",
         "marker": {
          "color": "#00cc96",
          "symbol": "circle"
         },
         "mode": "markers",
         "name": "NCAP",
         "orientation": "v",
         "showlegend": true,
         "type": "scatter",
         "x": [
          97.80827085505717,
          97.73071816649106,
          95.21623615667666,
          96.86984033703425
         ],
         "xaxis": "x",
         "y": [
          98.15058589078464,
          97.20004971660323,
          97.92102836306822,
          98.26887870289205
         ],
         "yaxis": "y"
        },
        {
         "customdata": [
          [
           "DOXO",
           1000
          ],
          [
           "DOXO",
           300
          ],
          [
           "DOXO",
           3000
          ],
          [
           "DOXO",
           10000
          ],
          [
           "DOXO",
           30000
          ]
         ],
         "hovertemplate": "Compound=%{customdata[0]}<br>Viability=%{x}<br>Prediction=%{y}<br>Concentration=%{customdata[1]}<extra></extra>",
         "legendgroup": "DOXO",
         "marker": {
          "color": "#ab63fa",
          "symbol": "circle"
         },
         "mode": "markers",
         "name": "DOXO",
         "orientation": "v",
         "showlegend": true,
         "type": "scatter",
         "x": [
          40.012919993995396,
          65.97189693626268,
          8.526268015230581,
          3.6409130128184835,
          3.6130149352097414
         ],
         "xaxis": "x",
         "y": [
          38.775967386321675,
          70.37486413332192,
          8.869817973014886,
          3.3275658810201945,
          3.9531621488563538
         ],
         "yaxis": "y"
        },
        {
         "customdata": [
          [
           "EZET",
           1000
          ],
          [
           "EZET",
           3000
          ]
         ],
         "hovertemplate": "Compound=%{customdata[0]}<br>Viability=%{x}<br>Prediction=%{y}<br>Concentration=%{customdata[1]}<extra></extra>",
         "legendgroup": "EZET",
         "marker": {
          "color": "#FFA15A",
          "symbol": "circle"
         },
         "mode": "markers",
         "name": "EZET",
         "orientation": "v",
         "showlegend": true,
         "type": "scatter",
         "x": [
          91.89803872880609,
          90.71917922327638
         ],
         "xaxis": "x",
         "y": [
          93.36340244789908,
          85.04940796890794
         ],
         "yaxis": "y"
        },
        {
         "customdata": [
          [
           "CLEV",
           300
          ],
          [
           "CLEV",
           1000
          ],
          [
           "CLEV",
           30000
          ],
          [
           "CLEV",
           100
          ]
         ],
         "hovertemplate": "Compound=%{customdata[0]}<br>Viability=%{x}<br>Prediction=%{y}<br>Concentration=%{customdata[1]}<extra></extra>",
         "legendgroup": "CLEV",
         "marker": {
          "color": "#19d3f3",
          "symbol": "circle"
         },
         "mode": "markers",
         "name": "CLEV",
         "orientation": "v",
         "showlegend": true,
         "type": "scatter",
         "x": [
          99.45842332701554,
          98.85148106293113,
          98.63176183586498,
          99.20919848158306
         ],
         "xaxis": "x",
         "y": [
          98.25578074151035,
          98.34064883410467,
          97.21246723303204,
          97.4783645577384
         ],
         "yaxis": "y"
        },
        {
         "customdata": [
          [
           "FIAL",
           10000
          ],
          [
           "FIAL",
           300
          ],
          [
           "FIAL",
           30
          ],
          [
           "FIAL",
           30000
          ],
          [
           "FIAL",
           3000
          ],
          [
           "FIAL",
           1000
          ]
         ],
         "hovertemplate": "Compound=%{customdata[0]}<br>Viability=%{x}<br>Prediction=%{y}<br>Concentration=%{customdata[1]}<extra></extra>",
         "legendgroup": "FIAL",
         "marker": {
          "color": "#FF6692",
          "symbol": "circle"
         },
         "mode": "markers",
         "name": "FIAL",
         "orientation": "v",
         "showlegend": true,
         "type": "scatter",
         "x": [
          99.0960546870985,
          98.48118877240711,
          96.57406987068438,
          100.27631356415598,
          97.91375218273944,
          96.41782374390507
         ],
         "xaxis": "x",
         "y": [
          96.55375643367675,
          96.14041959008969,
          93.5603454501724,
          96.34838237111722,
          95.68817982616903,
          97.73031607260538
         ],
         "yaxis": "y"
        },
        {
         "customdata": [
          [
           "CLOF",
           30000
          ],
          [
           "CLOF",
           100
          ],
          [
           "CLOF",
           10000
          ],
          [
           "CLOF",
           30
          ]
         ],
         "hovertemplate": "Compound=%{customdata[0]}<br>Viability=%{x}<br>Prediction=%{y}<br>Concentration=%{customdata[1]}<extra></extra>",
         "legendgroup": "CLOF",
         "marker": {
          "color": "#B6E880",
          "symbol": "circle"
         },
         "mode": "markers",
         "name": "CLOF",
         "orientation": "v",
         "showlegend": true,
         "type": "scatter",
         "x": [
          95.83618235452012,
          96.27590369713752,
          98.61027773019424,
          95.58964923902339
         ],
         "xaxis": "x",
         "y": [
          97.30437961220026,
          97.63035639844033,
          96.56166031024948,
          97.45161827740466
         ],
         "yaxis": "y"
        },
        {
         "customdata": [
          [
           "ZIDO",
           1000
          ],
          [
           "ZIDO",
           10
          ],
          [
           "ZIDO",
           30000
          ],
          [
           "ZIDO",
           30
          ]
         ],
         "hovertemplate": "Compound=%{customdata[0]}<br>Viability=%{x}<br>Prediction=%{y}<br>Concentration=%{customdata[1]}<extra></extra>",
         "legendgroup": "ZIDO",
         "marker": {
          "color": "#FF97FF",
          "symbol": "circle"
         },
         "mode": "markers",
         "name": "ZIDO",
         "orientation": "v",
         "showlegend": true,
         "type": "scatter",
         "x": [
          101.589529274016,
          101.22823947349733,
          98.47311887187162,
          98.85981917934453
         ],
         "xaxis": "x",
         "y": [
          97.9053079335881,
          97.50932377327412,
          97.89719922402259,
          99.1009071446951
         ],
         "yaxis": "y"
        },
        {
         "customdata": [
          [
           "DAPT",
           3000
          ],
          [
           "DAPT",
           30000
          ],
          [
           "DAPT",
           10000
          ],
          [
           "DAPT",
           100
          ]
         ],
         "hovertemplate": "Compound=%{customdata[0]}<br>Viability=%{x}<br>Prediction=%{y}<br>Concentration=%{customdata[1]}<extra></extra>",
         "legendgroup": "DAPT",
         "marker": {
          "color": "#FECB52",
          "symbol": "circle"
         },
         "mode": "markers",
         "name": "DAPT",
         "orientation": "v",
         "showlegend": true,
         "type": "scatter",
         "x": [
          99.35561540823893,
          98.54977599771297,
          100.24775297281462,
          100.22221792778328
         ],
         "xaxis": "x",
         "y": [
          97.98774282479239,
          96.4468913012603,
          97.7652888468404,
          96.51849061280858
         ],
         "yaxis": "y"
        },
        {
         "customdata": [
          [
           "CISP",
           30000
          ],
          [
           "CISP",
           10
          ],
          [
           "CISP",
           10000
          ],
          [
           "CISP",
           100
          ],
          [
           "CISP",
           1000
          ]
         ],
         "hovertemplate": "Compound=%{customdata[0]}<br>Viability=%{x}<br>Prediction=%{y}<br>Concentration=%{customdata[1]}<extra></extra>",
         "legendgroup": "CISP",
         "marker": {
          "color": "#636efa",
          "symbol": "circle"
         },
         "mode": "markers",
         "name": "CISP",
         "orientation": "v",
         "showlegend": true,
         "type": "scatter",
         "x": [
          93.9178352560302,
          98.96079240132875,
          95.72287110682873,
          97.98950209148803,
          96.92027303051829
         ],
         "xaxis": "x",
         "y": [
          75.87013003061934,
          97.35835765898506,
          91.89116363446504,
          96.22501304170153,
          94.42522440101112
         ],
         "yaxis": "y"
        },
        {
         "customdata": [
          [
           "VORI",
           10000
          ],
          [
           "VORI",
           10
          ],
          [
           "VORI",
           100
          ],
          [
           "VORI",
           3000
          ],
          [
           "VORI",
           300
          ]
         ],
         "hovertemplate": "Compound=%{customdata[0]}<br>Viability=%{x}<br>Prediction=%{y}<br>Concentration=%{customdata[1]}<extra></extra>",
         "legendgroup": "VORI",
         "marker": {
          "color": "#EF553B",
          "symbol": "circle"
         },
         "mode": "markers",
         "name": "VORI",
         "orientation": "v",
         "showlegend": true,
         "type": "scatter",
         "x": [
          96.03751060889387,
          99.1092082243379,
          97.84612793818138,
          96.96157833708483,
          97.57776440159377
         ],
         "xaxis": "x",
         "y": [
          98.3924255966644,
          95.48066456287292,
          98.29802691498398,
          98.79145279637189,
          97.5127861540768
         ],
         "yaxis": "y"
        },
        {
         "customdata": [
          [
           "LEFL",
           10
          ],
          [
           "LEFL",
           300
          ],
          [
           "LEFL",
           1000
          ]
         ],
         "hovertemplate": "Compound=%{customdata[0]}<br>Viability=%{x}<br>Prediction=%{y}<br>Concentration=%{customdata[1]}<extra></extra>",
         "legendgroup": "LEFL",
         "marker": {
          "color": "#00cc96",
          "symbol": "circle"
         },
         "mode": "markers",
         "name": "LEFL",
         "orientation": "v",
         "showlegend": true,
         "type": "scatter",
         "x": [
          100.46702448377164,
          96.23172092846835,
          98.63488296535465
         ],
         "xaxis": "x",
         "y": [
          92.69802529230614,
          96.38058854978344,
          99.50619151901655
         ],
         "yaxis": "y"
        },
        {
         "customdata": [
          [
           "ETOP",
           3000
          ],
          [
           "ETOP",
           10000
          ],
          [
           "ETOP",
           300
          ],
          [
           "ETOP",
           10
          ],
          [
           "ETOP",
           30000
          ],
          [
           "ETOP",
           30
          ],
          [
           "ETOP",
           1000
          ]
         ],
         "hovertemplate": "Compound=%{customdata[0]}<br>Viability=%{x}<br>Prediction=%{y}<br>Concentration=%{customdata[1]}<extra></extra>",
         "legendgroup": "ETOP",
         "marker": {
          "color": "#ab63fa",
          "symbol": "circle"
         },
         "mode": "markers",
         "name": "ETOP",
         "orientation": "v",
         "showlegend": true,
         "type": "scatter",
         "x": [
          84.32626422309332,
          74.40452933644183,
          90.16040769603498,
          96.60050776323612,
          60.08418787253077,
          95.71307960610659,
          85.2284593583581
         ],
         "xaxis": "x",
         "y": [
          86.90197362238536,
          79.15094587643222,
          97.08460336832137,
          97.10991674654231,
          64.7084837676826,
          96.91106008914412,
          96.31773491628647
         ],
         "yaxis": "y"
        },
        {
         "customdata": [
          [
           "OLAN",
           1000
          ],
          [
           "OLAN",
           10000
          ],
          [
           "OLAN",
           30
          ],
          [
           "OLAN",
           30000
          ]
         ],
         "hovertemplate": "Compound=%{customdata[0]}<br>Viability=%{x}<br>Prediction=%{y}<br>Concentration=%{customdata[1]}<extra></extra>",
         "legendgroup": "OLAN",
         "marker": {
          "color": "#FFA15A",
          "symbol": "circle"
         },
         "mode": "markers",
         "name": "OLAN",
         "orientation": "v",
         "showlegend": true,
         "type": "scatter",
         "x": [
          97.27287620823932,
          88.45742492007213,
          94.96452470879225,
          58.42174012121279
         ],
         "xaxis": "x",
         "y": [
          97.54975560646295,
          87.0923818238162,
          97.96604140706951,
          68.38894200152781
         ],
         "yaxis": "y"
        },
        {
         "customdata": [
          [
           "ETHF",
           3000
          ],
          [
           "ETHF",
           30
          ],
          [
           "ETHF",
           300
          ]
         ],
         "hovertemplate": "Compound=%{customdata[0]}<br>Viability=%{x}<br>Prediction=%{y}<br>Concentration=%{customdata[1]}<extra></extra>",
         "legendgroup": "ETHF",
         "marker": {
          "color": "#19d3f3",
          "symbol": "circle"
         },
         "mode": "markers",
         "name": "ETHF",
         "orientation": "v",
         "showlegend": true,
         "type": "scatter",
         "x": [
          97.96558329167979,
          97.08389050609192,
          98.75540769546726
         ],
         "xaxis": "x",
         "y": [
          99.57496031197726,
          97.91631278982828,
          97.77777030580489
         ],
         "yaxis": "y"
        },
        {
         "customdata": [
          [
           "MCPP",
           3000
          ],
          [
           "MCPP",
           10
          ]
         ],
         "hovertemplate": "Compound=%{customdata[0]}<br>Viability=%{x}<br>Prediction=%{y}<br>Concentration=%{customdata[1]}<extra></extra>",
         "legendgroup": "MCPP",
         "marker": {
          "color": "#FF6692",
          "symbol": "circle"
         },
         "mode": "markers",
         "name": "MCPP",
         "orientation": "v",
         "showlegend": true,
         "type": "scatter",
         "x": [
          100.66811350188271,
          99.9625861613402
         ],
         "xaxis": "x",
         "y": [
          98.26113849591835,
          97.85600615153103
         ],
         "yaxis": "y"
        },
        {
         "customdata": [
          [
           "NELA",
           10
          ],
          [
           "NELA",
           3000
          ],
          [
           "NELA",
           1000
          ],
          [
           "NELA",
           10000
          ],
          [
           "NELA",
           300
          ]
         ],
         "hovertemplate": "Compound=%{customdata[0]}<br>Viability=%{x}<br>Prediction=%{y}<br>Concentration=%{customdata[1]}<extra></extra>",
         "legendgroup": "NELA",
         "marker": {
          "color": "#B6E880",
          "symbol": "circle"
         },
         "mode": "markers",
         "name": "NELA",
         "orientation": "v",
         "showlegend": true,
         "type": "scatter",
         "x": [
          98.4448120411856,
          97.64131405036298,
          98.06034331237102,
          98.97964648829654,
          99.41857548126819
         ],
         "xaxis": "x",
         "y": [
          97.55956512587429,
          97.73112510740106,
          98.98532912780865,
          91.9698381746328,
          97.86811776125496
         ],
         "yaxis": "y"
        },
        {
         "customdata": [
          [
           "IMAT",
           3000
          ],
          [
           "IMAT",
           30000
          ],
          [
           "IMAT",
           1000
          ],
          [
           "IMAT",
           30
          ],
          [
           "IMAT",
           10000
          ]
         ],
         "hovertemplate": "Compound=%{customdata[0]}<br>Viability=%{x}<br>Prediction=%{y}<br>Concentration=%{customdata[1]}<extra></extra>",
         "legendgroup": "IMAT",
         "marker": {
          "color": "#FF97FF",
          "symbol": "circle"
         },
         "mode": "markers",
         "name": "IMAT",
         "orientation": "v",
         "showlegend": true,
         "type": "scatter",
         "x": [
          94.61580757656175,
          39.271256991260515,
          96.96359784035542,
          95.89388870408044,
          8.993070972332934
         ],
         "xaxis": "x",
         "y": [
          89.99194182598988,
          37.949100750190944,
          96.41795470836699,
          96.16633424205594,
          10.430473639424774
         ],
         "yaxis": "y"
        },
        {
         "customdata": [
          [
           "GEMF",
           30
          ],
          [
           "GEMF",
           1000
          ],
          [
           "GEMF",
           3000
          ],
          [
           "GEMF",
           300
          ]
         ],
         "hovertemplate": "Compound=%{customdata[0]}<br>Viability=%{x}<br>Prediction=%{y}<br>Concentration=%{customdata[1]}<extra></extra>",
         "legendgroup": "GEMF",
         "marker": {
          "color": "#FECB52",
          "symbol": "circle"
         },
         "mode": "markers",
         "name": "GEMF",
         "orientation": "v",
         "showlegend": true,
         "type": "scatter",
         "x": [
          97.14042739576794,
          97.18550308367611,
          96.28683479867159,
          96.90192196366374
         ],
         "xaxis": "x",
         "y": [
          97.01487298366112,
          94.16244348328915,
          96.96200409483,
          97.53445683508278
         ],
         "yaxis": "y"
        },
        {
         "customdata": [
          [
           "ATOR",
           30000
          ],
          [
           "ATOR",
           10000
          ]
         ],
         "hovertemplate": "Compound=%{customdata[0]}<br>Viability=%{x}<br>Prediction=%{y}<br>Concentration=%{customdata[1]}<extra></extra>",
         "legendgroup": "ATOR",
         "marker": {
          "color": "#636efa",
          "symbol": "circle"
         },
         "mode": "markers",
         "name": "ATOR",
         "orientation": "v",
         "showlegend": true,
         "type": "scatter",
         "x": [
          22.489916095587155,
          61.98682876259382
         ],
         "xaxis": "x",
         "y": [
          20.885574487221888,
          75.83107266330411
         ],
         "yaxis": "y"
        },
        {
         "customdata": [
          [
           "IBIP",
           30
          ],
          [
           "IBIP",
           1000
          ],
          [
           "IBIP",
           10000
          ]
         ],
         "hovertemplate": "Compound=%{customdata[0]}<br>Viability=%{x}<br>Prediction=%{y}<br>Concentration=%{customdata[1]}<extra></extra>",
         "legendgroup": "IBIP",
         "marker": {
          "color": "#EF553B",
          "symbol": "circle"
         },
         "mode": "markers",
         "name": "IBIP",
         "orientation": "v",
         "showlegend": true,
         "type": "scatter",
         "x": [
          98.888662475202,
          98.74602257627492,
          96.97767530345695
         ],
         "xaxis": "x",
         "y": [
          96.49656377720508,
          97.86859495029121,
          77.05382634635171
         ],
         "yaxis": "y"
        },
        {
         "customdata": [
          [
           "SIMV",
           30000
          ],
          [
           "SIMV",
           10000
          ]
         ],
         "hovertemplate": "Compound=%{customdata[0]}<br>Viability=%{x}<br>Prediction=%{y}<br>Concentration=%{customdata[1]}<extra></extra>",
         "legendgroup": "SIMV",
         "marker": {
          "color": "#00cc96",
          "symbol": "circle"
         },
         "mode": "markers",
         "name": "SIMV",
         "orientation": "v",
         "showlegend": true,
         "type": "scatter",
         "x": [
          54.49669003462304,
          69.37322181025635
         ],
         "xaxis": "x",
         "y": [
          53.90796174789488,
          65.99948942333071
         ],
         "yaxis": "y"
        },
        {
         "customdata": [
          [
           "WURS",
           3000
          ],
          [
           "WURS",
           100
          ],
          [
           "WURS",
           30
          ],
          [
           "WURS",
           10
          ]
         ],
         "hovertemplate": "Compound=%{customdata[0]}<br>Viability=%{x}<br>Prediction=%{y}<br>Concentration=%{customdata[1]}<extra></extra>",
         "legendgroup": "WURS",
         "marker": {
          "color": "#ab63fa",
          "symbol": "circle"
         },
         "mode": "markers",
         "name": "WURS",
         "orientation": "v",
         "showlegend": true,
         "type": "scatter",
         "x": [
          100.04108407994909,
          102.66256475386524,
          101.69024372119421,
          101.62915134798466
         ],
         "xaxis": "x",
         "y": [
          97.2184826165622,
          98.65696435539542,
          97.54398556745217,
          97.85632660903384
         ],
         "yaxis": "y"
        },
        {
         "customdata": [
          [
           "TEBU",
           30000
          ],
          [
           "TEBU",
           1000
          ],
          [
           "TEBU",
           10
          ],
          [
           "TEBU",
           300
          ],
          [
           "TEBU",
           3000
          ]
         ],
         "hovertemplate": "Compound=%{customdata[0]}<br>Viability=%{x}<br>Prediction=%{y}<br>Concentration=%{customdata[1]}<extra></extra>",
         "legendgroup": "TEBU",
         "marker": {
          "color": "#FFA15A",
          "symbol": "circle"
         },
         "mode": "markers",
         "name": "TEBU",
         "orientation": "v",
         "showlegend": true,
         "type": "scatter",
         "x": [
          55.150660609848934,
          98.98592875240932,
          100.60047797689737,
          102.0635990554454,
          99.6388257479839
         ],
         "xaxis": "x",
         "y": [
          64.78511540279503,
          93.06510306369734,
          97.677970544441,
          97.04560107496289,
          96.9844508530682
         ],
         "yaxis": "y"
        },
        {
         "customdata": [
          [
           "COLC",
           3000
          ],
          [
           "COLC",
           10
          ],
          [
           "COLC",
           10000
          ],
          [
           "COLC",
           1000
          ]
         ],
         "hovertemplate": "Compound=%{customdata[0]}<br>Viability=%{x}<br>Prediction=%{y}<br>Concentration=%{customdata[1]}<extra></extra>",
         "legendgroup": "COLC",
         "marker": {
          "color": "#19d3f3",
          "symbol": "circle"
         },
         "mode": "markers",
         "name": "COLC",
         "orientation": "v",
         "showlegend": true,
         "type": "scatter",
         "x": [
          84.68871182156224,
          96.9642188134675,
          86.41882241098581,
          84.88057727773585
         ],
         "xaxis": "x",
         "y": [
          80.13993746827124,
          92.80261551656224,
          75.14812529886412,
          80.73728981682879
         ],
         "yaxis": "y"
        },
        {
         "customdata": [
          [
           "SELU",
           3000
          ],
          [
           "SELU",
           30
          ],
          [
           "SELU",
           10
          ]
         ],
         "hovertemplate": "Compound=%{customdata[0]}<br>Viability=%{x}<br>Prediction=%{y}<br>Concentration=%{customdata[1]}<extra></extra>",
         "legendgroup": "SELU",
         "marker": {
          "color": "#FF6692",
          "symbol": "circle"
         },
         "mode": "markers",
         "name": "SELU",
         "orientation": "v",
         "showlegend": true,
         "type": "scatter",
         "x": [
          109.3931057742589,
          102.75179971340097,
          105.0594405858846
         ],
         "xaxis": "x",
         "y": [
          60.927018098836264,
          83.29290738447833,
          96.6768580991391
         ],
         "yaxis": "y"
        },
        {
         "customdata": [
          [
           "HCQ",
           3000
          ],
          [
           "HCQ",
           100
          ],
          [
           "HCQ",
           30
          ],
          [
           "HCQ",
           300
          ]
         ],
         "hovertemplate": "Compound=%{customdata[0]}<br>Viability=%{x}<br>Prediction=%{y}<br>Concentration=%{customdata[1]}<extra></extra>",
         "legendgroup": "HCQ",
         "marker": {
          "color": "#B6E880",
          "symbol": "circle"
         },
         "mode": "markers",
         "name": "HCQ",
         "orientation": "v",
         "showlegend": true,
         "type": "scatter",
         "x": [
          96.76009837439821,
          96.42806384737263,
          98.16340344199628,
          96.45305966749078
         ],
         "xaxis": "x",
         "y": [
          93.52569531039191,
          94.1148461771028,
          96.84996464739135,
          96.48437098777048
         ],
         "yaxis": "y"
        },
        {
         "customdata": [
          [
           "ETRE",
           100
          ],
          [
           "ETRE",
           3000
          ],
          [
           "ETRE",
           30
          ]
         ],
         "hovertemplate": "Compound=%{customdata[0]}<br>Viability=%{x}<br>Prediction=%{y}<br>Concentration=%{customdata[1]}<extra></extra>",
         "legendgroup": "ETRE",
         "marker": {
          "color": "#FF97FF",
          "symbol": "circle"
         },
         "mode": "markers",
         "name": "ETRE",
         "orientation": "v",
         "showlegend": true,
         "type": "scatter",
         "x": [
          95.12162892542014,
          94.26800537717982,
          95.2293969721681
         ],
         "xaxis": "x",
         "y": [
          95.9421436801028,
          80.51895404455657,
          96.54650934079747
         ],
         "yaxis": "y"
        },
        {
         "customdata": [
          [
           "DEXA",
           10000
          ]
         ],
         "hovertemplate": "Compound=%{customdata[0]}<br>Viability=%{x}<br>Prediction=%{y}<br>Concentration=%{customdata[1]}<extra></extra>",
         "legendgroup": "DEXA",
         "marker": {
          "color": "#FECB52",
          "symbol": "circle"
         },
         "mode": "markers",
         "name": "DEXA",
         "orientation": "v",
         "showlegend": true,
         "type": "scatter",
         "x": [
          95.19853271239649
         ],
         "xaxis": "x",
         "y": [
          75.26364774550593
         ],
         "yaxis": "y"
        },
        {
         "hovertemplate": "<b>OLS trendline</b><br>Prediction = 0.952859 * Viability + 2.13848<br>R<sup>2</sup>=0.973560<br><br>Viability=%{x}<br>Prediction=%{y} <b>(trend)</b><extra></extra>",
         "legendgroup": "Overall Trendline",
         "line": {
          "color": "#636efa"
         },
         "mode": "lines",
         "name": "Overall Trendline",
         "showlegend": true,
         "type": "scatter",
         "x": [
          0,
          0,
          0,
          0.20939988836202494,
          0.3150061650211848,
          0.4602122851996447,
          0.4762031619118185,
          0.8494588292499397,
          0.8890589471938477,
          0.9814250423219351,
          2.624955701986784,
          3.0271653057198566,
          3.1659047485626,
          3.3762603959447866,
          3.6130149352097414,
          3.6409130128184835,
          3.67639567745358,
          4.2754802762514945,
          4.517519128165078,
          4.6504396016513265,
          5.633453002552162,
          6.295269921447327,
          6.697203044070011,
          7.393941851060705,
          7.429372174877845,
          7.915503405580704,
          8.119710093604976,
          8.154981778466878,
          8.298743282321576,
          8.321744935614891,
          8.476954380909786,
          8.50825009760538,
          8.526268015230581,
          8.638624092071996,
          8.791164378052105,
          8.917070491497782,
          8.925742173652635,
          8.993070972332934,
          9.099479009921916,
          9.496376265676814,
          11.518611692429436,
          11.580961804988583,
          11.685538721671147,
          11.752077836779728,
          12.018829378124092,
          22.02311749604362,
          22.146736639784976,
          22.37951174565565,
          22.453287257211027,
          22.489916095587155,
          22.60840523501637,
          22.808326830703873,
          22.820688754218075,
          22.8744654470101,
          23.103895655981013,
          33.38651247087686,
          33.45873112922424,
          34.17714369251915,
          34.32425885168661,
          35.23835350247581,
          38.92463316207148,
          39.24826826194325,
          39.271256991260515,
          39.295412379741954,
          39.60165990346974,
          39.77390351746497,
          39.84310669889126,
          40.012919993995396,
          40.059060581163024,
          40.289517965437824,
          50.01152897254959,
          50.237127780629585,
          50.245452538645644,
          50.56689243222366,
          51.594917265587924,
          54.198943513134104,
          54.290067336262936,
          54.49669003462304,
          54.55193791665679,
          54.55567567857413,
          54.6348532914472,
          54.69501649558888,
          55.150660609848934,
          55.37521978146681,
          55.43044614447356,
          57.28582915107847,
          57.929268187755795,
          57.96316531599564,
          58.102234349307146,
          58.42174012121279,
          59.50834906833463,
          59.878091792643666,
          59.961887817099026,
          60.037272744901856,
          60.08418787253077,
          61.10412338716825,
          61.98682876259382,
          62.22506210265254,
          65.67903707101406,
          65.825576871431,
          65.97189693626268,
          66.31212148535631,
          66.53656884533474,
          68.53049906567013,
          68.53049906567013,
          68.62473142813634,
          68.98109736608852,
          69.1021029105657,
          69.37322181025635,
          69.64806489137723,
          71.45656550195393,
          71.98211176073247,
          71.99637541746381,
          72.0950758760543,
          72.4070291620682,
          74.25536462639023,
          74.32952177315259,
          74.39408737309881,
          74.40452933644183,
          75.34577265021528,
          84.32626422309332,
          84.68871182156224,
          84.88057727773585,
          85.2284593583581,
          85.3984849728528,
          86.41882241098581,
          88.45742492007213,
          90.16040769603498,
          90.71917922327638,
          91.87806064411728,
          91.89803872880609,
          93.9178352560302,
          94.26800537717982,
          94.61580757656175,
          94.96452470879225,
          95.12162892542014,
          95.19853271239649,
          95.21623615667666,
          95.2293969721681,
          95.58964923902339,
          95.71307960610659,
          95.72287110682873,
          95.83618235452012,
          95.89388870408044,
          96.03751060889387,
          96.23172092846835,
          96.27590369713752,
          96.28683479867159,
          96.41782374390507,
          96.42806384737263,
          96.45305966749078,
          96.57406987068438,
          96.60050776323612,
          96.76009837439821,
          96.86984033703425,
          96.90192196366374,
          96.92027303051829,
          96.96157833708483,
          96.96359784035542,
          96.9642188134675,
          96.97767530345695,
          97.08389050609192,
          97.14042739576794,
          97.18550308367611,
          97.27287620823932,
          97.57776440159377,
          97.64131405036298,
          97.73071816649106,
          97.80827085505717,
          97.84612793818138,
          97.91375218273944,
          97.96558329167979,
          97.98950209148803,
          98.00508871591447,
          98.06034331237102,
          98.16340344199628,
          98.4448120411856,
          98.47311887187162,
          98.48118877240711,
          98.54977599771297,
          98.56067012552757,
          98.61027773019424,
          98.63176183586498,
          98.63488296535465,
          98.74602257627492,
          98.75117980749218,
          98.75540769546726,
          98.85148106293113,
          98.85981917934453,
          98.888662475202,
          98.96079240132875,
          98.97964648829654,
          98.98592875240932,
          99.0960546870985,
          99.1092082243379,
          99.20919848158306,
          99.35561540823893,
          99.41857548126819,
          99.45842332701554,
          99.6388257479839,
          99.9625861613402,
          100.04108407994909,
          100.22221792778328,
          100.24775297281462,
          100.27631356415598,
          100.46702448377164,
          100.60047797689737,
          100.66811350188271,
          101.22823947349733,
          101.589529274016,
          101.62915134798466,
          101.69024372119421,
          102.0635990554454,
          102.66256475386524,
          102.75179971340097,
          105.0594405858846,
          109.3931057742589
         ],
         "xaxis": "x",
         "y": [
          2.138480791972332,
          2.138480791972332,
          2.138480791972332,
          2.3380093914556284,
          2.438637298391366,
          2.576998278534398,
          2.59223533171455,
          2.947895409357097,
          2.98562874405239,
          3.07364062287816,
          4.639693849056748,
          5.022942949900802,
          5.155142097379076,
          5.355581400589237,
          5.581175129460663,
          5.607758067957387,
          5.641568049595659,
          6.212411290751074,
          6.443040225277384,
          6.56969471456496,
          7.506368027475027,
          8.136986333790466,
          8.519971987078884,
          9.183865933976172,
          9.217626042187174,
          9.680840633111583,
          9.875420844139024,
          9.909029791770095,
          10.046014256031837,
          10.067931591820864,
          10.215824331824283,
          10.245644741810855,
          10.262813279470944,
          10.369872795266133,
          10.515222202395579,
          10.635192994542175,
          10.643455886223048,
          10.707610748055385,
          10.809002620228638,
          11.187189801697546,
          13.114095330070459,
          13.17350620528088,
          13.273153277145019,
          13.336555681761013,
          13.59073232851468,
          23.12340979367549,
          23.241201425815202,
          23.46300331516795,
          23.533300986346067,
          23.56820311012014,
          23.681106570715205,
          23.87160369230406,
          23.883382864227226,
          23.934624477971955,
          24.153239151710377,
          33.95112466229136,
          34.01993887164616,
          34.70448485553712,
          34.84466488094714,
          35.71566833225662,
          39.228173632695324,
          39.53655229863525,
          39.55845731969546,
          39.58147400261433,
          39.87328475754171,
          40.037408661041574,
          40.10334954562268,
          40.26515769753149,
          40.30912317816717,
          40.52871660529181,
          49.792423742788024,
          50.007387631132985,
          50.0153199529741,
          50.32160689651248,
          51.30116976466738,
          53.782439999598694,
          53.86926816818408,
          54.06615049676477,
          54.11879394663879,
          54.12235550727955,
          54.197800620123544,
          54.255127679639756,
          54.689292342726574,
          54.90326560395668,
          54.955888549228945,
          56.723807222485135,
          57.33691399558498,
          57.36921318436252,
          57.50172638513447,
          57.80617038314151,
          58.84155566009259,
          59.19386839782898,
          59.27371420640429,
          59.34554542457879,
          59.39024893317949,
          60.36210381997416,
          61.20319771306422,
          61.43020053080194,
          64.72135218077827,
          64.86098397033874,
          65.00040638283639,
          65.32459245724883,
          65.53845917773529,
          67.43839383120137,
          67.43839383120137,
          67.52818399993528,
          67.86775054440362,
          67.98305178457193,
          68.24138990868401,
          68.50327665314548,
          70.22652300640615,
          70.72729456745148,
          70.74088582327009,
          70.83493345827584,
          71.13218100100116,
          72.89338435911318,
          72.96404567488996,
          73.02556759752727,
          73.03551731783507,
          73.93238962105973,
          82.48953318127977,
          82.83489469161428,
          83.01771544695949,
          83.34919807034983,
          83.51120853273252,
          84.48344639600721,
          86.42594744852876,
          88.04865016766577,
          88.58108072975311,
          89.68533149452826,
          89.70436779530901,
          91.62894939595202,
          91.9626121996928,
          92.29401870751246,
          92.62629701746786,
          92.77599520767171,
          92.84927368470616,
          92.86614257356223,
          92.8786829770152,
          93.22195264553596,
          93.3395644001098,
          93.34889432115803,
          93.45686398023673,
          93.51185000338666,
          93.64870144942469,
          93.83375652931521,
          93.87585648468202,
          93.88627228479042,
          94.01108629971027,
          94.02084367598886,
          94.04466117188213,
          94.159966851151,
          94.18515843895652,
          94.33722581294099,
          94.44179444609833,
          94.47236371755592,
          94.48984969950726,
          94.52920783878288,
          94.53113214095126,
          94.53172384086255,
          94.54454598046615,
          94.64575410808918,
          94.69962580068862,
          94.74257658232187,
          94.82583086346283,
          95.11634636800709,
          95.17690023227016,
          95.2620897623058,
          95.33598655115703,
          95.37205901917687,
          95.43649539931695,
          95.48588314568792,
          95.50867439292493,
          95.523526250616,
          95.57617609838923,
          95.6743778858283,
          95.94252064425102,
          95.96949306685723,
          95.97718254541621,
          96.04253651057242,
          96.05291707993395,
          96.10018613991429,
          96.12065746656668,
          96.12363146335699,
          96.22953185846944,
          96.23444597341974,
          96.2384745551589,
          96.33001894234869,
          96.33796399286094,
          96.36544759121402,
          96.43417725126055,
          96.45214254052908,
          96.45812865336711,
          96.56306315780836,
          96.57559662611227,
          96.67087325756687,
          96.8103879657399,
          96.87038004736496,
          96.9083494317643,
          97.08024752913569,
          97.38874560117587,
          97.46354306112154,
          97.63613810527406,
          97.66046940655937,
          97.68768362732774,
          97.86940427195051,
          97.9965666538783,
          98.06101378267674,
          98.59473493947728,
          98.93899323144188,
          98.97674748713625,
          99.0349599139,
          99.39071496007254,
          99.96144490591486,
          100.04647325354382,
          102.24532997213495,
          106.37470249677978
         ],
         "yaxis": "y"
        }
       ],
       "layout": {
        "height": 1000,
        "legend": {
         "title": {
          "text": "Compound"
         },
         "tracegroupgap": 0
        },
        "template": {
         "data": {
          "bar": [
           {
            "error_x": {
             "color": "#2a3f5f"
            },
            "error_y": {
             "color": "#2a3f5f"
            },
            "marker": {
             "line": {
              "color": "#E5ECF6",
              "width": 0.5
             },
             "pattern": {
              "fillmode": "overlay",
              "size": 10,
              "solidity": 0.2
             }
            },
            "type": "bar"
           }
          ],
          "barpolar": [
           {
            "marker": {
             "line": {
              "color": "#E5ECF6",
              "width": 0.5
             },
             "pattern": {
              "fillmode": "overlay",
              "size": 10,
              "solidity": 0.2
             }
            },
            "type": "barpolar"
           }
          ],
          "carpet": [
           {
            "aaxis": {
             "endlinecolor": "#2a3f5f",
             "gridcolor": "white",
             "linecolor": "white",
             "minorgridcolor": "white",
             "startlinecolor": "#2a3f5f"
            },
            "baxis": {
             "endlinecolor": "#2a3f5f",
             "gridcolor": "white",
             "linecolor": "white",
             "minorgridcolor": "white",
             "startlinecolor": "#2a3f5f"
            },
            "type": "carpet"
           }
          ],
          "choropleth": [
           {
            "colorbar": {
             "outlinewidth": 0,
             "ticks": ""
            },
            "type": "choropleth"
           }
          ],
          "contour": [
           {
            "colorbar": {
             "outlinewidth": 0,
             "ticks": ""
            },
            "colorscale": [
             [
              0,
              "#0d0887"
             ],
             [
              0.1111111111111111,
              "#46039f"
             ],
             [
              0.2222222222222222,
              "#7201a8"
             ],
             [
              0.3333333333333333,
              "#9c179e"
             ],
             [
              0.4444444444444444,
              "#bd3786"
             ],
             [
              0.5555555555555556,
              "#d8576b"
             ],
             [
              0.6666666666666666,
              "#ed7953"
             ],
             [
              0.7777777777777778,
              "#fb9f3a"
             ],
             [
              0.8888888888888888,
              "#fdca26"
             ],
             [
              1,
              "#f0f921"
             ]
            ],
            "type": "contour"
           }
          ],
          "contourcarpet": [
           {
            "colorbar": {
             "outlinewidth": 0,
             "ticks": ""
            },
            "type": "contourcarpet"
           }
          ],
          "heatmap": [
           {
            "colorbar": {
             "outlinewidth": 0,
             "ticks": ""
            },
            "colorscale": [
             [
              0,
              "#0d0887"
             ],
             [
              0.1111111111111111,
              "#46039f"
             ],
             [
              0.2222222222222222,
              "#7201a8"
             ],
             [
              0.3333333333333333,
              "#9c179e"
             ],
             [
              0.4444444444444444,
              "#bd3786"
             ],
             [
              0.5555555555555556,
              "#d8576b"
             ],
             [
              0.6666666666666666,
              "#ed7953"
             ],
             [
              0.7777777777777778,
              "#fb9f3a"
             ],
             [
              0.8888888888888888,
              "#fdca26"
             ],
             [
              1,
              "#f0f921"
             ]
            ],
            "type": "heatmap"
           }
          ],
          "heatmapgl": [
           {
            "colorbar": {
             "outlinewidth": 0,
             "ticks": ""
            },
            "colorscale": [
             [
              0,
              "#0d0887"
             ],
             [
              0.1111111111111111,
              "#46039f"
             ],
             [
              0.2222222222222222,
              "#7201a8"
             ],
             [
              0.3333333333333333,
              "#9c179e"
             ],
             [
              0.4444444444444444,
              "#bd3786"
             ],
             [
              0.5555555555555556,
              "#d8576b"
             ],
             [
              0.6666666666666666,
              "#ed7953"
             ],
             [
              0.7777777777777778,
              "#fb9f3a"
             ],
             [
              0.8888888888888888,
              "#fdca26"
             ],
             [
              1,
              "#f0f921"
             ]
            ],
            "type": "heatmapgl"
           }
          ],
          "histogram": [
           {
            "marker": {
             "pattern": {
              "fillmode": "overlay",
              "size": 10,
              "solidity": 0.2
             }
            },
            "type": "histogram"
           }
          ],
          "histogram2d": [
           {
            "colorbar": {
             "outlinewidth": 0,
             "ticks": ""
            },
            "colorscale": [
             [
              0,
              "#0d0887"
             ],
             [
              0.1111111111111111,
              "#46039f"
             ],
             [
              0.2222222222222222,
              "#7201a8"
             ],
             [
              0.3333333333333333,
              "#9c179e"
             ],
             [
              0.4444444444444444,
              "#bd3786"
             ],
             [
              0.5555555555555556,
              "#d8576b"
             ],
             [
              0.6666666666666666,
              "#ed7953"
             ],
             [
              0.7777777777777778,
              "#fb9f3a"
             ],
             [
              0.8888888888888888,
              "#fdca26"
             ],
             [
              1,
              "#f0f921"
             ]
            ],
            "type": "histogram2d"
           }
          ],
          "histogram2dcontour": [
           {
            "colorbar": {
             "outlinewidth": 0,
             "ticks": ""
            },
            "colorscale": [
             [
              0,
              "#0d0887"
             ],
             [
              0.1111111111111111,
              "#46039f"
             ],
             [
              0.2222222222222222,
              "#7201a8"
             ],
             [
              0.3333333333333333,
              "#9c179e"
             ],
             [
              0.4444444444444444,
              "#bd3786"
             ],
             [
              0.5555555555555556,
              "#d8576b"
             ],
             [
              0.6666666666666666,
              "#ed7953"
             ],
             [
              0.7777777777777778,
              "#fb9f3a"
             ],
             [
              0.8888888888888888,
              "#fdca26"
             ],
             [
              1,
              "#f0f921"
             ]
            ],
            "type": "histogram2dcontour"
           }
          ],
          "mesh3d": [
           {
            "colorbar": {
             "outlinewidth": 0,
             "ticks": ""
            },
            "type": "mesh3d"
           }
          ],
          "parcoords": [
           {
            "line": {
             "colorbar": {
              "outlinewidth": 0,
              "ticks": ""
             }
            },
            "type": "parcoords"
           }
          ],
          "pie": [
           {
            "automargin": true,
            "type": "pie"
           }
          ],
          "scatter": [
           {
            "fillpattern": {
             "fillmode": "overlay",
             "size": 10,
             "solidity": 0.2
            },
            "type": "scatter"
           }
          ],
          "scatter3d": [
           {
            "line": {
             "colorbar": {
              "outlinewidth": 0,
              "ticks": ""
             }
            },
            "marker": {
             "colorbar": {
              "outlinewidth": 0,
              "ticks": ""
             }
            },
            "type": "scatter3d"
           }
          ],
          "scattercarpet": [
           {
            "marker": {
             "colorbar": {
              "outlinewidth": 0,
              "ticks": ""
             }
            },
            "type": "scattercarpet"
           }
          ],
          "scattergeo": [
           {
            "marker": {
             "colorbar": {
              "outlinewidth": 0,
              "ticks": ""
             }
            },
            "type": "scattergeo"
           }
          ],
          "scattergl": [
           {
            "marker": {
             "colorbar": {
              "outlinewidth": 0,
              "ticks": ""
             }
            },
            "type": "scattergl"
           }
          ],
          "scattermapbox": [
           {
            "marker": {
             "colorbar": {
              "outlinewidth": 0,
              "ticks": ""
             }
            },
            "type": "scattermapbox"
           }
          ],
          "scatterpolar": [
           {
            "marker": {
             "colorbar": {
              "outlinewidth": 0,
              "ticks": ""
             }
            },
            "type": "scatterpolar"
           }
          ],
          "scatterpolargl": [
           {
            "marker": {
             "colorbar": {
              "outlinewidth": 0,
              "ticks": ""
             }
            },
            "type": "scatterpolargl"
           }
          ],
          "scatterternary": [
           {
            "marker": {
             "colorbar": {
              "outlinewidth": 0,
              "ticks": ""
             }
            },
            "type": "scatterternary"
           }
          ],
          "surface": [
           {
            "colorbar": {
             "outlinewidth": 0,
             "ticks": ""
            },
            "colorscale": [
             [
              0,
              "#0d0887"
             ],
             [
              0.1111111111111111,
              "#46039f"
             ],
             [
              0.2222222222222222,
              "#7201a8"
             ],
             [
              0.3333333333333333,
              "#9c179e"
             ],
             [
              0.4444444444444444,
              "#bd3786"
             ],
             [
              0.5555555555555556,
              "#d8576b"
             ],
             [
              0.6666666666666666,
              "#ed7953"
             ],
             [
              0.7777777777777778,
              "#fb9f3a"
             ],
             [
              0.8888888888888888,
              "#fdca26"
             ],
             [
              1,
              "#f0f921"
             ]
            ],
            "type": "surface"
           }
          ],
          "table": [
           {
            "cells": {
             "fill": {
              "color": "#EBF0F8"
             },
             "line": {
              "color": "white"
             }
            },
            "header": {
             "fill": {
              "color": "#C8D4E3"
             },
             "line": {
              "color": "white"
             }
            },
            "type": "table"
           }
          ]
         },
         "layout": {
          "annotationdefaults": {
           "arrowcolor": "#2a3f5f",
           "arrowhead": 0,
           "arrowwidth": 1
          },
          "autotypenumbers": "strict",
          "coloraxis": {
           "colorbar": {
            "outlinewidth": 0,
            "ticks": ""
           }
          },
          "colorscale": {
           "diverging": [
            [
             0,
             "#8e0152"
            ],
            [
             0.1,
             "#c51b7d"
            ],
            [
             0.2,
             "#de77ae"
            ],
            [
             0.3,
             "#f1b6da"
            ],
            [
             0.4,
             "#fde0ef"
            ],
            [
             0.5,
             "#f7f7f7"
            ],
            [
             0.6,
             "#e6f5d0"
            ],
            [
             0.7,
             "#b8e186"
            ],
            [
             0.8,
             "#7fbc41"
            ],
            [
             0.9,
             "#4d9221"
            ],
            [
             1,
             "#276419"
            ]
           ],
           "sequential": [
            [
             0,
             "#0d0887"
            ],
            [
             0.1111111111111111,
             "#46039f"
            ],
            [
             0.2222222222222222,
             "#7201a8"
            ],
            [
             0.3333333333333333,
             "#9c179e"
            ],
            [
             0.4444444444444444,
             "#bd3786"
            ],
            [
             0.5555555555555556,
             "#d8576b"
            ],
            [
             0.6666666666666666,
             "#ed7953"
            ],
            [
             0.7777777777777778,
             "#fb9f3a"
            ],
            [
             0.8888888888888888,
             "#fdca26"
            ],
            [
             1,
             "#f0f921"
            ]
           ],
           "sequentialminus": [
            [
             0,
             "#0d0887"
            ],
            [
             0.1111111111111111,
             "#46039f"
            ],
            [
             0.2222222222222222,
             "#7201a8"
            ],
            [
             0.3333333333333333,
             "#9c179e"
            ],
            [
             0.4444444444444444,
             "#bd3786"
            ],
            [
             0.5555555555555556,
             "#d8576b"
            ],
            [
             0.6666666666666666,
             "#ed7953"
            ],
            [
             0.7777777777777778,
             "#fb9f3a"
            ],
            [
             0.8888888888888888,
             "#fdca26"
            ],
            [
             1,
             "#f0f921"
            ]
           ]
          },
          "colorway": [
           "#636efa",
           "#EF553B",
           "#00cc96",
           "#ab63fa",
           "#FFA15A",
           "#19d3f3",
           "#FF6692",
           "#B6E880",
           "#FF97FF",
           "#FECB52"
          ],
          "font": {
           "color": "#2a3f5f"
          },
          "geo": {
           "bgcolor": "white",
           "lakecolor": "white",
           "landcolor": "#E5ECF6",
           "showlakes": true,
           "showland": true,
           "subunitcolor": "white"
          },
          "hoverlabel": {
           "align": "left"
          },
          "hovermode": "closest",
          "mapbox": {
           "style": "light"
          },
          "paper_bgcolor": "white",
          "plot_bgcolor": "#E5ECF6",
          "polar": {
           "angularaxis": {
            "gridcolor": "white",
            "linecolor": "white",
            "ticks": ""
           },
           "bgcolor": "#E5ECF6",
           "radialaxis": {
            "gridcolor": "white",
            "linecolor": "white",
            "ticks": ""
           }
          },
          "scene": {
           "xaxis": {
            "backgroundcolor": "#E5ECF6",
            "gridcolor": "white",
            "gridwidth": 2,
            "linecolor": "white",
            "showbackground": true,
            "ticks": "",
            "zerolinecolor": "white"
           },
           "yaxis": {
            "backgroundcolor": "#E5ECF6",
            "gridcolor": "white",
            "gridwidth": 2,
            "linecolor": "white",
            "showbackground": true,
            "ticks": "",
            "zerolinecolor": "white"
           },
           "zaxis": {
            "backgroundcolor": "#E5ECF6",
            "gridcolor": "white",
            "gridwidth": 2,
            "linecolor": "white",
            "showbackground": true,
            "ticks": "",
            "zerolinecolor": "white"
           }
          },
          "shapedefaults": {
           "line": {
            "color": "#2a3f5f"
           }
          },
          "ternary": {
           "aaxis": {
            "gridcolor": "white",
            "linecolor": "white",
            "ticks": ""
           },
           "baxis": {
            "gridcolor": "white",
            "linecolor": "white",
            "ticks": ""
           },
           "bgcolor": "#E5ECF6",
           "caxis": {
            "gridcolor": "white",
            "linecolor": "white",
            "ticks": ""
           }
          },
          "title": {
           "x": 0.05
          },
          "xaxis": {
           "automargin": true,
           "gridcolor": "white",
           "linecolor": "white",
           "ticks": "",
           "title": {
            "standoff": 15
           },
           "zerolinecolor": "white",
           "zerolinewidth": 2
          },
          "yaxis": {
           "automargin": true,
           "gridcolor": "white",
           "linecolor": "white",
           "ticks": "",
           "title": {
            "standoff": 15
           },
           "zerolinecolor": "white",
           "zerolinewidth": 2
          }
         }
        },
        "title": {
         "text": "Well level (Cross-Validation)"
        },
        "width": 1000,
        "xaxis": {
         "anchor": "y",
         "domain": [
          0,
          1
         ],
         "range": [
          0,
          100
         ],
         "title": {
          "text": "Actual Viability"
         }
        },
        "yaxis": {
         "anchor": "x",
         "domain": [
          0,
          1
         ],
         "range": [
          0,
          100
         ],
         "title": {
          "text": "Predicted Viability"
         }
        }
       }
      }
     },
     "metadata": {},
     "output_type": "display_data"
    },
    {
     "name": "stdout",
     "output_type": "stream",
     "text": [
      "Cross-validated R2 score:  0.9726264744293479\n"
     ]
    }
   ],
   "source": [
    "\n",
    "#plot the predicted vs actual values, and display the regression line and R2 score\n",
    "from sklearn.model_selection import cross_val_predict\n",
    "import plotly.express as px\n",
    "augmentedData = augmentedData.reset_index(drop=True)\n",
    "#randomize row order\n",
    "X = augmentedData.drop(columns=['Compound', 'Concentration', 'Viability','Count'])\n",
    "y = augmentedData['Viability']\n",
    "\n",
    "y_pred = cross_val_predict(rf, X, y, cv=5)\n",
    "# add back the compound and concentration columns\n",
    "y_pred = pd.DataFrame(y_pred, columns=['Viability'])\n",
    "y_pred = pd.concat([augmentedData[['Compound', 'Concentration']], y_pred], axis=1)\n",
    "augmentedData['Prediction'] = y_pred['Viability']\n",
    "\n",
    "fig = px.scatter(augmentedData, \n",
    "                 x=\"Viability\", y=\"Prediction\", \n",
    "                 trendline=\"ols\", title='Treat level (Cross-Validation)', \n",
    "                 hover_data=['Compound', 'Concentration'], \n",
    "                 height=1000, width=1000, \n",
    "                 trendline_scope = 'overall', \n",
    "                 color='Compound', \n",
    "                 range_x=[0,100], range_y=[0,100])\n",
    "\n",
    "fig.update_layout(title='Well level (Cross-Validation)',\n",
    "                     xaxis_title='Actual Viability',\n",
    "                     yaxis_title='Predicted Viability')\n",
    "\n",
    "\n",
    "fig.show()\n",
    "r2_cv = r2_score(augmentedData['Viability'], augmentedData['Prediction'])\n",
    "print('Cross-validated R2 score: ', r2_cv)"
   ]
  },
  {
   "cell_type": "code",
   "execution_count": 26,
   "metadata": {},
   "outputs": [
    {
     "data": {
      "text/html": [
       "<div>\n",
       "<style scoped>\n",
       "    .dataframe tbody tr th:only-of-type {\n",
       "        vertical-align: middle;\n",
       "    }\n",
       "\n",
       "    .dataframe tbody tr th {\n",
       "        vertical-align: top;\n",
       "    }\n",
       "\n",
       "    .dataframe thead th {\n",
       "        text-align: right;\n",
       "    }\n",
       "</style>\n",
       "<table border=\"1\" class=\"dataframe\">\n",
       "  <thead>\n",
       "    <tr style=\"text-align: right;\">\n",
       "      <th></th>\n",
       "      <th>Compound</th>\n",
       "      <th>Concentration</th>\n",
       "      <th>Count</th>\n",
       "      <th>nan (Unnamed: 0)</th>\n",
       "      <th>AreaShape_Area (Nuclei)</th>\n",
       "      <th>AreaShape_BoundingBoxArea (Nuclei)</th>\n",
       "      <th>AreaShape_BoundingBoxMaximum_X (Nuclei)</th>\n",
       "      <th>AreaShape_BoundingBoxMaximum_Y (Nuclei)</th>\n",
       "      <th>AreaShape_BoundingBoxMinimum_X (Nuclei)</th>\n",
       "      <th>AreaShape_BoundingBoxMinimum_Y (Nuclei)</th>\n",
       "      <th>...</th>\n",
       "      <th>Texture_Variance_ER_3_03_256 (Tubes)</th>\n",
       "      <th>Texture_Variance_MITO_3_00_256 (Tubes)</th>\n",
       "      <th>Texture_Variance_MITO_3_01_256 (Tubes)</th>\n",
       "      <th>Texture_Variance_MITO_3_02_256 (Tubes)</th>\n",
       "      <th>Texture_Variance_MITO_3_03_256 (Tubes)</th>\n",
       "      <th>Texture_Variance_RNA_3_00_256 (Tubes)</th>\n",
       "      <th>Texture_Variance_RNA_3_01_256 (Tubes)</th>\n",
       "      <th>Texture_Variance_RNA_3_02_256 (Tubes)</th>\n",
       "      <th>Texture_Variance_RNA_3_03_256 (Tubes)</th>\n",
       "      <th>Viability</th>\n",
       "    </tr>\n",
       "  </thead>\n",
       "  <tbody>\n",
       "    <tr>\n",
       "      <th>0</th>\n",
       "      <td>NCAP</td>\n",
       "      <td>30</td>\n",
       "      <td>162.0</td>\n",
       "      <td>-1.240117</td>\n",
       "      <td>-0.788746</td>\n",
       "      <td>-0.700432</td>\n",
       "      <td>0.151219</td>\n",
       "      <td>-0.053900</td>\n",
       "      <td>0.196646</td>\n",
       "      <td>0.115204</td>\n",
       "      <td>...</td>\n",
       "      <td>0.962424</td>\n",
       "      <td>1.087101</td>\n",
       "      <td>1.086995</td>\n",
       "      <td>1.086221</td>\n",
       "      <td>1.086681</td>\n",
       "      <td>0.786716</td>\n",
       "      <td>0.632219</td>\n",
       "      <td>0.566125</td>\n",
       "      <td>1.014626</td>\n",
       "      <td>96.597931</td>\n",
       "    </tr>\n",
       "    <tr>\n",
       "      <th>1</th>\n",
       "      <td>NCAP</td>\n",
       "      <td>30</td>\n",
       "      <td>146.2</td>\n",
       "      <td>-1.265406</td>\n",
       "      <td>-0.171886</td>\n",
       "      <td>-0.093453</td>\n",
       "      <td>-1.655051</td>\n",
       "      <td>4.934553</td>\n",
       "      <td>-1.674526</td>\n",
       "      <td>4.938070</td>\n",
       "      <td>...</td>\n",
       "      <td>-2.296142</td>\n",
       "      <td>-0.935561</td>\n",
       "      <td>-0.950006</td>\n",
       "      <td>-1.001710</td>\n",
       "      <td>-1.009461</td>\n",
       "      <td>-2.807132</td>\n",
       "      <td>-3.109808</td>\n",
       "      <td>-3.186887</td>\n",
       "      <td>-1.865935</td>\n",
       "      <td>96.597931</td>\n",
       "    </tr>\n",
       "    <tr>\n",
       "      <th>2</th>\n",
       "      <td>NCAP</td>\n",
       "      <td>30</td>\n",
       "      <td>182.4</td>\n",
       "      <td>-0.765142</td>\n",
       "      <td>-0.114055</td>\n",
       "      <td>-0.093453</td>\n",
       "      <td>-1.119860</td>\n",
       "      <td>-0.967933</td>\n",
       "      <td>-1.158914</td>\n",
       "      <td>-0.937343</td>\n",
       "      <td>...</td>\n",
       "      <td>-0.544944</td>\n",
       "      <td>-0.916999</td>\n",
       "      <td>-0.906324</td>\n",
       "      <td>-0.882400</td>\n",
       "      <td>-0.903143</td>\n",
       "      <td>0.786716</td>\n",
       "      <td>-0.078398</td>\n",
       "      <td>0.566125</td>\n",
       "      <td>1.014626</td>\n",
       "      <td>96.597931</td>\n",
       "    </tr>\n",
       "    <tr>\n",
       "      <th>3</th>\n",
       "      <td>NCAP</td>\n",
       "      <td>30</td>\n",
       "      <td>153.6</td>\n",
       "      <td>-0.788327</td>\n",
       "      <td>-0.673085</td>\n",
       "      <td>-0.700432</td>\n",
       "      <td>-1.730312</td>\n",
       "      <td>-0.720059</td>\n",
       "      <td>-1.766005</td>\n",
       "      <td>-0.654569</td>\n",
       "      <td>...</td>\n",
       "      <td>13.225253</td>\n",
       "      <td>10.547510</td>\n",
       "      <td>8.473764</td>\n",
       "      <td>10.837200</td>\n",
       "      <td>11.856309</td>\n",
       "      <td>1.478748</td>\n",
       "      <td>0.632219</td>\n",
       "      <td>1.598488</td>\n",
       "      <td>0.992816</td>\n",
       "      <td>96.597931</td>\n",
       "    </tr>\n",
       "    <tr>\n",
       "      <th>4</th>\n",
       "      <td>NCAP</td>\n",
       "      <td>30</td>\n",
       "      <td>207.0</td>\n",
       "      <td>NaN</td>\n",
       "      <td>0.420418</td>\n",
       "      <td>NaN</td>\n",
       "      <td>-2.221339</td>\n",
       "      <td>-0.224084</td>\n",
       "      <td>-2.263988</td>\n",
       "      <td>-0.406247</td>\n",
       "      <td>...</td>\n",
       "      <td>0.896832</td>\n",
       "      <td>2.617066</td>\n",
       "      <td>2.651403</td>\n",
       "      <td>2.591082</td>\n",
       "      <td>2.727541</td>\n",
       "      <td>3.974505</td>\n",
       "      <td>4.028478</td>\n",
       "      <td>3.729430</td>\n",
       "      <td>3.417691</td>\n",
       "      <td>96.597931</td>\n",
       "    </tr>\n",
       "    <tr>\n",
       "      <th>...</th>\n",
       "      <td>...</td>\n",
       "      <td>...</td>\n",
       "      <td>...</td>\n",
       "      <td>...</td>\n",
       "      <td>...</td>\n",
       "      <td>...</td>\n",
       "      <td>...</td>\n",
       "      <td>...</td>\n",
       "      <td>...</td>\n",
       "      <td>...</td>\n",
       "      <td>...</td>\n",
       "      <td>...</td>\n",
       "      <td>...</td>\n",
       "      <td>...</td>\n",
       "      <td>...</td>\n",
       "      <td>...</td>\n",
       "      <td>...</td>\n",
       "      <td>...</td>\n",
       "      <td>...</td>\n",
       "      <td>...</td>\n",
       "      <td>...</td>\n",
       "    </tr>\n",
       "    <tr>\n",
       "      <th>3264</th>\n",
       "      <td>ZIDO</td>\n",
       "      <td>10</td>\n",
       "      <td>236.0</td>\n",
       "      <td>NaN</td>\n",
       "      <td>-1.433275</td>\n",
       "      <td>NaN</td>\n",
       "      <td>-1.090357</td>\n",
       "      <td>-1.591211</td>\n",
       "      <td>-1.139592</td>\n",
       "      <td>-1.611928</td>\n",
       "      <td>...</td>\n",
       "      <td>0.700861</td>\n",
       "      <td>0.509825</td>\n",
       "      <td>0.532715</td>\n",
       "      <td>0.514699</td>\n",
       "      <td>0.674574</td>\n",
       "      <td>0.376613</td>\n",
       "      <td>0.582372</td>\n",
       "      <td>0.275860</td>\n",
       "      <td>0.264991</td>\n",
       "      <td>101.228239</td>\n",
       "    </tr>\n",
       "    <tr>\n",
       "      <th>3265</th>\n",
       "      <td>ZIDO</td>\n",
       "      <td>10</td>\n",
       "      <td>218.8</td>\n",
       "      <td>NaN</td>\n",
       "      <td>1.191441</td>\n",
       "      <td>NaN</td>\n",
       "      <td>1.641889</td>\n",
       "      <td>0.168723</td>\n",
       "      <td>1.647696</td>\n",
       "      <td>0.150597</td>\n",
       "      <td>...</td>\n",
       "      <td>0.644802</td>\n",
       "      <td>0.714762</td>\n",
       "      <td>0.817636</td>\n",
       "      <td>0.799403</td>\n",
       "      <td>0.834180</td>\n",
       "      <td>0.124209</td>\n",
       "      <td>0.248145</td>\n",
       "      <td>0.246069</td>\n",
       "      <td>0.318651</td>\n",
       "      <td>101.228239</td>\n",
       "    </tr>\n",
       "    <tr>\n",
       "      <th>3266</th>\n",
       "      <td>ZIDO</td>\n",
       "      <td>10</td>\n",
       "      <td>163.2</td>\n",
       "      <td>NaN</td>\n",
       "      <td>0.174368</td>\n",
       "      <td>NaN</td>\n",
       "      <td>0.132959</td>\n",
       "      <td>0.512072</td>\n",
       "      <td>0.170025</td>\n",
       "      <td>0.505971</td>\n",
       "      <td>...</td>\n",
       "      <td>-2.207050</td>\n",
       "      <td>-2.294375</td>\n",
       "      <td>-2.292415</td>\n",
       "      <td>-2.281475</td>\n",
       "      <td>-2.160833</td>\n",
       "      <td>-2.054066</td>\n",
       "      <td>-2.289014</td>\n",
       "      <td>-2.277279</td>\n",
       "      <td>-2.154198</td>\n",
       "      <td>101.228239</td>\n",
       "    </tr>\n",
       "    <tr>\n",
       "      <th>3267</th>\n",
       "      <td>ZIDO</td>\n",
       "      <td>10</td>\n",
       "      <td>192.8</td>\n",
       "      <td>NaN</td>\n",
       "      <td>1.827112</td>\n",
       "      <td>NaN</td>\n",
       "      <td>-0.380324</td>\n",
       "      <td>-0.836801</td>\n",
       "      <td>-0.386420</td>\n",
       "      <td>-0.824613</td>\n",
       "      <td>...</td>\n",
       "      <td>0.556454</td>\n",
       "      <td>-0.181595</td>\n",
       "      <td>-0.272840</td>\n",
       "      <td>-0.267182</td>\n",
       "      <td>-0.280413</td>\n",
       "      <td>0.124209</td>\n",
       "      <td>0.248145</td>\n",
       "      <td>0.246069</td>\n",
       "      <td>0.318651</td>\n",
       "      <td>101.228239</td>\n",
       "    </tr>\n",
       "    <tr>\n",
       "      <th>3268</th>\n",
       "      <td>ZIDO</td>\n",
       "      <td>10</td>\n",
       "      <td>157.0</td>\n",
       "      <td>NaN</td>\n",
       "      <td>1.588735</td>\n",
       "      <td>NaN</td>\n",
       "      <td>0.473087</td>\n",
       "      <td>-1.065701</td>\n",
       "      <td>0.448248</td>\n",
       "      <td>-1.130399</td>\n",
       "      <td>...</td>\n",
       "      <td>0.556454</td>\n",
       "      <td>-0.181595</td>\n",
       "      <td>-0.272840</td>\n",
       "      <td>-0.267182</td>\n",
       "      <td>-0.280413</td>\n",
       "      <td>0.124209</td>\n",
       "      <td>0.248145</td>\n",
       "      <td>0.246069</td>\n",
       "      <td>0.318651</td>\n",
       "      <td>101.228239</td>\n",
       "    </tr>\n",
       "  </tbody>\n",
       "</table>\n",
       "<p>3269 rows × 2207 columns</p>\n",
       "</div>"
      ],
      "text/plain": [
       "     Compound  Concentration  Count  nan (Unnamed: 0)   \n",
       "0        NCAP             30  162.0         -1.240117  \\\n",
       "1        NCAP             30  146.2         -1.265406   \n",
       "2        NCAP             30  182.4         -0.765142   \n",
       "3        NCAP             30  153.6         -0.788327   \n",
       "4        NCAP             30  207.0               NaN   \n",
       "...       ...            ...    ...               ...   \n",
       "3264     ZIDO             10  236.0               NaN   \n",
       "3265     ZIDO             10  218.8               NaN   \n",
       "3266     ZIDO             10  163.2               NaN   \n",
       "3267     ZIDO             10  192.8               NaN   \n",
       "3268     ZIDO             10  157.0               NaN   \n",
       "\n",
       "      AreaShape_Area (Nuclei)  AreaShape_BoundingBoxArea (Nuclei)   \n",
       "0                   -0.788746                           -0.700432  \\\n",
       "1                   -0.171886                           -0.093453   \n",
       "2                   -0.114055                           -0.093453   \n",
       "3                   -0.673085                           -0.700432   \n",
       "4                    0.420418                                 NaN   \n",
       "...                       ...                                 ...   \n",
       "3264                -1.433275                                 NaN   \n",
       "3265                 1.191441                                 NaN   \n",
       "3266                 0.174368                                 NaN   \n",
       "3267                 1.827112                                 NaN   \n",
       "3268                 1.588735                                 NaN   \n",
       "\n",
       "      AreaShape_BoundingBoxMaximum_X (Nuclei)   \n",
       "0                                    0.151219  \\\n",
       "1                                   -1.655051   \n",
       "2                                   -1.119860   \n",
       "3                                   -1.730312   \n",
       "4                                   -2.221339   \n",
       "...                                       ...   \n",
       "3264                                -1.090357   \n",
       "3265                                 1.641889   \n",
       "3266                                 0.132959   \n",
       "3267                                -0.380324   \n",
       "3268                                 0.473087   \n",
       "\n",
       "      AreaShape_BoundingBoxMaximum_Y (Nuclei)   \n",
       "0                                   -0.053900  \\\n",
       "1                                    4.934553   \n",
       "2                                   -0.967933   \n",
       "3                                   -0.720059   \n",
       "4                                   -0.224084   \n",
       "...                                       ...   \n",
       "3264                                -1.591211   \n",
       "3265                                 0.168723   \n",
       "3266                                 0.512072   \n",
       "3267                                -0.836801   \n",
       "3268                                -1.065701   \n",
       "\n",
       "      AreaShape_BoundingBoxMinimum_X (Nuclei)   \n",
       "0                                    0.196646  \\\n",
       "1                                   -1.674526   \n",
       "2                                   -1.158914   \n",
       "3                                   -1.766005   \n",
       "4                                   -2.263988   \n",
       "...                                       ...   \n",
       "3264                                -1.139592   \n",
       "3265                                 1.647696   \n",
       "3266                                 0.170025   \n",
       "3267                                -0.386420   \n",
       "3268                                 0.448248   \n",
       "\n",
       "      AreaShape_BoundingBoxMinimum_Y (Nuclei)  ...   \n",
       "0                                    0.115204  ...  \\\n",
       "1                                    4.938070  ...   \n",
       "2                                   -0.937343  ...   \n",
       "3                                   -0.654569  ...   \n",
       "4                                   -0.406247  ...   \n",
       "...                                       ...  ...   \n",
       "3264                                -1.611928  ...   \n",
       "3265                                 0.150597  ...   \n",
       "3266                                 0.505971  ...   \n",
       "3267                                -0.824613  ...   \n",
       "3268                                -1.130399  ...   \n",
       "\n",
       "      Texture_Variance_ER_3_03_256 (Tubes)   \n",
       "0                                 0.962424  \\\n",
       "1                                -2.296142   \n",
       "2                                -0.544944   \n",
       "3                                13.225253   \n",
       "4                                 0.896832   \n",
       "...                                    ...   \n",
       "3264                              0.700861   \n",
       "3265                              0.644802   \n",
       "3266                             -2.207050   \n",
       "3267                              0.556454   \n",
       "3268                              0.556454   \n",
       "\n",
       "      Texture_Variance_MITO_3_00_256 (Tubes)   \n",
       "0                                   1.087101  \\\n",
       "1                                  -0.935561   \n",
       "2                                  -0.916999   \n",
       "3                                  10.547510   \n",
       "4                                   2.617066   \n",
       "...                                      ...   \n",
       "3264                                0.509825   \n",
       "3265                                0.714762   \n",
       "3266                               -2.294375   \n",
       "3267                               -0.181595   \n",
       "3268                               -0.181595   \n",
       "\n",
       "      Texture_Variance_MITO_3_01_256 (Tubes)   \n",
       "0                                   1.086995  \\\n",
       "1                                  -0.950006   \n",
       "2                                  -0.906324   \n",
       "3                                   8.473764   \n",
       "4                                   2.651403   \n",
       "...                                      ...   \n",
       "3264                                0.532715   \n",
       "3265                                0.817636   \n",
       "3266                               -2.292415   \n",
       "3267                               -0.272840   \n",
       "3268                               -0.272840   \n",
       "\n",
       "      Texture_Variance_MITO_3_02_256 (Tubes)   \n",
       "0                                   1.086221  \\\n",
       "1                                  -1.001710   \n",
       "2                                  -0.882400   \n",
       "3                                  10.837200   \n",
       "4                                   2.591082   \n",
       "...                                      ...   \n",
       "3264                                0.514699   \n",
       "3265                                0.799403   \n",
       "3266                               -2.281475   \n",
       "3267                               -0.267182   \n",
       "3268                               -0.267182   \n",
       "\n",
       "      Texture_Variance_MITO_3_03_256 (Tubes)   \n",
       "0                                   1.086681  \\\n",
       "1                                  -1.009461   \n",
       "2                                  -0.903143   \n",
       "3                                  11.856309   \n",
       "4                                   2.727541   \n",
       "...                                      ...   \n",
       "3264                                0.674574   \n",
       "3265                                0.834180   \n",
       "3266                               -2.160833   \n",
       "3267                               -0.280413   \n",
       "3268                               -0.280413   \n",
       "\n",
       "      Texture_Variance_RNA_3_00_256 (Tubes)   \n",
       "0                                  0.786716  \\\n",
       "1                                 -2.807132   \n",
       "2                                  0.786716   \n",
       "3                                  1.478748   \n",
       "4                                  3.974505   \n",
       "...                                     ...   \n",
       "3264                               0.376613   \n",
       "3265                               0.124209   \n",
       "3266                              -2.054066   \n",
       "3267                               0.124209   \n",
       "3268                               0.124209   \n",
       "\n",
       "      Texture_Variance_RNA_3_01_256 (Tubes)   \n",
       "0                                  0.632219  \\\n",
       "1                                 -3.109808   \n",
       "2                                 -0.078398   \n",
       "3                                  0.632219   \n",
       "4                                  4.028478   \n",
       "...                                     ...   \n",
       "3264                               0.582372   \n",
       "3265                               0.248145   \n",
       "3266                              -2.289014   \n",
       "3267                               0.248145   \n",
       "3268                               0.248145   \n",
       "\n",
       "      Texture_Variance_RNA_3_02_256 (Tubes)   \n",
       "0                                  0.566125  \\\n",
       "1                                 -3.186887   \n",
       "2                                  0.566125   \n",
       "3                                  1.598488   \n",
       "4                                  3.729430   \n",
       "...                                     ...   \n",
       "3264                               0.275860   \n",
       "3265                               0.246069   \n",
       "3266                              -2.277279   \n",
       "3267                               0.246069   \n",
       "3268                               0.246069   \n",
       "\n",
       "      Texture_Variance_RNA_3_03_256 (Tubes)   Viability  \n",
       "0                                  1.014626   96.597931  \n",
       "1                                 -1.865935   96.597931  \n",
       "2                                  1.014626   96.597931  \n",
       "3                                  0.992816   96.597931  \n",
       "4                                  3.417691   96.597931  \n",
       "...                                     ...         ...  \n",
       "3264                               0.264991  101.228239  \n",
       "3265                               0.318651  101.228239  \n",
       "3266                              -2.154198  101.228239  \n",
       "3267                               0.318651  101.228239  \n",
       "3268                               0.318651  101.228239  \n",
       "\n",
       "[3269 rows x 2207 columns]"
      ]
     },
     "execution_count": 26,
     "metadata": {},
     "output_type": "execute_result"
    }
   ],
   "source": [
    "# run the same analysis without aggregation\n",
    "table_per_well2 = table_per_well.drop(columns=['Row', 'Column', 'PlateName'], errors='ignore')\n",
    "\n",
    "#join viability data to the table_per_well, on Compound and Concentration columns\n",
    "per_well_withviability = table_per_well2.merge(viability_table_per_treatment, on=['Compound', 'Concentration'])\n",
    "#drop Unnamed: 0, Plate, Well, all columns ending with _y, and rename 1s luciferase (CPS) to Viability\n",
    "per_well_withviability.rename(columns={'1s luciferase (CPS)': 'Viability'}, inplace=True)\n",
    "per_well_withviability"
   ]
  },
  {
   "cell_type": "code",
   "execution_count": 27,
   "metadata": {},
   "outputs": [
    {
     "data": {
      "text/html": [
       "<div>\n",
       "<style scoped>\n",
       "    .dataframe tbody tr th:only-of-type {\n",
       "        vertical-align: middle;\n",
       "    }\n",
       "\n",
       "    .dataframe tbody tr th {\n",
       "        vertical-align: top;\n",
       "    }\n",
       "\n",
       "    .dataframe thead th {\n",
       "        text-align: right;\n",
       "    }\n",
       "</style>\n",
       "<table border=\"1\" class=\"dataframe\">\n",
       "  <thead>\n",
       "    <tr style=\"text-align: right;\">\n",
       "      <th></th>\n",
       "      <th>Compound</th>\n",
       "      <th>Concentration</th>\n",
       "      <th>Count</th>\n",
       "      <th>Viability</th>\n",
       "      <th>AreaShape_Area (Nuclei)</th>\n",
       "      <th>AreaShape_BoundingBoxMaximum_X (Nuclei)</th>\n",
       "      <th>AreaShape_BoundingBoxMaximum_Y (Nuclei)</th>\n",
       "      <th>AreaShape_BoundingBoxMinimum_X (Nuclei)</th>\n",
       "      <th>AreaShape_BoundingBoxMinimum_Y (Nuclei)</th>\n",
       "      <th>AreaShape_Center_X (Nuclei)</th>\n",
       "      <th>...</th>\n",
       "      <th>Texture_Variance_ER_3_03_256 (Tubes)</th>\n",
       "      <th>Texture_Variance_MITO_3_00_256 (Tubes)</th>\n",
       "      <th>Texture_Variance_MITO_3_01_256 (Tubes)</th>\n",
       "      <th>Texture_Variance_MITO_3_02_256 (Tubes)</th>\n",
       "      <th>Texture_Variance_MITO_3_03_256 (Tubes)</th>\n",
       "      <th>Texture_Variance_RNA_3_00_256 (Tubes)</th>\n",
       "      <th>Texture_Variance_RNA_3_01_256 (Tubes)</th>\n",
       "      <th>Texture_Variance_RNA_3_02_256 (Tubes)</th>\n",
       "      <th>Texture_Variance_RNA_3_03_256 (Tubes)</th>\n",
       "      <th>Prediction</th>\n",
       "    </tr>\n",
       "  </thead>\n",
       "  <tbody>\n",
       "    <tr>\n",
       "      <th>0</th>\n",
       "      <td>SUNI</td>\n",
       "      <td>9529.0</td>\n",
       "      <td>9.500548</td>\n",
       "      <td>7.429372</td>\n",
       "      <td>0.000000</td>\n",
       "      <td>0.000000</td>\n",
       "      <td>0.000000</td>\n",
       "      <td>0.000000</td>\n",
       "      <td>0.000000</td>\n",
       "      <td>0.000000</td>\n",
       "      <td>...</td>\n",
       "      <td>1.653378</td>\n",
       "      <td>1.200504</td>\n",
       "      <td>1.177146</td>\n",
       "      <td>1.170058</td>\n",
       "      <td>1.213151</td>\n",
       "      <td>2.961521</td>\n",
       "      <td>3.052338</td>\n",
       "      <td>2.885011</td>\n",
       "      <td>2.992270</td>\n",
       "      <td>7.797697</td>\n",
       "    </tr>\n",
       "    <tr>\n",
       "      <th>1</th>\n",
       "      <td>CERI</td>\n",
       "      <td>30000.0</td>\n",
       "      <td>10.600000</td>\n",
       "      <td>8.638624</td>\n",
       "      <td>-7.298349</td>\n",
       "      <td>-1.511446</td>\n",
       "      <td>-0.350562</td>\n",
       "      <td>-1.441669</td>\n",
       "      <td>-0.281522</td>\n",
       "      <td>-1.502667</td>\n",
       "      <td>...</td>\n",
       "      <td>0.962424</td>\n",
       "      <td>1.087101</td>\n",
       "      <td>1.086995</td>\n",
       "      <td>1.086221</td>\n",
       "      <td>1.086681</td>\n",
       "      <td>0.786716</td>\n",
       "      <td>0.632219</td>\n",
       "      <td>0.566125</td>\n",
       "      <td>0.992816</td>\n",
       "      <td>9.212047</td>\n",
       "    </tr>\n",
       "    <tr>\n",
       "      <th>2</th>\n",
       "      <td>SUNI</td>\n",
       "      <td>3184.0</td>\n",
       "      <td>179.063789</td>\n",
       "      <td>22.146737</td>\n",
       "      <td>0.000000</td>\n",
       "      <td>0.544118</td>\n",
       "      <td>0.275996</td>\n",
       "      <td>0.689564</td>\n",
       "      <td>0.452696</td>\n",
       "      <td>0.590459</td>\n",
       "      <td>...</td>\n",
       "      <td>0.000000</td>\n",
       "      <td>0.000000</td>\n",
       "      <td>0.000000</td>\n",
       "      <td>0.000000</td>\n",
       "      <td>0.000000</td>\n",
       "      <td>0.101165</td>\n",
       "      <td>0.241400</td>\n",
       "      <td>0.227744</td>\n",
       "      <td>0.230785</td>\n",
       "      <td>22.987183</td>\n",
       "    </tr>\n",
       "    <tr>\n",
       "      <th>3</th>\n",
       "      <td>SUNI</td>\n",
       "      <td>30345.0</td>\n",
       "      <td>66.543399</td>\n",
       "      <td>0.315006</td>\n",
       "      <td>0.000000</td>\n",
       "      <td>0.000000</td>\n",
       "      <td>0.251645</td>\n",
       "      <td>0.000000</td>\n",
       "      <td>0.359883</td>\n",
       "      <td>0.000000</td>\n",
       "      <td>...</td>\n",
       "      <td>0.000000</td>\n",
       "      <td>0.000000</td>\n",
       "      <td>0.000000</td>\n",
       "      <td>0.000000</td>\n",
       "      <td>0.000000</td>\n",
       "      <td>0.000000</td>\n",
       "      <td>0.000000</td>\n",
       "      <td>0.000000</td>\n",
       "      <td>0.000000</td>\n",
       "      <td>1.404042</td>\n",
       "    </tr>\n",
       "    <tr>\n",
       "      <th>4</th>\n",
       "      <td>CERI</td>\n",
       "      <td>100.0</td>\n",
       "      <td>196.700000</td>\n",
       "      <td>71.996375</td>\n",
       "      <td>-0.737397</td>\n",
       "      <td>-0.362544</td>\n",
       "      <td>0.267613</td>\n",
       "      <td>-0.346066</td>\n",
       "      <td>0.390991</td>\n",
       "      <td>-0.354930</td>\n",
       "      <td>...</td>\n",
       "      <td>0.786920</td>\n",
       "      <td>1.242561</td>\n",
       "      <td>1.242063</td>\n",
       "      <td>1.202066</td>\n",
       "      <td>1.294321</td>\n",
       "      <td>0.610418</td>\n",
       "      <td>0.414102</td>\n",
       "      <td>0.517180</td>\n",
       "      <td>0.821563</td>\n",
       "      <td>75.155679</td>\n",
       "    </tr>\n",
       "    <tr>\n",
       "      <th>...</th>\n",
       "      <td>...</td>\n",
       "      <td>...</td>\n",
       "      <td>...</td>\n",
       "      <td>...</td>\n",
       "      <td>...</td>\n",
       "      <td>...</td>\n",
       "      <td>...</td>\n",
       "      <td>...</td>\n",
       "      <td>...</td>\n",
       "      <td>...</td>\n",
       "      <td>...</td>\n",
       "      <td>...</td>\n",
       "      <td>...</td>\n",
       "      <td>...</td>\n",
       "      <td>...</td>\n",
       "      <td>...</td>\n",
       "      <td>...</td>\n",
       "      <td>...</td>\n",
       "      <td>...</td>\n",
       "      <td>...</td>\n",
       "      <td>...</td>\n",
       "    </tr>\n",
       "    <tr>\n",
       "      <th>212</th>\n",
       "      <td>TEBU</td>\n",
       "      <td>3000.0</td>\n",
       "      <td>195.700000</td>\n",
       "      <td>99.638826</td>\n",
       "      <td>0.226074</td>\n",
       "      <td>0.414638</td>\n",
       "      <td>-0.492532</td>\n",
       "      <td>0.437896</td>\n",
       "      <td>-0.412276</td>\n",
       "      <td>0.438234</td>\n",
       "      <td>...</td>\n",
       "      <td>0.600628</td>\n",
       "      <td>-0.173985</td>\n",
       "      <td>-0.243657</td>\n",
       "      <td>-0.222182</td>\n",
       "      <td>-0.193719</td>\n",
       "      <td>0.250411</td>\n",
       "      <td>0.415259</td>\n",
       "      <td>0.260964</td>\n",
       "      <td>0.318651</td>\n",
       "      <td>96.984451</td>\n",
       "    </tr>\n",
       "    <tr>\n",
       "      <th>213</th>\n",
       "      <td>ETOP</td>\n",
       "      <td>1000.0</td>\n",
       "      <td>157.600000</td>\n",
       "      <td>85.228459</td>\n",
       "      <td>-0.852005</td>\n",
       "      <td>0.200334</td>\n",
       "      <td>-0.274067</td>\n",
       "      <td>0.287841</td>\n",
       "      <td>-0.296794</td>\n",
       "      <td>0.269883</td>\n",
       "      <td>...</td>\n",
       "      <td>-0.085843</td>\n",
       "      <td>-0.005054</td>\n",
       "      <td>-0.010226</td>\n",
       "      <td>-0.030792</td>\n",
       "      <td>-0.015457</td>\n",
       "      <td>0.862282</td>\n",
       "      <td>0.871877</td>\n",
       "      <td>0.767183</td>\n",
       "      <td>0.862739</td>\n",
       "      <td>96.317735</td>\n",
       "    </tr>\n",
       "    <tr>\n",
       "      <th>214</th>\n",
       "      <td>DAPT</td>\n",
       "      <td>100.0</td>\n",
       "      <td>156.100000</td>\n",
       "      <td>100.222218</td>\n",
       "      <td>-0.179814</td>\n",
       "      <td>-0.527810</td>\n",
       "      <td>-0.032994</td>\n",
       "      <td>-0.496305</td>\n",
       "      <td>-0.048113</td>\n",
       "      <td>-0.512032</td>\n",
       "      <td>...</td>\n",
       "      <td>0.786920</td>\n",
       "      <td>1.087101</td>\n",
       "      <td>1.086995</td>\n",
       "      <td>1.086221</td>\n",
       "      <td>1.086681</td>\n",
       "      <td>0.434120</td>\n",
       "      <td>0.414102</td>\n",
       "      <td>0.468234</td>\n",
       "      <td>0.650311</td>\n",
       "      <td>96.518491</td>\n",
       "    </tr>\n",
       "    <tr>\n",
       "      <th>215</th>\n",
       "      <td>SUNI</td>\n",
       "      <td>415.0</td>\n",
       "      <td>249.409477</td>\n",
       "      <td>66.312121</td>\n",
       "      <td>0.000000</td>\n",
       "      <td>0.000000</td>\n",
       "      <td>0.000000</td>\n",
       "      <td>0.000000</td>\n",
       "      <td>0.000000</td>\n",
       "      <td>0.000000</td>\n",
       "      <td>...</td>\n",
       "      <td>0.000000</td>\n",
       "      <td>0.000000</td>\n",
       "      <td>0.000000</td>\n",
       "      <td>0.000000</td>\n",
       "      <td>0.051523</td>\n",
       "      <td>0.000000</td>\n",
       "      <td>0.000000</td>\n",
       "      <td>0.000000</td>\n",
       "      <td>0.000000</td>\n",
       "      <td>65.790208</td>\n",
       "    </tr>\n",
       "    <tr>\n",
       "      <th>216</th>\n",
       "      <td>SUNI</td>\n",
       "      <td>9830.0</td>\n",
       "      <td>10.445358</td>\n",
       "      <td>6.295270</td>\n",
       "      <td>0.000000</td>\n",
       "      <td>0.000000</td>\n",
       "      <td>0.000000</td>\n",
       "      <td>0.000000</td>\n",
       "      <td>0.000000</td>\n",
       "      <td>0.000000</td>\n",
       "      <td>...</td>\n",
       "      <td>1.676379</td>\n",
       "      <td>1.152257</td>\n",
       "      <td>1.180773</td>\n",
       "      <td>1.179503</td>\n",
       "      <td>1.190905</td>\n",
       "      <td>2.964797</td>\n",
       "      <td>3.048929</td>\n",
       "      <td>2.876574</td>\n",
       "      <td>3.029137</td>\n",
       "      <td>43.141808</td>\n",
       "    </tr>\n",
       "  </tbody>\n",
       "</table>\n",
       "<p>217 rows × 2118 columns</p>\n",
       "</div>"
      ],
      "text/plain": [
       "    Compound  Concentration       Count   Viability  AreaShape_Area (Nuclei)   \n",
       "0       SUNI         9529.0    9.500548    7.429372                 0.000000  \\\n",
       "1       CERI        30000.0   10.600000    8.638624                -7.298349   \n",
       "2       SUNI         3184.0  179.063789   22.146737                 0.000000   \n",
       "3       SUNI        30345.0   66.543399    0.315006                 0.000000   \n",
       "4       CERI          100.0  196.700000   71.996375                -0.737397   \n",
       "..       ...            ...         ...         ...                      ...   \n",
       "212     TEBU         3000.0  195.700000   99.638826                 0.226074   \n",
       "213     ETOP         1000.0  157.600000   85.228459                -0.852005   \n",
       "214     DAPT          100.0  156.100000  100.222218                -0.179814   \n",
       "215     SUNI          415.0  249.409477   66.312121                 0.000000   \n",
       "216     SUNI         9830.0   10.445358    6.295270                 0.000000   \n",
       "\n",
       "     AreaShape_BoundingBoxMaximum_X (Nuclei)   \n",
       "0                                   0.000000  \\\n",
       "1                                  -1.511446   \n",
       "2                                   0.544118   \n",
       "3                                   0.000000   \n",
       "4                                  -0.362544   \n",
       "..                                       ...   \n",
       "212                                 0.414638   \n",
       "213                                 0.200334   \n",
       "214                                -0.527810   \n",
       "215                                 0.000000   \n",
       "216                                 0.000000   \n",
       "\n",
       "     AreaShape_BoundingBoxMaximum_Y (Nuclei)   \n",
       "0                                   0.000000  \\\n",
       "1                                  -0.350562   \n",
       "2                                   0.275996   \n",
       "3                                   0.251645   \n",
       "4                                   0.267613   \n",
       "..                                       ...   \n",
       "212                                -0.492532   \n",
       "213                                -0.274067   \n",
       "214                                -0.032994   \n",
       "215                                 0.000000   \n",
       "216                                 0.000000   \n",
       "\n",
       "     AreaShape_BoundingBoxMinimum_X (Nuclei)   \n",
       "0                                   0.000000  \\\n",
       "1                                  -1.441669   \n",
       "2                                   0.689564   \n",
       "3                                   0.000000   \n",
       "4                                  -0.346066   \n",
       "..                                       ...   \n",
       "212                                 0.437896   \n",
       "213                                 0.287841   \n",
       "214                                -0.496305   \n",
       "215                                 0.000000   \n",
       "216                                 0.000000   \n",
       "\n",
       "     AreaShape_BoundingBoxMinimum_Y (Nuclei)  AreaShape_Center_X (Nuclei)   \n",
       "0                                   0.000000                     0.000000  \\\n",
       "1                                  -0.281522                    -1.502667   \n",
       "2                                   0.452696                     0.590459   \n",
       "3                                   0.359883                     0.000000   \n",
       "4                                   0.390991                    -0.354930   \n",
       "..                                       ...                          ...   \n",
       "212                                -0.412276                     0.438234   \n",
       "213                                -0.296794                     0.269883   \n",
       "214                                -0.048113                    -0.512032   \n",
       "215                                 0.000000                     0.000000   \n",
       "216                                 0.000000                     0.000000   \n",
       "\n",
       "     ...  Texture_Variance_ER_3_03_256 (Tubes)   \n",
       "0    ...                              1.653378  \\\n",
       "1    ...                              0.962424   \n",
       "2    ...                              0.000000   \n",
       "3    ...                              0.000000   \n",
       "4    ...                              0.786920   \n",
       "..   ...                                   ...   \n",
       "212  ...                              0.600628   \n",
       "213  ...                             -0.085843   \n",
       "214  ...                              0.786920   \n",
       "215  ...                              0.000000   \n",
       "216  ...                              1.676379   \n",
       "\n",
       "     Texture_Variance_MITO_3_00_256 (Tubes)   \n",
       "0                                  1.200504  \\\n",
       "1                                  1.087101   \n",
       "2                                  0.000000   \n",
       "3                                  0.000000   \n",
       "4                                  1.242561   \n",
       "..                                      ...   \n",
       "212                               -0.173985   \n",
       "213                               -0.005054   \n",
       "214                                1.087101   \n",
       "215                                0.000000   \n",
       "216                                1.152257   \n",
       "\n",
       "     Texture_Variance_MITO_3_01_256 (Tubes)   \n",
       "0                                  1.177146  \\\n",
       "1                                  1.086995   \n",
       "2                                  0.000000   \n",
       "3                                  0.000000   \n",
       "4                                  1.242063   \n",
       "..                                      ...   \n",
       "212                               -0.243657   \n",
       "213                               -0.010226   \n",
       "214                                1.086995   \n",
       "215                                0.000000   \n",
       "216                                1.180773   \n",
       "\n",
       "     Texture_Variance_MITO_3_02_256 (Tubes)   \n",
       "0                                  1.170058  \\\n",
       "1                                  1.086221   \n",
       "2                                  0.000000   \n",
       "3                                  0.000000   \n",
       "4                                  1.202066   \n",
       "..                                      ...   \n",
       "212                               -0.222182   \n",
       "213                               -0.030792   \n",
       "214                                1.086221   \n",
       "215                                0.000000   \n",
       "216                                1.179503   \n",
       "\n",
       "     Texture_Variance_MITO_3_03_256 (Tubes)   \n",
       "0                                  1.213151  \\\n",
       "1                                  1.086681   \n",
       "2                                  0.000000   \n",
       "3                                  0.000000   \n",
       "4                                  1.294321   \n",
       "..                                      ...   \n",
       "212                               -0.193719   \n",
       "213                               -0.015457   \n",
       "214                                1.086681   \n",
       "215                                0.051523   \n",
       "216                                1.190905   \n",
       "\n",
       "     Texture_Variance_RNA_3_00_256 (Tubes)   \n",
       "0                                 2.961521  \\\n",
       "1                                 0.786716   \n",
       "2                                 0.101165   \n",
       "3                                 0.000000   \n",
       "4                                 0.610418   \n",
       "..                                     ...   \n",
       "212                               0.250411   \n",
       "213                               0.862282   \n",
       "214                               0.434120   \n",
       "215                               0.000000   \n",
       "216                               2.964797   \n",
       "\n",
       "     Texture_Variance_RNA_3_01_256 (Tubes)   \n",
       "0                                 3.052338  \\\n",
       "1                                 0.632219   \n",
       "2                                 0.241400   \n",
       "3                                 0.000000   \n",
       "4                                 0.414102   \n",
       "..                                     ...   \n",
       "212                               0.415259   \n",
       "213                               0.871877   \n",
       "214                               0.414102   \n",
       "215                               0.000000   \n",
       "216                               3.048929   \n",
       "\n",
       "     Texture_Variance_RNA_3_02_256 (Tubes)   \n",
       "0                                 2.885011  \\\n",
       "1                                 0.566125   \n",
       "2                                 0.227744   \n",
       "3                                 0.000000   \n",
       "4                                 0.517180   \n",
       "..                                     ...   \n",
       "212                               0.260964   \n",
       "213                               0.767183   \n",
       "214                               0.468234   \n",
       "215                               0.000000   \n",
       "216                               2.876574   \n",
       "\n",
       "     Texture_Variance_RNA_3_03_256 (Tubes)  Prediction  \n",
       "0                                 2.992270    7.797697  \n",
       "1                                 0.992816    9.212047  \n",
       "2                                 0.230785   22.987183  \n",
       "3                                 0.000000    1.404042  \n",
       "4                                 0.821563   75.155679  \n",
       "..                                     ...         ...  \n",
       "212                               0.318651   96.984451  \n",
       "213                               0.862739   96.317735  \n",
       "214                               0.650311   96.518491  \n",
       "215                               0.000000   65.790208  \n",
       "216                               3.029137   43.141808  \n",
       "\n",
       "[217 rows x 2118 columns]"
      ]
     },
     "execution_count": 27,
     "metadata": {},
     "output_type": "execute_result"
    }
   ],
   "source": [
    "augmentedData"
   ]
  },
  {
   "cell_type": "code",
   "execution_count": 28,
   "metadata": {},
   "outputs": [
    {
     "name": "stderr",
     "output_type": "stream",
     "text": [
      "dist_matrix:  89%|########9 | 544/611 [1:00:47<07:29,  6.70s/it]\n"
     ]
    },
    {
     "ename": "KeyboardInterrupt",
     "evalue": "",
     "output_type": "error",
     "traceback": [
      "\u001b[1;31m---------------------------------------------------------------------------\u001b[0m",
      "\u001b[1;31mKeyboardInterrupt\u001b[0m                         Traceback (most recent call last)",
      "\u001b[1;32mc:\\Users\\Roman\\OneDrive - National University of Ireland, Galway\\Scripts\\CPA-viabilityPrediction.ipynb Cell 15\u001b[0m line \u001b[0;36m1\n\u001b[1;32m----> <a href='vscode-notebook-cell:/c%3A/Users/Roman/OneDrive%20-%20National%20University%20of%20Ireland%2C%20Galway/Scripts/CPA-viabilityPrediction.ipynb#X23sZmlsZQ%3D%3D?line=0'>1</a>\u001b[0m augmentedData2 \u001b[39m=\u001b[39m smogn\u001b[39m.\u001b[39;49msmoter(data \u001b[39m=\u001b[39;49m per_well_withviability, y \u001b[39m=\u001b[39;49m \u001b[39m\"\u001b[39;49m\u001b[39mViability\u001b[39;49m\u001b[39m\"\u001b[39;49m, rel_xtrm_type \u001b[39m=\u001b[39;49m \u001b[39m\"\u001b[39;49m\u001b[39mlow\u001b[39;49m\u001b[39m\"\u001b[39;49m)\n\u001b[0;32m      <a href='vscode-notebook-cell:/c%3A/Users/Roman/OneDrive%20-%20National%20University%20of%20Ireland%2C%20Galway/Scripts/CPA-viabilityPrediction.ipynb#X23sZmlsZQ%3D%3D?line=1'>2</a>\u001b[0m sns\u001b[39m.\u001b[39mkdeplot(per_well_withviability[\u001b[39m'\u001b[39m\u001b[39mViability\u001b[39m\u001b[39m'\u001b[39m], label \u001b[39m=\u001b[39m \u001b[39m\"\u001b[39m\u001b[39mOriginal\u001b[39m\u001b[39m\"\u001b[39m, cut\u001b[39m=\u001b[39m\u001b[39m0\u001b[39m)\n\u001b[0;32m      <a href='vscode-notebook-cell:/c%3A/Users/Roman/OneDrive%20-%20National%20University%20of%20Ireland%2C%20Galway/Scripts/CPA-viabilityPrediction.ipynb#X23sZmlsZQ%3D%3D?line=2'>3</a>\u001b[0m sns\u001b[39m.\u001b[39mkdeplot(augmentedData2[\u001b[39m'\u001b[39m\u001b[39mViability\u001b[39m\u001b[39m'\u001b[39m], label \u001b[39m=\u001b[39m \u001b[39m\"\u001b[39m\u001b[39mSMOGN\u001b[39m\u001b[39m\"\u001b[39m,cut\u001b[39m=\u001b[39m\u001b[39m0\u001b[39m)\n",
      "File \u001b[1;32mc:\\Users\\Roman\\anaconda3\\envs\\bigfile\\Lib\\site-packages\\smogn\\smoter.py:240\u001b[0m, in \u001b[0;36msmoter\u001b[1;34m(data, y, k, pert, samp_method, under_samp, drop_na_col, drop_na_row, replace, rel_thres, rel_method, rel_xtrm_type, rel_coef, rel_ctrl_pts_rg)\u001b[0m\n\u001b[0;32m    234\u001b[0m \u001b[39m## over-sampling\u001b[39;00m\n\u001b[0;32m    235\u001b[0m \u001b[39mif\u001b[39;00m s_perc[i] \u001b[39m>\u001b[39m \u001b[39m1\u001b[39m:\n\u001b[0;32m    236\u001b[0m     \n\u001b[0;32m    237\u001b[0m     \u001b[39m## generate synthetic observations in training set\u001b[39;00m\n\u001b[0;32m    238\u001b[0m     \u001b[39m## considered 'minority'\u001b[39;00m\n\u001b[0;32m    239\u001b[0m     \u001b[39m## (see 'over_sampling()' function for details)\u001b[39;00m\n\u001b[1;32m--> 240\u001b[0m     synth_obs \u001b[39m=\u001b[39m over_sampling(\n\u001b[0;32m    241\u001b[0m         data \u001b[39m=\u001b[39;49m data,\n\u001b[0;32m    242\u001b[0m         index \u001b[39m=\u001b[39;49m \u001b[39mlist\u001b[39;49m(b_index[i]\u001b[39m.\u001b[39;49mindex),\n\u001b[0;32m    243\u001b[0m         perc \u001b[39m=\u001b[39;49m s_perc[i],\n\u001b[0;32m    244\u001b[0m         pert \u001b[39m=\u001b[39;49m pert,\n\u001b[0;32m    245\u001b[0m         k \u001b[39m=\u001b[39;49m k\n\u001b[0;32m    246\u001b[0m     )\n\u001b[0;32m    248\u001b[0m     \u001b[39m## concatenate over-sampling\u001b[39;00m\n\u001b[0;32m    249\u001b[0m     \u001b[39m## results to modified training set\u001b[39;00m\n\u001b[0;32m    250\u001b[0m     data_new \u001b[39m=\u001b[39m pd\u001b[39m.\u001b[39mconcat([synth_obs, data_new])\n",
      "File \u001b[1;32mc:\\Users\\Roman\\anaconda3\\envs\\bigfile\\Lib\\site-packages\\smogn\\over_sampling.py:179\u001b[0m, in \u001b[0;36mover_sampling\u001b[1;34m(data, index, perc, pert, k)\u001b[0m\n\u001b[0;32m    175\u001b[0m \u001b[39m## utilize heom distance given that \u001b[39;00m\n\u001b[0;32m    176\u001b[0m \u001b[39m## data contains both numeric / continuous \u001b[39;00m\n\u001b[0;32m    177\u001b[0m \u001b[39m## and nominal / categorical\u001b[39;00m\n\u001b[0;32m    178\u001b[0m \u001b[39mif\u001b[39;00m feat_count_nom \u001b[39m>\u001b[39m \u001b[39m0\u001b[39m \u001b[39mand\u001b[39;00m feat_count_num \u001b[39m>\u001b[39m \u001b[39m0\u001b[39m:\n\u001b[1;32m--> 179\u001b[0m     dist_matrix[i][j] \u001b[39m=\u001b[39m heom_dist(\n\u001b[0;32m    180\u001b[0m         \n\u001b[0;32m    181\u001b[0m         \u001b[39m## numeric inputs\u001b[39;49;00m\n\u001b[0;32m    182\u001b[0m         a_num \u001b[39m=\u001b[39;49m data_num\u001b[39m.\u001b[39;49miloc[i],\n\u001b[0;32m    183\u001b[0m         b_num \u001b[39m=\u001b[39;49m data_num\u001b[39m.\u001b[39;49miloc[j],\n\u001b[0;32m    184\u001b[0m         d_num \u001b[39m=\u001b[39;49m feat_count_num,\n\u001b[0;32m    185\u001b[0m         ranges_num \u001b[39m=\u001b[39;49m feat_ranges_num,\n\u001b[0;32m    186\u001b[0m         \n\u001b[0;32m    187\u001b[0m         \u001b[39m## nominal inputs\u001b[39;49;00m\n\u001b[0;32m    188\u001b[0m         a_nom \u001b[39m=\u001b[39;49m data_nom\u001b[39m.\u001b[39;49miloc[i],\n\u001b[0;32m    189\u001b[0m         b_nom \u001b[39m=\u001b[39;49m data_nom\u001b[39m.\u001b[39;49miloc[j],\n\u001b[0;32m    190\u001b[0m         d_nom \u001b[39m=\u001b[39;49m feat_count_nom\n\u001b[0;32m    191\u001b[0m     )\n\u001b[0;32m    193\u001b[0m \u001b[39m## utilize hamming distance given that \u001b[39;00m\n\u001b[0;32m    194\u001b[0m \u001b[39m## data is all nominal / categorical\u001b[39;00m\n\u001b[0;32m    195\u001b[0m \u001b[39mif\u001b[39;00m feat_count_num \u001b[39m==\u001b[39m \u001b[39m0\u001b[39m:\n",
      "File \u001b[1;32mc:\\Users\\Roman\\anaconda3\\envs\\bigfile\\Lib\\site-packages\\smogn\\dist_metrics.py:64\u001b[0m, in \u001b[0;36mheom_dist\u001b[1;34m(a_num, b_num, d_num, ranges_num, a_nom, b_nom, d_nom)\u001b[0m\n\u001b[0;32m     56\u001b[0m \u001b[39mfor\u001b[39;00m i \u001b[39min\u001b[39;00m \u001b[39mrange\u001b[39m(d_num):\n\u001b[0;32m     57\u001b[0m     \n\u001b[0;32m     58\u001b[0m     \u001b[39m## epsilon utilized to avoid division by zero\u001b[39;00m\n\u001b[0;32m     59\u001b[0m     \u001b[39mif\u001b[39;00m ranges_num[i] \u001b[39m>\u001b[39m eps:\n\u001b[0;32m     60\u001b[0m     \n\u001b[0;32m     61\u001b[0m         \u001b[39m## the absolute value of the differences between values in\u001b[39;00m\n\u001b[0;32m     62\u001b[0m         \u001b[39m## vectors a and b of equal length, divided by their range, squared\u001b[39;00m\n\u001b[0;32m     63\u001b[0m         \u001b[39m## (division by range conducted for normalization)\u001b[39;00m\n\u001b[1;32m---> 64\u001b[0m         dist[i] \u001b[39m=\u001b[39m (\u001b[39mabs\u001b[39m(a_num\u001b[39m.\u001b[39miloc[i] \u001b[39m-\u001b[39m b_num\u001b[39m.\u001b[39;49miloc[i]) \u001b[39m/\u001b[39m ranges_num[i]) \u001b[39m*\u001b[39m\u001b[39m*\u001b[39m \u001b[39m2\u001b[39m\n\u001b[0;32m     66\u001b[0m \u001b[39m## loop through columns to calculate hamming\u001b[39;00m\n\u001b[0;32m     67\u001b[0m \u001b[39m## distance for nominal / categorical features\u001b[39;00m\n\u001b[0;32m     68\u001b[0m \u001b[39mfor\u001b[39;00m i \u001b[39min\u001b[39;00m \u001b[39mrange\u001b[39m(d_nom):\n\u001b[0;32m     69\u001b[0m     \n\u001b[0;32m     70\u001b[0m     \u001b[39m## distance equals 0 for values that are equal\u001b[39;00m\n\u001b[0;32m     71\u001b[0m     \u001b[39m## in two vectors a and b of equal length\u001b[39;00m\n",
      "File \u001b[1;32mc:\\Users\\Roman\\anaconda3\\envs\\bigfile\\Lib\\site-packages\\pandas\\core\\indexing.py:1103\u001b[0m, in \u001b[0;36m_LocationIndexer.__getitem__\u001b[1;34m(self, key)\u001b[0m\n\u001b[0;32m   1100\u001b[0m axis \u001b[39m=\u001b[39m \u001b[39mself\u001b[39m\u001b[39m.\u001b[39maxis \u001b[39mor\u001b[39;00m \u001b[39m0\u001b[39m\n\u001b[0;32m   1102\u001b[0m maybe_callable \u001b[39m=\u001b[39m com\u001b[39m.\u001b[39mapply_if_callable(key, \u001b[39mself\u001b[39m\u001b[39m.\u001b[39mobj)\n\u001b[1;32m-> 1103\u001b[0m \u001b[39mreturn\u001b[39;00m \u001b[39mself\u001b[39;49m\u001b[39m.\u001b[39;49m_getitem_axis(maybe_callable, axis\u001b[39m=\u001b[39;49maxis)\n",
      "File \u001b[1;32mc:\\Users\\Roman\\anaconda3\\envs\\bigfile\\Lib\\site-packages\\pandas\\core\\indexing.py:1635\u001b[0m, in \u001b[0;36m_iLocIndexer._getitem_axis\u001b[1;34m(self, key, axis)\u001b[0m\n\u001b[0;32m   1632\u001b[0m \u001b[39mif\u001b[39;00m \u001b[39misinstance\u001b[39m(key, \u001b[39mslice\u001b[39m):\n\u001b[0;32m   1633\u001b[0m     \u001b[39mreturn\u001b[39;00m \u001b[39mself\u001b[39m\u001b[39m.\u001b[39m_get_slice_axis(key, axis\u001b[39m=\u001b[39maxis)\n\u001b[1;32m-> 1635\u001b[0m \u001b[39mif\u001b[39;00m is_iterator(key):\n\u001b[0;32m   1636\u001b[0m     key \u001b[39m=\u001b[39m \u001b[39mlist\u001b[39m(key)\n\u001b[0;32m   1638\u001b[0m \u001b[39mif\u001b[39;00m \u001b[39misinstance\u001b[39m(key, \u001b[39mlist\u001b[39m):\n",
      "\u001b[1;31mKeyboardInterrupt\u001b[0m: "
     ]
    }
   ],
   "source": [
    "augmentedData2 = smogn.smoter(data = per_well_withviability, y = \"Viability\", rel_xtrm_type = \"low\")\n",
    "sns.kdeplot(per_well_withviability['Viability'], label = \"Original\", cut=0)\n",
    "sns.kdeplot(augmentedData2['Viability'], label = \"SMOGN\",cut=0)\n",
    "plt.legend()"
   ]
  },
  {
   "cell_type": "code",
   "execution_count": null,
   "metadata": {},
   "outputs": [
    {
     "name": "stdout",
     "output_type": "stream",
     "text": [
      "Mean squared error:  13.086567522067755\n",
      "R2 score:  0.8928685729193934\n"
     ]
    }
   ],
   "source": [
    "#train a random forest regressor to predict viability from the other features\n",
    "#split the data into train and test sets\n",
    "curatedData = drop_correlated_columns(per_well_withviability.query('Viability < 97'), 0.9, numeric=True)\n",
    "X2 = curatedData.drop(columns=['Compound', 'Concentration', 'Viability','Count']).dropna(axis=1)\n",
    "y2 = curatedData['Viability']\n",
    "X_train2, X_test2, y_train2, y_test2 = train_test_split(X2, y2, test_size=0.1, random_state=111)\n",
    "\n",
    "#train the model\n",
    "rf2 = RandomForestRegressor(n_estimators=100, random_state=72)\n",
    "rf2.fit(X_train2, y_train2)\n",
    "\n",
    "#predict the viability values for the test set\n",
    "y_pred2 = rf2.predict(X_test2)\n",
    "\n",
    "#calculate the mean squared error and the R2 score\n",
    "mse2 = mean_squared_error(y_test2, y_pred2)\n",
    "r22 = r2_score(y_test2, y_pred2)\n",
    "print('Mean squared error: ', mse)\n",
    "print('R2 score: ', r22)\n"
   ]
  },
  {
   "cell_type": "code",
   "execution_count": null,
   "metadata": {},
   "outputs": [
    {
     "data": {
      "image/png": "[encoded data removed]",
      "text/plain": [
       "<Figure size 640x480 with 1 Axes>"
      ]
     },
     "metadata": {},
     "output_type": "display_data"
    }
   ],
   "source": [
    "\n",
    "#add the regression line to the plot, make the plot square\n",
    "plt.scatter(y_test2, y_pred2 )\n",
    "plt.xlabel('Actual Viability')\n",
    "plt.ylabel('Predicted Viability')\n",
    "plt.title('Predicted Viability vs Actual Viability')\n",
    "plt.plot([0, 1], [0, 1], transform=plt.gca().transAxes, ls=\"--\", c=\".3\")\n",
    "plt.show()"
   ]
  },
  {
   "cell_type": "code",
   "execution_count": null,
   "metadata": {},
   "outputs": [
    {
     "data": {
      "text/html": [
       "<div>\n",
       "<style scoped>\n",
       "    .dataframe tbody tr th:only-of-type {\n",
       "        vertical-align: middle;\n",
       "    }\n",
       "\n",
       "    .dataframe tbody tr th {\n",
       "        vertical-align: top;\n",
       "    }\n",
       "\n",
       "    .dataframe thead th {\n",
       "        text-align: right;\n",
       "    }\n",
       "</style>\n",
       "<table border=\"1\" class=\"dataframe\">\n",
       "  <thead>\n",
       "    <tr style=\"text-align: right;\">\n",
       "      <th></th>\n",
       "      <th>importance</th>\n",
       "    </tr>\n",
       "  </thead>\n",
       "  <tbody>\n",
       "    <tr>\n",
       "      <th>Cytoplasm 488 Profile 4/5 SER-Edge</th>\n",
       "      <td>0.350247</td>\n",
       "    </tr>\n",
       "    <tr>\n",
       "      <th>Nucleus 33342 Profile 5/5</th>\n",
       "      <td>0.178366</td>\n",
       "    </tr>\n",
       "    <tr>\n",
       "      <th>Cytoplasm Mito Profile 4/5 SER-Bright</th>\n",
       "      <td>0.123103</td>\n",
       "    </tr>\n",
       "    <tr>\n",
       "      <th>Cytoplasm 33342 Profile 3/5 SER-Hole</th>\n",
       "      <td>0.016715</td>\n",
       "    </tr>\n",
       "    <tr>\n",
       "      <th>Cytoplasm 33342 Profile 3/5 SER-Edge</th>\n",
       "      <td>0.012692</td>\n",
       "    </tr>\n",
       "    <tr>\n",
       "      <th>Cytoplasm 488 Profile 3/5 SER-Dark</th>\n",
       "      <td>0.011226</td>\n",
       "    </tr>\n",
       "    <tr>\n",
       "      <th>Cell 33342 Radial Mean</th>\n",
       "      <td>0.011040</td>\n",
       "    </tr>\n",
       "    <tr>\n",
       "      <th>Cell 488 Radial Mean Ratio SER-Dark</th>\n",
       "      <td>0.009542</td>\n",
       "    </tr>\n",
       "    <tr>\n",
       "      <th>Intensity Cytoplasm Alexa 568 Mean</th>\n",
       "      <td>0.008704</td>\n",
       "    </tr>\n",
       "    <tr>\n",
       "      <th>Nucleus 33342 Radial Mean Ratio SER-Bright</th>\n",
       "      <td>0.008264</td>\n",
       "    </tr>\n",
       "  </tbody>\n",
       "</table>\n",
       "</div>"
      ],
      "text/plain": [
       "                                            importance\n",
       "Cytoplasm 488 Profile 4/5 SER-Edge            0.350247\n",
       "Nucleus 33342 Profile 5/5                     0.178366\n",
       "Cytoplasm Mito Profile 4/5 SER-Bright         0.123103\n",
       "Cytoplasm 33342 Profile 3/5 SER-Hole          0.016715\n",
       "Cytoplasm 33342 Profile 3/5 SER-Edge          0.012692\n",
       "Cytoplasm 488 Profile 3/5 SER-Dark            0.011226\n",
       "Cell 33342 Radial Mean                        0.011040\n",
       "Cell 488 Radial Mean Ratio SER-Dark           0.009542\n",
       "Intensity Cytoplasm Alexa 568 Mean            0.008704\n",
       "Nucleus 33342 Radial Mean Ratio SER-Bright    0.008264"
      ]
     },
     "execution_count": 103,
     "metadata": {},
     "output_type": "execute_result"
    }
   ],
   "source": [
    "feature_importances2 = pd.DataFrame(rf2.feature_importances_, index = X_train2.columns, columns=['importance']).sort_values('importance', ascending=False)\n",
    "feature_importances2.head(10)"
   ]
  },
  {
   "cell_type": "code",
   "execution_count": null,
   "metadata": {},
   "outputs": [
    {
     "name": "stdout",
     "output_type": "stream",
     "text": [
      "Cross-validation scores:  [0.88944951 0.83283827 0.87190141 0.89354614 0.86880426]\n",
      "Mean score:  0.8713079173678405\n",
      "Standard deviation:  0.021495068675252357\n"
     ]
    }
   ],
   "source": [
    "from sklearn.model_selection import cross_val_score\n",
    "from sklearn.model_selection import ShuffleSplit\n",
    "cv_scores = cross_val_score(rf2, X2, y2, cv=ShuffleSplit(n_splits=5, test_size=0.1, random_state=0))\n",
    "\n",
    "print(\"Cross-validation scores: \", cv_scores)\n",
    "print(\"Mean score: \", np.mean(cv_scores))\n",
    "print(\"Standard deviation: \", np.std(cv_scores))\n"
   ]
  }
 ],
 "metadata": {
  "kernelspec": {
   "display_name": "bigfile",
   "language": "python",
   "name": "python3"
  },
  "language_info": {
   "codemirror_mode": {
    "name": "ipython",
    "version": 3
   },
   "file_extension": ".py",
   "mimetype": "text/x-python",
   "name": "python",
   "nbconvert_exporter": "python",
   "pygments_lexer": "ipython3",
   "version": "3.11.0"
  },
  "orig_nbformat": 4,
  "vscode": {
   "interpreter": {
    "hash": "1791e34c410148c5154a9c01c77deebe5ebbf3457cdeed8fd89d2531abae0029"
   }
  }
 },
 "nbformat": 4,
 "nbformat_minor": 2
}
