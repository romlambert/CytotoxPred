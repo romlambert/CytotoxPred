{
 "cells": [
  {
   "cell_type": "code",
   "execution_count": 16,
   "metadata": {},
   "outputs": [],
   "source": [
    "#convert CTG xlsx to CSV with drug conc metadata\n",
    "\n",
    "import pandas as pd\n",
    "import glob\n",
    "from sklearn.preprocessing import MinMaxScaler\n",
    "\n",
    "dir_path = \"C:\\\\Users\\\\Roman\\\\OneDrive - National University of Ireland, Galway\\\\plate reader\\\\CTG raw data 30 drugs\\\\*.xlsx\"\n",
    "filelist = glob.glob(dir_path, recursive=True)"
   ]
  },
  {
   "cell_type": "code",
   "execution_count": 17,
   "metadata": {},
   "outputs": [],
   "source": [
    "def AddPlateMetadata(df):\n",
    "    conc = {'Column': [1,2,3,4,5,6,7,8,9,10,11,12,13,14,15,16,17,18,19,20,21,22,23,24], \n",
    "            'Concentration': [0,0,0,0,0,0,10,10,30,30,100,100,300,300,1000,1000,3000,3000,10000,10000,30000,30000,0,0]}\n",
    "    drug = {'Row':    [1,2,3,4,5,6,7,8,9,10,11,12,13,14,15,16], \n",
    "            'Compound': ['none','none','DRUG1','DRUG1','DRUG2','DRUG2','DRUG3','DRUG3','DRUG4','DRUG4','DRUG5','DRUG5','DRUG6','DRUG6','none','none']}\n",
    "\n",
    "    concmap = pd.DataFrame(conc, columns=['Column','Concentration'])\n",
    "    drugmap = pd.DataFrame(drug, columns=['Row','Compound'])\n",
    "    df = df.merge(concmap,on='Column')\n",
    "    df = df.merge(drugmap,on='Row')\n",
    "    df.loc[(df['Column'] >= 3) & (df['Column'] <= 6) & (df['Row'] >= 3) & (df['Row'] <= 14),'Compound'] = 'DMSO'\n",
    "    df.loc[(df['Column'] <= 2) | (df['Column'] >= 23),'Compound'] = 'none'\n",
    "    df.loc[(df['Compound']=='none'),'Concentration'] = 0\n",
    "    return df\n",
    "\n",
    "def PlateMap(i):\n",
    "    switcher={\n",
    "        1:['NCAP','ATOR','CERI','CLOF','COLC','DAPT'],\n",
    "        2:['DEXA','DOXO','EZET','HYCQ','LEFL','SELU'],\n",
    "        3:['CLEV','ETOP','FIAL','GEMF','IBIP','MCPP'],\n",
    "        4:['ETHF','ETRE','NELA','SIMV','VORI','WURS'],\n",
    "        5:['CISP','IMAT','OLAN','SUNI','TEBU','ZIDO']}\n",
    "    return switcher.get(i,\"Plate number not in 1-5\")\n"
   ]
  },
  {
   "cell_type": "code",
   "execution_count": 18,
   "metadata": {},
   "outputs": [],
   "source": [
    "tableList = [None]*len(filelist)\n",
    "rawList = [None]*len(filelist)\n",
    "\n",
    "for i in range(len(filelist)):\n",
    "    plateSplit = filelist[i].rsplit(\"\\\\\")\n",
    "    plateName = plateSplit[-1].rsplit(\".\")[0] #last element of file path, with extension removed\n",
    "    plateReplicate = plateName[0]\n",
    "    plateType = plateName[1]\n",
    "    plateNumber = pd.to_numeric(plateName[2])\n",
    "\n",
    "    ctg = pd.read_excel(filelist[i])\n",
    "    ctg = ctg.filter(['Plate','Repeat','Well','1s luciferase (CPS)'])\n",
    "    ctg['Row'] = ctg['Well'].str[0]\n",
    "    ctg['Column'] = ctg['Well'].str[1:].apply(pd.to_numeric)\n",
    "    ctg['Row'] = [ord(x)-64 for x in ctg['Row']] # convert letter to number\n",
    "    ctg['Row'] = pd.to_numeric(ctg['Row'])\n",
    "    ctg = AddPlateMetadata(ctg)\n",
    "\n",
    "    if plateName == 'gT4' : \n",
    "        ctg = ctg[ctg['Row'] % 2 != 0]\n",
    "    \"\"\"    UPPER CLIP FOR BLASTS 5 DISRESPANCIES    \n",
    "    elif plateName == 'aB5':\n",
    "        ctg['1s luciferase (CPS)'] = ctg['1s luciferase (CPS)'].clip(upper=70000)\n",
    "    elif plateName == 'bB5':\n",
    "        ctg['1s luciferase (CPS)'] = ctg['1s luciferase (CPS)'].clip(upper=1.4e6)\n",
    "    elif plateName == 'gB5':\n",
    "        ctg['1s luciferase (CPS)'] = ctg['1s luciferase (CPS)'].clip(upper=0.7e6)\n",
    "    \"\"\"\n",
    "\n",
    "    controls = ctg.loc[(ctg['Compound']=='DMSO') | (ctg['Compound']=='none')]\n",
    "    controls = controls.filter(['Compound','Concentration','1s luciferase (CPS)'])\n",
    "    controlsMax = controls.loc[controls['Compound']=='DMSO'].groupby(['Compound','Concentration']).mean()\n",
    "    controlsMin = controls.loc[controls['Compound']=='none'].groupby(['Compound','Concentration']).min()\n",
    "    # additional / plate specific conditions \n",
    "    # if plate == 'gT4' : remove even rows (seeding problem)\n",
    "    #dmso = dmso[dmso['Row'] % 2 != 0]\n",
    "    # upper threshold pd.df.clip on plates abgB5 to increase signal/noise (thresh 70k, 1.4M, 0.7M)\n",
    "\n",
    "    controls = pd.concat([controlsMax,controlsMin])\n",
    "    controls\n",
    "\n",
    "    scaler = MinMaxScaler(feature_range=(0,100))\n",
    "    scaler.fit(controls['1s luciferase (CPS)'].array.reshape(-1,1))\n",
    "    ctg['1s luciferase (CPS)'] = scaler.transform(ctg['1s luciferase (CPS)'].array.reshape(-1,1))\n",
    "    newDrugs = PlateMap(plateNumber)\n",
    "    ctg['Compound'] = ctg['Compound'].replace(['DRUG1','DRUG2','DRUG3','DRUG4','DRUG5','DRUG6'], newDrugs)\n",
    "    ctg.drop(columns=['Repeat'], inplace=True)\n",
    "    agg = ctg.groupby(['Compound','Concentration']).mean()\n",
    "    agg.drop(columns=['Row','Column'],inplace=True)\n",
    "    agg.drop( labels='none',inplace=True)\n",
    "    agg['Plate'] = plateName\n",
    "    ctg['Plate'] = plateName\n",
    "    agg = agg.rename(columns={\"1s luciferase (CPS)\": \"Cell Viability\"})\n",
    "    tableList[i] = agg\n",
    "    rawList[i] = ctg"
   ]
  },
  {
   "cell_type": "code",
   "execution_count": 19,
   "metadata": {},
   "outputs": [],
   "source": [
    "mergedTableNorm = pd.concat(tableList)\n",
    "rawTableNorm = pd.concat(rawList)\n",
    "#mergedTableNorm.to_csv(r\"C:\\Users\\Roman\\OneDrive - National University of Ireland, Galway\\plate reader\\normCTGresults.csv\")\n",
    "rawTableNorm.to_csv(r\"C:\\Users\\Roman\\OneDrive - National University of Ireland, Galway\\plate reader\\CTG-fullWellNormresults.csv\")"
   ]
  }
 ],
 "metadata": {
  "kernelspec": {
   "display_name": "Python 3.9.12 ('base')",
   "language": "python",
   "name": "python3"
  },
  "language_info": {
   "codemirror_mode": {
    "name": "ipython",
    "version": 3
   },
   "file_extension": ".py",
   "mimetype": "text/x-python",
   "name": "python",
   "nbconvert_exporter": "python",
   "pygments_lexer": "ipython3",
   "version": "3.9.12 (main, Apr  4 2022, 05:22:27) [MSC v.1916 64 bit (AMD64)]"
  },
  "orig_nbformat": 4,
  "vscode": {
   "interpreter": {
    "hash": "7da4cb9b567b271a60ddc8efb60e09fc815b1803d969fd55fe01cdcc0c318aba"
   }
  }
 },
 "nbformat": 4,
 "nbformat_minor": 2
}
